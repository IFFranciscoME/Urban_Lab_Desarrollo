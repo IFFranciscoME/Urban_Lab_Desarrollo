{
 "cells": [
  {
   "cell_type": "markdown",
   "metadata": {},
   "source": [
    "<div style=\"text-align:center\"><span style=\"color:#170D5D; font-family:Georgia; font-size:2.1em; LINE-HEIGHT:40px\"> Programa de Modelación Matemática para el Desarrollo de Planes y Proyectos de Negocio II </span></div>\n",
    "\n",
    "<br />\n",
    "<br />\n",
    "<b> <p style = \"font-family: Palatino; font-size:1.9em; color: #090337;\" > Notas técnicas </p> <b/>\n",
    "<br />\n",
    " \n",
    "<img style=\"float: right; margin: auto;\" src=\"archivos/logo.jpg\"  width=\"300px\" />\n",
    " \n",
    "><b> <p style = \"font-family: Palatino; font-size:1.7em; color: #858489;\" > Métrica Precios </p> <b/>\n",
    "><br />\n",
    ">    \n",
    "><b> <p style = \"font-family: Palatino; font-size:1.1em; color: #343437;\" > Proyecto: Urban Lab </p> <b/>\n",
    "><br />\n",
    ">    \n",
    "><b> <p style = \"font-family: Palatino; font-size:1.0em; color: #090337;\" > - Última Modificación: Junio 2020 </p><b/>\n",
    "<br />\n"
   ]
  },
  {
   "cell_type": "markdown",
   "metadata": {},
   "source": [
    "__________________\n",
    "<br />\n",
    "\n",
    "<span style=\"color:#004A94; font-family:Georgia; font-size:1.7em;\"> Problema </span> \n",
    "\n",
    "> <div style=\"text-align: justify; font-family: Calibri Light; font-size:1.3em;color:black; LINE-HEIGHT:25px\"> El contexto de la pandemia ha provocado que los mercados se encuentren en una situación de incertidumbre misma que afecta las decisiones de los agentes económicos ya sea consumidores, empresas, propietarios, inversores etc., que operan en los mercados. Debido a la situación de la pandemia, muchos precios comenzaron a aumentar o disminuir, lo que posicionó a las empresas en una situación completamente desconocida y sin un plan o estrategias de lo que podrían hacer.\n",
    "<br />\n",
    "<br />   \n",
    "Se tomó en cuenta la variable de precios en la industria debido a la evolución que estos tuvieron y siguen teniendo a lo largo de la pandemia, ya que se sabe que gracias a esta situación hubo una alteración y afectación en las industrias en todos los sentidos, desde producción, mano de obra, precios etc. Como se mencionó antes, toda esta situación causó una incertidumbre en los sectores afectados.\n",
    "<br />\n",
    "<br />\n",
    "En gran parte esto se debe a la oferta y la demanda, el término de demanda se refiere a la cantidad de bienes o servicios que los consumidores están dispuestos a pagar y la oferta es el conjunto de bienes y servicios que se ofrecen en el mercado con un precio en concreto, cabe mencionar que los precios están dados por la oferta y la demanda. </div>\n",
    "\n"
   ]
  },
  {
   "cell_type": "markdown",
   "metadata": {},
   "source": [
    "__________________\n",
    "<br />\n",
    "\n",
    "<span style=\"color:#004A94; font-family:Georgia; font-size:1.7em;\"> Criterio de Construcción de Variable </span> \n",
    "\n",
    "> <div style=\"text-align: justify; font-family: Calibri Light; font-size:1.3em;color:black; LINE-HEIGHT:25px\"> El objetivo principal al que se quería llegar con esta variable era realizar una estimación de precios a futuro, que le puedan dar a los usuarios más certeza en su toma de decisiones, y más conocimiento de los precio en su sector o en el medio en que se desenvuelven. \n",
    "<br />\n",
    "<br />   \n",
    "Para la realización de esta variable lo primero que se hizo fue obtener la base de datos del INEGI de precios promedios, en la que se mostraban los precios de productos específicos así como la clase y el grupo al que pertenecen. \n",
    "<br />\n",
    "<br />\n",
    "Se utilizó un periodo de dos años de los datos obtenidos para la estimación del precio a futuro.\n",
    "<br />\n",
    "<br />\n",
    "Por el tipo de series de tiempo que se presentaron decidimos hacer la estimación de precios por productos, y no por grupo como se había pensado en un principio.\n",
    "<br />\n",
    "<br />\n",
    "<span style=\"color:#A9BCF5; font-family:Georgia; font-size:1.2em;\"> Box-Jenkins Method </span> \n",
    "<br />\n",
    "La estimación se realizó por medio de regresiones lineales en series de tiempos \"sencillas\" y las demás se realizaron por medio de la metodología Box-Jenkins.\n",
    "<br />\n",
    "<br />\n",
    "Las tres etapas del modelado iterativo son las siguientes:\n",
    "<br />\n",
    "<br />\n",
    " 1. Identificación y selección del modelo: asegurarse de que las variables son estacionarias, la identificación de la estacionalidad de la serie dependiente (diferenciación estacional, para cierto período, si es necesario), y el uso de los gráficos de las funciones de autocorrelación y de autocorrelación parcial de la serie de tiempo se utilizan para decidir cuál componente (si es el caso) se debe utilizar en el modelo, el promedio autorregresivo (AR) o un promedio móvil (MA).\n",
    "<br />\n",
    "<br />\n",
    "2. Estimación de parámetros usando algoritmos de cálculo para tener coeficientes que mejor ajusten el modelo ARIMA seleccionado. Los métodos más comunes usan estimación de máxima verosimilitud o mínimos cuadrados no lineales.\n",
    "<br />\n",
    "<br />\n",
    " 3. Comprobar el modelo mediante el ensayo, si el modelo estimado se ajusta a las especificaciones de un proceso univariado estacionario. En particular, los residuos deben ser independientes el uno del otro, además, la media y la varianza deben ser constantes en el tiempo. (Para identificar los errores de especificación son útiles la graficación de la media y la varianza de los residuos a través del tiempo y la realización de una prueba de Ljung-Box o bien por medio del trazado de autocorrelación y autocorrelación parcial de los residuos.)\n",
    "<br />\n",
    "<br />\n",
    "Finalmente se realizó la estimación de los precios a Noviembre de 2020. \n",
    "</div>\n",
    "\n"
   ]
  },
  {
   "cell_type": "code",
   "execution_count": 1,
   "metadata": {},
   "outputs": [],
   "source": [
    "import numpy as np\n",
    "from statsmodels.tsa.stattools import  adfuller, pacf,acf\n",
    "from statsmodels.stats.diagnostic import het_arch, acorr_ljungbox\n",
    "from scipy.stats import shapiro\n",
    "import matplotlib.pyplot as plt\n",
    "import pandas as pd\n",
    "import statsmodels.api as sm\n",
    "from statsmodels.graphics.tsaplots import plot_pacf, plot_acf, pacf, acf\n",
    "from sklearn.metrics import r2_score\n",
    "from sklearn import linear_model\n",
    "from functions_precios import semaforo_precios"
   ]
  },
  {
   "cell_type": "markdown",
   "metadata": {},
   "source": [
    "Leer base de datos"
   ]
  },
  {
   "cell_type": "code",
   "execution_count": 2,
   "metadata": {},
   "outputs": [],
   "source": [
    "# Leer datos\n",
    "df_prices_or = pd.read_excel('archivos/Precios_INEGI.xlsx', sheet_name='Datos_acomodados')\n",
    "\n",
    "#df_prices_or.head()"
   ]
  },
  {
   "cell_type": "markdown",
   "metadata": {},
   "source": [
    "Acomodo de base de datos"
   ]
  },
  {
   "cell_type": "code",
   "execution_count": 3,
   "metadata": {},
   "outputs": [],
   "source": [
    "# Hacer copia\n",
    "df_p = df_prices_or.copy()\n",
    "\n",
    "# Quitar numeros innecesarios\n",
    "def col_no_numb(df):\n",
    "    # De las columnas\n",
    "    col_n = ['División', 'Grupo', 'Clase']\n",
    "    # Quitar numeros\n",
    "    no_numb = [df[i].str.replace('\\d+', '') for i in col_n]\n",
    "    # Quitar punto y espacio inicial\n",
    "    for i in range(len(col_n)):\n",
    "        point = ['. ', '.. ', '... ']\n",
    "        df[col_n[i]] = no_numb[i].str.replace(point[i], '', regex=False)\n",
    "    return df\n",
    "\n",
    "df_np = col_no_numb(df_p)\n",
    "\n",
    "# Nombre de todas las columnas con precios acomodadas correctamente\n",
    "col_df = list(df_np.columns)[::-1][0:22]\n",
    "\n",
    "# Merge ciertas columnas de original con las diferencias\n",
    "df_prices = pd.merge(\n",
    "    df_np[['División', 'Grupo', 'Clase', 'Generico', 'Especificación']], \n",
    "    df_np[col_df].iloc[:,1:], \n",
    "    left_index=True, right_index=True)\n",
    "\n",
    "#df_prices.head()"
   ]
  },
  {
   "cell_type": "markdown",
   "metadata": {},
   "source": [
    "Se tienen agrupados por diferentes aspectos: Division, Grupo, Clase, Generico y Especificación"
   ]
  },
  {
   "cell_type": "code",
   "execution_count": 4,
   "metadata": {},
   "outputs": [
    {
     "data": {
      "text/plain": [
       "Index(['División', 'Grupo', 'Clase', 'Generico', 'Especificación', 'sep 2018',\n",
       "       'oct 2018', 'nov 2018', 'dic 2018', 'ene 2019', 'feb 2019', 'mar 2019',\n",
       "       'abr 2019', 'may 2019', 'jun 2019', 'jul 2019', 'ago 2019', 'sep 2019',\n",
       "       'oct 2019', 'nov 2019', 'dic 2019', 'ene 2020', 'feb 2020', 'mar 2020',\n",
       "       'abr 2020', 'may 2020'],\n",
       "      dtype='object')"
      ]
     },
     "execution_count": 4,
     "metadata": {},
     "output_type": "execute_result"
    }
   ],
   "source": [
    "df_prices.columns"
   ]
  },
  {
   "cell_type": "markdown",
   "metadata": {},
   "source": [
    "Se tienen 2559 productos con sus respectivos precios desde septiembre 2018, es decir todas estas series de tiempo son por producto, sin embargo se decidió hacerlo por la mediana del generico (todos los arroces, todas las galletas, etc)"
   ]
  },
  {
   "cell_type": "code",
   "execution_count": 5,
   "metadata": {},
   "outputs": [
    {
     "data": {
      "text/plain": [
       "2559"
      ]
     },
     "execution_count": 5,
     "metadata": {},
     "output_type": "execute_result"
    }
   ],
   "source": [
    "len(df_prices)"
   ]
  },
  {
   "cell_type": "markdown",
   "metadata": {},
   "source": [
    "De esta manera se tendrán 268 series de tiempo en vez de 2559 y se podrá analizar cada una sin que tarde tanto el código"
   ]
  },
  {
   "cell_type": "code",
   "execution_count": 6,
   "metadata": {},
   "outputs": [
    {
     "data": {
      "text/plain": [
       "268"
      ]
     },
     "execution_count": 6,
     "metadata": {},
     "output_type": "execute_result"
    }
   ],
   "source": [
    "len(df_prices.groupby('Generico'))"
   ]
  },
  {
   "cell_type": "markdown",
   "metadata": {},
   "source": [
    "Lista con todas las clases, ya que cada clase de productos tendrá sus propias series de tiempos, de acuerdo al nombre generico de los productos"
   ]
  },
  {
   "cell_type": "code",
   "execution_count": 7,
   "metadata": {},
   "outputs": [
    {
     "data": {
      "text/plain": [
       "array(['Pan, tortillas y cereales', 'Carnes', 'Pescados y mariscos',\n",
       "       'Leche, derivados de leche y huevo',\n",
       "       'Aceites y grasas comestibles', 'Frutas y hortalizas',\n",
       "       'Otros alimentos', 'Azúcar, café y refrescos envasados',\n",
       "       'Bebidas alcohólicas', 'Tabaco', 'Ropa mujer', 'Ropa hombre',\n",
       "       'Ropa para niños y bebés', 'Ropa de abrigo y uniformes escolares',\n",
       "       'Cuidados del vestido y accesorios', 'Calzado',\n",
       "       'Costo de uso de vivienda',\n",
       "       'Otros servicios relacionados con la vivienda',\n",
       "       'Electricidad y combustibles', 'Muebles', 'Aparatos',\n",
       "       'Accesorios y utensilios', 'Detergentes y productos similares',\n",
       "       'Artículos para higiene y cuidado personal',\n",
       "       'Medicamentos y aparatos', 'Servicios médicos',\n",
       "       'Adquisición de vehículos', 'Uso de vehículos',\n",
       "       'Transporte público urbano', 'Transporte público foráneo',\n",
       "       'Otros servicios', 'Servicios para el cuidado personal'],\n",
       "      dtype=object)"
      ]
     },
     "execution_count": 7,
     "metadata": {},
     "output_type": "execute_result"
    }
   ],
   "source": [
    "clases = df_prices['Clase'].unique()\n",
    "clases"
   ]
  },
  {
   "cell_type": "markdown",
   "metadata": {},
   "source": [
    "Para hacer el analisis se separan las series de tiempo de acuerdo de la clase por la mediana del generico"
   ]
  },
  {
   "cell_type": "code",
   "execution_count": 8,
   "metadata": {},
   "outputs": [],
   "source": [
    "def f_time_series(p_df_prices, p_clase):\n",
    "    # Agrupar por clase\n",
    "    clases = list(p_df_prices.groupby('Clase'))\n",
    "    \n",
    "    # Busqueda de dataframe para la clase que se necesita\n",
    "    search = [clases[i][1] for i in range(len(clases)) if clases[i][0]==p_clase][0]\n",
    "    search.reset_index(inplace=True, drop=True)\n",
    "\n",
    "    # Agrupar por generico\n",
    "    generico = list(search.groupby('Generico'))\n",
    "\n",
    "    # Series de tiempo por Generico\n",
    "    series_tiempo = [generico[i][1].median().rename(generico[i][0], \n",
    "                             inplace=True) for i in range(len(generico))]\n",
    "\n",
    "    return series_tiempo"
   ]
  },
  {
   "cell_type": "code",
   "execution_count": 9,
   "metadata": {},
   "outputs": [
    {
     "data": {
      "text/plain": [
       "10"
      ]
     },
     "execution_count": 9,
     "metadata": {},
     "output_type": "execute_result"
    }
   ],
   "source": [
    "series_tiempo = f_time_series(df_prices, clases[1])\n",
    "len(series_tiempo)"
   ]
  },
  {
   "cell_type": "markdown",
   "metadata": {},
   "source": [
    "Podemos decir que hay 10 productos en 'Leche, derivados de leche y huevo'.\n"
   ]
  },
  {
   "cell_type": "markdown",
   "metadata": {},
   "source": [
    "### Tomar una serie de tiempo\n"
   ]
  },
  {
   "cell_type": "code",
   "execution_count": 10,
   "metadata": {},
   "outputs": [
    {
     "data": {
      "text/plain": [
       "<matplotlib.axes._subplots.AxesSubplot at 0x16e46a489e8>"
      ]
     },
     "execution_count": 10,
     "metadata": {},
     "output_type": "execute_result"
    },
    {
     "data": {
      "image/png": "[encoded data removed]",
      "text/plain": [
       "<Figure size 432x288 with 1 Axes>"
      ]
     },
     "metadata": {
      "needs_background": "light"
     },
     "output_type": "display_data"
    }
   ],
   "source": [
    "serie_tiempo_1 = series_tiempo[1]\n",
    "\n",
    "serie_tiempo_1.plot()"
   ]
  },
  {
   "cell_type": "markdown",
   "metadata": {},
   "source": [
    "Primero se intenta ajustar con una regresion lineal, y si se ajusta un 95% se predice con eso, ya que sucede que se encontraron series de tiempo en las cuales no cambian el precio a través del tiempo, y con esto no se puede ajustar un sarima"
   ]
  },
  {
   "cell_type": "code",
   "execution_count": 20,
   "metadata": {},
   "outputs": [
    {
     "data": {
      "text/plain": [
       "0.5228214173637338"
      ]
     },
     "execution_count": 20,
     "metadata": {},
     "output_type": "execute_result"
    }
   ],
   "source": [
    "y_o = np.array(serie_tiempo_1)\n",
    "x_o = np.arange(len(serie_tiempo_1))\n",
    "\n",
    "# Acomodarla de la forma que el modelo necesita\n",
    "x = x_o.reshape((len(x_o), 1))\n",
    "y = y_o.reshape((len(y_o), 1))\n",
    "\n",
    "# Crear el modelo\n",
    "modelo = linear_model.LinearRegression()\n",
    "\n",
    "# Pasar nuestros datos por el modelo\n",
    "modelo.fit(x, y)\n",
    "\n",
    "# De acuerdo al modelo, calcular y\n",
    "y_pred = modelo.predict(x)\n",
    "\n",
    "# R2 de sus residuales\n",
    "r_2 = r2_score(y, y_pred)\n",
    "r_2"
   ]
  },
  {
   "cell_type": "markdown",
   "metadata": {},
   "source": [
    "No tiene un buen ajuste asi que se buscar modelar la serie de tiempo con un ARIMA"
   ]
  },
  {
   "cell_type": "markdown",
   "metadata": {},
   "source": [
    "<span style=\"color:#516D6E; font-family:Georgia; font-size:1.4em;\"> Prueba de estacionariedad </span>\n",
    "\n",
    "Una serie de tiempo es estacionaria cuando la media y la variabilidad se mantienen constantes a lo largo del tiempo, es decir, no es en función del tiempo; y además, no presenta tendencia\n",
    "\n",
    "-----\n",
    "\n",
    "<span style=\"color:#29AECE; font-family:Georgia; font-size:1.2em;\"> Prueba de  Dicky-Fuller aumentada </span> - [LINK]('https://es.wikipedia.org/wiki/Prueba_de_Dickey-Fuller_aumentada')\n",
    "\n",
    "En estadística y econometría, una prueba de Dickey-Fuller aumentada (ADF) es una prueba de raíz unitaria para una muestra de una serie de tiempo. Es una versión aumentada de la prueba Dickey-Fuller para un conjunto más amplio y más complejo de modelos de series de tiempo. La estadística Dickey-Fuller Aumentada (ADF), utilizada en la prueba, es un número negativo. Cuanto más negativo es, más fuerte es el rechazo de la hipótesis nula de que existe una raíz unitaria para un cierto nivel de confianza\n",
    "\n",
    ">Ho: No es estacionaria (tiene unit-root)\n",
    ">\n",
    ">Hi: Es estacionaria (No tiene raiz unitaria)\n",
    "\n",
    "Aceptar Ho si: \n",
    "p_value > 0.05\n"
   ]
  },
  {
   "cell_type": "code",
   "execution_count": 11,
   "metadata": {},
   "outputs": [
    {
     "data": {
      "text/plain": [
       "0"
      ]
     },
     "execution_count": 11,
     "metadata": {},
     "output_type": "execute_result"
    }
   ],
   "source": [
    "def check_stationarity_t(data):\n",
    "    \n",
    "    # Usar dicky fuller\n",
    "    test_results = adfuller(data)\n",
    "    \n",
    "    # Cuando se cumple esto es estacionaria la serie orginal\n",
    "    if test_results[0] < 0 and test_results[1] <= 0.05:\n",
    "        lags = 0\n",
    "        new_data = data\n",
    "        \n",
    "    # Cuando no se cumple se debe diferenciar para que sea estacionaria\n",
    "    else:\n",
    "        for i in range(3):\n",
    "            \n",
    "            # Diferenciar datos\n",
    "            new_data = data.diff().dropna()\n",
    "            \n",
    "            # Volver a calcular test dicky fuller\n",
    "            new_results = adfuller(new_data)\n",
    "            \n",
    "            # Volver a comparar para decidir si es o no estacionaria\n",
    "            if new_results[0] < 0 and new_results[1] <= 0.05:\n",
    "                #print('es estacionaria')\n",
    "                lags = i\n",
    "                break\n",
    "            \n",
    "            else:\n",
    "                data = new_data\n",
    "                #print('no es estacionaria')\n",
    "                lags = np.nan\n",
    "                \n",
    "    # Regresa los datos diferenciados que son estacionarios\n",
    "    return lags\n",
    "\n",
    "# Todas las series de tiempo estacionarias\n",
    "d = check_stationarity_t(serie_tiempo_1)\n",
    "d"
   ]
  },
  {
   "cell_type": "markdown",
   "metadata": {},
   "source": [
    "____\n",
    "<span style=\"color:#29AECE; font-family:Georgia; font-size:1.2em;\"> FAC y FAC Parcial </span>\n",
    "\n",
    "En el caso de la autocorrelación parcial, nos indica el grado de correlación que exite entre la observaciones de un variable y cada uno de sus rezagos, consdierando rezagos intermedios. \n",
    "\n",
    "En el caso de la autocorrelación, esta función nos indica el grado de correlación que existe entre una observación de una variable con cada uno de sus rezagos, habiendo eliminado cualquier dependencia linear con los rezagos intermedios."
   ]
  },
  {
   "cell_type": "markdown",
   "metadata": {},
   "source": [
    "**[FAC - grafica]('https://www.xlstat.com/es/soluciones/funciones/analisis-descriptivo-de-series-temporales')**\n",
    "\n",
    "To give an idea of the degree of dependence between the values of a time series. The visualization of the ACF or of the partial autocorrelation function (PACF) helps to identify the suitable models to explain the past observations and to do predictions. The theory shows that the PACF function of an AR(p) – an autoregressive process of order p - is zero for lags greater than p."
   ]
  },
  {
   "cell_type": "code",
   "execution_count": 12,
   "metadata": {},
   "outputs": [],
   "source": [
    "\n",
    "def g_PQ(data):\n",
    "    plt.figure(1,figsize=(10,8))\n",
    "    plot_acf(data)\n",
    "    plot_pacf(data)\n",
    "    plt.show()\n"
   ]
  },
  {
   "cell_type": "code",
   "execution_count": 13,
   "metadata": {},
   "outputs": [
    {
     "data": {
      "text/plain": [
       "<Figure size 720x576 with 0 Axes>"
      ]
     },
     "metadata": {},
     "output_type": "display_data"
    },
    {
     "data": {
      "image/png": "[encoded data removed]",
      "text/plain": [
       "<Figure size 432x288 with 1 Axes>"
      ]
     },
     "metadata": {
      "needs_background": "light"
     },
     "output_type": "display_data"
    },
    {
     "data": {
      "image/png": "[encoded data removed]",
      "text/plain": [
       "<Figure size 432x288 with 1 Axes>"
      ]
     },
     "metadata": {
      "needs_background": "light"
     },
     "output_type": "display_data"
    }
   ],
   "source": [
    "g_PQ(serie_tiempo_1)\n",
    "#g_PQ(series_tiempo[s])"
   ]
  },
  {
   "cell_type": "code",
   "execution_count": 14,
   "metadata": {},
   "outputs": [
    {
     "name": "stdout",
     "output_type": "stream",
     "text": [
      "1 1\n"
     ]
    }
   ],
   "source": [
    "\n",
    "\n",
    "# lambda para tomar los coef significativos\n",
    "all_significant_coef = lambda x: x if abs(x) > 0.5 else None\n",
    "\n",
    "def significat_lag(all_coef):\n",
    "    # Tomar los indices de los rezagos\n",
    "    ind_c = all_coef.index.values\n",
    "    # Solo los rezagos menores a 7\n",
    "    sig_i = ind_c[ind_c < 7]\n",
    "    # Nuevos coeficientes\n",
    "    new_coef = all_coef[all_coef.index.isin(list(sig_i))]\n",
    "    if len(new_coef) > 1:\n",
    "        # Tomar los valores absolutos\n",
    "        abs_coef = new_coef[1:].abs()\n",
    "        # Buscar el maximo\n",
    "        max_coef = abs_coef.max()\n",
    "        # El indice es el rezago al que pertenece\n",
    "        answer = abs_coef[abs_coef == max_coef[0]].dropna().index[0]\n",
    "        return answer\n",
    "    else:\n",
    "        return 1\n",
    "\n",
    "# Calcular coeficientes de fac parcial\n",
    "facp = sm.tsa.stattools.pacf(serie_tiempo_1)\n",
    "\n",
    "# Pasar lambda y quitar los que no son significativos\n",
    "p_s = pd.DataFrame(all_significant_coef(facp[i]) for i in range(len(facp))).dropna()\n",
    "\n",
    "# Tomar el primero que sea signiticativo, sera la p de nuestro modelo\n",
    "p = significat_lag(p_s)\n",
    "\n",
    "# --- #\n",
    "\n",
    "# Calcular coeficientes de fac\n",
    "fac = sm.tsa.stattools.acf(serie_tiempo_1, fft=False)\n",
    "\n",
    "# Pasar lambda y quitar los que no son significativos\n",
    "q_s = pd.DataFrame(all_significant_coef(fac[i]) for i in range(len(fac))).dropna()\n",
    "\n",
    "# Tomar el primero que sea signiticativo, sera la p de nuestro modelo\n",
    "q = significat_lag(q_s)\n",
    "\n",
    "print(p, q)"
   ]
  },
  {
   "cell_type": "markdown",
   "metadata": {},
   "source": [
    "‘p’ is the order of the ‘Auto Regressive’ (AR) term. It refers to the number of lags of Y to be used as predictors. And ‘q’ is the order of the ‘Moving Average’ (MA) term. It refers to the number of lagged forecast errors that should go into the ARIMA Model.\n",
    "\n",
    "\n",
    "**ARIMA model in words:**\n",
    "\n",
    "\n",
    "Predicted Yt = Constant + Linear combination Lags of Y (upto p lags) + Linear Combination of Lagged forecast errors (upto q lags)"
   ]
  },
  {
   "cell_type": "code",
   "execution_count": 15,
   "metadata": {},
   "outputs": [],
   "source": [
    "\n",
    "def fit_arima(data, p, q, d):\n",
    "    serie_tiempo = data.copy()\n",
    "    serie_tiempo.reset_index(drop=True, inplace=True)\n",
    "    arima = sm.tsa.statespace.SARIMAX(serie_tiempo,\n",
    "                                              order=(p, d, q),\n",
    "                                              trend='c',\n",
    "                                              enforce_stationarity=True,\n",
    "                                              enforce_invertibility=True)\n",
    "    model_fit = arima.fit(disp=0)\n",
    "    return model_fit\n",
    "\n",
    "arima = fit_arima(serie_tiempo_1, p, q, d)"
   ]
  },
  {
   "cell_type": "code",
   "execution_count": 16,
   "metadata": {},
   "outputs": [],
   "source": [
    "residuals = arima.resid\n"
   ]
  },
  {
   "cell_type": "markdown",
   "metadata": {},
   "source": [
    "### Residuales"
   ]
  },
  {
   "cell_type": "markdown",
   "metadata": {},
   "source": [
    "<span style=\"color:#516D6E; font-family:Georgia; font-size:1.4em;\"> Prueba de Shapiro-Wilk  </span>  **Normalidad**\n",
    "\n",
    "Esta prueba es una de las muchas pruebas que permiten estimar si una variable sigue una distribución normal o no. Para esta prueba tenemos el siguiente conjunto de hipotesis :\n",
    "\n",
    "$H_0$: la muestra evaluada proviene de una población normal, tal que $x_t \\thicksim (\\mu,\\sigma^2)$ \n",
    "\n",
    "$H_a$: la muestra evaluada no proviene de una población normal."
   ]
  },
  {
   "cell_type": "markdown",
   "metadata": {},
   "source": [
    "____________________"
   ]
  },
  {
   "cell_type": "markdown",
   "metadata": {},
   "source": [
    "<span style=\"color:#516D6E; font-family:Georgia; font-size:1.4em;\"> Prueba Arch  </span>   **Heterocedasticidad**\n",
    "\n",
    "\n",
    "Es importante conocer si una serie de tiempo es heterocedástica ya que, por ejemplo, si dicha serie de tiempo presentase esta propiedad, un modelo ARIMA no sería una buena propueta para intentar describir y pronosticar el comportamiento de la varible estudiada.  \n",
    "\n",
    "Para detectar esto, procederemos a utilizar la prueba ARCH (autoregressive conditional heteroskedasticity) con los datos a los que les fue aplicada una diferencia. Para efectos de la prueba, consideraremos, como en el caso de la prueba de estacionariedad, un ${\\alpha}=0.05$."
   ]
  },
  {
   "cell_type": "markdown",
   "metadata": {},
   "source": [
    "__________________"
   ]
  },
  {
   "cell_type": "markdown",
   "metadata": {},
   "source": [
    "<span style=\"color:#516D6E; font-family:Georgia; font-size:1.4em;\"> Ljung‐Box   </span>    **Colinealidad**\n",
    "\n",
    "Para examinar las series de datos en busca de evidencia de cualquier correlación serial usamos la prueba estadística Ljung‐Box y las estadísticas modificadas \n",
    ".\n",
    "\n",
    "La prueba Ljung‐Box:\n",
    "\n",
    "Donde:\n",
    "\n",
    "H0: Hipótesis Nula  (ruido blanco)\n",
    "\n",
    "H1: Hipótesis alternativa (no ruido blanco)\n",
    "\n",
    "m: Límite de retraso superior de la prueba. El límite de retraso superior puede o ser establecido por nosotros o dejado allí para que la función elija un límite apropiado. Los profesionales usan  como un valor apropiado para\n",
    "\n"
   ]
  },
  {
   "cell_type": "code",
   "execution_count": 17,
   "metadata": {},
   "outputs": [],
   "source": [
    "def check_resid(model_fit):\n",
    "    # estadístico Ljung – Box.\n",
    "    colineal = acorr_ljungbox(model_fit.resid, lags=[10])\n",
    "    \n",
    "    # shapiro test\n",
    "    normalidad = shapiro(model_fit.resid)\n",
    "\n",
    "    # arch test\n",
    "    heterosced = het_arch(model_fit.resid)\n",
    "    \n",
    "    return colineal, normalidad, heterosced\n",
    "\n",
    "ans = check_resid(arima)"
   ]
  },
  {
   "cell_type": "markdown",
   "metadata": {},
   "source": [
    "### Predicción"
   ]
  },
  {
   "cell_type": "code",
   "execution_count": 18,
   "metadata": {},
   "outputs": [
    {
     "data": {
      "text/plain": [
       "0.008027414178078987"
      ]
     },
     "execution_count": 18,
     "metadata": {},
     "output_type": "execute_result"
    }
   ],
   "source": [
    "future_prices = arima.forecast(6, alpha=0.05)\n",
    "prediction = future_prices.iloc[-1]\n",
    "\n",
    "ultimo_precio = serie_tiempo_1[len(serie_tiempo_1) - 1]\n",
    "\n",
    "cambio_porc = (ultimo_precio - prediction)/ultimo_precio\n",
    "\n",
    "cambio_porc"
   ]
  },
  {
   "cell_type": "markdown",
   "metadata": {},
   "source": [
    "__________________\n",
    "<br />\n",
    "\n",
    "<span style=\"color:#004A94; font-family:Georgia; font-size:1.7em;\"> Resultados </span> \n",
    "\n",
    "\n",
    "EL ultimo precio y la prediccion para noviembre 2020"
   ]
  },
  {
   "cell_type": "code",
   "execution_count": 19,
   "metadata": {},
   "outputs": [
    {
     "data": {
      "text/html": [
       "<div>\n",
       "<style scoped>\n",
       "    .dataframe tbody tr th:only-of-type {\n",
       "        vertical-align: middle;\n",
       "    }\n",
       "\n",
       "    .dataframe tbody tr th {\n",
       "        vertical-align: top;\n",
       "    }\n",
       "\n",
       "    .dataframe thead th {\n",
       "        text-align: right;\n",
       "    }\n",
       "</style>\n",
       "<table border=\"1\" class=\"dataframe\">\n",
       "  <thead>\n",
       "    <tr style=\"text-align: right;\">\n",
       "      <th></th>\n",
       "      <th></th>\n",
       "      <th>Ultimo precio</th>\n",
       "      <th>Precio para Nov 2020</th>\n",
       "    </tr>\n",
       "  </thead>\n",
       "  <tbody>\n",
       "    <tr>\n",
       "      <th rowspan=\"2\" valign=\"top\">Accesorios y artículos de limpieza para el hogar</th>\n",
       "      <th>Accesorios y utensilios</th>\n",
       "      <td>111.50</td>\n",
       "      <td>112.9826</td>\n",
       "    </tr>\n",
       "    <tr>\n",
       "      <th>Detergentes y productos similares</th>\n",
       "      <td>36.14</td>\n",
       "      <td>37.1843</td>\n",
       "    </tr>\n",
       "    <tr>\n",
       "      <th>Accesorios y cuidados del vestido</th>\n",
       "      <th>Cuidados del vestido y accesorios</th>\n",
       "      <td>228.00</td>\n",
       "      <td>234.8376</td>\n",
       "    </tr>\n",
       "    <tr>\n",
       "      <th rowspan=\"8\" valign=\"top\">Alimentos</th>\n",
       "      <th>Pan, tortillas y cereales</th>\n",
       "      <td>33.44</td>\n",
       "      <td>33.9324</td>\n",
       "    </tr>\n",
       "    <tr>\n",
       "      <th>Carnes</th>\n",
       "      <td>92.94</td>\n",
       "      <td>94.3607</td>\n",
       "    </tr>\n",
       "    <tr>\n",
       "      <th>Pescados y mariscos</th>\n",
       "      <td>160.00</td>\n",
       "      <td>160.0000</td>\n",
       "    </tr>\n",
       "    <tr>\n",
       "      <th>Leche, derivados de leche y huevo</th>\n",
       "      <td>77.00</td>\n",
       "      <td>77.5934</td>\n",
       "    </tr>\n",
       "    <tr>\n",
       "      <th>Aceites y grasas comestibles</th>\n",
       "      <td>31.05</td>\n",
       "      <td>30.6484</td>\n",
       "    </tr>\n",
       "    <tr>\n",
       "      <th>Frutas y hortalizas</th>\n",
       "      <td>28.53</td>\n",
       "      <td>28.5962</td>\n",
       "    </tr>\n",
       "    <tr>\n",
       "      <th>Otros alimentos</th>\n",
       "      <td>102.57</td>\n",
       "      <td>105.8735</td>\n",
       "    </tr>\n",
       "    <tr>\n",
       "      <th>Azúcar, café y refrescos envasados</th>\n",
       "      <td>22.35</td>\n",
       "      <td>21.4517</td>\n",
       "    </tr>\n",
       "    <tr>\n",
       "      <th rowspan=\"2\" valign=\"top\">Bebidas alcohólicas y tabaco</th>\n",
       "      <th>Bebidas alcohólicas</th>\n",
       "      <td>226.64</td>\n",
       "      <td>225.9201</td>\n",
       "    </tr>\n",
       "    <tr>\n",
       "      <th>Tabaco</th>\n",
       "      <td>63.00</td>\n",
       "      <td>63.0000</td>\n",
       "    </tr>\n",
       "    <tr>\n",
       "      <th>Calzado</th>\n",
       "      <th>Calzado</th>\n",
       "      <td>500.65</td>\n",
       "      <td>514.0434</td>\n",
       "    </tr>\n",
       "    <tr>\n",
       "      <th>Costo de uso de vivienda</th>\n",
       "      <th>Costo de uso de vivienda</th>\n",
       "      <td>480.69</td>\n",
       "      <td>476.5329</td>\n",
       "    </tr>\n",
       "    <tr>\n",
       "      <th rowspan=\"2\" valign=\"top\">Cuidado personal</th>\n",
       "      <th>Artículos para higiene y cuidado personal</th>\n",
       "      <td>43.86</td>\n",
       "      <td>44.2984</td>\n",
       "    </tr>\n",
       "    <tr>\n",
       "      <th>Servicios para el cuidado personal</th>\n",
       "      <td>202.50</td>\n",
       "      <td>201.9850</td>\n",
       "    </tr>\n",
       "    <tr>\n",
       "      <th>Electricidad y combustibles</th>\n",
       "      <th>Electricidad y combustibles</th>\n",
       "      <td>149.45</td>\n",
       "      <td>141.9098</td>\n",
       "    </tr>\n",
       "    <tr>\n",
       "      <th rowspan=\"2\" valign=\"top\">Muebles y aparatos domésticos</th>\n",
       "      <th>Muebles</th>\n",
       "      <td>6249.38</td>\n",
       "      <td>6242.2174</td>\n",
       "    </tr>\n",
       "    <tr>\n",
       "      <th>Aparatos</th>\n",
       "      <td>1493.98</td>\n",
       "      <td>1458.5209</td>\n",
       "    </tr>\n",
       "    <tr>\n",
       "      <th>Otros servicios</th>\n",
       "      <th>Otros servicios</th>\n",
       "      <td>112.50</td>\n",
       "      <td>114.7581</td>\n",
       "    </tr>\n",
       "    <tr>\n",
       "      <th>Otros servicios relacionados con la vivienda</th>\n",
       "      <th>Otros servicios relacionados con la vivienda</th>\n",
       "      <td>250.00</td>\n",
       "      <td>250.0000</td>\n",
       "    </tr>\n",
       "    <tr>\n",
       "      <th rowspan=\"4\" valign=\"top\">Ropa</th>\n",
       "      <th>Ropa mujer</th>\n",
       "      <td>202.22</td>\n",
       "      <td>205.2287</td>\n",
       "    </tr>\n",
       "    <tr>\n",
       "      <th>Ropa hombre</th>\n",
       "      <td>279.00</td>\n",
       "      <td>281.0962</td>\n",
       "    </tr>\n",
       "    <tr>\n",
       "      <th>Ropa para niños y bebés</th>\n",
       "      <td>89.00</td>\n",
       "      <td>91.1951</td>\n",
       "    </tr>\n",
       "    <tr>\n",
       "      <th>Ropa de abrigo y uniformes escolares</th>\n",
       "      <td>498.27</td>\n",
       "      <td>516.1031</td>\n",
       "    </tr>\n",
       "    <tr>\n",
       "      <th rowspan=\"2\" valign=\"top\">Salud</th>\n",
       "      <th>Medicamentos y aparatos</th>\n",
       "      <td>159.00</td>\n",
       "      <td>160.0755</td>\n",
       "    </tr>\n",
       "    <tr>\n",
       "      <th>Servicios médicos</th>\n",
       "      <td>750.00</td>\n",
       "      <td>750.0000</td>\n",
       "    </tr>\n",
       "    <tr>\n",
       "      <th rowspan=\"2\" valign=\"top\">Transporte por cuenta propia</th>\n",
       "      <th>Adquisición de vehículos</th>\n",
       "      <td>42999.00</td>\n",
       "      <td>41918.5964</td>\n",
       "    </tr>\n",
       "    <tr>\n",
       "      <th>Uso de vehículos</th>\n",
       "      <td>540.50</td>\n",
       "      <td>546.7438</td>\n",
       "    </tr>\n",
       "    <tr>\n",
       "      <th rowspan=\"2\" valign=\"top\">Transporte público</th>\n",
       "      <th>Transporte público urbano</th>\n",
       "      <td>9.50</td>\n",
       "      <td>9.5000</td>\n",
       "    </tr>\n",
       "    <tr>\n",
       "      <th>Transporte público foráneo</th>\n",
       "      <td>807.00</td>\n",
       "      <td>766.5396</td>\n",
       "    </tr>\n",
       "  </tbody>\n",
       "</table>\n",
       "</div>"
      ],
      "text/plain": [
       "                                                                                               Ultimo precio  \\\n",
       "Accesorios y artículos de limpieza para el hogar Accesorios y utensilios                              111.50   \n",
       "                                                 Detergentes y productos similares                     36.14   \n",
       "Accesorios y cuidados del vestido                Cuidados del vestido y accesorios                    228.00   \n",
       "Alimentos                                        Pan, tortillas y cereales                             33.44   \n",
       "                                                 Carnes                                                92.94   \n",
       "                                                 Pescados y mariscos                                  160.00   \n",
       "                                                 Leche, derivados de leche y huevo                     77.00   \n",
       "                                                 Aceites y grasas comestibles                          31.05   \n",
       "                                                 Frutas y hortalizas                                   28.53   \n",
       "                                                 Otros alimentos                                      102.57   \n",
       "                                                 Azúcar, café y refrescos envasados                    22.35   \n",
       "Bebidas alcohólicas y tabaco                     Bebidas alcohólicas                                  226.64   \n",
       "                                                 Tabaco                                                63.00   \n",
       "Calzado                                          Calzado                                              500.65   \n",
       "Costo de uso de vivienda                         Costo de uso de vivienda                             480.69   \n",
       "Cuidado personal                                 Artículos para higiene y cuidado personal             43.86   \n",
       "                                                 Servicios para el cuidado personal                   202.50   \n",
       "Electricidad y combustibles                      Electricidad y combustibles                          149.45   \n",
       "Muebles y aparatos domésticos                    Muebles                                             6249.38   \n",
       "                                                 Aparatos                                            1493.98   \n",
       "Otros servicios                                  Otros servicios                                      112.50   \n",
       "Otros servicios relacionados con la vivienda     Otros servicios relacionados con la vivienda         250.00   \n",
       "Ropa                                             Ropa mujer                                           202.22   \n",
       "                                                 Ropa hombre                                          279.00   \n",
       "                                                 Ropa para niños y bebés                               89.00   \n",
       "                                                 Ropa de abrigo y uniformes escolares                 498.27   \n",
       "Salud                                            Medicamentos y aparatos                              159.00   \n",
       "                                                 Servicios médicos                                    750.00   \n",
       "Transporte por cuenta propia                     Adquisición de vehículos                           42999.00   \n",
       "                                                 Uso de vehículos                                     540.50   \n",
       "Transporte público                               Transporte público urbano                              9.50   \n",
       "                                                 Transporte público foráneo                           807.00   \n",
       "\n",
       "                                                                                               Precio para Nov 2020  \n",
       "Accesorios y artículos de limpieza para el hogar Accesorios y utensilios                                   112.9826  \n",
       "                                                 Detergentes y productos similares                          37.1843  \n",
       "Accesorios y cuidados del vestido                Cuidados del vestido y accesorios                         234.8376  \n",
       "Alimentos                                        Pan, tortillas y cereales                                  33.9324  \n",
       "                                                 Carnes                                                     94.3607  \n",
       "                                                 Pescados y mariscos                                       160.0000  \n",
       "                                                 Leche, derivados de leche y huevo                          77.5934  \n",
       "                                                 Aceites y grasas comestibles                               30.6484  \n",
       "                                                 Frutas y hortalizas                                        28.5962  \n",
       "                                                 Otros alimentos                                           105.8735  \n",
       "                                                 Azúcar, café y refrescos envasados                         21.4517  \n",
       "Bebidas alcohólicas y tabaco                     Bebidas alcohólicas                                       225.9201  \n",
       "                                                 Tabaco                                                     63.0000  \n",
       "Calzado                                          Calzado                                                   514.0434  \n",
       "Costo de uso de vivienda                         Costo de uso de vivienda                                  476.5329  \n",
       "Cuidado personal                                 Artículos para higiene y cuidado personal                  44.2984  \n",
       "                                                 Servicios para el cuidado personal                        201.9850  \n",
       "Electricidad y combustibles                      Electricidad y combustibles                               141.9098  \n",
       "Muebles y aparatos domésticos                    Muebles                                                  6242.2174  \n",
       "                                                 Aparatos                                                 1458.5209  \n",
       "Otros servicios                                  Otros servicios                                           114.7581  \n",
       "Otros servicios relacionados con la vivienda     Otros servicios relacionados con la vivienda              250.0000  \n",
       "Ropa                                             Ropa mujer                                                205.2287  \n",
       "                                                 Ropa hombre                                               281.0962  \n",
       "                                                 Ropa para niños y bebés                                    91.1951  \n",
       "                                                 Ropa de abrigo y uniformes escolares                      516.1031  \n",
       "Salud                                            Medicamentos y aparatos                                   160.0755  \n",
       "                                                 Servicios médicos                                         750.0000  \n",
       "Transporte por cuenta propia                     Adquisición de vehículos                                41918.5964  \n",
       "                                                 Uso de vehículos                                          546.7438  \n",
       "Transporte público                               Transporte público urbano                                   9.5000  \n",
       "                                                 Transporte público foráneo                                766.5396  "
      ]
     },
     "execution_count": 19,
     "metadata": {},
     "output_type": "execute_result"
    }
   ],
   "source": [
    "# De todas las series de tiempo de todas las clases\n",
    "semaforo = semaforo_precios(df_prices)\n",
    "\n",
    "# Predicciones\n",
    "predicciones = semaforo['predicciones']\n",
    "predicciones"
   ]
  },
  {
   "cell_type": "markdown",
   "metadata": {},
   "source": [
    "__________________\n",
    "<br />\n",
    "\n",
    "<span style=\"color:#004A94; font-family:Georgia; font-size:1.7em;\"> Referencias </span> \n",
    "\n",
    "- [Adfuller]('https://www.statsmodels.org/dev/generated/statsmodels.tsa.stattools.adfuller.html')\n",
    "\n",
    "- [Ljung‐Box]('https://support.numxl.com/hc/es/articles/115001099806--C%C3%B3mo-comprobar-cu%C3%A1ndo-una-serie-de-tiempo-dada-es-s%C3%B3lo-ruido-blanco-') "
   ]
  },
  {
   "cell_type": "code",
   "execution_count": null,
   "metadata": {},
   "outputs": [],
   "source": []
  }
 ],
 "metadata": {
  "kernelspec": {
   "display_name": "Python 3",
   "language": "python",
   "name": "python3"
  },
  "language_info": {
   "codemirror_mode": {
    "name": "ipython",
    "version": 3
   },
   "file_extension": ".py",
   "mimetype": "text/x-python",
   "name": "python",
   "nbconvert_exporter": "python",
   "pygments_lexer": "ipython3",
   "version": "3.7.3"
  }
 },
 "nbformat": 4,
 "nbformat_minor": 2
}
