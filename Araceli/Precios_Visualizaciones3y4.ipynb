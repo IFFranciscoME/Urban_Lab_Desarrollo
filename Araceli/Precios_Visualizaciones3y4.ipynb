{
 "cells": [
  {
   "cell_type": "markdown",
   "metadata": {},
   "source": [
    "# Visualización 3 y 4 de métrica precios"
   ]
  },
  {
   "cell_type": "code",
   "execution_count": 52,
   "metadata": {},
   "outputs": [],
   "source": [
    "import plotly\n",
    "import pandas as pd\n",
    "import plotly.express as px\n",
    "import plotly.graph_objects as go\n",
    "import numpy as np"
   ]
  },
  {
   "cell_type": "code",
   "execution_count": 53,
   "metadata": {},
   "outputs": [],
   "source": [
    "# Lectura de los datos a utilizar\n",
    "df = pd.read_pickle(\"predicciones.pkl\")"
   ]
  },
  {
   "cell_type": "markdown",
   "metadata": {},
   "source": [
    "## Funciones"
   ]
  },
  {
   "cell_type": "code",
   "execution_count": 43,
   "metadata": {},
   "outputs": [],
   "source": [
    "def add_porcentual(p_df, a = True):\n",
    "    \"\"\"\n",
    "    Función que hace el cálculo del cambio porcentual en precios y que adecua el df para la realización de las tablas.\n",
    "\n",
    "    Parameters\n",
    "    ---------\n",
    "    p_df: DataFrame : df que contiene el último precio y el precio estimado a 6 meses por grupos y clases.\n",
    "    \n",
    "    Returns\n",
    "    ---------\n",
    "    df:  DataFrame : df que contiene lo que el anterior y el cambio porcentual de los precios.\n",
    "    \n",
    "    Debuggin\n",
    "    ---------\n",
    "    p_df = add_procentual(df)\n",
    "  \n",
    "    \"\"\"\n",
    "    p_df['C_Porcentual']=round(p_df['Precio para Nov 2020']/df['Ultimo precio']-1, 4)\n",
    "    p_df.reset_index(level=1, inplace=True)\n",
    "    p_df.reset_index(level=0, inplace=True)\n",
    "    p_df = p_df.rename(columns={'index' :'Grupo', 'level_1':'Clase'})\n",
    "    return p_df"
   ]
  },
  {
   "cell_type": "code",
   "execution_count": 44,
   "metadata": {},
   "outputs": [],
   "source": [
    "def add_color(p_df):\n",
    "    \"\"\"\n",
    "    Función que asigna el color segun el cambio porcentual.\n",
    "\n",
    "    Parameters\n",
    "    ---------\n",
    "    p_df: DataFrame : df que contiene el último precio, el precio estimado a 6 meses y el cambio porcentual por grupos y clases.\n",
    "    \n",
    "    Returns\n",
    "    ---------\n",
    "    df:  DataFrame : df que contiene lo que el anterior y la asignación de colores.\n",
    "    \n",
    "    Debuggin\n",
    "    ---------\n",
    "    p_df = clean_df(df)\n",
    "  \n",
    "    \"\"\"\n",
    "    \n",
    "    color = []\n",
    "    for i in range(0, len(p_df)):\n",
    "        if p_df['C_Porcentual'][i]<=-.01:\n",
    "            color.append('Precios que bajaran más de 1%')\n",
    "        if p_df['C_Porcentual'][i]<=.01 and df['C_Porcentual'][i]>-.01:\n",
    "            color.append('Precios que se mantendrán con una variación menor a 1%')\n",
    "        if p_df['C_Porcentual'][i]>.01:\n",
    "            color.append('Precios que aumentarán más de 1%')\n",
    "    p_df['Color']=color\n",
    "    return p_df"
   ]
  },
  {
   "cell_type": "code",
   "execution_count": 45,
   "metadata": {},
   "outputs": [],
   "source": [
    "def treemap_chart(p_df, path, color=[]):\n",
    "    \"\"\"\n",
    "    Función que crea la tabla treemap\n",
    "\n",
    "    Parameters\n",
    "    ---------\n",
    "    p_df: DataFrame : df que contiene los precios, su cambio y el color asignado.\n",
    "    path: list : lista que contiene los labels a mostrar en la tabla.\n",
    "    color: list : lista que contiene los colores a mostrar. \n",
    "    \n",
    "    Returns\n",
    "    ---------\n",
    "    fig: chart: Tabla que se solicita.\n",
    "    \n",
    "    Debuggin\n",
    "    ---------\n",
    "    path = ['Grupo','Clase', 'C_Porcentual']\n",
    "    color = [\"yellow\", \"red\", \"green\"]\n",
    "    p_df = treemap_chart(p_df, path, color)\n",
    "  \n",
    "    \"\"\"\n",
    "    fig = px.treemap(p_df, path=path)\n",
    "    fig.update_layout(treemapcolorway = color)\n",
    "    fig.update_traces(hovertemplate= '<b>%{label}')\n",
    "    fig.update_layout(title_text='Cambios Porcentuales en los precios por Grupo')\n",
    "    return fig.show()"
   ]
  },
  {
   "cell_type": "code",
   "execution_count": 46,
   "metadata": {},
   "outputs": [],
   "source": [
    "def div_grupo(p_df, indice):\n",
    "    \"\"\"\n",
    "    Función que hace un groupby por grupo.\n",
    "\n",
    "    Parameters\n",
    "    ---------\n",
    "    p_df: DataFrame : df que contiene los precios, su cambio y el color asignado.\n",
    "    indice: int: número de grupo que se desea obtener. (0-14)\n",
    "    \n",
    "    Returns\n",
    "    ---------\n",
    "    grupo: df : contiene los datos del grupo seleccionado unicamente.\n",
    "    cat: str : nombre de la categoria que se esta utiizando.\n",
    "    \n",
    "    Debuggin\n",
    "    ---------\n",
    "   \n",
    "    grupo = div_grupo(df, 4)\n",
    "  \n",
    "    \"\"\"\n",
    "    gk = df.groupby('Grupo')\n",
    "    d_keys = gk.groups\n",
    "    categories = list(d_keys.keys())\n",
    "    cat = categories[indice]\n",
    "    grupo = gk.get_group(cat)\n",
    "    return grupo, cat"
   ]
  },
  {
   "cell_type": "code",
   "execution_count": 47,
   "metadata": {},
   "outputs": [],
   "source": [
    "def bar_chart_sem(grupo, cat):\n",
    "    \"\"\"\n",
    "    Función que crea la tabla de barras en forma de semaforo.\n",
    "\n",
    "    Parameters\n",
    "    ---------\n",
    "    grupo: df : contiene los valores unicamente del grupo seleccionado (precio, cambio, color)\n",
    "    cat: str : contiene el nombre de la categoria utilizada.\n",
    "    \n",
    "    Returns\n",
    "    ---------\n",
    "    fig: chart: Tabla que se solicita.\n",
    "    \n",
    "    Debuggin\n",
    "    ---------\n",
    "    \n",
    "    bar_chart_sem(grupo,cat)\n",
    "  \n",
    "    \"\"\"\n",
    "\n",
    "    colors = list()\n",
    "    x = list(grupo['Clase'])\n",
    "    y = list(grupo['C_Porcentual'])\n",
    "    data = list(grupo['C_Porcentual'])\n",
    "    for i in range(0, len(grupo)):\n",
    "        if data[i]<=-.01:\n",
    "            colors.append('green')\n",
    "        if data[i]<=.01 and data[i]>-.01:\n",
    "            colors.append('yellow')\n",
    "        if data[i]>.01:\n",
    "            colors.append('red')\n",
    "\n",
    "    fig = go.Figure(data=[go.Bar(\n",
    "        x=x,\n",
    "        y=y,\n",
    "        marker_color=colors # marker color can be a single color value or an iterable\n",
    "    )])\n",
    "    fig.update_layout(title_text=cat, yaxis_range=(-.06,.05))\n",
    "    return fig.show()\n",
    "    "
   ]
  },
  {
   "cell_type": "markdown",
   "metadata": {},
   "source": [
    "## Principal "
   ]
  },
  {
   "cell_type": "code",
   "execution_count": 54,
   "metadata": {},
   "outputs": [
    {
     "data": {
      "application/vnd.plotly.v1+json": {
       "config": {
        "plotlyServerURL": "https://plot.ly"
       },
       "data": [
        {
         "branchvalues": "total",
         "domain": {
          "x": [
           0,
           1
          ],
          "y": [
           0,
           1
          ]
         },
         "hovertemplate": "<b>%{label}",
         "ids": [
          "Electricidad y combustibles/Electricidad y combustibles/-0.0505",
          "Transporte público/Transporte público foráneo/-0.0501",
          "Alimentos/Azúcar, café y refrescos envasados/-0.0402",
          "Transporte por cuenta propia/Adquisición de vehículos/-0.0251",
          "Muebles y aparatos domésticos/Aparatos/-0.0237",
          "Alimentos/Aceites y grasas comestibles/-0.0129",
          "Costo de uso de vivienda/Costo de uso de vivienda/-0.0086",
          "Bebidas alcohólicas y tabaco/Bebidas alcohólicas/-0.0032",
          "Cuidado personal/Servicios para el cuidado personal/-0.0025",
          "Muebles y aparatos domésticos/Muebles/-0.0011",
          "Otros servicios relacionados con la vivienda/Otros servicios relacionados con la vivienda/0.0",
          "Alimentos/Pescados y mariscos/0.0",
          "Salud/Servicios médicos/0.0",
          "Bebidas alcohólicas y tabaco/Tabaco/0.0",
          "Transporte público/Transporte público urbano/0.0",
          "Alimentos/Frutas y hortalizas/0.0023",
          "Salud/Medicamentos y aparatos/0.0068",
          "Ropa/Ropa hombre/0.0075",
          "Alimentos/Leche, derivados de leche y huevo/0.0077",
          "Cuidado personal/Artículos para higiene y cuidado personal/0.01",
          "Transporte por cuenta propia/Uso de vehículos/0.0116",
          "Accesorios y artículos de limpieza para el hogar/Accesorios y utensilios/0.0133",
          "Alimentos/Pan, tortillas y cereales/0.0147",
          "Ropa/Ropa mujer/0.0149",
          "Alimentos/Carnes/0.0153",
          "Otros servicios/Otros servicios/0.0201",
          "Ropa/Ropa para niños y bebés/0.0247",
          "Calzado/Calzado/0.0268",
          "Accesorios y artículos de limpieza para el hogar/Detergentes y productos similares/0.0289",
          "Accesorios y cuidados del vestido/Cuidados del vestido y accesorios/0.03",
          "Alimentos/Otros alimentos/0.0322",
          "Ropa/Ropa de abrigo y uniformes escolares/0.0358",
          "Accesorios y artículos de limpieza para el hogar/Accesorios y utensilios",
          "Alimentos/Aceites y grasas comestibles",
          "Transporte por cuenta propia/Adquisición de vehículos",
          "Muebles y aparatos domésticos/Aparatos",
          "Cuidado personal/Artículos para higiene y cuidado personal",
          "Alimentos/Azúcar, café y refrescos envasados",
          "Bebidas alcohólicas y tabaco/Bebidas alcohólicas",
          "Calzado/Calzado",
          "Alimentos/Carnes",
          "Costo de uso de vivienda/Costo de uso de vivienda",
          "Accesorios y cuidados del vestido/Cuidados del vestido y accesorios",
          "Accesorios y artículos de limpieza para el hogar/Detergentes y productos similares",
          "Electricidad y combustibles/Electricidad y combustibles",
          "Alimentos/Frutas y hortalizas",
          "Alimentos/Leche, derivados de leche y huevo",
          "Salud/Medicamentos y aparatos",
          "Muebles y aparatos domésticos/Muebles",
          "Alimentos/Otros alimentos",
          "Otros servicios/Otros servicios",
          "Otros servicios relacionados con la vivienda/Otros servicios relacionados con la vivienda",
          "Alimentos/Pan, tortillas y cereales",
          "Alimentos/Pescados y mariscos",
          "Ropa/Ropa de abrigo y uniformes escolares",
          "Ropa/Ropa hombre",
          "Ropa/Ropa mujer",
          "Ropa/Ropa para niños y bebés",
          "Salud/Servicios médicos",
          "Cuidado personal/Servicios para el cuidado personal",
          "Bebidas alcohólicas y tabaco/Tabaco",
          "Transporte público/Transporte público foráneo",
          "Transporte público/Transporte público urbano",
          "Transporte por cuenta propia/Uso de vehículos",
          "Accesorios y artículos de limpieza para el hogar",
          "Accesorios y cuidados del vestido",
          "Alimentos",
          "Bebidas alcohólicas y tabaco",
          "Calzado",
          "Costo de uso de vivienda",
          "Cuidado personal",
          "Electricidad y combustibles",
          "Muebles y aparatos domésticos",
          "Otros servicios",
          "Otros servicios relacionados con la vivienda",
          "Ropa",
          "Salud",
          "Transporte por cuenta propia",
          "Transporte público"
         ],
         "labels": [
          "-0.0505",
          "-0.0501",
          "-0.0402",
          "-0.0251",
          "-0.0237",
          "-0.0129",
          "-0.0086",
          "-0.0032",
          "-0.0025",
          "-0.0011",
          "0.0",
          "0.0",
          "0.0",
          "0.0",
          "0.0",
          "0.0023",
          "0.0068",
          "0.0075",
          "0.0077",
          "0.01",
          "0.0116",
          "0.0133",
          "0.0147",
          "0.0149",
          "0.0153",
          "0.0201",
          "0.0247",
          "0.0268",
          "0.0289",
          "0.03",
          "0.0322",
          "0.0358",
          "Accesorios y utensilios",
          "Aceites y grasas comestibles",
          "Adquisición de vehículos",
          "Aparatos",
          "Artículos para higiene y cuidado personal",
          "Azúcar, café y refrescos envasados",
          "Bebidas alcohólicas",
          "Calzado",
          "Carnes",
          "Costo de uso de vivienda",
          "Cuidados del vestido y accesorios",
          "Detergentes y productos similares",
          "Electricidad y combustibles",
          "Frutas y hortalizas",
          "Leche, derivados de leche y huevo",
          "Medicamentos y aparatos",
          "Muebles",
          "Otros alimentos",
          "Otros servicios",
          "Otros servicios relacionados con la vivienda",
          "Pan, tortillas y cereales",
          "Pescados y mariscos",
          "Ropa de abrigo y uniformes escolares",
          "Ropa hombre",
          "Ropa mujer",
          "Ropa para niños y bebés",
          "Servicios médicos",
          "Servicios para el cuidado personal",
          "Tabaco",
          "Transporte público foráneo",
          "Transporte público urbano",
          "Uso de vehículos",
          "Accesorios y artículos de limpieza para el hogar",
          "Accesorios y cuidados del vestido",
          "Alimentos",
          "Bebidas alcohólicas y tabaco",
          "Calzado",
          "Costo de uso de vivienda",
          "Cuidado personal",
          "Electricidad y combustibles",
          "Muebles y aparatos domésticos",
          "Otros servicios",
          "Otros servicios relacionados con la vivienda",
          "Ropa",
          "Salud",
          "Transporte por cuenta propia",
          "Transporte público"
         ],
         "name": "",
         "parents": [
          "Electricidad y combustibles/Electricidad y combustibles",
          "Transporte público/Transporte público foráneo",
          "Alimentos/Azúcar, café y refrescos envasados",
          "Transporte por cuenta propia/Adquisición de vehículos",
          "Muebles y aparatos domésticos/Aparatos",
          "Alimentos/Aceites y grasas comestibles",
          "Costo de uso de vivienda/Costo de uso de vivienda",
          "Bebidas alcohólicas y tabaco/Bebidas alcohólicas",
          "Cuidado personal/Servicios para el cuidado personal",
          "Muebles y aparatos domésticos/Muebles",
          "Otros servicios relacionados con la vivienda/Otros servicios relacionados con la vivienda",
          "Alimentos/Pescados y mariscos",
          "Salud/Servicios médicos",
          "Bebidas alcohólicas y tabaco/Tabaco",
          "Transporte público/Transporte público urbano",
          "Alimentos/Frutas y hortalizas",
          "Salud/Medicamentos y aparatos",
          "Ropa/Ropa hombre",
          "Alimentos/Leche, derivados de leche y huevo",
          "Cuidado personal/Artículos para higiene y cuidado personal",
          "Transporte por cuenta propia/Uso de vehículos",
          "Accesorios y artículos de limpieza para el hogar/Accesorios y utensilios",
          "Alimentos/Pan, tortillas y cereales",
          "Ropa/Ropa mujer",
          "Alimentos/Carnes",
          "Otros servicios/Otros servicios",
          "Ropa/Ropa para niños y bebés",
          "Calzado/Calzado",
          "Accesorios y artículos de limpieza para el hogar/Detergentes y productos similares",
          "Accesorios y cuidados del vestido/Cuidados del vestido y accesorios",
          "Alimentos/Otros alimentos",
          "Ropa/Ropa de abrigo y uniformes escolares",
          "Accesorios y artículos de limpieza para el hogar",
          "Alimentos",
          "Transporte por cuenta propia",
          "Muebles y aparatos domésticos",
          "Cuidado personal",
          "Alimentos",
          "Bebidas alcohólicas y tabaco",
          "Calzado",
          "Alimentos",
          "Costo de uso de vivienda",
          "Accesorios y cuidados del vestido",
          "Accesorios y artículos de limpieza para el hogar",
          "Electricidad y combustibles",
          "Alimentos",
          "Alimentos",
          "Salud",
          "Muebles y aparatos domésticos",
          "Alimentos",
          "Otros servicios",
          "Otros servicios relacionados con la vivienda",
          "Alimentos",
          "Alimentos",
          "Ropa",
          "Ropa",
          "Ropa",
          "Ropa",
          "Salud",
          "Cuidado personal",
          "Bebidas alcohólicas y tabaco",
          "Transporte público",
          "Transporte público",
          "Transporte por cuenta propia",
          "",
          "",
          "",
          "",
          "",
          "",
          "",
          "",
          "",
          "",
          "",
          "",
          "",
          "",
          ""
         ],
         "type": "treemap",
         "values": [
          1,
          1,
          1,
          1,
          1,
          1,
          1,
          1,
          1,
          1,
          1,
          1,
          1,
          1,
          1,
          1,
          1,
          1,
          1,
          1,
          1,
          1,
          1,
          1,
          1,
          1,
          1,
          1,
          1,
          1,
          1,
          1,
          1,
          1,
          1,
          1,
          1,
          1,
          1,
          1,
          1,
          1,
          1,
          1,
          1,
          1,
          1,
          1,
          1,
          1,
          1,
          1,
          1,
          1,
          1,
          1,
          1,
          1,
          1,
          1,
          1,
          1,
          1,
          1,
          2,
          1,
          8,
          2,
          1,
          1,
          2,
          1,
          2,
          1,
          1,
          4,
          2,
          2,
          2
         ]
        }
       ],
       "layout": {
        "legend": {
         "tracegroupgap": 0
        },
        "margin": {
         "t": 60
        },
        "template": {
         "data": {
          "bar": [
           {
            "error_x": {
             "color": "#2a3f5f"
            },
            "error_y": {
             "color": "#2a3f5f"
            },
            "marker": {
             "line": {
              "color": "#E5ECF6",
              "width": 0.5
             }
            },
            "type": "bar"
           }
          ],
          "barpolar": [
           {
            "marker": {
             "line": {
              "color": "#E5ECF6",
              "width": 0.5
             }
            },
            "type": "barpolar"
           }
          ],
          "carpet": [
           {
            "aaxis": {
             "endlinecolor": "#2a3f5f",
             "gridcolor": "white",
             "linecolor": "white",
             "minorgridcolor": "white",
             "startlinecolor": "#2a3f5f"
            },
            "baxis": {
             "endlinecolor": "#2a3f5f",
             "gridcolor": "white",
             "linecolor": "white",
             "minorgridcolor": "white",
             "startlinecolor": "#2a3f5f"
            },
            "type": "carpet"
           }
          ],
          "choropleth": [
           {
            "colorbar": {
             "outlinewidth": 0,
             "ticks": ""
            },
            "type": "choropleth"
           }
          ],
          "contour": [
           {
            "colorbar": {
             "outlinewidth": 0,
             "ticks": ""
            },
            "colorscale": [
             [
              0,
              "#0d0887"
             ],
             [
              0.1111111111111111,
              "#46039f"
             ],
             [
              0.2222222222222222,
              "#7201a8"
             ],
             [
              0.3333333333333333,
              "#9c179e"
             ],
             [
              0.4444444444444444,
              "#bd3786"
             ],
             [
              0.5555555555555556,
              "#d8576b"
             ],
             [
              0.6666666666666666,
              "#ed7953"
             ],
             [
              0.7777777777777778,
              "#fb9f3a"
             ],
             [
              0.8888888888888888,
              "#fdca26"
             ],
             [
              1,
              "#f0f921"
             ]
            ],
            "type": "contour"
           }
          ],
          "contourcarpet": [
           {
            "colorbar": {
             "outlinewidth": 0,
             "ticks": ""
            },
            "type": "contourcarpet"
           }
          ],
          "heatmap": [
           {
            "colorbar": {
             "outlinewidth": 0,
             "ticks": ""
            },
            "colorscale": [
             [
              0,
              "#0d0887"
             ],
             [
              0.1111111111111111,
              "#46039f"
             ],
             [
              0.2222222222222222,
              "#7201a8"
             ],
             [
              0.3333333333333333,
              "#9c179e"
             ],
             [
              0.4444444444444444,
              "#bd3786"
             ],
             [
              0.5555555555555556,
              "#d8576b"
             ],
             [
              0.6666666666666666,
              "#ed7953"
             ],
             [
              0.7777777777777778,
              "#fb9f3a"
             ],
             [
              0.8888888888888888,
              "#fdca26"
             ],
             [
              1,
              "#f0f921"
             ]
            ],
            "type": "heatmap"
           }
          ],
          "heatmapgl": [
           {
            "colorbar": {
             "outlinewidth": 0,
             "ticks": ""
            },
            "colorscale": [
             [
              0,
              "#0d0887"
             ],
             [
              0.1111111111111111,
              "#46039f"
             ],
             [
              0.2222222222222222,
              "#7201a8"
             ],
             [
              0.3333333333333333,
              "#9c179e"
             ],
             [
              0.4444444444444444,
              "#bd3786"
             ],
             [
              0.5555555555555556,
              "#d8576b"
             ],
             [
              0.6666666666666666,
              "#ed7953"
             ],
             [
              0.7777777777777778,
              "#fb9f3a"
             ],
             [
              0.8888888888888888,
              "#fdca26"
             ],
             [
              1,
              "#f0f921"
             ]
            ],
            "type": "heatmapgl"
           }
          ],
          "histogram": [
           {
            "marker": {
             "colorbar": {
              "outlinewidth": 0,
              "ticks": ""
             }
            },
            "type": "histogram"
           }
          ],
          "histogram2d": [
           {
            "colorbar": {
             "outlinewidth": 0,
             "ticks": ""
            },
            "colorscale": [
             [
              0,
              "#0d0887"
             ],
             [
              0.1111111111111111,
              "#46039f"
             ],
             [
              0.2222222222222222,
              "#7201a8"
             ],
             [
              0.3333333333333333,
              "#9c179e"
             ],
             [
              0.4444444444444444,
              "#bd3786"
             ],
             [
              0.5555555555555556,
              "#d8576b"
             ],
             [
              0.6666666666666666,
              "#ed7953"
             ],
             [
              0.7777777777777778,
              "#fb9f3a"
             ],
             [
              0.8888888888888888,
              "#fdca26"
             ],
             [
              1,
              "#f0f921"
             ]
            ],
            "type": "histogram2d"
           }
          ],
          "histogram2dcontour": [
           {
            "colorbar": {
             "outlinewidth": 0,
             "ticks": ""
            },
            "colorscale": [
             [
              0,
              "#0d0887"
             ],
             [
              0.1111111111111111,
              "#46039f"
             ],
             [
              0.2222222222222222,
              "#7201a8"
             ],
             [
              0.3333333333333333,
              "#9c179e"
             ],
             [
              0.4444444444444444,
              "#bd3786"
             ],
             [
              0.5555555555555556,
              "#d8576b"
             ],
             [
              0.6666666666666666,
              "#ed7953"
             ],
             [
              0.7777777777777778,
              "#fb9f3a"
             ],
             [
              0.8888888888888888,
              "#fdca26"
             ],
             [
              1,
              "#f0f921"
             ]
            ],
            "type": "histogram2dcontour"
           }
          ],
          "mesh3d": [
           {
            "colorbar": {
             "outlinewidth": 0,
             "ticks": ""
            },
            "type": "mesh3d"
           }
          ],
          "parcoords": [
           {
            "line": {
             "colorbar": {
              "outlinewidth": 0,
              "ticks": ""
             }
            },
            "type": "parcoords"
           }
          ],
          "pie": [
           {
            "automargin": true,
            "type": "pie"
           }
          ],
          "scatter": [
           {
            "marker": {
             "colorbar": {
              "outlinewidth": 0,
              "ticks": ""
             }
            },
            "type": "scatter"
           }
          ],
          "scatter3d": [
           {
            "line": {
             "colorbar": {
              "outlinewidth": 0,
              "ticks": ""
             }
            },
            "marker": {
             "colorbar": {
              "outlinewidth": 0,
              "ticks": ""
             }
            },
            "type": "scatter3d"
           }
          ],
          "scattercarpet": [
           {
            "marker": {
             "colorbar": {
              "outlinewidth": 0,
              "ticks": ""
             }
            },
            "type": "scattercarpet"
           }
          ],
          "scattergeo": [
           {
            "marker": {
             "colorbar": {
              "outlinewidth": 0,
              "ticks": ""
             }
            },
            "type": "scattergeo"
           }
          ],
          "scattergl": [
           {
            "marker": {
             "colorbar": {
              "outlinewidth": 0,
              "ticks": ""
             }
            },
            "type": "scattergl"
           }
          ],
          "scattermapbox": [
           {
            "marker": {
             "colorbar": {
              "outlinewidth": 0,
              "ticks": ""
             }
            },
            "type": "scattermapbox"
           }
          ],
          "scatterpolar": [
           {
            "marker": {
             "colorbar": {
              "outlinewidth": 0,
              "ticks": ""
             }
            },
            "type": "scatterpolar"
           }
          ],
          "scatterpolargl": [
           {
            "marker": {
             "colorbar": {
              "outlinewidth": 0,
              "ticks": ""
             }
            },
            "type": "scatterpolargl"
           }
          ],
          "scatterternary": [
           {
            "marker": {
             "colorbar": {
              "outlinewidth": 0,
              "ticks": ""
             }
            },
            "type": "scatterternary"
           }
          ],
          "surface": [
           {
            "colorbar": {
             "outlinewidth": 0,
             "ticks": ""
            },
            "colorscale": [
             [
              0,
              "#0d0887"
             ],
             [
              0.1111111111111111,
              "#46039f"
             ],
             [
              0.2222222222222222,
              "#7201a8"
             ],
             [
              0.3333333333333333,
              "#9c179e"
             ],
             [
              0.4444444444444444,
              "#bd3786"
             ],
             [
              0.5555555555555556,
              "#d8576b"
             ],
             [
              0.6666666666666666,
              "#ed7953"
             ],
             [
              0.7777777777777778,
              "#fb9f3a"
             ],
             [
              0.8888888888888888,
              "#fdca26"
             ],
             [
              1,
              "#f0f921"
             ]
            ],
            "type": "surface"
           }
          ],
          "table": [
           {
            "cells": {
             "fill": {
              "color": "#EBF0F8"
             },
             "line": {
              "color": "white"
             }
            },
            "header": {
             "fill": {
              "color": "#C8D4E3"
             },
             "line": {
              "color": "white"
             }
            },
            "type": "table"
           }
          ]
         },
         "layout": {
          "annotationdefaults": {
           "arrowcolor": "#2a3f5f",
           "arrowhead": 0,
           "arrowwidth": 1
          },
          "coloraxis": {
           "colorbar": {
            "outlinewidth": 0,
            "ticks": ""
           }
          },
          "colorscale": {
           "diverging": [
            [
             0,
             "#8e0152"
            ],
            [
             0.1,
             "#c51b7d"
            ],
            [
             0.2,
             "#de77ae"
            ],
            [
             0.3,
             "#f1b6da"
            ],
            [
             0.4,
             "#fde0ef"
            ],
            [
             0.5,
             "#f7f7f7"
            ],
            [
             0.6,
             "#e6f5d0"
            ],
            [
             0.7,
             "#b8e186"
            ],
            [
             0.8,
             "#7fbc41"
            ],
            [
             0.9,
             "#4d9221"
            ],
            [
             1,
             "#276419"
            ]
           ],
           "sequential": [
            [
             0,
             "#0d0887"
            ],
            [
             0.1111111111111111,
             "#46039f"
            ],
            [
             0.2222222222222222,
             "#7201a8"
            ],
            [
             0.3333333333333333,
             "#9c179e"
            ],
            [
             0.4444444444444444,
             "#bd3786"
            ],
            [
             0.5555555555555556,
             "#d8576b"
            ],
            [
             0.6666666666666666,
             "#ed7953"
            ],
            [
             0.7777777777777778,
             "#fb9f3a"
            ],
            [
             0.8888888888888888,
             "#fdca26"
            ],
            [
             1,
             "#f0f921"
            ]
           ],
           "sequentialminus": [
            [
             0,
             "#0d0887"
            ],
            [
             0.1111111111111111,
             "#46039f"
            ],
            [
             0.2222222222222222,
             "#7201a8"
            ],
            [
             0.3333333333333333,
             "#9c179e"
            ],
            [
             0.4444444444444444,
             "#bd3786"
            ],
            [
             0.5555555555555556,
             "#d8576b"
            ],
            [
             0.6666666666666666,
             "#ed7953"
            ],
            [
             0.7777777777777778,
             "#fb9f3a"
            ],
            [
             0.8888888888888888,
             "#fdca26"
            ],
            [
             1,
             "#f0f921"
            ]
           ]
          },
          "colorway": [
           "#636efa",
           "#EF553B",
           "#00cc96",
           "#ab63fa",
           "#FFA15A",
           "#19d3f3",
           "#FF6692",
           "#B6E880",
           "#FF97FF",
           "#FECB52"
          ],
          "font": {
           "color": "#2a3f5f"
          },
          "geo": {
           "bgcolor": "white",
           "lakecolor": "white",
           "landcolor": "#E5ECF6",
           "showlakes": true,
           "showland": true,
           "subunitcolor": "white"
          },
          "hoverlabel": {
           "align": "left"
          },
          "hovermode": "closest",
          "mapbox": {
           "style": "light"
          },
          "paper_bgcolor": "white",
          "plot_bgcolor": "#E5ECF6",
          "polar": {
           "angularaxis": {
            "gridcolor": "white",
            "linecolor": "white",
            "ticks": ""
           },
           "bgcolor": "#E5ECF6",
           "radialaxis": {
            "gridcolor": "white",
            "linecolor": "white",
            "ticks": ""
           }
          },
          "scene": {
           "xaxis": {
            "backgroundcolor": "#E5ECF6",
            "gridcolor": "white",
            "gridwidth": 2,
            "linecolor": "white",
            "showbackground": true,
            "ticks": "",
            "zerolinecolor": "white"
           },
           "yaxis": {
            "backgroundcolor": "#E5ECF6",
            "gridcolor": "white",
            "gridwidth": 2,
            "linecolor": "white",
            "showbackground": true,
            "ticks": "",
            "zerolinecolor": "white"
           },
           "zaxis": {
            "backgroundcolor": "#E5ECF6",
            "gridcolor": "white",
            "gridwidth": 2,
            "linecolor": "white",
            "showbackground": true,
            "ticks": "",
            "zerolinecolor": "white"
           }
          },
          "shapedefaults": {
           "line": {
            "color": "#2a3f5f"
           }
          },
          "ternary": {
           "aaxis": {
            "gridcolor": "white",
            "linecolor": "white",
            "ticks": ""
           },
           "baxis": {
            "gridcolor": "white",
            "linecolor": "white",
            "ticks": ""
           },
           "bgcolor": "#E5ECF6",
           "caxis": {
            "gridcolor": "white",
            "linecolor": "white",
            "ticks": ""
           }
          },
          "title": {
           "x": 0.05
          },
          "xaxis": {
           "automargin": true,
           "gridcolor": "white",
           "linecolor": "white",
           "ticks": "",
           "title": {
            "standoff": 15
           },
           "zerolinecolor": "white",
           "zerolinewidth": 2
          },
          "yaxis": {
           "automargin": true,
           "gridcolor": "white",
           "linecolor": "white",
           "ticks": "",
           "title": {
            "standoff": 15
           },
           "zerolinecolor": "white",
           "zerolinewidth": 2
          }
         }
        },
        "title": {
         "text": "Cambios Porcentuales en los precios por Grupo"
        },
        "treemapcolorway": []
       }
      },
      "text/html": [
       "<div>\n",
       "        \n",
       "        \n",
       "            <div id=\"6ee73759-d8f8-449f-ba0a-f91da54f0643\" class=\"plotly-graph-div\" style=\"height:525px; width:100%;\"></div>\n",
       "            <script type=\"text/javascript\">\n",
       "                require([\"plotly\"], function(Plotly) {\n",
       "                    window.PLOTLYENV=window.PLOTLYENV || {};\n",
       "                    \n",
       "                if (document.getElementById(\"6ee73759-d8f8-449f-ba0a-f91da54f0643\")) {\n",
       "                    Plotly.newPlot(\n",
       "                        '6ee73759-d8f8-449f-ba0a-f91da54f0643',\n",
       "                        [{\"branchvalues\": \"total\", \"domain\": {\"x\": [0.0, 1.0], \"y\": [0.0, 1.0]}, \"hovertemplate\": \"<b>%{label}\", \"ids\": [\"Electricidad y combustibles/Electricidad y combustibles/-0.0505\", \"Transporte p\\u00fablico/Transporte p\\u00fablico for\\u00e1neo/-0.0501\", \"Alimentos/Az\\u00facar, caf\\u00e9 y refrescos envasados/-0.0402\", \"Transporte por cuenta propia/Adquisici\\u00f3n de veh\\u00edculos/-0.0251\", \"Muebles y aparatos dom\\u00e9sticos/Aparatos/-0.0237\", \"Alimentos/Aceites y grasas comestibles/-0.0129\", \"Costo de uso de vivienda/Costo de uso de vivienda/-0.0086\", \"Bebidas alcoh\\u00f3licas y tabaco/Bebidas alcoh\\u00f3licas/-0.0032\", \"Cuidado personal/Servicios para el cuidado personal/-0.0025\", \"Muebles y aparatos dom\\u00e9sticos/Muebles/-0.0011\", \"Otros servicios relacionados con la vivienda/Otros servicios relacionados con la vivienda/0.0\", \"Alimentos/Pescados y mariscos/0.0\", \"Salud/Servicios m\\u00e9dicos/0.0\", \"Bebidas alcoh\\u00f3licas y tabaco/Tabaco/0.0\", \"Transporte p\\u00fablico/Transporte p\\u00fablico urbano/0.0\", \"Alimentos/Frutas y hortalizas/0.0023\", \"Salud/Medicamentos y aparatos/0.0068\", \"Ropa/Ropa hombre/0.0075\", \"Alimentos/Leche, derivados de leche y huevo/0.0077\", \"Cuidado personal/Art\\u00edculos para higiene y cuidado personal/0.01\", \"Transporte por cuenta propia/Uso de veh\\u00edculos/0.0116\", \"Accesorios y art\\u00edculos de limpieza para el hogar/Accesorios y utensilios/0.0133\", \"Alimentos/Pan, tortillas y cereales/0.0147\", \"Ropa/Ropa mujer/0.0149\", \"Alimentos/Carnes/0.0153\", \"Otros servicios/Otros servicios/0.0201\", \"Ropa/Ropa para ni\\u00f1os y beb\\u00e9s/0.0247\", \"Calzado/Calzado/0.0268\", \"Accesorios y art\\u00edculos de limpieza para el hogar/Detergentes y productos similares/0.0289\", \"Accesorios y cuidados del vestido/Cuidados del vestido y accesorios/0.03\", \"Alimentos/Otros alimentos/0.0322\", \"Ropa/Ropa de abrigo y uniformes escolares/0.0358\", \"Accesorios y art\\u00edculos de limpieza para el hogar/Accesorios y utensilios\", \"Alimentos/Aceites y grasas comestibles\", \"Transporte por cuenta propia/Adquisici\\u00f3n de veh\\u00edculos\", \"Muebles y aparatos dom\\u00e9sticos/Aparatos\", \"Cuidado personal/Art\\u00edculos para higiene y cuidado personal\", \"Alimentos/Az\\u00facar, caf\\u00e9 y refrescos envasados\", \"Bebidas alcoh\\u00f3licas y tabaco/Bebidas alcoh\\u00f3licas\", \"Calzado/Calzado\", \"Alimentos/Carnes\", \"Costo de uso de vivienda/Costo de uso de vivienda\", \"Accesorios y cuidados del vestido/Cuidados del vestido y accesorios\", \"Accesorios y art\\u00edculos de limpieza para el hogar/Detergentes y productos similares\", \"Electricidad y combustibles/Electricidad y combustibles\", \"Alimentos/Frutas y hortalizas\", \"Alimentos/Leche, derivados de leche y huevo\", \"Salud/Medicamentos y aparatos\", \"Muebles y aparatos dom\\u00e9sticos/Muebles\", \"Alimentos/Otros alimentos\", \"Otros servicios/Otros servicios\", \"Otros servicios relacionados con la vivienda/Otros servicios relacionados con la vivienda\", \"Alimentos/Pan, tortillas y cereales\", \"Alimentos/Pescados y mariscos\", \"Ropa/Ropa de abrigo y uniformes escolares\", \"Ropa/Ropa hombre\", \"Ropa/Ropa mujer\", \"Ropa/Ropa para ni\\u00f1os y beb\\u00e9s\", \"Salud/Servicios m\\u00e9dicos\", \"Cuidado personal/Servicios para el cuidado personal\", \"Bebidas alcoh\\u00f3licas y tabaco/Tabaco\", \"Transporte p\\u00fablico/Transporte p\\u00fablico for\\u00e1neo\", \"Transporte p\\u00fablico/Transporte p\\u00fablico urbano\", \"Transporte por cuenta propia/Uso de veh\\u00edculos\", \"Accesorios y art\\u00edculos de limpieza para el hogar\", \"Accesorios y cuidados del vestido\", \"Alimentos\", \"Bebidas alcoh\\u00f3licas y tabaco\", \"Calzado\", \"Costo de uso de vivienda\", \"Cuidado personal\", \"Electricidad y combustibles\", \"Muebles y aparatos dom\\u00e9sticos\", \"Otros servicios\", \"Otros servicios relacionados con la vivienda\", \"Ropa\", \"Salud\", \"Transporte por cuenta propia\", \"Transporte p\\u00fablico\"], \"labels\": [\"-0.0505\", \"-0.0501\", \"-0.0402\", \"-0.0251\", \"-0.0237\", \"-0.0129\", \"-0.0086\", \"-0.0032\", \"-0.0025\", \"-0.0011\", \"0.0\", \"0.0\", \"0.0\", \"0.0\", \"0.0\", \"0.0023\", \"0.0068\", \"0.0075\", \"0.0077\", \"0.01\", \"0.0116\", \"0.0133\", \"0.0147\", \"0.0149\", \"0.0153\", \"0.0201\", \"0.0247\", \"0.0268\", \"0.0289\", \"0.03\", \"0.0322\", \"0.0358\", \"Accesorios y utensilios\", \"Aceites y grasas comestibles\", \"Adquisici\\u00f3n de veh\\u00edculos\", \"Aparatos\", \"Art\\u00edculos para higiene y cuidado personal\", \"Az\\u00facar, caf\\u00e9 y refrescos envasados\", \"Bebidas alcoh\\u00f3licas\", \"Calzado\", \"Carnes\", \"Costo de uso de vivienda\", \"Cuidados del vestido y accesorios\", \"Detergentes y productos similares\", \"Electricidad y combustibles\", \"Frutas y hortalizas\", \"Leche, derivados de leche y huevo\", \"Medicamentos y aparatos\", \"Muebles\", \"Otros alimentos\", \"Otros servicios\", \"Otros servicios relacionados con la vivienda\", \"Pan, tortillas y cereales\", \"Pescados y mariscos\", \"Ropa de abrigo y uniformes escolares\", \"Ropa hombre\", \"Ropa mujer\", \"Ropa para ni\\u00f1os y beb\\u00e9s\", \"Servicios m\\u00e9dicos\", \"Servicios para el cuidado personal\", \"Tabaco\", \"Transporte p\\u00fablico for\\u00e1neo\", \"Transporte p\\u00fablico urbano\", \"Uso de veh\\u00edculos\", \"Accesorios y art\\u00edculos de limpieza para el hogar\", \"Accesorios y cuidados del vestido\", \"Alimentos\", \"Bebidas alcoh\\u00f3licas y tabaco\", \"Calzado\", \"Costo de uso de vivienda\", \"Cuidado personal\", \"Electricidad y combustibles\", \"Muebles y aparatos dom\\u00e9sticos\", \"Otros servicios\", \"Otros servicios relacionados con la vivienda\", \"Ropa\", \"Salud\", \"Transporte por cuenta propia\", \"Transporte p\\u00fablico\"], \"name\": \"\", \"parents\": [\"Electricidad y combustibles/Electricidad y combustibles\", \"Transporte p\\u00fablico/Transporte p\\u00fablico for\\u00e1neo\", \"Alimentos/Az\\u00facar, caf\\u00e9 y refrescos envasados\", \"Transporte por cuenta propia/Adquisici\\u00f3n de veh\\u00edculos\", \"Muebles y aparatos dom\\u00e9sticos/Aparatos\", \"Alimentos/Aceites y grasas comestibles\", \"Costo de uso de vivienda/Costo de uso de vivienda\", \"Bebidas alcoh\\u00f3licas y tabaco/Bebidas alcoh\\u00f3licas\", \"Cuidado personal/Servicios para el cuidado personal\", \"Muebles y aparatos dom\\u00e9sticos/Muebles\", \"Otros servicios relacionados con la vivienda/Otros servicios relacionados con la vivienda\", \"Alimentos/Pescados y mariscos\", \"Salud/Servicios m\\u00e9dicos\", \"Bebidas alcoh\\u00f3licas y tabaco/Tabaco\", \"Transporte p\\u00fablico/Transporte p\\u00fablico urbano\", \"Alimentos/Frutas y hortalizas\", \"Salud/Medicamentos y aparatos\", \"Ropa/Ropa hombre\", \"Alimentos/Leche, derivados de leche y huevo\", \"Cuidado personal/Art\\u00edculos para higiene y cuidado personal\", \"Transporte por cuenta propia/Uso de veh\\u00edculos\", \"Accesorios y art\\u00edculos de limpieza para el hogar/Accesorios y utensilios\", \"Alimentos/Pan, tortillas y cereales\", \"Ropa/Ropa mujer\", \"Alimentos/Carnes\", \"Otros servicios/Otros servicios\", \"Ropa/Ropa para ni\\u00f1os y beb\\u00e9s\", \"Calzado/Calzado\", \"Accesorios y art\\u00edculos de limpieza para el hogar/Detergentes y productos similares\", \"Accesorios y cuidados del vestido/Cuidados del vestido y accesorios\", \"Alimentos/Otros alimentos\", \"Ropa/Ropa de abrigo y uniformes escolares\", \"Accesorios y art\\u00edculos de limpieza para el hogar\", \"Alimentos\", \"Transporte por cuenta propia\", \"Muebles y aparatos dom\\u00e9sticos\", \"Cuidado personal\", \"Alimentos\", \"Bebidas alcoh\\u00f3licas y tabaco\", \"Calzado\", \"Alimentos\", \"Costo de uso de vivienda\", \"Accesorios y cuidados del vestido\", \"Accesorios y art\\u00edculos de limpieza para el hogar\", \"Electricidad y combustibles\", \"Alimentos\", \"Alimentos\", \"Salud\", \"Muebles y aparatos dom\\u00e9sticos\", \"Alimentos\", \"Otros servicios\", \"Otros servicios relacionados con la vivienda\", \"Alimentos\", \"Alimentos\", \"Ropa\", \"Ropa\", \"Ropa\", \"Ropa\", \"Salud\", \"Cuidado personal\", \"Bebidas alcoh\\u00f3licas y tabaco\", \"Transporte p\\u00fablico\", \"Transporte p\\u00fablico\", \"Transporte por cuenta propia\", \"\", \"\", \"\", \"\", \"\", \"\", \"\", \"\", \"\", \"\", \"\", \"\", \"\", \"\", \"\"], \"type\": \"treemap\", \"values\": [1, 1, 1, 1, 1, 1, 1, 1, 1, 1, 1, 1, 1, 1, 1, 1, 1, 1, 1, 1, 1, 1, 1, 1, 1, 1, 1, 1, 1, 1, 1, 1, 1, 1, 1, 1, 1, 1, 1, 1, 1, 1, 1, 1, 1, 1, 1, 1, 1, 1, 1, 1, 1, 1, 1, 1, 1, 1, 1, 1, 1, 1, 1, 1, 2, 1, 8, 2, 1, 1, 2, 1, 2, 1, 1, 4, 2, 2, 2]}],\n",
       "                        {\"legend\": {\"tracegroupgap\": 0}, \"margin\": {\"t\": 60}, \"template\": {\"data\": {\"bar\": [{\"error_x\": {\"color\": \"#2a3f5f\"}, \"error_y\": {\"color\": \"#2a3f5f\"}, \"marker\": {\"line\": {\"color\": \"#E5ECF6\", \"width\": 0.5}}, \"type\": \"bar\"}], \"barpolar\": [{\"marker\": {\"line\": {\"color\": \"#E5ECF6\", \"width\": 0.5}}, \"type\": \"barpolar\"}], \"carpet\": [{\"aaxis\": {\"endlinecolor\": \"#2a3f5f\", \"gridcolor\": \"white\", \"linecolor\": \"white\", \"minorgridcolor\": \"white\", \"startlinecolor\": \"#2a3f5f\"}, \"baxis\": {\"endlinecolor\": \"#2a3f5f\", \"gridcolor\": \"white\", \"linecolor\": \"white\", \"minorgridcolor\": \"white\", \"startlinecolor\": \"#2a3f5f\"}, \"type\": \"carpet\"}], \"choropleth\": [{\"colorbar\": {\"outlinewidth\": 0, \"ticks\": \"\"}, \"type\": \"choropleth\"}], \"contour\": [{\"colorbar\": {\"outlinewidth\": 0, \"ticks\": \"\"}, \"colorscale\": [[0.0, \"#0d0887\"], [0.1111111111111111, \"#46039f\"], [0.2222222222222222, \"#7201a8\"], [0.3333333333333333, \"#9c179e\"], [0.4444444444444444, \"#bd3786\"], [0.5555555555555556, \"#d8576b\"], [0.6666666666666666, \"#ed7953\"], [0.7777777777777778, \"#fb9f3a\"], [0.8888888888888888, \"#fdca26\"], [1.0, \"#f0f921\"]], \"type\": \"contour\"}], \"contourcarpet\": [{\"colorbar\": {\"outlinewidth\": 0, \"ticks\": \"\"}, \"type\": \"contourcarpet\"}], \"heatmap\": [{\"colorbar\": {\"outlinewidth\": 0, \"ticks\": \"\"}, \"colorscale\": [[0.0, \"#0d0887\"], [0.1111111111111111, \"#46039f\"], [0.2222222222222222, \"#7201a8\"], [0.3333333333333333, \"#9c179e\"], [0.4444444444444444, \"#bd3786\"], [0.5555555555555556, \"#d8576b\"], [0.6666666666666666, \"#ed7953\"], [0.7777777777777778, \"#fb9f3a\"], [0.8888888888888888, \"#fdca26\"], [1.0, \"#f0f921\"]], \"type\": \"heatmap\"}], \"heatmapgl\": [{\"colorbar\": {\"outlinewidth\": 0, \"ticks\": \"\"}, \"colorscale\": [[0.0, \"#0d0887\"], [0.1111111111111111, \"#46039f\"], [0.2222222222222222, \"#7201a8\"], [0.3333333333333333, \"#9c179e\"], [0.4444444444444444, \"#bd3786\"], [0.5555555555555556, \"#d8576b\"], [0.6666666666666666, \"#ed7953\"], [0.7777777777777778, \"#fb9f3a\"], [0.8888888888888888, \"#fdca26\"], [1.0, \"#f0f921\"]], \"type\": \"heatmapgl\"}], \"histogram\": [{\"marker\": {\"colorbar\": {\"outlinewidth\": 0, \"ticks\": \"\"}}, \"type\": \"histogram\"}], \"histogram2d\": [{\"colorbar\": {\"outlinewidth\": 0, \"ticks\": \"\"}, \"colorscale\": [[0.0, \"#0d0887\"], [0.1111111111111111, \"#46039f\"], [0.2222222222222222, \"#7201a8\"], [0.3333333333333333, \"#9c179e\"], [0.4444444444444444, \"#bd3786\"], [0.5555555555555556, \"#d8576b\"], [0.6666666666666666, \"#ed7953\"], [0.7777777777777778, \"#fb9f3a\"], [0.8888888888888888, \"#fdca26\"], [1.0, \"#f0f921\"]], \"type\": \"histogram2d\"}], \"histogram2dcontour\": [{\"colorbar\": {\"outlinewidth\": 0, \"ticks\": \"\"}, \"colorscale\": [[0.0, \"#0d0887\"], [0.1111111111111111, \"#46039f\"], [0.2222222222222222, \"#7201a8\"], [0.3333333333333333, \"#9c179e\"], [0.4444444444444444, \"#bd3786\"], [0.5555555555555556, \"#d8576b\"], [0.6666666666666666, \"#ed7953\"], [0.7777777777777778, \"#fb9f3a\"], [0.8888888888888888, \"#fdca26\"], [1.0, \"#f0f921\"]], \"type\": \"histogram2dcontour\"}], \"mesh3d\": [{\"colorbar\": {\"outlinewidth\": 0, \"ticks\": \"\"}, \"type\": \"mesh3d\"}], \"parcoords\": [{\"line\": {\"colorbar\": {\"outlinewidth\": 0, \"ticks\": \"\"}}, \"type\": \"parcoords\"}], \"pie\": [{\"automargin\": true, \"type\": \"pie\"}], \"scatter\": [{\"marker\": {\"colorbar\": {\"outlinewidth\": 0, \"ticks\": \"\"}}, \"type\": \"scatter\"}], \"scatter3d\": [{\"line\": {\"colorbar\": {\"outlinewidth\": 0, \"ticks\": \"\"}}, \"marker\": {\"colorbar\": {\"outlinewidth\": 0, \"ticks\": \"\"}}, \"type\": \"scatter3d\"}], \"scattercarpet\": [{\"marker\": {\"colorbar\": {\"outlinewidth\": 0, \"ticks\": \"\"}}, \"type\": \"scattercarpet\"}], \"scattergeo\": [{\"marker\": {\"colorbar\": {\"outlinewidth\": 0, \"ticks\": \"\"}}, \"type\": \"scattergeo\"}], \"scattergl\": [{\"marker\": {\"colorbar\": {\"outlinewidth\": 0, \"ticks\": \"\"}}, \"type\": \"scattergl\"}], \"scattermapbox\": [{\"marker\": {\"colorbar\": {\"outlinewidth\": 0, \"ticks\": \"\"}}, \"type\": \"scattermapbox\"}], \"scatterpolar\": [{\"marker\": {\"colorbar\": {\"outlinewidth\": 0, \"ticks\": \"\"}}, \"type\": \"scatterpolar\"}], \"scatterpolargl\": [{\"marker\": {\"colorbar\": {\"outlinewidth\": 0, \"ticks\": \"\"}}, \"type\": \"scatterpolargl\"}], \"scatterternary\": [{\"marker\": {\"colorbar\": {\"outlinewidth\": 0, \"ticks\": \"\"}}, \"type\": \"scatterternary\"}], \"surface\": [{\"colorbar\": {\"outlinewidth\": 0, \"ticks\": \"\"}, \"colorscale\": [[0.0, \"#0d0887\"], [0.1111111111111111, \"#46039f\"], [0.2222222222222222, \"#7201a8\"], [0.3333333333333333, \"#9c179e\"], [0.4444444444444444, \"#bd3786\"], [0.5555555555555556, \"#d8576b\"], [0.6666666666666666, \"#ed7953\"], [0.7777777777777778, \"#fb9f3a\"], [0.8888888888888888, \"#fdca26\"], [1.0, \"#f0f921\"]], \"type\": \"surface\"}], \"table\": [{\"cells\": {\"fill\": {\"color\": \"#EBF0F8\"}, \"line\": {\"color\": \"white\"}}, \"header\": {\"fill\": {\"color\": \"#C8D4E3\"}, \"line\": {\"color\": \"white\"}}, \"type\": \"table\"}]}, \"layout\": {\"annotationdefaults\": {\"arrowcolor\": \"#2a3f5f\", \"arrowhead\": 0, \"arrowwidth\": 1}, \"coloraxis\": {\"colorbar\": {\"outlinewidth\": 0, \"ticks\": \"\"}}, \"colorscale\": {\"diverging\": [[0, \"#8e0152\"], [0.1, \"#c51b7d\"], [0.2, \"#de77ae\"], [0.3, \"#f1b6da\"], [0.4, \"#fde0ef\"], [0.5, \"#f7f7f7\"], [0.6, \"#e6f5d0\"], [0.7, \"#b8e186\"], [0.8, \"#7fbc41\"], [0.9, \"#4d9221\"], [1, \"#276419\"]], \"sequential\": [[0.0, \"#0d0887\"], [0.1111111111111111, \"#46039f\"], [0.2222222222222222, \"#7201a8\"], [0.3333333333333333, \"#9c179e\"], [0.4444444444444444, \"#bd3786\"], [0.5555555555555556, \"#d8576b\"], [0.6666666666666666, \"#ed7953\"], [0.7777777777777778, \"#fb9f3a\"], [0.8888888888888888, \"#fdca26\"], [1.0, \"#f0f921\"]], \"sequentialminus\": [[0.0, \"#0d0887\"], [0.1111111111111111, \"#46039f\"], [0.2222222222222222, \"#7201a8\"], [0.3333333333333333, \"#9c179e\"], [0.4444444444444444, \"#bd3786\"], [0.5555555555555556, \"#d8576b\"], [0.6666666666666666, \"#ed7953\"], [0.7777777777777778, \"#fb9f3a\"], [0.8888888888888888, \"#fdca26\"], [1.0, \"#f0f921\"]]}, \"colorway\": [\"#636efa\", \"#EF553B\", \"#00cc96\", \"#ab63fa\", \"#FFA15A\", \"#19d3f3\", \"#FF6692\", \"#B6E880\", \"#FF97FF\", \"#FECB52\"], \"font\": {\"color\": \"#2a3f5f\"}, \"geo\": {\"bgcolor\": \"white\", \"lakecolor\": \"white\", \"landcolor\": \"#E5ECF6\", \"showlakes\": true, \"showland\": true, \"subunitcolor\": \"white\"}, \"hoverlabel\": {\"align\": \"left\"}, \"hovermode\": \"closest\", \"mapbox\": {\"style\": \"light\"}, \"paper_bgcolor\": \"white\", \"plot_bgcolor\": \"#E5ECF6\", \"polar\": {\"angularaxis\": {\"gridcolor\": \"white\", \"linecolor\": \"white\", \"ticks\": \"\"}, \"bgcolor\": \"#E5ECF6\", \"radialaxis\": {\"gridcolor\": \"white\", \"linecolor\": \"white\", \"ticks\": \"\"}}, \"scene\": {\"xaxis\": {\"backgroundcolor\": \"#E5ECF6\", \"gridcolor\": \"white\", \"gridwidth\": 2, \"linecolor\": \"white\", \"showbackground\": true, \"ticks\": \"\", \"zerolinecolor\": \"white\"}, \"yaxis\": {\"backgroundcolor\": \"#E5ECF6\", \"gridcolor\": \"white\", \"gridwidth\": 2, \"linecolor\": \"white\", \"showbackground\": true, \"ticks\": \"\", \"zerolinecolor\": \"white\"}, \"zaxis\": {\"backgroundcolor\": \"#E5ECF6\", \"gridcolor\": \"white\", \"gridwidth\": 2, \"linecolor\": \"white\", \"showbackground\": true, \"ticks\": \"\", \"zerolinecolor\": \"white\"}}, \"shapedefaults\": {\"line\": {\"color\": \"#2a3f5f\"}}, \"ternary\": {\"aaxis\": {\"gridcolor\": \"white\", \"linecolor\": \"white\", \"ticks\": \"\"}, \"baxis\": {\"gridcolor\": \"white\", \"linecolor\": \"white\", \"ticks\": \"\"}, \"bgcolor\": \"#E5ECF6\", \"caxis\": {\"gridcolor\": \"white\", \"linecolor\": \"white\", \"ticks\": \"\"}}, \"title\": {\"x\": 0.05}, \"xaxis\": {\"automargin\": true, \"gridcolor\": \"white\", \"linecolor\": \"white\", \"ticks\": \"\", \"title\": {\"standoff\": 15}, \"zerolinecolor\": \"white\", \"zerolinewidth\": 2}, \"yaxis\": {\"automargin\": true, \"gridcolor\": \"white\", \"linecolor\": \"white\", \"ticks\": \"\", \"title\": {\"standoff\": 15}, \"zerolinecolor\": \"white\", \"zerolinewidth\": 2}}}, \"title\": {\"text\": \"Cambios Porcentuales en los precios por Grupo\"}, \"treemapcolorway\": []},\n",
       "                        {\"responsive\": true}\n",
       "                    ).then(function(){\n",
       "                            \n",
       "var gd = document.getElementById('6ee73759-d8f8-449f-ba0a-f91da54f0643');\n",
       "var x = new MutationObserver(function (mutations, observer) {{\n",
       "        var display = window.getComputedStyle(gd).display;\n",
       "        if (!display || display === 'none') {{\n",
       "            console.log([gd, 'removed!']);\n",
       "            Plotly.purge(gd);\n",
       "            observer.disconnect();\n",
       "        }}\n",
       "}});\n",
       "\n",
       "// Listen for the removal of the full notebook cells\n",
       "var notebookContainer = gd.closest('#notebook-container');\n",
       "if (notebookContainer) {{\n",
       "    x.observe(notebookContainer, {childList: true});\n",
       "}}\n",
       "\n",
       "// Listen for the clearing of the current output cell\n",
       "var outputEl = gd.closest('.output');\n",
       "if (outputEl) {{\n",
       "    x.observe(outputEl, {childList: true});\n",
       "}}\n",
       "\n",
       "                        })\n",
       "                };\n",
       "                });\n",
       "            </script>\n",
       "        </div>"
      ]
     },
     "metadata": {},
     "output_type": "display_data"
    }
   ],
   "source": [
    "#Para correr treemap de colores\n",
    "df = add_porcentual(df)\n",
    "path = ['Grupo','Clase', 'C_Porcentual']\n",
    "treemap_chart(df, path)"
   ]
  },
  {
   "cell_type": "code",
   "execution_count": 49,
   "metadata": {
    "scrolled": true
   },
   "outputs": [
    {
     "data": {
      "application/vnd.plotly.v1+json": {
       "config": {
        "plotlyServerURL": "https://plot.ly"
       },
       "data": [
        {
         "branchvalues": "total",
         "domain": {
          "x": [
           0,
           1
          ],
          "y": [
           0,
           1
          ]
         },
         "hovertemplate": "<b>%{label}",
         "ids": [
          "Precios que se mantendrán con una variación menor a 1%/Muebles y aparatos domésticos/Muebles/ Cambio Porcentual: -0.0011",
          "Precios que se mantendrán con una variación menor a 1%/Cuidado personal/Servicios para el cuidado personal/ Cambio Porcentual: -0.0025",
          "Precios que se mantendrán con una variación menor a 1%/Bebidas alcohólicas y tabaco/Bebidas alcohólicas/ Cambio Porcentual: -0.0032",
          "Precios que se mantendrán con una variación menor a 1%/Costo de uso de vivienda/Costo de uso de vivienda/ Cambio Porcentual: -0.0086",
          "Precios que bajaran más de 1%/Alimentos/Aceites y grasas comestibles/ Cambio Porcentual: -0.0129",
          "Precios que bajaran más de 1%/Muebles y aparatos domésticos/Aparatos/ Cambio Porcentual: -0.0237",
          "Precios que bajaran más de 1%/Transporte por cuenta propia/Adquisición de vehículos/ Cambio Porcentual: -0.0251",
          "Precios que bajaran más de 1%/Alimentos/Azúcar, café y refrescos envasados/ Cambio Porcentual: -0.0402",
          "Precios que bajaran más de 1%/Transporte público/Transporte público foráneo/ Cambio Porcentual: -0.0501",
          "Precios que bajaran más de 1%/Electricidad y combustibles/Electricidad y combustibles/ Cambio Porcentual: -0.0505",
          "Precios que se mantendrán con una variación menor a 1%/Otros servicios relacionados con la vivienda/Otros servicios relacionados con la vivienda/ Cambio Porcentual: 0.0",
          "Precios que se mantendrán con una variación menor a 1%/Alimentos/Pescados y mariscos/ Cambio Porcentual: 0.0",
          "Precios que se mantendrán con una variación menor a 1%/Salud/Servicios médicos/ Cambio Porcentual: 0.0",
          "Precios que se mantendrán con una variación menor a 1%/Bebidas alcohólicas y tabaco/Tabaco/ Cambio Porcentual: 0.0",
          "Precios que se mantendrán con una variación menor a 1%/Transporte público/Transporte público urbano/ Cambio Porcentual: 0.0",
          "Precios que se mantendrán con una variación menor a 1%/Alimentos/Frutas y hortalizas/ Cambio Porcentual: 0.0023",
          "Precios que se mantendrán con una variación menor a 1%/Salud/Medicamentos y aparatos/ Cambio Porcentual: 0.0068",
          "Precios que se mantendrán con una variación menor a 1%/Ropa/Ropa hombre/ Cambio Porcentual: 0.0075",
          "Precios que se mantendrán con una variación menor a 1%/Alimentos/Leche, derivados de leche y huevo/ Cambio Porcentual: 0.0077",
          "Precios que se mantendrán con una variación menor a 1%/Cuidado personal/Artículos para higiene y cuidado personal/ Cambio Porcentual: 0.01",
          "Precios que aumentarán más de 1%/Transporte por cuenta propia/Uso de vehículos/ Cambio Porcentual: 0.0116",
          "Precios que aumentarán más de 1%/Accesorios y artículos de limpieza para el hogar/Accesorios y utensilios/ Cambio Porcentual: 0.0133",
          "Precios que aumentarán más de 1%/Alimentos/Pan, tortillas y cereales/ Cambio Porcentual: 0.0147",
          "Precios que aumentarán más de 1%/Ropa/Ropa mujer/ Cambio Porcentual: 0.0149",
          "Precios que aumentarán más de 1%/Alimentos/Carnes/ Cambio Porcentual: 0.0153",
          "Precios que aumentarán más de 1%/Otros servicios/Otros servicios/ Cambio Porcentual: 0.0201",
          "Precios que aumentarán más de 1%/Ropa/Ropa para niños y bebés/ Cambio Porcentual: 0.0247",
          "Precios que aumentarán más de 1%/Calzado/Calzado/ Cambio Porcentual: 0.0268",
          "Precios que aumentarán más de 1%/Accesorios y artículos de limpieza para el hogar/Detergentes y productos similares/ Cambio Porcentual: 0.0289",
          "Precios que aumentarán más de 1%/Accesorios y cuidados del vestido/Cuidados del vestido y accesorios/ Cambio Porcentual: 0.03",
          "Precios que aumentarán más de 1%/Alimentos/Otros alimentos/ Cambio Porcentual: 0.0322",
          "Precios que aumentarán más de 1%/Ropa/Ropa de abrigo y uniformes escolares/ Cambio Porcentual: 0.0358",
          "Precios que aumentarán más de 1%/Accesorios y artículos de limpieza para el hogar/Accesorios y utensilios",
          "Precios que bajaran más de 1%/Alimentos/Aceites y grasas comestibles",
          "Precios que bajaran más de 1%/Transporte por cuenta propia/Adquisición de vehículos",
          "Precios que bajaran más de 1%/Muebles y aparatos domésticos/Aparatos",
          "Precios que se mantendrán con una variación menor a 1%/Cuidado personal/Artículos para higiene y cuidado personal",
          "Precios que bajaran más de 1%/Alimentos/Azúcar, café y refrescos envasados",
          "Precios que se mantendrán con una variación menor a 1%/Bebidas alcohólicas y tabaco/Bebidas alcohólicas",
          "Precios que aumentarán más de 1%/Calzado/Calzado",
          "Precios que aumentarán más de 1%/Alimentos/Carnes",
          "Precios que se mantendrán con una variación menor a 1%/Costo de uso de vivienda/Costo de uso de vivienda",
          "Precios que aumentarán más de 1%/Accesorios y cuidados del vestido/Cuidados del vestido y accesorios",
          "Precios que aumentarán más de 1%/Accesorios y artículos de limpieza para el hogar/Detergentes y productos similares",
          "Precios que bajaran más de 1%/Electricidad y combustibles/Electricidad y combustibles",
          "Precios que se mantendrán con una variación menor a 1%/Alimentos/Frutas y hortalizas",
          "Precios que se mantendrán con una variación menor a 1%/Alimentos/Leche, derivados de leche y huevo",
          "Precios que se mantendrán con una variación menor a 1%/Salud/Medicamentos y aparatos",
          "Precios que se mantendrán con una variación menor a 1%/Muebles y aparatos domésticos/Muebles",
          "Precios que aumentarán más de 1%/Alimentos/Otros alimentos",
          "Precios que aumentarán más de 1%/Otros servicios/Otros servicios",
          "Precios que se mantendrán con una variación menor a 1%/Otros servicios relacionados con la vivienda/Otros servicios relacionados con la vivienda",
          "Precios que aumentarán más de 1%/Alimentos/Pan, tortillas y cereales",
          "Precios que se mantendrán con una variación menor a 1%/Alimentos/Pescados y mariscos",
          "Precios que aumentarán más de 1%/Ropa/Ropa de abrigo y uniformes escolares",
          "Precios que se mantendrán con una variación menor a 1%/Ropa/Ropa hombre",
          "Precios que aumentarán más de 1%/Ropa/Ropa mujer",
          "Precios que aumentarán más de 1%/Ropa/Ropa para niños y bebés",
          "Precios que se mantendrán con una variación menor a 1%/Salud/Servicios médicos",
          "Precios que se mantendrán con una variación menor a 1%/Cuidado personal/Servicios para el cuidado personal",
          "Precios que se mantendrán con una variación menor a 1%/Bebidas alcohólicas y tabaco/Tabaco",
          "Precios que bajaran más de 1%/Transporte público/Transporte público foráneo",
          "Precios que se mantendrán con una variación menor a 1%/Transporte público/Transporte público urbano",
          "Precios que aumentarán más de 1%/Transporte por cuenta propia/Uso de vehículos",
          "Precios que aumentarán más de 1%/Accesorios y artículos de limpieza para el hogar",
          "Precios que aumentarán más de 1%/Accesorios y cuidados del vestido",
          "Precios que aumentarán más de 1%/Alimentos",
          "Precios que bajaran más de 1%/Alimentos",
          "Precios que se mantendrán con una variación menor a 1%/Alimentos",
          "Precios que se mantendrán con una variación menor a 1%/Bebidas alcohólicas y tabaco",
          "Precios que aumentarán más de 1%/Calzado",
          "Precios que se mantendrán con una variación menor a 1%/Costo de uso de vivienda",
          "Precios que se mantendrán con una variación menor a 1%/Cuidado personal",
          "Precios que bajaran más de 1%/Electricidad y combustibles",
          "Precios que bajaran más de 1%/Muebles y aparatos domésticos",
          "Precios que se mantendrán con una variación menor a 1%/Muebles y aparatos domésticos",
          "Precios que aumentarán más de 1%/Otros servicios",
          "Precios que se mantendrán con una variación menor a 1%/Otros servicios relacionados con la vivienda",
          "Precios que aumentarán más de 1%/Ropa",
          "Precios que se mantendrán con una variación menor a 1%/Ropa",
          "Precios que se mantendrán con una variación menor a 1%/Salud",
          "Precios que aumentarán más de 1%/Transporte por cuenta propia",
          "Precios que bajaran más de 1%/Transporte por cuenta propia",
          "Precios que bajaran más de 1%/Transporte público",
          "Precios que se mantendrán con una variación menor a 1%/Transporte público",
          "Precios que aumentarán más de 1%",
          "Precios que bajaran más de 1%",
          "Precios que se mantendrán con una variación menor a 1%"
         ],
         "labels": [
          " Cambio Porcentual: -0.0011",
          " Cambio Porcentual: -0.0025",
          " Cambio Porcentual: -0.0032",
          " Cambio Porcentual: -0.0086",
          " Cambio Porcentual: -0.0129",
          " Cambio Porcentual: -0.0237",
          " Cambio Porcentual: -0.0251",
          " Cambio Porcentual: -0.0402",
          " Cambio Porcentual: -0.0501",
          " Cambio Porcentual: -0.0505",
          " Cambio Porcentual: 0.0",
          " Cambio Porcentual: 0.0",
          " Cambio Porcentual: 0.0",
          " Cambio Porcentual: 0.0",
          " Cambio Porcentual: 0.0",
          " Cambio Porcentual: 0.0023",
          " Cambio Porcentual: 0.0068",
          " Cambio Porcentual: 0.0075",
          " Cambio Porcentual: 0.0077",
          " Cambio Porcentual: 0.01",
          " Cambio Porcentual: 0.0116",
          " Cambio Porcentual: 0.0133",
          " Cambio Porcentual: 0.0147",
          " Cambio Porcentual: 0.0149",
          " Cambio Porcentual: 0.0153",
          " Cambio Porcentual: 0.0201",
          " Cambio Porcentual: 0.0247",
          " Cambio Porcentual: 0.0268",
          " Cambio Porcentual: 0.0289",
          " Cambio Porcentual: 0.03",
          " Cambio Porcentual: 0.0322",
          " Cambio Porcentual: 0.0358",
          "Accesorios y utensilios",
          "Aceites y grasas comestibles",
          "Adquisición de vehículos",
          "Aparatos",
          "Artículos para higiene y cuidado personal",
          "Azúcar, café y refrescos envasados",
          "Bebidas alcohólicas",
          "Calzado",
          "Carnes",
          "Costo de uso de vivienda",
          "Cuidados del vestido y accesorios",
          "Detergentes y productos similares",
          "Electricidad y combustibles",
          "Frutas y hortalizas",
          "Leche, derivados de leche y huevo",
          "Medicamentos y aparatos",
          "Muebles",
          "Otros alimentos",
          "Otros servicios",
          "Otros servicios relacionados con la vivienda",
          "Pan, tortillas y cereales",
          "Pescados y mariscos",
          "Ropa de abrigo y uniformes escolares",
          "Ropa hombre",
          "Ropa mujer",
          "Ropa para niños y bebés",
          "Servicios médicos",
          "Servicios para el cuidado personal",
          "Tabaco",
          "Transporte público foráneo",
          "Transporte público urbano",
          "Uso de vehículos",
          "Accesorios y artículos de limpieza para el hogar",
          "Accesorios y cuidados del vestido",
          "Alimentos",
          "Alimentos",
          "Alimentos",
          "Bebidas alcohólicas y tabaco",
          "Calzado",
          "Costo de uso de vivienda",
          "Cuidado personal",
          "Electricidad y combustibles",
          "Muebles y aparatos domésticos",
          "Muebles y aparatos domésticos",
          "Otros servicios",
          "Otros servicios relacionados con la vivienda",
          "Ropa",
          "Ropa",
          "Salud",
          "Transporte por cuenta propia",
          "Transporte por cuenta propia",
          "Transporte público",
          "Transporte público",
          "Precios que aumentarán más de 1%",
          "Precios que bajaran más de 1%",
          "Precios que se mantendrán con una variación menor a 1%"
         ],
         "name": "",
         "parents": [
          "Precios que se mantendrán con una variación menor a 1%/Muebles y aparatos domésticos/Muebles",
          "Precios que se mantendrán con una variación menor a 1%/Cuidado personal/Servicios para el cuidado personal",
          "Precios que se mantendrán con una variación menor a 1%/Bebidas alcohólicas y tabaco/Bebidas alcohólicas",
          "Precios que se mantendrán con una variación menor a 1%/Costo de uso de vivienda/Costo de uso de vivienda",
          "Precios que bajaran más de 1%/Alimentos/Aceites y grasas comestibles",
          "Precios que bajaran más de 1%/Muebles y aparatos domésticos/Aparatos",
          "Precios que bajaran más de 1%/Transporte por cuenta propia/Adquisición de vehículos",
          "Precios que bajaran más de 1%/Alimentos/Azúcar, café y refrescos envasados",
          "Precios que bajaran más de 1%/Transporte público/Transporte público foráneo",
          "Precios que bajaran más de 1%/Electricidad y combustibles/Electricidad y combustibles",
          "Precios que se mantendrán con una variación menor a 1%/Otros servicios relacionados con la vivienda/Otros servicios relacionados con la vivienda",
          "Precios que se mantendrán con una variación menor a 1%/Alimentos/Pescados y mariscos",
          "Precios que se mantendrán con una variación menor a 1%/Salud/Servicios médicos",
          "Precios que se mantendrán con una variación menor a 1%/Bebidas alcohólicas y tabaco/Tabaco",
          "Precios que se mantendrán con una variación menor a 1%/Transporte público/Transporte público urbano",
          "Precios que se mantendrán con una variación menor a 1%/Alimentos/Frutas y hortalizas",
          "Precios que se mantendrán con una variación menor a 1%/Salud/Medicamentos y aparatos",
          "Precios que se mantendrán con una variación menor a 1%/Ropa/Ropa hombre",
          "Precios que se mantendrán con una variación menor a 1%/Alimentos/Leche, derivados de leche y huevo",
          "Precios que se mantendrán con una variación menor a 1%/Cuidado personal/Artículos para higiene y cuidado personal",
          "Precios que aumentarán más de 1%/Transporte por cuenta propia/Uso de vehículos",
          "Precios que aumentarán más de 1%/Accesorios y artículos de limpieza para el hogar/Accesorios y utensilios",
          "Precios que aumentarán más de 1%/Alimentos/Pan, tortillas y cereales",
          "Precios que aumentarán más de 1%/Ropa/Ropa mujer",
          "Precios que aumentarán más de 1%/Alimentos/Carnes",
          "Precios que aumentarán más de 1%/Otros servicios/Otros servicios",
          "Precios que aumentarán más de 1%/Ropa/Ropa para niños y bebés",
          "Precios que aumentarán más de 1%/Calzado/Calzado",
          "Precios que aumentarán más de 1%/Accesorios y artículos de limpieza para el hogar/Detergentes y productos similares",
          "Precios que aumentarán más de 1%/Accesorios y cuidados del vestido/Cuidados del vestido y accesorios",
          "Precios que aumentarán más de 1%/Alimentos/Otros alimentos",
          "Precios que aumentarán más de 1%/Ropa/Ropa de abrigo y uniformes escolares",
          "Precios que aumentarán más de 1%/Accesorios y artículos de limpieza para el hogar",
          "Precios que bajaran más de 1%/Alimentos",
          "Precios que bajaran más de 1%/Transporte por cuenta propia",
          "Precios que bajaran más de 1%/Muebles y aparatos domésticos",
          "Precios que se mantendrán con una variación menor a 1%/Cuidado personal",
          "Precios que bajaran más de 1%/Alimentos",
          "Precios que se mantendrán con una variación menor a 1%/Bebidas alcohólicas y tabaco",
          "Precios que aumentarán más de 1%/Calzado",
          "Precios que aumentarán más de 1%/Alimentos",
          "Precios que se mantendrán con una variación menor a 1%/Costo de uso de vivienda",
          "Precios que aumentarán más de 1%/Accesorios y cuidados del vestido",
          "Precios que aumentarán más de 1%/Accesorios y artículos de limpieza para el hogar",
          "Precios que bajaran más de 1%/Electricidad y combustibles",
          "Precios que se mantendrán con una variación menor a 1%/Alimentos",
          "Precios que se mantendrán con una variación menor a 1%/Alimentos",
          "Precios que se mantendrán con una variación menor a 1%/Salud",
          "Precios que se mantendrán con una variación menor a 1%/Muebles y aparatos domésticos",
          "Precios que aumentarán más de 1%/Alimentos",
          "Precios que aumentarán más de 1%/Otros servicios",
          "Precios que se mantendrán con una variación menor a 1%/Otros servicios relacionados con la vivienda",
          "Precios que aumentarán más de 1%/Alimentos",
          "Precios que se mantendrán con una variación menor a 1%/Alimentos",
          "Precios que aumentarán más de 1%/Ropa",
          "Precios que se mantendrán con una variación menor a 1%/Ropa",
          "Precios que aumentarán más de 1%/Ropa",
          "Precios que aumentarán más de 1%/Ropa",
          "Precios que se mantendrán con una variación menor a 1%/Salud",
          "Precios que se mantendrán con una variación menor a 1%/Cuidado personal",
          "Precios que se mantendrán con una variación menor a 1%/Bebidas alcohólicas y tabaco",
          "Precios que bajaran más de 1%/Transporte público",
          "Precios que se mantendrán con una variación menor a 1%/Transporte público",
          "Precios que aumentarán más de 1%/Transporte por cuenta propia",
          "Precios que aumentarán más de 1%",
          "Precios que aumentarán más de 1%",
          "Precios que aumentarán más de 1%",
          "Precios que bajaran más de 1%",
          "Precios que se mantendrán con una variación menor a 1%",
          "Precios que se mantendrán con una variación menor a 1%",
          "Precios que aumentarán más de 1%",
          "Precios que se mantendrán con una variación menor a 1%",
          "Precios que se mantendrán con una variación menor a 1%",
          "Precios que bajaran más de 1%",
          "Precios que bajaran más de 1%",
          "Precios que se mantendrán con una variación menor a 1%",
          "Precios que aumentarán más de 1%",
          "Precios que se mantendrán con una variación menor a 1%",
          "Precios que aumentarán más de 1%",
          "Precios que se mantendrán con una variación menor a 1%",
          "Precios que se mantendrán con una variación menor a 1%",
          "Precios que aumentarán más de 1%",
          "Precios que bajaran más de 1%",
          "Precios que bajaran más de 1%",
          "Precios que se mantendrán con una variación menor a 1%",
          "",
          "",
          ""
         ],
         "type": "treemap",
         "values": [
          1,
          1,
          1,
          1,
          1,
          1,
          1,
          1,
          1,
          1,
          1,
          1,
          1,
          1,
          1,
          1,
          1,
          1,
          1,
          1,
          1,
          1,
          1,
          1,
          1,
          1,
          1,
          1,
          1,
          1,
          1,
          1,
          1,
          1,
          1,
          1,
          1,
          1,
          1,
          1,
          1,
          1,
          1,
          1,
          1,
          1,
          1,
          1,
          1,
          1,
          1,
          1,
          1,
          1,
          1,
          1,
          1,
          1,
          1,
          1,
          1,
          1,
          1,
          1,
          2,
          1,
          3,
          2,
          3,
          2,
          1,
          1,
          2,
          1,
          1,
          1,
          1,
          1,
          3,
          1,
          2,
          1,
          1,
          1,
          1,
          12,
          6,
          14
         ]
        }
       ],
       "layout": {
        "legend": {
         "tracegroupgap": 0
        },
        "margin": {
         "t": 60
        },
        "template": {
         "data": {
          "bar": [
           {
            "error_x": {
             "color": "#2a3f5f"
            },
            "error_y": {
             "color": "#2a3f5f"
            },
            "marker": {
             "line": {
              "color": "#E5ECF6",
              "width": 0.5
             }
            },
            "type": "bar"
           }
          ],
          "barpolar": [
           {
            "marker": {
             "line": {
              "color": "#E5ECF6",
              "width": 0.5
             }
            },
            "type": "barpolar"
           }
          ],
          "carpet": [
           {
            "aaxis": {
             "endlinecolor": "#2a3f5f",
             "gridcolor": "white",
             "linecolor": "white",
             "minorgridcolor": "white",
             "startlinecolor": "#2a3f5f"
            },
            "baxis": {
             "endlinecolor": "#2a3f5f",
             "gridcolor": "white",
             "linecolor": "white",
             "minorgridcolor": "white",
             "startlinecolor": "#2a3f5f"
            },
            "type": "carpet"
           }
          ],
          "choropleth": [
           {
            "colorbar": {
             "outlinewidth": 0,
             "ticks": ""
            },
            "type": "choropleth"
           }
          ],
          "contour": [
           {
            "colorbar": {
             "outlinewidth": 0,
             "ticks": ""
            },
            "colorscale": [
             [
              0,
              "#0d0887"
             ],
             [
              0.1111111111111111,
              "#46039f"
             ],
             [
              0.2222222222222222,
              "#7201a8"
             ],
             [
              0.3333333333333333,
              "#9c179e"
             ],
             [
              0.4444444444444444,
              "#bd3786"
             ],
             [
              0.5555555555555556,
              "#d8576b"
             ],
             [
              0.6666666666666666,
              "#ed7953"
             ],
             [
              0.7777777777777778,
              "#fb9f3a"
             ],
             [
              0.8888888888888888,
              "#fdca26"
             ],
             [
              1,
              "#f0f921"
             ]
            ],
            "type": "contour"
           }
          ],
          "contourcarpet": [
           {
            "colorbar": {
             "outlinewidth": 0,
             "ticks": ""
            },
            "type": "contourcarpet"
           }
          ],
          "heatmap": [
           {
            "colorbar": {
             "outlinewidth": 0,
             "ticks": ""
            },
            "colorscale": [
             [
              0,
              "#0d0887"
             ],
             [
              0.1111111111111111,
              "#46039f"
             ],
             [
              0.2222222222222222,
              "#7201a8"
             ],
             [
              0.3333333333333333,
              "#9c179e"
             ],
             [
              0.4444444444444444,
              "#bd3786"
             ],
             [
              0.5555555555555556,
              "#d8576b"
             ],
             [
              0.6666666666666666,
              "#ed7953"
             ],
             [
              0.7777777777777778,
              "#fb9f3a"
             ],
             [
              0.8888888888888888,
              "#fdca26"
             ],
             [
              1,
              "#f0f921"
             ]
            ],
            "type": "heatmap"
           }
          ],
          "heatmapgl": [
           {
            "colorbar": {
             "outlinewidth": 0,
             "ticks": ""
            },
            "colorscale": [
             [
              0,
              "#0d0887"
             ],
             [
              0.1111111111111111,
              "#46039f"
             ],
             [
              0.2222222222222222,
              "#7201a8"
             ],
             [
              0.3333333333333333,
              "#9c179e"
             ],
             [
              0.4444444444444444,
              "#bd3786"
             ],
             [
              0.5555555555555556,
              "#d8576b"
             ],
             [
              0.6666666666666666,
              "#ed7953"
             ],
             [
              0.7777777777777778,
              "#fb9f3a"
             ],
             [
              0.8888888888888888,
              "#fdca26"
             ],
             [
              1,
              "#f0f921"
             ]
            ],
            "type": "heatmapgl"
           }
          ],
          "histogram": [
           {
            "marker": {
             "colorbar": {
              "outlinewidth": 0,
              "ticks": ""
             }
            },
            "type": "histogram"
           }
          ],
          "histogram2d": [
           {
            "colorbar": {
             "outlinewidth": 0,
             "ticks": ""
            },
            "colorscale": [
             [
              0,
              "#0d0887"
             ],
             [
              0.1111111111111111,
              "#46039f"
             ],
             [
              0.2222222222222222,
              "#7201a8"
             ],
             [
              0.3333333333333333,
              "#9c179e"
             ],
             [
              0.4444444444444444,
              "#bd3786"
             ],
             [
              0.5555555555555556,
              "#d8576b"
             ],
             [
              0.6666666666666666,
              "#ed7953"
             ],
             [
              0.7777777777777778,
              "#fb9f3a"
             ],
             [
              0.8888888888888888,
              "#fdca26"
             ],
             [
              1,
              "#f0f921"
             ]
            ],
            "type": "histogram2d"
           }
          ],
          "histogram2dcontour": [
           {
            "colorbar": {
             "outlinewidth": 0,
             "ticks": ""
            },
            "colorscale": [
             [
              0,
              "#0d0887"
             ],
             [
              0.1111111111111111,
              "#46039f"
             ],
             [
              0.2222222222222222,
              "#7201a8"
             ],
             [
              0.3333333333333333,
              "#9c179e"
             ],
             [
              0.4444444444444444,
              "#bd3786"
             ],
             [
              0.5555555555555556,
              "#d8576b"
             ],
             [
              0.6666666666666666,
              "#ed7953"
             ],
             [
              0.7777777777777778,
              "#fb9f3a"
             ],
             [
              0.8888888888888888,
              "#fdca26"
             ],
             [
              1,
              "#f0f921"
             ]
            ],
            "type": "histogram2dcontour"
           }
          ],
          "mesh3d": [
           {
            "colorbar": {
             "outlinewidth": 0,
             "ticks": ""
            },
            "type": "mesh3d"
           }
          ],
          "parcoords": [
           {
            "line": {
             "colorbar": {
              "outlinewidth": 0,
              "ticks": ""
             }
            },
            "type": "parcoords"
           }
          ],
          "pie": [
           {
            "automargin": true,
            "type": "pie"
           }
          ],
          "scatter": [
           {
            "marker": {
             "colorbar": {
              "outlinewidth": 0,
              "ticks": ""
             }
            },
            "type": "scatter"
           }
          ],
          "scatter3d": [
           {
            "line": {
             "colorbar": {
              "outlinewidth": 0,
              "ticks": ""
             }
            },
            "marker": {
             "colorbar": {
              "outlinewidth": 0,
              "ticks": ""
             }
            },
            "type": "scatter3d"
           }
          ],
          "scattercarpet": [
           {
            "marker": {
             "colorbar": {
              "outlinewidth": 0,
              "ticks": ""
             }
            },
            "type": "scattercarpet"
           }
          ],
          "scattergeo": [
           {
            "marker": {
             "colorbar": {
              "outlinewidth": 0,
              "ticks": ""
             }
            },
            "type": "scattergeo"
           }
          ],
          "scattergl": [
           {
            "marker": {
             "colorbar": {
              "outlinewidth": 0,
              "ticks": ""
             }
            },
            "type": "scattergl"
           }
          ],
          "scattermapbox": [
           {
            "marker": {
             "colorbar": {
              "outlinewidth": 0,
              "ticks": ""
             }
            },
            "type": "scattermapbox"
           }
          ],
          "scatterpolar": [
           {
            "marker": {
             "colorbar": {
              "outlinewidth": 0,
              "ticks": ""
             }
            },
            "type": "scatterpolar"
           }
          ],
          "scatterpolargl": [
           {
            "marker": {
             "colorbar": {
              "outlinewidth": 0,
              "ticks": ""
             }
            },
            "type": "scatterpolargl"
           }
          ],
          "scatterternary": [
           {
            "marker": {
             "colorbar": {
              "outlinewidth": 0,
              "ticks": ""
             }
            },
            "type": "scatterternary"
           }
          ],
          "surface": [
           {
            "colorbar": {
             "outlinewidth": 0,
             "ticks": ""
            },
            "colorscale": [
             [
              0,
              "#0d0887"
             ],
             [
              0.1111111111111111,
              "#46039f"
             ],
             [
              0.2222222222222222,
              "#7201a8"
             ],
             [
              0.3333333333333333,
              "#9c179e"
             ],
             [
              0.4444444444444444,
              "#bd3786"
             ],
             [
              0.5555555555555556,
              "#d8576b"
             ],
             [
              0.6666666666666666,
              "#ed7953"
             ],
             [
              0.7777777777777778,
              "#fb9f3a"
             ],
             [
              0.8888888888888888,
              "#fdca26"
             ],
             [
              1,
              "#f0f921"
             ]
            ],
            "type": "surface"
           }
          ],
          "table": [
           {
            "cells": {
             "fill": {
              "color": "#EBF0F8"
             },
             "line": {
              "color": "white"
             }
            },
            "header": {
             "fill": {
              "color": "#C8D4E3"
             },
             "line": {
              "color": "white"
             }
            },
            "type": "table"
           }
          ]
         },
         "layout": {
          "annotationdefaults": {
           "arrowcolor": "#2a3f5f",
           "arrowhead": 0,
           "arrowwidth": 1
          },
          "coloraxis": {
           "colorbar": {
            "outlinewidth": 0,
            "ticks": ""
           }
          },
          "colorscale": {
           "diverging": [
            [
             0,
             "#8e0152"
            ],
            [
             0.1,
             "#c51b7d"
            ],
            [
             0.2,
             "#de77ae"
            ],
            [
             0.3,
             "#f1b6da"
            ],
            [
             0.4,
             "#fde0ef"
            ],
            [
             0.5,
             "#f7f7f7"
            ],
            [
             0.6,
             "#e6f5d0"
            ],
            [
             0.7,
             "#b8e186"
            ],
            [
             0.8,
             "#7fbc41"
            ],
            [
             0.9,
             "#4d9221"
            ],
            [
             1,
             "#276419"
            ]
           ],
           "sequential": [
            [
             0,
             "#0d0887"
            ],
            [
             0.1111111111111111,
             "#46039f"
            ],
            [
             0.2222222222222222,
             "#7201a8"
            ],
            [
             0.3333333333333333,
             "#9c179e"
            ],
            [
             0.4444444444444444,
             "#bd3786"
            ],
            [
             0.5555555555555556,
             "#d8576b"
            ],
            [
             0.6666666666666666,
             "#ed7953"
            ],
            [
             0.7777777777777778,
             "#fb9f3a"
            ],
            [
             0.8888888888888888,
             "#fdca26"
            ],
            [
             1,
             "#f0f921"
            ]
           ],
           "sequentialminus": [
            [
             0,
             "#0d0887"
            ],
            [
             0.1111111111111111,
             "#46039f"
            ],
            [
             0.2222222222222222,
             "#7201a8"
            ],
            [
             0.3333333333333333,
             "#9c179e"
            ],
            [
             0.4444444444444444,
             "#bd3786"
            ],
            [
             0.5555555555555556,
             "#d8576b"
            ],
            [
             0.6666666666666666,
             "#ed7953"
            ],
            [
             0.7777777777777778,
             "#fb9f3a"
            ],
            [
             0.8888888888888888,
             "#fdca26"
            ],
            [
             1,
             "#f0f921"
            ]
           ]
          },
          "colorway": [
           "#636efa",
           "#EF553B",
           "#00cc96",
           "#ab63fa",
           "#FFA15A",
           "#19d3f3",
           "#FF6692",
           "#B6E880",
           "#FF97FF",
           "#FECB52"
          ],
          "font": {
           "color": "#2a3f5f"
          },
          "geo": {
           "bgcolor": "white",
           "lakecolor": "white",
           "landcolor": "#E5ECF6",
           "showlakes": true,
           "showland": true,
           "subunitcolor": "white"
          },
          "hoverlabel": {
           "align": "left"
          },
          "hovermode": "closest",
          "mapbox": {
           "style": "light"
          },
          "paper_bgcolor": "white",
          "plot_bgcolor": "#E5ECF6",
          "polar": {
           "angularaxis": {
            "gridcolor": "white",
            "linecolor": "white",
            "ticks": ""
           },
           "bgcolor": "#E5ECF6",
           "radialaxis": {
            "gridcolor": "white",
            "linecolor": "white",
            "ticks": ""
           }
          },
          "scene": {
           "xaxis": {
            "backgroundcolor": "#E5ECF6",
            "gridcolor": "white",
            "gridwidth": 2,
            "linecolor": "white",
            "showbackground": true,
            "ticks": "",
            "zerolinecolor": "white"
           },
           "yaxis": {
            "backgroundcolor": "#E5ECF6",
            "gridcolor": "white",
            "gridwidth": 2,
            "linecolor": "white",
            "showbackground": true,
            "ticks": "",
            "zerolinecolor": "white"
           },
           "zaxis": {
            "backgroundcolor": "#E5ECF6",
            "gridcolor": "white",
            "gridwidth": 2,
            "linecolor": "white",
            "showbackground": true,
            "ticks": "",
            "zerolinecolor": "white"
           }
          },
          "shapedefaults": {
           "line": {
            "color": "#2a3f5f"
           }
          },
          "ternary": {
           "aaxis": {
            "gridcolor": "white",
            "linecolor": "white",
            "ticks": ""
           },
           "baxis": {
            "gridcolor": "white",
            "linecolor": "white",
            "ticks": ""
           },
           "bgcolor": "#E5ECF6",
           "caxis": {
            "gridcolor": "white",
            "linecolor": "white",
            "ticks": ""
           }
          },
          "title": {
           "x": 0.05
          },
          "xaxis": {
           "automargin": true,
           "gridcolor": "white",
           "linecolor": "white",
           "ticks": "",
           "title": {
            "standoff": 15
           },
           "zerolinecolor": "white",
           "zerolinewidth": 2
          },
          "yaxis": {
           "automargin": true,
           "gridcolor": "white",
           "linecolor": "white",
           "ticks": "",
           "title": {
            "standoff": 15
           },
           "zerolinecolor": "white",
           "zerolinewidth": 2
          }
         }
        },
        "title": {
         "text": "Cambios Porcentuales en los precios por Grupo"
        },
        "treemapcolorway": [
         "yellow",
         "green",
         "red"
        ]
       }
      },
      "text/html": [
       "<div>\n",
       "        \n",
       "        \n",
       "            <div id=\"fe2f12ce-0b89-46eb-9261-49e257cfc32e\" class=\"plotly-graph-div\" style=\"height:525px; width:100%;\"></div>\n",
       "            <script type=\"text/javascript\">\n",
       "                require([\"plotly\"], function(Plotly) {\n",
       "                    window.PLOTLYENV=window.PLOTLYENV || {};\n",
       "                    \n",
       "                if (document.getElementById(\"fe2f12ce-0b89-46eb-9261-49e257cfc32e\")) {\n",
       "                    Plotly.newPlot(\n",
       "                        'fe2f12ce-0b89-46eb-9261-49e257cfc32e',\n",
       "                        [{\"branchvalues\": \"total\", \"domain\": {\"x\": [0.0, 1.0], \"y\": [0.0, 1.0]}, \"hovertemplate\": \"<b>%{label}\", \"ids\": [\"Precios que se mantendr\\u00e1n con una variaci\\u00f3n menor a 1%/Muebles y aparatos dom\\u00e9sticos/Muebles/ Cambio Porcentual: -0.0011\", \"Precios que se mantendr\\u00e1n con una variaci\\u00f3n menor a 1%/Cuidado personal/Servicios para el cuidado personal/ Cambio Porcentual: -0.0025\", \"Precios que se mantendr\\u00e1n con una variaci\\u00f3n menor a 1%/Bebidas alcoh\\u00f3licas y tabaco/Bebidas alcoh\\u00f3licas/ Cambio Porcentual: -0.0032\", \"Precios que se mantendr\\u00e1n con una variaci\\u00f3n menor a 1%/Costo de uso de vivienda/Costo de uso de vivienda/ Cambio Porcentual: -0.0086\", \"Precios que bajaran m\\u00e1s de 1%/Alimentos/Aceites y grasas comestibles/ Cambio Porcentual: -0.0129\", \"Precios que bajaran m\\u00e1s de 1%/Muebles y aparatos dom\\u00e9sticos/Aparatos/ Cambio Porcentual: -0.0237\", \"Precios que bajaran m\\u00e1s de 1%/Transporte por cuenta propia/Adquisici\\u00f3n de veh\\u00edculos/ Cambio Porcentual: -0.0251\", \"Precios que bajaran m\\u00e1s de 1%/Alimentos/Az\\u00facar, caf\\u00e9 y refrescos envasados/ Cambio Porcentual: -0.0402\", \"Precios que bajaran m\\u00e1s de 1%/Transporte p\\u00fablico/Transporte p\\u00fablico for\\u00e1neo/ Cambio Porcentual: -0.0501\", \"Precios que bajaran m\\u00e1s de 1%/Electricidad y combustibles/Electricidad y combustibles/ Cambio Porcentual: -0.0505\", \"Precios que se mantendr\\u00e1n con una variaci\\u00f3n menor a 1%/Otros servicios relacionados con la vivienda/Otros servicios relacionados con la vivienda/ Cambio Porcentual: 0.0\", \"Precios que se mantendr\\u00e1n con una variaci\\u00f3n menor a 1%/Alimentos/Pescados y mariscos/ Cambio Porcentual: 0.0\", \"Precios que se mantendr\\u00e1n con una variaci\\u00f3n menor a 1%/Salud/Servicios m\\u00e9dicos/ Cambio Porcentual: 0.0\", \"Precios que se mantendr\\u00e1n con una variaci\\u00f3n menor a 1%/Bebidas alcoh\\u00f3licas y tabaco/Tabaco/ Cambio Porcentual: 0.0\", \"Precios que se mantendr\\u00e1n con una variaci\\u00f3n menor a 1%/Transporte p\\u00fablico/Transporte p\\u00fablico urbano/ Cambio Porcentual: 0.0\", \"Precios que se mantendr\\u00e1n con una variaci\\u00f3n menor a 1%/Alimentos/Frutas y hortalizas/ Cambio Porcentual: 0.0023\", \"Precios que se mantendr\\u00e1n con una variaci\\u00f3n menor a 1%/Salud/Medicamentos y aparatos/ Cambio Porcentual: 0.0068\", \"Precios que se mantendr\\u00e1n con una variaci\\u00f3n menor a 1%/Ropa/Ropa hombre/ Cambio Porcentual: 0.0075\", \"Precios que se mantendr\\u00e1n con una variaci\\u00f3n menor a 1%/Alimentos/Leche, derivados de leche y huevo/ Cambio Porcentual: 0.0077\", \"Precios que se mantendr\\u00e1n con una variaci\\u00f3n menor a 1%/Cuidado personal/Art\\u00edculos para higiene y cuidado personal/ Cambio Porcentual: 0.01\", \"Precios que aumentar\\u00e1n m\\u00e1s de 1%/Transporte por cuenta propia/Uso de veh\\u00edculos/ Cambio Porcentual: 0.0116\", \"Precios que aumentar\\u00e1n m\\u00e1s de 1%/Accesorios y art\\u00edculos de limpieza para el hogar/Accesorios y utensilios/ Cambio Porcentual: 0.0133\", \"Precios que aumentar\\u00e1n m\\u00e1s de 1%/Alimentos/Pan, tortillas y cereales/ Cambio Porcentual: 0.0147\", \"Precios que aumentar\\u00e1n m\\u00e1s de 1%/Ropa/Ropa mujer/ Cambio Porcentual: 0.0149\", \"Precios que aumentar\\u00e1n m\\u00e1s de 1%/Alimentos/Carnes/ Cambio Porcentual: 0.0153\", \"Precios que aumentar\\u00e1n m\\u00e1s de 1%/Otros servicios/Otros servicios/ Cambio Porcentual: 0.0201\", \"Precios que aumentar\\u00e1n m\\u00e1s de 1%/Ropa/Ropa para ni\\u00f1os y beb\\u00e9s/ Cambio Porcentual: 0.0247\", \"Precios que aumentar\\u00e1n m\\u00e1s de 1%/Calzado/Calzado/ Cambio Porcentual: 0.0268\", \"Precios que aumentar\\u00e1n m\\u00e1s de 1%/Accesorios y art\\u00edculos de limpieza para el hogar/Detergentes y productos similares/ Cambio Porcentual: 0.0289\", \"Precios que aumentar\\u00e1n m\\u00e1s de 1%/Accesorios y cuidados del vestido/Cuidados del vestido y accesorios/ Cambio Porcentual: 0.03\", \"Precios que aumentar\\u00e1n m\\u00e1s de 1%/Alimentos/Otros alimentos/ Cambio Porcentual: 0.0322\", \"Precios que aumentar\\u00e1n m\\u00e1s de 1%/Ropa/Ropa de abrigo y uniformes escolares/ Cambio Porcentual: 0.0358\", \"Precios que aumentar\\u00e1n m\\u00e1s de 1%/Accesorios y art\\u00edculos de limpieza para el hogar/Accesorios y utensilios\", \"Precios que bajaran m\\u00e1s de 1%/Alimentos/Aceites y grasas comestibles\", \"Precios que bajaran m\\u00e1s de 1%/Transporte por cuenta propia/Adquisici\\u00f3n de veh\\u00edculos\", \"Precios que bajaran m\\u00e1s de 1%/Muebles y aparatos dom\\u00e9sticos/Aparatos\", \"Precios que se mantendr\\u00e1n con una variaci\\u00f3n menor a 1%/Cuidado personal/Art\\u00edculos para higiene y cuidado personal\", \"Precios que bajaran m\\u00e1s de 1%/Alimentos/Az\\u00facar, caf\\u00e9 y refrescos envasados\", \"Precios que se mantendr\\u00e1n con una variaci\\u00f3n menor a 1%/Bebidas alcoh\\u00f3licas y tabaco/Bebidas alcoh\\u00f3licas\", \"Precios que aumentar\\u00e1n m\\u00e1s de 1%/Calzado/Calzado\", \"Precios que aumentar\\u00e1n m\\u00e1s de 1%/Alimentos/Carnes\", \"Precios que se mantendr\\u00e1n con una variaci\\u00f3n menor a 1%/Costo de uso de vivienda/Costo de uso de vivienda\", \"Precios que aumentar\\u00e1n m\\u00e1s de 1%/Accesorios y cuidados del vestido/Cuidados del vestido y accesorios\", \"Precios que aumentar\\u00e1n m\\u00e1s de 1%/Accesorios y art\\u00edculos de limpieza para el hogar/Detergentes y productos similares\", \"Precios que bajaran m\\u00e1s de 1%/Electricidad y combustibles/Electricidad y combustibles\", \"Precios que se mantendr\\u00e1n con una variaci\\u00f3n menor a 1%/Alimentos/Frutas y hortalizas\", \"Precios que se mantendr\\u00e1n con una variaci\\u00f3n menor a 1%/Alimentos/Leche, derivados de leche y huevo\", \"Precios que se mantendr\\u00e1n con una variaci\\u00f3n menor a 1%/Salud/Medicamentos y aparatos\", \"Precios que se mantendr\\u00e1n con una variaci\\u00f3n menor a 1%/Muebles y aparatos dom\\u00e9sticos/Muebles\", \"Precios que aumentar\\u00e1n m\\u00e1s de 1%/Alimentos/Otros alimentos\", \"Precios que aumentar\\u00e1n m\\u00e1s de 1%/Otros servicios/Otros servicios\", \"Precios que se mantendr\\u00e1n con una variaci\\u00f3n menor a 1%/Otros servicios relacionados con la vivienda/Otros servicios relacionados con la vivienda\", \"Precios que aumentar\\u00e1n m\\u00e1s de 1%/Alimentos/Pan, tortillas y cereales\", \"Precios que se mantendr\\u00e1n con una variaci\\u00f3n menor a 1%/Alimentos/Pescados y mariscos\", \"Precios que aumentar\\u00e1n m\\u00e1s de 1%/Ropa/Ropa de abrigo y uniformes escolares\", \"Precios que se mantendr\\u00e1n con una variaci\\u00f3n menor a 1%/Ropa/Ropa hombre\", \"Precios que aumentar\\u00e1n m\\u00e1s de 1%/Ropa/Ropa mujer\", \"Precios que aumentar\\u00e1n m\\u00e1s de 1%/Ropa/Ropa para ni\\u00f1os y beb\\u00e9s\", \"Precios que se mantendr\\u00e1n con una variaci\\u00f3n menor a 1%/Salud/Servicios m\\u00e9dicos\", \"Precios que se mantendr\\u00e1n con una variaci\\u00f3n menor a 1%/Cuidado personal/Servicios para el cuidado personal\", \"Precios que se mantendr\\u00e1n con una variaci\\u00f3n menor a 1%/Bebidas alcoh\\u00f3licas y tabaco/Tabaco\", \"Precios que bajaran m\\u00e1s de 1%/Transporte p\\u00fablico/Transporte p\\u00fablico for\\u00e1neo\", \"Precios que se mantendr\\u00e1n con una variaci\\u00f3n menor a 1%/Transporte p\\u00fablico/Transporte p\\u00fablico urbano\", \"Precios que aumentar\\u00e1n m\\u00e1s de 1%/Transporte por cuenta propia/Uso de veh\\u00edculos\", \"Precios que aumentar\\u00e1n m\\u00e1s de 1%/Accesorios y art\\u00edculos de limpieza para el hogar\", \"Precios que aumentar\\u00e1n m\\u00e1s de 1%/Accesorios y cuidados del vestido\", \"Precios que aumentar\\u00e1n m\\u00e1s de 1%/Alimentos\", \"Precios que bajaran m\\u00e1s de 1%/Alimentos\", \"Precios que se mantendr\\u00e1n con una variaci\\u00f3n menor a 1%/Alimentos\", \"Precios que se mantendr\\u00e1n con una variaci\\u00f3n menor a 1%/Bebidas alcoh\\u00f3licas y tabaco\", \"Precios que aumentar\\u00e1n m\\u00e1s de 1%/Calzado\", \"Precios que se mantendr\\u00e1n con una variaci\\u00f3n menor a 1%/Costo de uso de vivienda\", \"Precios que se mantendr\\u00e1n con una variaci\\u00f3n menor a 1%/Cuidado personal\", \"Precios que bajaran m\\u00e1s de 1%/Electricidad y combustibles\", \"Precios que bajaran m\\u00e1s de 1%/Muebles y aparatos dom\\u00e9sticos\", \"Precios que se mantendr\\u00e1n con una variaci\\u00f3n menor a 1%/Muebles y aparatos dom\\u00e9sticos\", \"Precios que aumentar\\u00e1n m\\u00e1s de 1%/Otros servicios\", \"Precios que se mantendr\\u00e1n con una variaci\\u00f3n menor a 1%/Otros servicios relacionados con la vivienda\", \"Precios que aumentar\\u00e1n m\\u00e1s de 1%/Ropa\", \"Precios que se mantendr\\u00e1n con una variaci\\u00f3n menor a 1%/Ropa\", \"Precios que se mantendr\\u00e1n con una variaci\\u00f3n menor a 1%/Salud\", \"Precios que aumentar\\u00e1n m\\u00e1s de 1%/Transporte por cuenta propia\", \"Precios que bajaran m\\u00e1s de 1%/Transporte por cuenta propia\", \"Precios que bajaran m\\u00e1s de 1%/Transporte p\\u00fablico\", \"Precios que se mantendr\\u00e1n con una variaci\\u00f3n menor a 1%/Transporte p\\u00fablico\", \"Precios que aumentar\\u00e1n m\\u00e1s de 1%\", \"Precios que bajaran m\\u00e1s de 1%\", \"Precios que se mantendr\\u00e1n con una variaci\\u00f3n menor a 1%\"], \"labels\": [\" Cambio Porcentual: -0.0011\", \" Cambio Porcentual: -0.0025\", \" Cambio Porcentual: -0.0032\", \" Cambio Porcentual: -0.0086\", \" Cambio Porcentual: -0.0129\", \" Cambio Porcentual: -0.0237\", \" Cambio Porcentual: -0.0251\", \" Cambio Porcentual: -0.0402\", \" Cambio Porcentual: -0.0501\", \" Cambio Porcentual: -0.0505\", \" Cambio Porcentual: 0.0\", \" Cambio Porcentual: 0.0\", \" Cambio Porcentual: 0.0\", \" Cambio Porcentual: 0.0\", \" Cambio Porcentual: 0.0\", \" Cambio Porcentual: 0.0023\", \" Cambio Porcentual: 0.0068\", \" Cambio Porcentual: 0.0075\", \" Cambio Porcentual: 0.0077\", \" Cambio Porcentual: 0.01\", \" Cambio Porcentual: 0.0116\", \" Cambio Porcentual: 0.0133\", \" Cambio Porcentual: 0.0147\", \" Cambio Porcentual: 0.0149\", \" Cambio Porcentual: 0.0153\", \" Cambio Porcentual: 0.0201\", \" Cambio Porcentual: 0.0247\", \" Cambio Porcentual: 0.0268\", \" Cambio Porcentual: 0.0289\", \" Cambio Porcentual: 0.03\", \" Cambio Porcentual: 0.0322\", \" Cambio Porcentual: 0.0358\", \"Accesorios y utensilios\", \"Aceites y grasas comestibles\", \"Adquisici\\u00f3n de veh\\u00edculos\", \"Aparatos\", \"Art\\u00edculos para higiene y cuidado personal\", \"Az\\u00facar, caf\\u00e9 y refrescos envasados\", \"Bebidas alcoh\\u00f3licas\", \"Calzado\", \"Carnes\", \"Costo de uso de vivienda\", \"Cuidados del vestido y accesorios\", \"Detergentes y productos similares\", \"Electricidad y combustibles\", \"Frutas y hortalizas\", \"Leche, derivados de leche y huevo\", \"Medicamentos y aparatos\", \"Muebles\", \"Otros alimentos\", \"Otros servicios\", \"Otros servicios relacionados con la vivienda\", \"Pan, tortillas y cereales\", \"Pescados y mariscos\", \"Ropa de abrigo y uniformes escolares\", \"Ropa hombre\", \"Ropa mujer\", \"Ropa para ni\\u00f1os y beb\\u00e9s\", \"Servicios m\\u00e9dicos\", \"Servicios para el cuidado personal\", \"Tabaco\", \"Transporte p\\u00fablico for\\u00e1neo\", \"Transporte p\\u00fablico urbano\", \"Uso de veh\\u00edculos\", \"Accesorios y art\\u00edculos de limpieza para el hogar\", \"Accesorios y cuidados del vestido\", \"Alimentos\", \"Alimentos\", \"Alimentos\", \"Bebidas alcoh\\u00f3licas y tabaco\", \"Calzado\", \"Costo de uso de vivienda\", \"Cuidado personal\", \"Electricidad y combustibles\", \"Muebles y aparatos dom\\u00e9sticos\", \"Muebles y aparatos dom\\u00e9sticos\", \"Otros servicios\", \"Otros servicios relacionados con la vivienda\", \"Ropa\", \"Ropa\", \"Salud\", \"Transporte por cuenta propia\", \"Transporte por cuenta propia\", \"Transporte p\\u00fablico\", \"Transporte p\\u00fablico\", \"Precios que aumentar\\u00e1n m\\u00e1s de 1%\", \"Precios que bajaran m\\u00e1s de 1%\", \"Precios que se mantendr\\u00e1n con una variaci\\u00f3n menor a 1%\"], \"name\": \"\", \"parents\": [\"Precios que se mantendr\\u00e1n con una variaci\\u00f3n menor a 1%/Muebles y aparatos dom\\u00e9sticos/Muebles\", \"Precios que se mantendr\\u00e1n con una variaci\\u00f3n menor a 1%/Cuidado personal/Servicios para el cuidado personal\", \"Precios que se mantendr\\u00e1n con una variaci\\u00f3n menor a 1%/Bebidas alcoh\\u00f3licas y tabaco/Bebidas alcoh\\u00f3licas\", \"Precios que se mantendr\\u00e1n con una variaci\\u00f3n menor a 1%/Costo de uso de vivienda/Costo de uso de vivienda\", \"Precios que bajaran m\\u00e1s de 1%/Alimentos/Aceites y grasas comestibles\", \"Precios que bajaran m\\u00e1s de 1%/Muebles y aparatos dom\\u00e9sticos/Aparatos\", \"Precios que bajaran m\\u00e1s de 1%/Transporte por cuenta propia/Adquisici\\u00f3n de veh\\u00edculos\", \"Precios que bajaran m\\u00e1s de 1%/Alimentos/Az\\u00facar, caf\\u00e9 y refrescos envasados\", \"Precios que bajaran m\\u00e1s de 1%/Transporte p\\u00fablico/Transporte p\\u00fablico for\\u00e1neo\", \"Precios que bajaran m\\u00e1s de 1%/Electricidad y combustibles/Electricidad y combustibles\", \"Precios que se mantendr\\u00e1n con una variaci\\u00f3n menor a 1%/Otros servicios relacionados con la vivienda/Otros servicios relacionados con la vivienda\", \"Precios que se mantendr\\u00e1n con una variaci\\u00f3n menor a 1%/Alimentos/Pescados y mariscos\", \"Precios que se mantendr\\u00e1n con una variaci\\u00f3n menor a 1%/Salud/Servicios m\\u00e9dicos\", \"Precios que se mantendr\\u00e1n con una variaci\\u00f3n menor a 1%/Bebidas alcoh\\u00f3licas y tabaco/Tabaco\", \"Precios que se mantendr\\u00e1n con una variaci\\u00f3n menor a 1%/Transporte p\\u00fablico/Transporte p\\u00fablico urbano\", \"Precios que se mantendr\\u00e1n con una variaci\\u00f3n menor a 1%/Alimentos/Frutas y hortalizas\", \"Precios que se mantendr\\u00e1n con una variaci\\u00f3n menor a 1%/Salud/Medicamentos y aparatos\", \"Precios que se mantendr\\u00e1n con una variaci\\u00f3n menor a 1%/Ropa/Ropa hombre\", \"Precios que se mantendr\\u00e1n con una variaci\\u00f3n menor a 1%/Alimentos/Leche, derivados de leche y huevo\", \"Precios que se mantendr\\u00e1n con una variaci\\u00f3n menor a 1%/Cuidado personal/Art\\u00edculos para higiene y cuidado personal\", \"Precios que aumentar\\u00e1n m\\u00e1s de 1%/Transporte por cuenta propia/Uso de veh\\u00edculos\", \"Precios que aumentar\\u00e1n m\\u00e1s de 1%/Accesorios y art\\u00edculos de limpieza para el hogar/Accesorios y utensilios\", \"Precios que aumentar\\u00e1n m\\u00e1s de 1%/Alimentos/Pan, tortillas y cereales\", \"Precios que aumentar\\u00e1n m\\u00e1s de 1%/Ropa/Ropa mujer\", \"Precios que aumentar\\u00e1n m\\u00e1s de 1%/Alimentos/Carnes\", \"Precios que aumentar\\u00e1n m\\u00e1s de 1%/Otros servicios/Otros servicios\", \"Precios que aumentar\\u00e1n m\\u00e1s de 1%/Ropa/Ropa para ni\\u00f1os y beb\\u00e9s\", \"Precios que aumentar\\u00e1n m\\u00e1s de 1%/Calzado/Calzado\", \"Precios que aumentar\\u00e1n m\\u00e1s de 1%/Accesorios y art\\u00edculos de limpieza para el hogar/Detergentes y productos similares\", \"Precios que aumentar\\u00e1n m\\u00e1s de 1%/Accesorios y cuidados del vestido/Cuidados del vestido y accesorios\", \"Precios que aumentar\\u00e1n m\\u00e1s de 1%/Alimentos/Otros alimentos\", \"Precios que aumentar\\u00e1n m\\u00e1s de 1%/Ropa/Ropa de abrigo y uniformes escolares\", \"Precios que aumentar\\u00e1n m\\u00e1s de 1%/Accesorios y art\\u00edculos de limpieza para el hogar\", \"Precios que bajaran m\\u00e1s de 1%/Alimentos\", \"Precios que bajaran m\\u00e1s de 1%/Transporte por cuenta propia\", \"Precios que bajaran m\\u00e1s de 1%/Muebles y aparatos dom\\u00e9sticos\", \"Precios que se mantendr\\u00e1n con una variaci\\u00f3n menor a 1%/Cuidado personal\", \"Precios que bajaran m\\u00e1s de 1%/Alimentos\", \"Precios que se mantendr\\u00e1n con una variaci\\u00f3n menor a 1%/Bebidas alcoh\\u00f3licas y tabaco\", \"Precios que aumentar\\u00e1n m\\u00e1s de 1%/Calzado\", \"Precios que aumentar\\u00e1n m\\u00e1s de 1%/Alimentos\", \"Precios que se mantendr\\u00e1n con una variaci\\u00f3n menor a 1%/Costo de uso de vivienda\", \"Precios que aumentar\\u00e1n m\\u00e1s de 1%/Accesorios y cuidados del vestido\", \"Precios que aumentar\\u00e1n m\\u00e1s de 1%/Accesorios y art\\u00edculos de limpieza para el hogar\", \"Precios que bajaran m\\u00e1s de 1%/Electricidad y combustibles\", \"Precios que se mantendr\\u00e1n con una variaci\\u00f3n menor a 1%/Alimentos\", \"Precios que se mantendr\\u00e1n con una variaci\\u00f3n menor a 1%/Alimentos\", \"Precios que se mantendr\\u00e1n con una variaci\\u00f3n menor a 1%/Salud\", \"Precios que se mantendr\\u00e1n con una variaci\\u00f3n menor a 1%/Muebles y aparatos dom\\u00e9sticos\", \"Precios que aumentar\\u00e1n m\\u00e1s de 1%/Alimentos\", \"Precios que aumentar\\u00e1n m\\u00e1s de 1%/Otros servicios\", \"Precios que se mantendr\\u00e1n con una variaci\\u00f3n menor a 1%/Otros servicios relacionados con la vivienda\", \"Precios que aumentar\\u00e1n m\\u00e1s de 1%/Alimentos\", \"Precios que se mantendr\\u00e1n con una variaci\\u00f3n menor a 1%/Alimentos\", \"Precios que aumentar\\u00e1n m\\u00e1s de 1%/Ropa\", \"Precios que se mantendr\\u00e1n con una variaci\\u00f3n menor a 1%/Ropa\", \"Precios que aumentar\\u00e1n m\\u00e1s de 1%/Ropa\", \"Precios que aumentar\\u00e1n m\\u00e1s de 1%/Ropa\", \"Precios que se mantendr\\u00e1n con una variaci\\u00f3n menor a 1%/Salud\", \"Precios que se mantendr\\u00e1n con una variaci\\u00f3n menor a 1%/Cuidado personal\", \"Precios que se mantendr\\u00e1n con una variaci\\u00f3n menor a 1%/Bebidas alcoh\\u00f3licas y tabaco\", \"Precios que bajaran m\\u00e1s de 1%/Transporte p\\u00fablico\", \"Precios que se mantendr\\u00e1n con una variaci\\u00f3n menor a 1%/Transporte p\\u00fablico\", \"Precios que aumentar\\u00e1n m\\u00e1s de 1%/Transporte por cuenta propia\", \"Precios que aumentar\\u00e1n m\\u00e1s de 1%\", \"Precios que aumentar\\u00e1n m\\u00e1s de 1%\", \"Precios que aumentar\\u00e1n m\\u00e1s de 1%\", \"Precios que bajaran m\\u00e1s de 1%\", \"Precios que se mantendr\\u00e1n con una variaci\\u00f3n menor a 1%\", \"Precios que se mantendr\\u00e1n con una variaci\\u00f3n menor a 1%\", \"Precios que aumentar\\u00e1n m\\u00e1s de 1%\", \"Precios que se mantendr\\u00e1n con una variaci\\u00f3n menor a 1%\", \"Precios que se mantendr\\u00e1n con una variaci\\u00f3n menor a 1%\", \"Precios que bajaran m\\u00e1s de 1%\", \"Precios que bajaran m\\u00e1s de 1%\", \"Precios que se mantendr\\u00e1n con una variaci\\u00f3n menor a 1%\", \"Precios que aumentar\\u00e1n m\\u00e1s de 1%\", \"Precios que se mantendr\\u00e1n con una variaci\\u00f3n menor a 1%\", \"Precios que aumentar\\u00e1n m\\u00e1s de 1%\", \"Precios que se mantendr\\u00e1n con una variaci\\u00f3n menor a 1%\", \"Precios que se mantendr\\u00e1n con una variaci\\u00f3n menor a 1%\", \"Precios que aumentar\\u00e1n m\\u00e1s de 1%\", \"Precios que bajaran m\\u00e1s de 1%\", \"Precios que bajaran m\\u00e1s de 1%\", \"Precios que se mantendr\\u00e1n con una variaci\\u00f3n menor a 1%\", \"\", \"\", \"\"], \"type\": \"treemap\", \"values\": [1, 1, 1, 1, 1, 1, 1, 1, 1, 1, 1, 1, 1, 1, 1, 1, 1, 1, 1, 1, 1, 1, 1, 1, 1, 1, 1, 1, 1, 1, 1, 1, 1, 1, 1, 1, 1, 1, 1, 1, 1, 1, 1, 1, 1, 1, 1, 1, 1, 1, 1, 1, 1, 1, 1, 1, 1, 1, 1, 1, 1, 1, 1, 1, 2, 1, 3, 2, 3, 2, 1, 1, 2, 1, 1, 1, 1, 1, 3, 1, 2, 1, 1, 1, 1, 12, 6, 14]}],\n",
       "                        {\"legend\": {\"tracegroupgap\": 0}, \"margin\": {\"t\": 60}, \"template\": {\"data\": {\"bar\": [{\"error_x\": {\"color\": \"#2a3f5f\"}, \"error_y\": {\"color\": \"#2a3f5f\"}, \"marker\": {\"line\": {\"color\": \"#E5ECF6\", \"width\": 0.5}}, \"type\": \"bar\"}], \"barpolar\": [{\"marker\": {\"line\": {\"color\": \"#E5ECF6\", \"width\": 0.5}}, \"type\": \"barpolar\"}], \"carpet\": [{\"aaxis\": {\"endlinecolor\": \"#2a3f5f\", \"gridcolor\": \"white\", \"linecolor\": \"white\", \"minorgridcolor\": \"white\", \"startlinecolor\": \"#2a3f5f\"}, \"baxis\": {\"endlinecolor\": \"#2a3f5f\", \"gridcolor\": \"white\", \"linecolor\": \"white\", \"minorgridcolor\": \"white\", \"startlinecolor\": \"#2a3f5f\"}, \"type\": \"carpet\"}], \"choropleth\": [{\"colorbar\": {\"outlinewidth\": 0, \"ticks\": \"\"}, \"type\": \"choropleth\"}], \"contour\": [{\"colorbar\": {\"outlinewidth\": 0, \"ticks\": \"\"}, \"colorscale\": [[0.0, \"#0d0887\"], [0.1111111111111111, \"#46039f\"], [0.2222222222222222, \"#7201a8\"], [0.3333333333333333, \"#9c179e\"], [0.4444444444444444, \"#bd3786\"], [0.5555555555555556, \"#d8576b\"], [0.6666666666666666, \"#ed7953\"], [0.7777777777777778, \"#fb9f3a\"], [0.8888888888888888, \"#fdca26\"], [1.0, \"#f0f921\"]], \"type\": \"contour\"}], \"contourcarpet\": [{\"colorbar\": {\"outlinewidth\": 0, \"ticks\": \"\"}, \"type\": \"contourcarpet\"}], \"heatmap\": [{\"colorbar\": {\"outlinewidth\": 0, \"ticks\": \"\"}, \"colorscale\": [[0.0, \"#0d0887\"], [0.1111111111111111, \"#46039f\"], [0.2222222222222222, \"#7201a8\"], [0.3333333333333333, \"#9c179e\"], [0.4444444444444444, \"#bd3786\"], [0.5555555555555556, \"#d8576b\"], [0.6666666666666666, \"#ed7953\"], [0.7777777777777778, \"#fb9f3a\"], [0.8888888888888888, \"#fdca26\"], [1.0, \"#f0f921\"]], \"type\": \"heatmap\"}], \"heatmapgl\": [{\"colorbar\": {\"outlinewidth\": 0, \"ticks\": \"\"}, \"colorscale\": [[0.0, \"#0d0887\"], [0.1111111111111111, \"#46039f\"], [0.2222222222222222, \"#7201a8\"], [0.3333333333333333, \"#9c179e\"], [0.4444444444444444, \"#bd3786\"], [0.5555555555555556, \"#d8576b\"], [0.6666666666666666, \"#ed7953\"], [0.7777777777777778, \"#fb9f3a\"], [0.8888888888888888, \"#fdca26\"], [1.0, \"#f0f921\"]], \"type\": \"heatmapgl\"}], \"histogram\": [{\"marker\": {\"colorbar\": {\"outlinewidth\": 0, \"ticks\": \"\"}}, \"type\": \"histogram\"}], \"histogram2d\": [{\"colorbar\": {\"outlinewidth\": 0, \"ticks\": \"\"}, \"colorscale\": [[0.0, \"#0d0887\"], [0.1111111111111111, \"#46039f\"], [0.2222222222222222, \"#7201a8\"], [0.3333333333333333, \"#9c179e\"], [0.4444444444444444, \"#bd3786\"], [0.5555555555555556, \"#d8576b\"], [0.6666666666666666, \"#ed7953\"], [0.7777777777777778, \"#fb9f3a\"], [0.8888888888888888, \"#fdca26\"], [1.0, \"#f0f921\"]], \"type\": \"histogram2d\"}], \"histogram2dcontour\": [{\"colorbar\": {\"outlinewidth\": 0, \"ticks\": \"\"}, \"colorscale\": [[0.0, \"#0d0887\"], [0.1111111111111111, \"#46039f\"], [0.2222222222222222, \"#7201a8\"], [0.3333333333333333, \"#9c179e\"], [0.4444444444444444, \"#bd3786\"], [0.5555555555555556, \"#d8576b\"], [0.6666666666666666, \"#ed7953\"], [0.7777777777777778, \"#fb9f3a\"], [0.8888888888888888, \"#fdca26\"], [1.0, \"#f0f921\"]], \"type\": \"histogram2dcontour\"}], \"mesh3d\": [{\"colorbar\": {\"outlinewidth\": 0, \"ticks\": \"\"}, \"type\": \"mesh3d\"}], \"parcoords\": [{\"line\": {\"colorbar\": {\"outlinewidth\": 0, \"ticks\": \"\"}}, \"type\": \"parcoords\"}], \"pie\": [{\"automargin\": true, \"type\": \"pie\"}], \"scatter\": [{\"marker\": {\"colorbar\": {\"outlinewidth\": 0, \"ticks\": \"\"}}, \"type\": \"scatter\"}], \"scatter3d\": [{\"line\": {\"colorbar\": {\"outlinewidth\": 0, \"ticks\": \"\"}}, \"marker\": {\"colorbar\": {\"outlinewidth\": 0, \"ticks\": \"\"}}, \"type\": \"scatter3d\"}], \"scattercarpet\": [{\"marker\": {\"colorbar\": {\"outlinewidth\": 0, \"ticks\": \"\"}}, \"type\": \"scattercarpet\"}], \"scattergeo\": [{\"marker\": {\"colorbar\": {\"outlinewidth\": 0, \"ticks\": \"\"}}, \"type\": \"scattergeo\"}], \"scattergl\": [{\"marker\": {\"colorbar\": {\"outlinewidth\": 0, \"ticks\": \"\"}}, \"type\": \"scattergl\"}], \"scattermapbox\": [{\"marker\": {\"colorbar\": {\"outlinewidth\": 0, \"ticks\": \"\"}}, \"type\": \"scattermapbox\"}], \"scatterpolar\": [{\"marker\": {\"colorbar\": {\"outlinewidth\": 0, \"ticks\": \"\"}}, \"type\": \"scatterpolar\"}], \"scatterpolargl\": [{\"marker\": {\"colorbar\": {\"outlinewidth\": 0, \"ticks\": \"\"}}, \"type\": \"scatterpolargl\"}], \"scatterternary\": [{\"marker\": {\"colorbar\": {\"outlinewidth\": 0, \"ticks\": \"\"}}, \"type\": \"scatterternary\"}], \"surface\": [{\"colorbar\": {\"outlinewidth\": 0, \"ticks\": \"\"}, \"colorscale\": [[0.0, \"#0d0887\"], [0.1111111111111111, \"#46039f\"], [0.2222222222222222, \"#7201a8\"], [0.3333333333333333, \"#9c179e\"], [0.4444444444444444, \"#bd3786\"], [0.5555555555555556, \"#d8576b\"], [0.6666666666666666, \"#ed7953\"], [0.7777777777777778, \"#fb9f3a\"], [0.8888888888888888, \"#fdca26\"], [1.0, \"#f0f921\"]], \"type\": \"surface\"}], \"table\": [{\"cells\": {\"fill\": {\"color\": \"#EBF0F8\"}, \"line\": {\"color\": \"white\"}}, \"header\": {\"fill\": {\"color\": \"#C8D4E3\"}, \"line\": {\"color\": \"white\"}}, \"type\": \"table\"}]}, \"layout\": {\"annotationdefaults\": {\"arrowcolor\": \"#2a3f5f\", \"arrowhead\": 0, \"arrowwidth\": 1}, \"coloraxis\": {\"colorbar\": {\"outlinewidth\": 0, \"ticks\": \"\"}}, \"colorscale\": {\"diverging\": [[0, \"#8e0152\"], [0.1, \"#c51b7d\"], [0.2, \"#de77ae\"], [0.3, \"#f1b6da\"], [0.4, \"#fde0ef\"], [0.5, \"#f7f7f7\"], [0.6, \"#e6f5d0\"], [0.7, \"#b8e186\"], [0.8, \"#7fbc41\"], [0.9, \"#4d9221\"], [1, \"#276419\"]], \"sequential\": [[0.0, \"#0d0887\"], [0.1111111111111111, \"#46039f\"], [0.2222222222222222, \"#7201a8\"], [0.3333333333333333, \"#9c179e\"], [0.4444444444444444, \"#bd3786\"], [0.5555555555555556, \"#d8576b\"], [0.6666666666666666, \"#ed7953\"], [0.7777777777777778, \"#fb9f3a\"], [0.8888888888888888, \"#fdca26\"], [1.0, \"#f0f921\"]], \"sequentialminus\": [[0.0, \"#0d0887\"], [0.1111111111111111, \"#46039f\"], [0.2222222222222222, \"#7201a8\"], [0.3333333333333333, \"#9c179e\"], [0.4444444444444444, \"#bd3786\"], [0.5555555555555556, \"#d8576b\"], [0.6666666666666666, \"#ed7953\"], [0.7777777777777778, \"#fb9f3a\"], [0.8888888888888888, \"#fdca26\"], [1.0, \"#f0f921\"]]}, \"colorway\": [\"#636efa\", \"#EF553B\", \"#00cc96\", \"#ab63fa\", \"#FFA15A\", \"#19d3f3\", \"#FF6692\", \"#B6E880\", \"#FF97FF\", \"#FECB52\"], \"font\": {\"color\": \"#2a3f5f\"}, \"geo\": {\"bgcolor\": \"white\", \"lakecolor\": \"white\", \"landcolor\": \"#E5ECF6\", \"showlakes\": true, \"showland\": true, \"subunitcolor\": \"white\"}, \"hoverlabel\": {\"align\": \"left\"}, \"hovermode\": \"closest\", \"mapbox\": {\"style\": \"light\"}, \"paper_bgcolor\": \"white\", \"plot_bgcolor\": \"#E5ECF6\", \"polar\": {\"angularaxis\": {\"gridcolor\": \"white\", \"linecolor\": \"white\", \"ticks\": \"\"}, \"bgcolor\": \"#E5ECF6\", \"radialaxis\": {\"gridcolor\": \"white\", \"linecolor\": \"white\", \"ticks\": \"\"}}, \"scene\": {\"xaxis\": {\"backgroundcolor\": \"#E5ECF6\", \"gridcolor\": \"white\", \"gridwidth\": 2, \"linecolor\": \"white\", \"showbackground\": true, \"ticks\": \"\", \"zerolinecolor\": \"white\"}, \"yaxis\": {\"backgroundcolor\": \"#E5ECF6\", \"gridcolor\": \"white\", \"gridwidth\": 2, \"linecolor\": \"white\", \"showbackground\": true, \"ticks\": \"\", \"zerolinecolor\": \"white\"}, \"zaxis\": {\"backgroundcolor\": \"#E5ECF6\", \"gridcolor\": \"white\", \"gridwidth\": 2, \"linecolor\": \"white\", \"showbackground\": true, \"ticks\": \"\", \"zerolinecolor\": \"white\"}}, \"shapedefaults\": {\"line\": {\"color\": \"#2a3f5f\"}}, \"ternary\": {\"aaxis\": {\"gridcolor\": \"white\", \"linecolor\": \"white\", \"ticks\": \"\"}, \"baxis\": {\"gridcolor\": \"white\", \"linecolor\": \"white\", \"ticks\": \"\"}, \"bgcolor\": \"#E5ECF6\", \"caxis\": {\"gridcolor\": \"white\", \"linecolor\": \"white\", \"ticks\": \"\"}}, \"title\": {\"x\": 0.05}, \"xaxis\": {\"automargin\": true, \"gridcolor\": \"white\", \"linecolor\": \"white\", \"ticks\": \"\", \"title\": {\"standoff\": 15}, \"zerolinecolor\": \"white\", \"zerolinewidth\": 2}, \"yaxis\": {\"automargin\": true, \"gridcolor\": \"white\", \"linecolor\": \"white\", \"ticks\": \"\", \"title\": {\"standoff\": 15}, \"zerolinecolor\": \"white\", \"zerolinewidth\": 2}}}, \"title\": {\"text\": \"Cambios Porcentuales en los precios por Grupo\"}, \"treemapcolorway\": [\"yellow\", \"green\", \"red\"]},\n",
       "                        {\"responsive\": true}\n",
       "                    ).then(function(){\n",
       "                            \n",
       "var gd = document.getElementById('fe2f12ce-0b89-46eb-9261-49e257cfc32e');\n",
       "var x = new MutationObserver(function (mutations, observer) {{\n",
       "        var display = window.getComputedStyle(gd).display;\n",
       "        if (!display || display === 'none') {{\n",
       "            console.log([gd, 'removed!']);\n",
       "            Plotly.purge(gd);\n",
       "            observer.disconnect();\n",
       "        }}\n",
       "}});\n",
       "\n",
       "// Listen for the removal of the full notebook cells\n",
       "var notebookContainer = gd.closest('#notebook-container');\n",
       "if (notebookContainer) {{\n",
       "    x.observe(notebookContainer, {childList: true});\n",
       "}}\n",
       "\n",
       "// Listen for the clearing of the current output cell\n",
       "var outputEl = gd.closest('.output');\n",
       "if (outputEl) {{\n",
       "    x.observe(outputEl, {childList: true});\n",
       "}}\n",
       "\n",
       "                        })\n",
       "                };\n",
       "                });\n",
       "            </script>\n",
       "        </div>"
      ]
     },
     "metadata": {},
     "output_type": "display_data"
    }
   ],
   "source": [
    "#Para correr treemap semaforo\n",
    "df = add_color(df)\n",
    "path = ['Color','Grupo','Clase', 'C_Porcentual']\n",
    "color = ['yellow', 'green', 'red']\n",
    "label = df['Clase']\n",
    "df['C_Porcentual']= df['C_Porcentual'].apply(lambda x:' Cambio Porcentual: ' + str(x))\n",
    "treemap_chart(df, path, color)"
   ]
  },
  {
   "cell_type": "code",
   "execution_count": 55,
   "metadata": {},
   "outputs": [
    {
     "data": {
      "application/vnd.plotly.v1+json": {
       "config": {
        "plotlyServerURL": "https://plot.ly"
       },
       "data": [
        {
         "marker": {
          "color": [
           "red",
           "red",
           "yellow",
           "yellow",
           "green",
           "yellow",
           "red",
           "green"
          ]
         },
         "type": "bar",
         "x": [
          "Pan, tortillas y cereales",
          "Carnes",
          "Pescados y mariscos",
          "Leche, derivados de leche y huevo",
          "Aceites y grasas comestibles",
          "Frutas y hortalizas",
          "Otros alimentos",
          "Azúcar, café y refrescos envasados"
         ],
         "y": [
          0.0147,
          0.0153,
          0,
          0.0077,
          -0.0129,
          0.0023,
          0.0322,
          -0.0402
         ]
        }
       ],
       "layout": {
        "template": {
         "data": {
          "bar": [
           {
            "error_x": {
             "color": "#2a3f5f"
            },
            "error_y": {
             "color": "#2a3f5f"
            },
            "marker": {
             "line": {
              "color": "#E5ECF6",
              "width": 0.5
             }
            },
            "type": "bar"
           }
          ],
          "barpolar": [
           {
            "marker": {
             "line": {
              "color": "#E5ECF6",
              "width": 0.5
             }
            },
            "type": "barpolar"
           }
          ],
          "carpet": [
           {
            "aaxis": {
             "endlinecolor": "#2a3f5f",
             "gridcolor": "white",
             "linecolor": "white",
             "minorgridcolor": "white",
             "startlinecolor": "#2a3f5f"
            },
            "baxis": {
             "endlinecolor": "#2a3f5f",
             "gridcolor": "white",
             "linecolor": "white",
             "minorgridcolor": "white",
             "startlinecolor": "#2a3f5f"
            },
            "type": "carpet"
           }
          ],
          "choropleth": [
           {
            "colorbar": {
             "outlinewidth": 0,
             "ticks": ""
            },
            "type": "choropleth"
           }
          ],
          "contour": [
           {
            "colorbar": {
             "outlinewidth": 0,
             "ticks": ""
            },
            "colorscale": [
             [
              0,
              "#0d0887"
             ],
             [
              0.1111111111111111,
              "#46039f"
             ],
             [
              0.2222222222222222,
              "#7201a8"
             ],
             [
              0.3333333333333333,
              "#9c179e"
             ],
             [
              0.4444444444444444,
              "#bd3786"
             ],
             [
              0.5555555555555556,
              "#d8576b"
             ],
             [
              0.6666666666666666,
              "#ed7953"
             ],
             [
              0.7777777777777778,
              "#fb9f3a"
             ],
             [
              0.8888888888888888,
              "#fdca26"
             ],
             [
              1,
              "#f0f921"
             ]
            ],
            "type": "contour"
           }
          ],
          "contourcarpet": [
           {
            "colorbar": {
             "outlinewidth": 0,
             "ticks": ""
            },
            "type": "contourcarpet"
           }
          ],
          "heatmap": [
           {
            "colorbar": {
             "outlinewidth": 0,
             "ticks": ""
            },
            "colorscale": [
             [
              0,
              "#0d0887"
             ],
             [
              0.1111111111111111,
              "#46039f"
             ],
             [
              0.2222222222222222,
              "#7201a8"
             ],
             [
              0.3333333333333333,
              "#9c179e"
             ],
             [
              0.4444444444444444,
              "#bd3786"
             ],
             [
              0.5555555555555556,
              "#d8576b"
             ],
             [
              0.6666666666666666,
              "#ed7953"
             ],
             [
              0.7777777777777778,
              "#fb9f3a"
             ],
             [
              0.8888888888888888,
              "#fdca26"
             ],
             [
              1,
              "#f0f921"
             ]
            ],
            "type": "heatmap"
           }
          ],
          "heatmapgl": [
           {
            "colorbar": {
             "outlinewidth": 0,
             "ticks": ""
            },
            "colorscale": [
             [
              0,
              "#0d0887"
             ],
             [
              0.1111111111111111,
              "#46039f"
             ],
             [
              0.2222222222222222,
              "#7201a8"
             ],
             [
              0.3333333333333333,
              "#9c179e"
             ],
             [
              0.4444444444444444,
              "#bd3786"
             ],
             [
              0.5555555555555556,
              "#d8576b"
             ],
             [
              0.6666666666666666,
              "#ed7953"
             ],
             [
              0.7777777777777778,
              "#fb9f3a"
             ],
             [
              0.8888888888888888,
              "#fdca26"
             ],
             [
              1,
              "#f0f921"
             ]
            ],
            "type": "heatmapgl"
           }
          ],
          "histogram": [
           {
            "marker": {
             "colorbar": {
              "outlinewidth": 0,
              "ticks": ""
             }
            },
            "type": "histogram"
           }
          ],
          "histogram2d": [
           {
            "colorbar": {
             "outlinewidth": 0,
             "ticks": ""
            },
            "colorscale": [
             [
              0,
              "#0d0887"
             ],
             [
              0.1111111111111111,
              "#46039f"
             ],
             [
              0.2222222222222222,
              "#7201a8"
             ],
             [
              0.3333333333333333,
              "#9c179e"
             ],
             [
              0.4444444444444444,
              "#bd3786"
             ],
             [
              0.5555555555555556,
              "#d8576b"
             ],
             [
              0.6666666666666666,
              "#ed7953"
             ],
             [
              0.7777777777777778,
              "#fb9f3a"
             ],
             [
              0.8888888888888888,
              "#fdca26"
             ],
             [
              1,
              "#f0f921"
             ]
            ],
            "type": "histogram2d"
           }
          ],
          "histogram2dcontour": [
           {
            "colorbar": {
             "outlinewidth": 0,
             "ticks": ""
            },
            "colorscale": [
             [
              0,
              "#0d0887"
             ],
             [
              0.1111111111111111,
              "#46039f"
             ],
             [
              0.2222222222222222,
              "#7201a8"
             ],
             [
              0.3333333333333333,
              "#9c179e"
             ],
             [
              0.4444444444444444,
              "#bd3786"
             ],
             [
              0.5555555555555556,
              "#d8576b"
             ],
             [
              0.6666666666666666,
              "#ed7953"
             ],
             [
              0.7777777777777778,
              "#fb9f3a"
             ],
             [
              0.8888888888888888,
              "#fdca26"
             ],
             [
              1,
              "#f0f921"
             ]
            ],
            "type": "histogram2dcontour"
           }
          ],
          "mesh3d": [
           {
            "colorbar": {
             "outlinewidth": 0,
             "ticks": ""
            },
            "type": "mesh3d"
           }
          ],
          "parcoords": [
           {
            "line": {
             "colorbar": {
              "outlinewidth": 0,
              "ticks": ""
             }
            },
            "type": "parcoords"
           }
          ],
          "pie": [
           {
            "automargin": true,
            "type": "pie"
           }
          ],
          "scatter": [
           {
            "marker": {
             "colorbar": {
              "outlinewidth": 0,
              "ticks": ""
             }
            },
            "type": "scatter"
           }
          ],
          "scatter3d": [
           {
            "line": {
             "colorbar": {
              "outlinewidth": 0,
              "ticks": ""
             }
            },
            "marker": {
             "colorbar": {
              "outlinewidth": 0,
              "ticks": ""
             }
            },
            "type": "scatter3d"
           }
          ],
          "scattercarpet": [
           {
            "marker": {
             "colorbar": {
              "outlinewidth": 0,
              "ticks": ""
             }
            },
            "type": "scattercarpet"
           }
          ],
          "scattergeo": [
           {
            "marker": {
             "colorbar": {
              "outlinewidth": 0,
              "ticks": ""
             }
            },
            "type": "scattergeo"
           }
          ],
          "scattergl": [
           {
            "marker": {
             "colorbar": {
              "outlinewidth": 0,
              "ticks": ""
             }
            },
            "type": "scattergl"
           }
          ],
          "scattermapbox": [
           {
            "marker": {
             "colorbar": {
              "outlinewidth": 0,
              "ticks": ""
             }
            },
            "type": "scattermapbox"
           }
          ],
          "scatterpolar": [
           {
            "marker": {
             "colorbar": {
              "outlinewidth": 0,
              "ticks": ""
             }
            },
            "type": "scatterpolar"
           }
          ],
          "scatterpolargl": [
           {
            "marker": {
             "colorbar": {
              "outlinewidth": 0,
              "ticks": ""
             }
            },
            "type": "scatterpolargl"
           }
          ],
          "scatterternary": [
           {
            "marker": {
             "colorbar": {
              "outlinewidth": 0,
              "ticks": ""
             }
            },
            "type": "scatterternary"
           }
          ],
          "surface": [
           {
            "colorbar": {
             "outlinewidth": 0,
             "ticks": ""
            },
            "colorscale": [
             [
              0,
              "#0d0887"
             ],
             [
              0.1111111111111111,
              "#46039f"
             ],
             [
              0.2222222222222222,
              "#7201a8"
             ],
             [
              0.3333333333333333,
              "#9c179e"
             ],
             [
              0.4444444444444444,
              "#bd3786"
             ],
             [
              0.5555555555555556,
              "#d8576b"
             ],
             [
              0.6666666666666666,
              "#ed7953"
             ],
             [
              0.7777777777777778,
              "#fb9f3a"
             ],
             [
              0.8888888888888888,
              "#fdca26"
             ],
             [
              1,
              "#f0f921"
             ]
            ],
            "type": "surface"
           }
          ],
          "table": [
           {
            "cells": {
             "fill": {
              "color": "#EBF0F8"
             },
             "line": {
              "color": "white"
             }
            },
            "header": {
             "fill": {
              "color": "#C8D4E3"
             },
             "line": {
              "color": "white"
             }
            },
            "type": "table"
           }
          ]
         },
         "layout": {
          "annotationdefaults": {
           "arrowcolor": "#2a3f5f",
           "arrowhead": 0,
           "arrowwidth": 1
          },
          "coloraxis": {
           "colorbar": {
            "outlinewidth": 0,
            "ticks": ""
           }
          },
          "colorscale": {
           "diverging": [
            [
             0,
             "#8e0152"
            ],
            [
             0.1,
             "#c51b7d"
            ],
            [
             0.2,
             "#de77ae"
            ],
            [
             0.3,
             "#f1b6da"
            ],
            [
             0.4,
             "#fde0ef"
            ],
            [
             0.5,
             "#f7f7f7"
            ],
            [
             0.6,
             "#e6f5d0"
            ],
            [
             0.7,
             "#b8e186"
            ],
            [
             0.8,
             "#7fbc41"
            ],
            [
             0.9,
             "#4d9221"
            ],
            [
             1,
             "#276419"
            ]
           ],
           "sequential": [
            [
             0,
             "#0d0887"
            ],
            [
             0.1111111111111111,
             "#46039f"
            ],
            [
             0.2222222222222222,
             "#7201a8"
            ],
            [
             0.3333333333333333,
             "#9c179e"
            ],
            [
             0.4444444444444444,
             "#bd3786"
            ],
            [
             0.5555555555555556,
             "#d8576b"
            ],
            [
             0.6666666666666666,
             "#ed7953"
            ],
            [
             0.7777777777777778,
             "#fb9f3a"
            ],
            [
             0.8888888888888888,
             "#fdca26"
            ],
            [
             1,
             "#f0f921"
            ]
           ],
           "sequentialminus": [
            [
             0,
             "#0d0887"
            ],
            [
             0.1111111111111111,
             "#46039f"
            ],
            [
             0.2222222222222222,
             "#7201a8"
            ],
            [
             0.3333333333333333,
             "#9c179e"
            ],
            [
             0.4444444444444444,
             "#bd3786"
            ],
            [
             0.5555555555555556,
             "#d8576b"
            ],
            [
             0.6666666666666666,
             "#ed7953"
            ],
            [
             0.7777777777777778,
             "#fb9f3a"
            ],
            [
             0.8888888888888888,
             "#fdca26"
            ],
            [
             1,
             "#f0f921"
            ]
           ]
          },
          "colorway": [
           "#636efa",
           "#EF553B",
           "#00cc96",
           "#ab63fa",
           "#FFA15A",
           "#19d3f3",
           "#FF6692",
           "#B6E880",
           "#FF97FF",
           "#FECB52"
          ],
          "font": {
           "color": "#2a3f5f"
          },
          "geo": {
           "bgcolor": "white",
           "lakecolor": "white",
           "landcolor": "#E5ECF6",
           "showlakes": true,
           "showland": true,
           "subunitcolor": "white"
          },
          "hoverlabel": {
           "align": "left"
          },
          "hovermode": "closest",
          "mapbox": {
           "style": "light"
          },
          "paper_bgcolor": "white",
          "plot_bgcolor": "#E5ECF6",
          "polar": {
           "angularaxis": {
            "gridcolor": "white",
            "linecolor": "white",
            "ticks": ""
           },
           "bgcolor": "#E5ECF6",
           "radialaxis": {
            "gridcolor": "white",
            "linecolor": "white",
            "ticks": ""
           }
          },
          "scene": {
           "xaxis": {
            "backgroundcolor": "#E5ECF6",
            "gridcolor": "white",
            "gridwidth": 2,
            "linecolor": "white",
            "showbackground": true,
            "ticks": "",
            "zerolinecolor": "white"
           },
           "yaxis": {
            "backgroundcolor": "#E5ECF6",
            "gridcolor": "white",
            "gridwidth": 2,
            "linecolor": "white",
            "showbackground": true,
            "ticks": "",
            "zerolinecolor": "white"
           },
           "zaxis": {
            "backgroundcolor": "#E5ECF6",
            "gridcolor": "white",
            "gridwidth": 2,
            "linecolor": "white",
            "showbackground": true,
            "ticks": "",
            "zerolinecolor": "white"
           }
          },
          "shapedefaults": {
           "line": {
            "color": "#2a3f5f"
           }
          },
          "ternary": {
           "aaxis": {
            "gridcolor": "white",
            "linecolor": "white",
            "ticks": ""
           },
           "baxis": {
            "gridcolor": "white",
            "linecolor": "white",
            "ticks": ""
           },
           "bgcolor": "#E5ECF6",
           "caxis": {
            "gridcolor": "white",
            "linecolor": "white",
            "ticks": ""
           }
          },
          "title": {
           "x": 0.05
          },
          "xaxis": {
           "automargin": true,
           "gridcolor": "white",
           "linecolor": "white",
           "ticks": "",
           "title": {
            "standoff": 15
           },
           "zerolinecolor": "white",
           "zerolinewidth": 2
          },
          "yaxis": {
           "automargin": true,
           "gridcolor": "white",
           "linecolor": "white",
           "ticks": "",
           "title": {
            "standoff": 15
           },
           "zerolinecolor": "white",
           "zerolinewidth": 2
          }
         }
        },
        "title": {
         "text": "Alimentos"
        },
        "yaxis": {
         "range": [
          -0.06,
          0.05
         ]
        }
       }
      },
      "text/html": [
       "<div>\n",
       "        \n",
       "        \n",
       "            <div id=\"efaa47c3-78ec-4f39-a9fd-510d707e995e\" class=\"plotly-graph-div\" style=\"height:525px; width:100%;\"></div>\n",
       "            <script type=\"text/javascript\">\n",
       "                require([\"plotly\"], function(Plotly) {\n",
       "                    window.PLOTLYENV=window.PLOTLYENV || {};\n",
       "                    \n",
       "                if (document.getElementById(\"efaa47c3-78ec-4f39-a9fd-510d707e995e\")) {\n",
       "                    Plotly.newPlot(\n",
       "                        'efaa47c3-78ec-4f39-a9fd-510d707e995e',\n",
       "                        [{\"marker\": {\"color\": [\"red\", \"red\", \"yellow\", \"yellow\", \"green\", \"yellow\", \"red\", \"green\"]}, \"type\": \"bar\", \"x\": [\"Pan, tortillas y cereales\", \"Carnes\", \"Pescados y mariscos\", \"Leche, derivados de leche y huevo\", \"Aceites y grasas comestibles\", \"Frutas y hortalizas\", \"Otros alimentos\", \"Az\\u00facar, caf\\u00e9 y refrescos envasados\"], \"y\": [0.0147, 0.0153, 0.0, 0.0077, -0.0129, 0.0023, 0.0322, -0.0402]}],\n",
       "                        {\"template\": {\"data\": {\"bar\": [{\"error_x\": {\"color\": \"#2a3f5f\"}, \"error_y\": {\"color\": \"#2a3f5f\"}, \"marker\": {\"line\": {\"color\": \"#E5ECF6\", \"width\": 0.5}}, \"type\": \"bar\"}], \"barpolar\": [{\"marker\": {\"line\": {\"color\": \"#E5ECF6\", \"width\": 0.5}}, \"type\": \"barpolar\"}], \"carpet\": [{\"aaxis\": {\"endlinecolor\": \"#2a3f5f\", \"gridcolor\": \"white\", \"linecolor\": \"white\", \"minorgridcolor\": \"white\", \"startlinecolor\": \"#2a3f5f\"}, \"baxis\": {\"endlinecolor\": \"#2a3f5f\", \"gridcolor\": \"white\", \"linecolor\": \"white\", \"minorgridcolor\": \"white\", \"startlinecolor\": \"#2a3f5f\"}, \"type\": \"carpet\"}], \"choropleth\": [{\"colorbar\": {\"outlinewidth\": 0, \"ticks\": \"\"}, \"type\": \"choropleth\"}], \"contour\": [{\"colorbar\": {\"outlinewidth\": 0, \"ticks\": \"\"}, \"colorscale\": [[0.0, \"#0d0887\"], [0.1111111111111111, \"#46039f\"], [0.2222222222222222, \"#7201a8\"], [0.3333333333333333, \"#9c179e\"], [0.4444444444444444, \"#bd3786\"], [0.5555555555555556, \"#d8576b\"], [0.6666666666666666, \"#ed7953\"], [0.7777777777777778, \"#fb9f3a\"], [0.8888888888888888, \"#fdca26\"], [1.0, \"#f0f921\"]], \"type\": \"contour\"}], \"contourcarpet\": [{\"colorbar\": {\"outlinewidth\": 0, \"ticks\": \"\"}, \"type\": \"contourcarpet\"}], \"heatmap\": [{\"colorbar\": {\"outlinewidth\": 0, \"ticks\": \"\"}, \"colorscale\": [[0.0, \"#0d0887\"], [0.1111111111111111, \"#46039f\"], [0.2222222222222222, \"#7201a8\"], [0.3333333333333333, \"#9c179e\"], [0.4444444444444444, \"#bd3786\"], [0.5555555555555556, \"#d8576b\"], [0.6666666666666666, \"#ed7953\"], [0.7777777777777778, \"#fb9f3a\"], [0.8888888888888888, \"#fdca26\"], [1.0, \"#f0f921\"]], \"type\": \"heatmap\"}], \"heatmapgl\": [{\"colorbar\": {\"outlinewidth\": 0, \"ticks\": \"\"}, \"colorscale\": [[0.0, \"#0d0887\"], [0.1111111111111111, \"#46039f\"], [0.2222222222222222, \"#7201a8\"], [0.3333333333333333, \"#9c179e\"], [0.4444444444444444, \"#bd3786\"], [0.5555555555555556, \"#d8576b\"], [0.6666666666666666, \"#ed7953\"], [0.7777777777777778, \"#fb9f3a\"], [0.8888888888888888, \"#fdca26\"], [1.0, \"#f0f921\"]], \"type\": \"heatmapgl\"}], \"histogram\": [{\"marker\": {\"colorbar\": {\"outlinewidth\": 0, \"ticks\": \"\"}}, \"type\": \"histogram\"}], \"histogram2d\": [{\"colorbar\": {\"outlinewidth\": 0, \"ticks\": \"\"}, \"colorscale\": [[0.0, \"#0d0887\"], [0.1111111111111111, \"#46039f\"], [0.2222222222222222, \"#7201a8\"], [0.3333333333333333, \"#9c179e\"], [0.4444444444444444, \"#bd3786\"], [0.5555555555555556, \"#d8576b\"], [0.6666666666666666, \"#ed7953\"], [0.7777777777777778, \"#fb9f3a\"], [0.8888888888888888, \"#fdca26\"], [1.0, \"#f0f921\"]], \"type\": \"histogram2d\"}], \"histogram2dcontour\": [{\"colorbar\": {\"outlinewidth\": 0, \"ticks\": \"\"}, \"colorscale\": [[0.0, \"#0d0887\"], [0.1111111111111111, \"#46039f\"], [0.2222222222222222, \"#7201a8\"], [0.3333333333333333, \"#9c179e\"], [0.4444444444444444, \"#bd3786\"], [0.5555555555555556, \"#d8576b\"], [0.6666666666666666, \"#ed7953\"], [0.7777777777777778, \"#fb9f3a\"], [0.8888888888888888, \"#fdca26\"], [1.0, \"#f0f921\"]], \"type\": \"histogram2dcontour\"}], \"mesh3d\": [{\"colorbar\": {\"outlinewidth\": 0, \"ticks\": \"\"}, \"type\": \"mesh3d\"}], \"parcoords\": [{\"line\": {\"colorbar\": {\"outlinewidth\": 0, \"ticks\": \"\"}}, \"type\": \"parcoords\"}], \"pie\": [{\"automargin\": true, \"type\": \"pie\"}], \"scatter\": [{\"marker\": {\"colorbar\": {\"outlinewidth\": 0, \"ticks\": \"\"}}, \"type\": \"scatter\"}], \"scatter3d\": [{\"line\": {\"colorbar\": {\"outlinewidth\": 0, \"ticks\": \"\"}}, \"marker\": {\"colorbar\": {\"outlinewidth\": 0, \"ticks\": \"\"}}, \"type\": \"scatter3d\"}], \"scattercarpet\": [{\"marker\": {\"colorbar\": {\"outlinewidth\": 0, \"ticks\": \"\"}}, \"type\": \"scattercarpet\"}], \"scattergeo\": [{\"marker\": {\"colorbar\": {\"outlinewidth\": 0, \"ticks\": \"\"}}, \"type\": \"scattergeo\"}], \"scattergl\": [{\"marker\": {\"colorbar\": {\"outlinewidth\": 0, \"ticks\": \"\"}}, \"type\": \"scattergl\"}], \"scattermapbox\": [{\"marker\": {\"colorbar\": {\"outlinewidth\": 0, \"ticks\": \"\"}}, \"type\": \"scattermapbox\"}], \"scatterpolar\": [{\"marker\": {\"colorbar\": {\"outlinewidth\": 0, \"ticks\": \"\"}}, \"type\": \"scatterpolar\"}], \"scatterpolargl\": [{\"marker\": {\"colorbar\": {\"outlinewidth\": 0, \"ticks\": \"\"}}, \"type\": \"scatterpolargl\"}], \"scatterternary\": [{\"marker\": {\"colorbar\": {\"outlinewidth\": 0, \"ticks\": \"\"}}, \"type\": \"scatterternary\"}], \"surface\": [{\"colorbar\": {\"outlinewidth\": 0, \"ticks\": \"\"}, \"colorscale\": [[0.0, \"#0d0887\"], [0.1111111111111111, \"#46039f\"], [0.2222222222222222, \"#7201a8\"], [0.3333333333333333, \"#9c179e\"], [0.4444444444444444, \"#bd3786\"], [0.5555555555555556, \"#d8576b\"], [0.6666666666666666, \"#ed7953\"], [0.7777777777777778, \"#fb9f3a\"], [0.8888888888888888, \"#fdca26\"], [1.0, \"#f0f921\"]], \"type\": \"surface\"}], \"table\": [{\"cells\": {\"fill\": {\"color\": \"#EBF0F8\"}, \"line\": {\"color\": \"white\"}}, \"header\": {\"fill\": {\"color\": \"#C8D4E3\"}, \"line\": {\"color\": \"white\"}}, \"type\": \"table\"}]}, \"layout\": {\"annotationdefaults\": {\"arrowcolor\": \"#2a3f5f\", \"arrowhead\": 0, \"arrowwidth\": 1}, \"coloraxis\": {\"colorbar\": {\"outlinewidth\": 0, \"ticks\": \"\"}}, \"colorscale\": {\"diverging\": [[0, \"#8e0152\"], [0.1, \"#c51b7d\"], [0.2, \"#de77ae\"], [0.3, \"#f1b6da\"], [0.4, \"#fde0ef\"], [0.5, \"#f7f7f7\"], [0.6, \"#e6f5d0\"], [0.7, \"#b8e186\"], [0.8, \"#7fbc41\"], [0.9, \"#4d9221\"], [1, \"#276419\"]], \"sequential\": [[0.0, \"#0d0887\"], [0.1111111111111111, \"#46039f\"], [0.2222222222222222, \"#7201a8\"], [0.3333333333333333, \"#9c179e\"], [0.4444444444444444, \"#bd3786\"], [0.5555555555555556, \"#d8576b\"], [0.6666666666666666, \"#ed7953\"], [0.7777777777777778, \"#fb9f3a\"], [0.8888888888888888, \"#fdca26\"], [1.0, \"#f0f921\"]], \"sequentialminus\": [[0.0, \"#0d0887\"], [0.1111111111111111, \"#46039f\"], [0.2222222222222222, \"#7201a8\"], [0.3333333333333333, \"#9c179e\"], [0.4444444444444444, \"#bd3786\"], [0.5555555555555556, \"#d8576b\"], [0.6666666666666666, \"#ed7953\"], [0.7777777777777778, \"#fb9f3a\"], [0.8888888888888888, \"#fdca26\"], [1.0, \"#f0f921\"]]}, \"colorway\": [\"#636efa\", \"#EF553B\", \"#00cc96\", \"#ab63fa\", \"#FFA15A\", \"#19d3f3\", \"#FF6692\", \"#B6E880\", \"#FF97FF\", \"#FECB52\"], \"font\": {\"color\": \"#2a3f5f\"}, \"geo\": {\"bgcolor\": \"white\", \"lakecolor\": \"white\", \"landcolor\": \"#E5ECF6\", \"showlakes\": true, \"showland\": true, \"subunitcolor\": \"white\"}, \"hoverlabel\": {\"align\": \"left\"}, \"hovermode\": \"closest\", \"mapbox\": {\"style\": \"light\"}, \"paper_bgcolor\": \"white\", \"plot_bgcolor\": \"#E5ECF6\", \"polar\": {\"angularaxis\": {\"gridcolor\": \"white\", \"linecolor\": \"white\", \"ticks\": \"\"}, \"bgcolor\": \"#E5ECF6\", \"radialaxis\": {\"gridcolor\": \"white\", \"linecolor\": \"white\", \"ticks\": \"\"}}, \"scene\": {\"xaxis\": {\"backgroundcolor\": \"#E5ECF6\", \"gridcolor\": \"white\", \"gridwidth\": 2, \"linecolor\": \"white\", \"showbackground\": true, \"ticks\": \"\", \"zerolinecolor\": \"white\"}, \"yaxis\": {\"backgroundcolor\": \"#E5ECF6\", \"gridcolor\": \"white\", \"gridwidth\": 2, \"linecolor\": \"white\", \"showbackground\": true, \"ticks\": \"\", \"zerolinecolor\": \"white\"}, \"zaxis\": {\"backgroundcolor\": \"#E5ECF6\", \"gridcolor\": \"white\", \"gridwidth\": 2, \"linecolor\": \"white\", \"showbackground\": true, \"ticks\": \"\", \"zerolinecolor\": \"white\"}}, \"shapedefaults\": {\"line\": {\"color\": \"#2a3f5f\"}}, \"ternary\": {\"aaxis\": {\"gridcolor\": \"white\", \"linecolor\": \"white\", \"ticks\": \"\"}, \"baxis\": {\"gridcolor\": \"white\", \"linecolor\": \"white\", \"ticks\": \"\"}, \"bgcolor\": \"#E5ECF6\", \"caxis\": {\"gridcolor\": \"white\", \"linecolor\": \"white\", \"ticks\": \"\"}}, \"title\": {\"x\": 0.05}, \"xaxis\": {\"automargin\": true, \"gridcolor\": \"white\", \"linecolor\": \"white\", \"ticks\": \"\", \"title\": {\"standoff\": 15}, \"zerolinecolor\": \"white\", \"zerolinewidth\": 2}, \"yaxis\": {\"automargin\": true, \"gridcolor\": \"white\", \"linecolor\": \"white\", \"ticks\": \"\", \"title\": {\"standoff\": 15}, \"zerolinecolor\": \"white\", \"zerolinewidth\": 2}}}, \"title\": {\"text\": \"Alimentos\"}, \"yaxis\": {\"range\": [-0.06, 0.05]}},\n",
       "                        {\"responsive\": true}\n",
       "                    ).then(function(){\n",
       "                            \n",
       "var gd = document.getElementById('efaa47c3-78ec-4f39-a9fd-510d707e995e');\n",
       "var x = new MutationObserver(function (mutations, observer) {{\n",
       "        var display = window.getComputedStyle(gd).display;\n",
       "        if (!display || display === 'none') {{\n",
       "            console.log([gd, 'removed!']);\n",
       "            Plotly.purge(gd);\n",
       "            observer.disconnect();\n",
       "        }}\n",
       "}});\n",
       "\n",
       "// Listen for the removal of the full notebook cells\n",
       "var notebookContainer = gd.closest('#notebook-container');\n",
       "if (notebookContainer) {{\n",
       "    x.observe(notebookContainer, {childList: true});\n",
       "}}\n",
       "\n",
       "// Listen for the clearing of the current output cell\n",
       "var outputEl = gd.closest('.output');\n",
       "if (outputEl) {{\n",
       "    x.observe(outputEl, {childList: true});\n",
       "}}\n",
       "\n",
       "                        })\n",
       "                };\n",
       "                });\n",
       "            </script>\n",
       "        </div>"
      ]
     },
     "metadata": {},
     "output_type": "display_data"
    }
   ],
   "source": [
    "#Para correr gráfica de barras semáforo con filtro\n",
    "grupo, cat = div_grupo(df, 2)\n",
    "bar_chart_sem(grupo,cat)"
   ]
  }
 ],
 "metadata": {
  "kernelspec": {
   "display_name": "Python 3",
   "language": "python",
   "name": "python3"
  },
  "language_info": {
   "codemirror_mode": {
    "name": "ipython",
    "version": 3
   },
   "file_extension": ".py",
   "mimetype": "text/x-python",
   "name": "python",
   "nbconvert_exporter": "python",
   "pygments_lexer": "ipython3",
   "version": "3.7.6"
  }
 },
 "nbformat": 4,
 "nbformat_minor": 4
}
