{
 "cells": [
  {
   "cell_type": "markdown",
   "metadata": {},
   "source": [
    "<div style=\"text-align:center\"><span style=\"color:#800000; font-family:Georgia; font-size:2.4em;\"> Proyecto de Aplicación Profesional </span></div>\n",
    "\n",
    "<img style=\"float: right; margin: auto;\" src=\"https://www.ambulante.org/wp-content/uploads/2019/03/logos_web_Jalisco_ITESOJesuita.png\" width=\"350\" height=\"220\" />\n",
    "\n",
    "> <b> <p style = \"font-family: Palatino; font-size:0.8em; color: #008080;\" > Métrica de Precios </p> <b/>\n",
    "\n",
    "<i> <p style = \"font-family: Calibri Light; font-size:1.1em;color:black;\"> Caracteristicas de Series de Tiempo </p> <i/>"
   ]
  },
  {
   "cell_type": "markdown",
   "metadata": {},
   "source": [
    "<span style=\"color:#004A94; font-family:Georgia; font-size:1.7em;\"> Box-Jenkins Method </span> [LINK]('https://machinelearningmastery.com/gentle-introduction-box-jenkins-method-time-series-forecasting/')\n",
    "\n",
    "\n",
    "The approach starts with the assumption that the process that generated the time series can be approximated using an ARMA model if it is stationary or an ARIMA model if it is non-stationary.\n",
    "\n",
    "- **Identification.** Use the data and all related information to help select a sub-class of model that may best summarize the data.\n",
    "> 1. Assess whether the time series is stationary, and if not, how many differences are required to make it stationary.\n",
    ">> **1.1 Differencing**\n",
    ">> - Unit Root Tests. Use unit root statistical tests on the time series to determine whether or not it is stationary. Repeat after each round of differencing.\n",
    ">> - Avoid over differencing. Differencing the time series more than is required can result in the addition of extra serial correlation and additional complexity.\n",
    ">>\n",
    ">> **1.2 Configuring AR and MA**\n",
    ">> - Autocorrelation Function (ACF). The plot summarizes the correlation of an observation with lag values. The x-axis shows the lag and the y-axis shows the correlation coefficient between -1 and 1 for negative and positive correlation.\n",
    ">> - Partial Autocorrelation Function (PACF). The plot summarizes the correlations for an observation with lag values that is not accounted for by prior lagged observations.\n",
    "> 2. Identify the parameters of an ARMA model for the data.\n",
    ">> Estimation involves using numerical methods to minimize a loss or error term.\n",
    "\n",
    "- **Estimation.** Use the data to train the parameters of the model (i.e. the coefficients).\n",
    "> Estimation involves using numerical methods to minimize a loss or error term.\n",
    "\n",
    "- **Diagnostic Checking.** Evaluate the fitted model in the context of the available data and check for areas where the model may be improved\n",
    "> To look for evidence that the model is not a good fit for the data.\n",
    ">> **3.1 Overfitting** \n",
    ">> - The first check is to check whether the model overfits the data. Generally, this means that the model is more complex than it needs to be and captures random noise in the training data.\n",
    ">> - This is a problem for time series forecasting because it negatively impacts the ability of the model to generalize, resulting in poor forecast performance on out of sample data.\n",
    ">>\n",
    ">> **3.2 Residual Errors**\n",
    ">> - A review of the distribution of errors can help tease out bias in the model. The errors from an ideal model would resemble white noise, that is a Gaussian distribution with a mean of zero and a symmetrical variance.\n",
    ">> - For this, you may use density plots, histograms, and Q-Q plots that compare the distribution of errors to the expected distribution. A non-Gaussian distribution may suggest an opportunity for data pre-processing. A skew in the distribution or a non-zero mean may suggest a bias in forecasts that may be correct.\n"
   ]
  },
  {
   "cell_type": "code",
   "execution_count": 9,
   "metadata": {},
   "outputs": [],
   "source": [
    "# Importar librerias y funciones\n",
    "import datos as dat\n",
    "import entradas as ent\n",
    "# --------------------------- #\n",
    "import numpy as np\n",
    "from statsmodels.tsa.stattools import  adfuller #prueba de estacionariedad\n",
    "from statsmodels.tsa.stattools import pacf,acf\n",
    "from statsmodels.stats.diagnostic import het_arch\n",
    "from scipy.stats import shapiro\n",
    "import matplotlib.pyplot as plt"
   ]
  },
  {
   "cell_type": "markdown",
   "metadata": {},
   "source": [
    "- Se trabajará con las diferencias de los precios para tener los datos en porcentajes y se puedan comparar entre productos (diferencias de productos)\n",
    "- Se agrupa por clase sacanado la mediana de todo el conjunto\n",
    "> - Se enseñará en el dash por clases(15), pero a su vez el analisis es por grupos (32)\n",
    "- Función BoxJenkins automatizada"
   ]
  },
  {
   "cell_type": "code",
   "execution_count": 44,
   "metadata": {},
   "outputs": [
    {
     "name": "stdout",
     "output_type": "stream",
     "text": [
      "1. Alimentos, bebidas y tabaco\n"
     ]
    },
    {
     "data": {
      "text/html": [
       "<div>\n",
       "<style scoped>\n",
       "    .dataframe tbody tr th:only-of-type {\n",
       "        vertical-align: middle;\n",
       "    }\n",
       "\n",
       "    .dataframe tbody tr th {\n",
       "        vertical-align: top;\n",
       "    }\n",
       "\n",
       "    .dataframe thead th {\n",
       "        text-align: right;\n",
       "    }\n",
       "</style>\n",
       "<table border=\"1\" class=\"dataframe\">\n",
       "  <thead>\n",
       "    <tr style=\"text-align: right;\">\n",
       "      <th></th>\n",
       "      <th>index</th>\n",
       "      <th>0</th>\n",
       "    </tr>\n",
       "  </thead>\n",
       "  <tbody>\n",
       "    <tr>\n",
       "      <th>0</th>\n",
       "      <td>ago 2018</td>\n",
       "      <td>96.497137</td>\n",
       "    </tr>\n",
       "    <tr>\n",
       "      <th>1</th>\n",
       "      <td>sep 2018</td>\n",
       "      <td>96.559798</td>\n",
       "    </tr>\n",
       "    <tr>\n",
       "      <th>2</th>\n",
       "      <td>oct 2018</td>\n",
       "      <td>97.088790</td>\n",
       "    </tr>\n",
       "    <tr>\n",
       "      <th>3</th>\n",
       "      <td>nov 2018</td>\n",
       "      <td>90.746811</td>\n",
       "    </tr>\n",
       "    <tr>\n",
       "      <th>4</th>\n",
       "      <td>dic 2018</td>\n",
       "      <td>91.320264</td>\n",
       "    </tr>\n",
       "  </tbody>\n",
       "</table>\n",
       "</div>"
      ],
      "text/plain": [
       "      index          0\n",
       "0  ago 2018  96.497137\n",
       "1  sep 2018  96.559798\n",
       "2  oct 2018  97.088790\n",
       "3  nov 2018  90.746811\n",
       "4  dic 2018  91.320264"
      ]
     },
     "execution_count": 44,
     "metadata": {},
     "output_type": "execute_result"
    }
   ],
   "source": [
    "# Leer datos\n",
    "df_prices_or = dat.read_file(ent.path_data_prices, ent.sheet_data_prices)\n",
    "\n",
    "# Dividir en categorias de sectores\n",
    "categorias = list(df_prices_or.groupby('División'))\n",
    "\n",
    "sct = 0\n",
    "# Nombre de sector\n",
    "print(categorias[sct][0])\n",
    "\n",
    "# DataFrame con los datos promedio del sector 0 (Alimentos)\n",
    "datos = (categorias[sct][1]).mean()[2:]\n",
    "#datos.rename(categorias[sct][0], inplace=True)\n",
    "\n",
    "# Indice de numeros\n",
    "datos = datos.reset_index(drop=False)\n",
    "\n",
    "# Reacomodar los datos de mas viejo a mas actual\n",
    "datos.sort_index(ascending=False, inplace=True)\n",
    "# Reiniciar indice (0-21)\n",
    "serie_tiempo = datos.reset_index(drop=True)\n",
    "\n",
    "serie_tiempo.head()"
   ]
  },
  {
   "cell_type": "code",
   "execution_count": 45,
   "metadata": {},
   "outputs": [
    {
     "data": {
      "text/plain": [
       "<matplotlib.axes._subplots.AxesSubplot at 0x2a636a04fd0>"
      ]
     },
     "execution_count": 45,
     "metadata": {},
     "output_type": "execute_result"
    },
    {
     "data": {
      "image/png": "[encoded data removed]",
      "text/plain": [
       "<Figure size 432x288 with 1 Axes>"
      ]
     },
     "metadata": {
      "needs_background": "light"
     },
     "output_type": "display_data"
    }
   ],
   "source": [
    "serie_tiempo.plot()"
   ]
  },
  {
   "cell_type": "markdown",
   "metadata": {},
   "source": [
    "<span style=\"color:#516D6E; font-family:Georgia; font-size:1.4em;\"> Prueba de estacionariedad </span>\n",
    "\n",
    "Una serie de tiempo es estacionaria cuando la media y la variabilidad se mantienen constantes a lo largo del tiempo, es decir, no es en función del tiempo; y además, no presenta tendencia\n",
    "\n",
    "-----\n",
    "\n",
    "<span style=\"color:#29AECE; font-family:Georgia; font-size:1.2em;\"> Prueba de  Dicky-Fuller aumentada </span> - [LINK]('https://es.wikipedia.org/wiki/Prueba_de_Dickey-Fuller_aumentada')\n",
    "\n",
    "En estadística y econometría, una prueba de Dickey-Fuller aumentada (ADF) es una prueba de raíz unitaria para una muestra de una serie de tiempo. Es una versión aumentada de la prueba Dickey-Fuller para un conjunto más amplio y más complejo de modelos de series de tiempo. La estadística Dickey-Fuller Aumentada (ADF), utilizada en la prueba, es un número negativo. Cuanto más negativo es, más fuerte es el rechazo de la hipótesis nula de que existe una raíz unitaria para un cierto nivel de confianza\n",
    "\n",
    ">Ho: No es estacionaria (tiene unit-root)\n",
    ">\n",
    ">Hi: Es estacionaria (No tiene raiz unitaria)\n",
    "\n",
    "Aceptar Ho si: \n",
    "p_value > 0.05\n",
    "\n",
    "- [adfuller]('https://www.statsmodels.org/dev/generated/statsmodels.tsa.stattools.adfuller.html')"
   ]
  },
  {
   "cell_type": "code",
   "execution_count": 48,
   "metadata": {},
   "outputs": [],
   "source": [
    "def check_stationarity(data):\n",
    "    # Usar dicky fuller\n",
    "    test_results = adfuller(data)\n",
    "    \n",
    "    if test_results[0] < 0 and test_results[1] <= 0.05:\n",
    "        result = True\n",
    "    else:\n",
    "        result = False\n",
    "    results = {'Resultado': result,\n",
    "               'Test stadisctic': test_results[0],\n",
    "               'P-value': test_results[1]\n",
    "               }\n",
    "    out=results\n",
    "    if test_results[1]>0.01:\n",
    "        data_d1 = data.diff().dropna()\n",
    "        results_d1 = adfuller(data_d1)\n",
    "        if results_d1[0] < 0 and results_d1[1] <= 0.01:\n",
    "\n",
    "            results_d1 = {'Resultado':True,\n",
    "                          'Test stadistic':results_d1[0],\n",
    "                          'P-value':results_d1[1]\n",
    "\n",
    "            }\n",
    "        out={'Datos originales': results,\n",
    "             'Primera diferencia': results_d1}\n",
    "    return out\n",
    "    #return test_results"
   ]
  },
  {
   "cell_type": "code",
   "execution_count": 47,
   "metadata": {},
   "outputs": [
    {
     "data": {
      "text/plain": [
       "(1.1221500532266893,\n",
       " 0.9954013006159506,\n",
       " 8,\n",
       " 13,\n",
       " {'1%': -4.068853732362312,\n",
       "  '5%': -3.1271488757396453,\n",
       "  '10%': -2.7017297633136095},\n",
       " 18.412168936443503)"
      ]
     },
     "execution_count": 47,
     "metadata": {},
     "output_type": "execute_result"
    }
   ],
   "source": [
    "check_stationarity(serie_tiempo[0])"
   ]
  },
  {
   "cell_type": "code",
   "execution_count": 49,
   "metadata": {},
   "outputs": [
    {
     "data": {
      "text/plain": [
       "{'Datos originales': {'Resultado': False,\n",
       "  'Test stadisctic': 1.1221500532266893,\n",
       "  'P-value': 0.9954013006159506},\n",
       " 'Primera diferencia': (-3.132441461155261,\n",
       "  0.024243682563541605,\n",
       "  1,\n",
       "  19,\n",
       "  {'1%': -3.8326031418574136,\n",
       "   '5%': -3.0312271701414204,\n",
       "   '10%': -2.655519584487535},\n",
       "  24.93077239634729)}"
      ]
     },
     "execution_count": 49,
     "metadata": {},
     "output_type": "execute_result"
    }
   ],
   "source": [
    "# OUT\n",
    "check_stationarity(serie_tiempo[0])"
   ]
  },
  {
   "cell_type": "code",
   "execution_count": null,
   "metadata": {},
   "outputs": [],
   "source": []
  },
  {
   "cell_type": "code",
   "execution_count": null,
   "metadata": {},
   "outputs": [],
   "source": []
  },
  {
   "cell_type": "code",
   "execution_count": null,
   "metadata": {},
   "outputs": [],
   "source": []
  }
 ],
 "metadata": {
  "kernelspec": {
   "display_name": "Python 3",
   "language": "python",
   "name": "python3"
  },
  "language_info": {
   "codemirror_mode": {
    "name": "ipython",
    "version": 3
   },
   "file_extension": ".py",
   "mimetype": "text/x-python",
   "name": "python",
   "nbconvert_exporter": "python",
   "pygments_lexer": "ipython3",
   "version": "3.7.3"
  }
 },
 "nbformat": 4,
 "nbformat_minor": 2
}
