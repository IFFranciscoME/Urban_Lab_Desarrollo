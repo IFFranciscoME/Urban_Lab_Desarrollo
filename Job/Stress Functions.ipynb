{
 "cells": [
  {
   "cell_type": "markdown",
   "metadata": {},
   "source": [
    "# Tamaño de la empresa"
   ]
  },
  {
   "cell_type": "code",
   "execution_count": 120,
   "metadata": {
    "ExecuteTime": {
     "end_time": "2020-06-27T06:42:55.658933Z",
     "start_time": "2020-06-27T06:42:55.463229Z"
    }
   },
   "outputs": [],
   "source": [
    "# .. ................................................................................... .. #\n",
    "# .. Proyecto: UrbanLab - Plataforma de ayuda para micro y pequeñas empresas             .. #\n",
    "# .. Archivo: stress_size.py - gráfica Estrés por tamaño de empresas                .. #\n",
    "# .. Licencia: Todos los derechos reservados                                             .. #\n",
    "# .. Repositorio: https://github.com/IFFranciscoME/Urban_Lab_App.git                     .. #\n",
    "# .. ................................................................................... .. #\n",
    "\n",
    "import pandas as pd\n",
    "import numpy as np\n",
    "import plotly.graph_objects as go\n",
    "\n",
    "def stress_size(ruta_db):\n",
    "    \"\"\"\n",
    "    Parameters\n",
    "    ---------\n",
    "    :param:\n",
    "        ruta_db: str : Path to the Database\n",
    "    Returns\n",
    "    ---------\n",
    "    :return:\n",
    "        fig: Plotly : Plotly graph ( Use fig.show() )\n",
    "    Debugging\n",
    "    ---------\n",
    "        file_path = 'Base_de_datos.xlsx'\n",
    "\t\tsheet = 'IIEG_E_1'\n",
    "    \"\"\"\n",
    "\n",
    "    df_data = pd.read_excel(ruta_db) # Cambiar ruta para la base de datos\n",
    "    \n",
    "    df_data = df_data.loc[df_data['Municipio'].isin(['Zapopan','Tonalá',\n",
    "                                                     'Tlaquepaque','Tlajomulco de Zúñiga',\n",
    "                                                     'El Salto','Guadalajara'])]\n",
    "    df_data = df_data.reset_index(drop=True)\n",
    "    \n",
    "    \n",
    "    #Acomodo de datos\n",
    "    data = df_data\n",
    "    data = data.replace({\"Más de 52\": 52, \"De 26 a 52\": 26, \"No aplica\": 100, \"No contesto\": 101,\n",
    "                         \"No sé\":102, \"Más de un año\":12})\n",
    "    #estres = np.zeros(len(data))\n",
    "    #estres = data_importado\n",
    "    \n",
    "    #ventas_porcentaje\n",
    "    for i in range(0, len(data)):\n",
    "        if data['ventas_porcentaje'][i]>0 and data['ventas_porcentaje'][i]<=25:\n",
    "            data.loc[i,'ventas_porcentaje'] = 1\n",
    "        if data['ventas_porcentaje'][i]>25 and data['ventas_porcentaje'][i]<=50:\n",
    "            data.loc[i,'ventas_porcentaje'] = 2\n",
    "        if data['ventas_porcentaje'][i]>50 and data['ventas_porcentaje'][i]<=75:\n",
    "            data.loc[i,'ventas_porcentaje'] = 3\n",
    "        if data['ventas_porcentaje'][i]>75 and data['ventas_porcentaje'][i]<=100:\n",
    "            data.loc[i,'ventas_porcentaje'] = 4\n",
    "        if data['ventas_porcentaje'][i]>100:\n",
    "            data.loc[i,'ventas_porcentaje'] = 1  \n",
    "        \n",
    "\n",
    "    #perdidas_porcentaje\n",
    "    for i in range(0, len(data)):\n",
    "        if data['perdidas_porcentaje'][i]>0 and data['perdidas_porcentaje'][i]<=25:\n",
    "            data.loc[i,'perdidas_porcentaje'] = 1\n",
    "        if data['perdidas_porcentaje'][i]>25 and data['perdidas_porcentaje'][i]<=50:\n",
    "            data.loc[i,'perdidas_porcentaje'] = 2\n",
    "        if data['perdidas_porcentaje'][i]>50 and data['perdidas_porcentaje'][i]<=75:\n",
    "            data.loc[i,'perdidas_porcentaje'] = 3\n",
    "        if data['perdidas_porcentaje'][i]>75 and data['perdidas_porcentaje'][i]<=100:\n",
    "            data.loc[i,'perdidas_porcentaje'] = 4\n",
    "        if data['perdidas_porcentaje'][i]>100:\n",
    "            data.loc[i,'perdidas_porcentaje'] = 1 \n",
    "\n",
    "    #capacidad\n",
    "    for i in range(0, len(data)):\n",
    "        if data['capacidad'][i]>0 and data['capacidad'][i]<=25:\n",
    "            data.loc[i,'capacidad'] = 1\n",
    "        if data['capacidad'][i]>25 and data['capacidad'][i]<=50:\n",
    "            data.loc[i,'capacidad'] = 2\n",
    "        if data['capacidad'][i]>50 and data['capacidad'][i]<=75:\n",
    "            data.loc[i,'capacidad'] = 3\n",
    "        if data['capacidad'][i]>75 and data['capacidad'][i]<=100:\n",
    "            data.loc[i,'capacidad'] = 4\n",
    "        if data['capacidad'][i]>100:\n",
    "            data.loc[i,'capacidad'] = 1\n",
    "\n",
    "    #cerrar\n",
    "    for i in range(0, len(data)):\n",
    "        if data['cerrar'][i] == 'Sí':\n",
    "            data.loc[i,'cerrar'] = 2\n",
    "        if data['cerrar'][i] == 'No':\n",
    "            data.loc[i,'cerrar'] = 0\n",
    "\n",
    "    #despidos\n",
    "    for i in range(0, len(data)):\n",
    "        if data['despidos'][i] == 'Sí' or data['despidos'][i] == 'No, pero lo está considerando':\n",
    "            data.loc[i,'despidos'] = 2\n",
    "        if data['despidos'][i] == 'No' or data['despidos'][i] == 'No cuenta con personal':\n",
    "            data.loc[i,'despidos'] = 0\n",
    "        if data['despidos'][i] == 'No, pero lo va a hacer en los próximos días':\n",
    "            data.loc[i,'despidos'] = 3\n",
    "\n",
    "    #plantilla_porcentaje\n",
    "    for i in range(0, len(data)):\n",
    "        if data['plantilla_porcentaje'][i]>0 and data['plantilla_porcentaje'][i]<=25:\n",
    "            data.loc[i,'plantilla_porcentaje'] = 1\n",
    "        if data['plantilla_porcentaje'][i]>25 and data['plantilla_porcentaje'][i]<=50:\n",
    "            data.loc[i,'plantilla_porcentaje'] = 2\n",
    "        if data['plantilla_porcentaje'][i]>50 and data['plantilla_porcentaje'][i]<=75:\n",
    "            data.loc[i,'plantilla_porcentaje'] = 3\n",
    "        if data['plantilla_porcentaje'][i]>75 and data['plantilla_porcentaje'][i]<=100:\n",
    "            data.loc[i,'plantilla_porcentaje'] = 4\n",
    "        if data['plantilla_porcentaje'][i]>100:\n",
    "            data.loc[i,'plantilla_porcentaje'] = 1\n",
    "\n",
    "    #pago_salarios\n",
    "    for i in range(0, len(data)):\n",
    "        if data['pago_salarios'][i] == 100 or data['pago_salarios'][i] == 101 or data['pago_salarios'][i] == 102:\n",
    "            data.loc[i,'pago_salarios'] = 0\n",
    "        if data['pago_salarios'][i]>0 and data['pago_salarios'][i]<=6:\n",
    "            data.loc[i,'pago_salarios'] = 1\n",
    "        if data['pago_salarios'][i]>6 and data['pago_salarios'][i]<=12:\n",
    "            data.loc[i,'pago_salarios'] = 2\n",
    "        if data['pago_salarios'][i]>12 and data['pago_salarios'][i]<=18:\n",
    "            data.loc[i,'pago_salarios'] = 3\n",
    "        if data['pago_salarios'][i]>18:\n",
    "            data.loc[i,'pago_salarios'] = 4\n",
    "\n",
    "    #pago_impuestos\n",
    "    for i in range(0, len(data)):\n",
    "        if data['pago_impuestos'][i] == 100 or data['pago_impuestos'][i] == 101 or data['pago_impuestos'][i] == 102:\n",
    "            data.loc[i,'pago_impuestos'] = 0\n",
    "        if data['pago_impuestos'][i]>0 and data['pago_impuestos'][i]<=6:\n",
    "            data.loc[i,'pago_impuestos'] = 1\n",
    "        if data['pago_impuestos'][i]>6 and data['pago_impuestos'][i]<=12:\n",
    "            data.loc[i,'pago_impuestos'] = 2\n",
    "        if data['pago_impuestos'][i]>12 and data['pago_impuestos'][i]<=18:\n",
    "            data.loc[i,'pago_impuestos'] = 3\n",
    "        if data['pago_impuestos'][i]>18:\n",
    "            data.loc[i,'pago_impuestos'] = 4\n",
    "\n",
    "    #pago_credito\n",
    "    for i in range(0, len(data)):\n",
    "        if data['pago_creditos'][i] == 100 or data['pago_creditos'][i] == 101  or data['pago_creditos'][i] == 102:\n",
    "            data.loc[i,'pago_creditos'] = 0\n",
    "        if data['pago_creditos'][i]>0 and data['pago_creditos'][i]<=6:\n",
    "            data.loc[i,'pago_creditos'] = 1\n",
    "        if data['pago_creditos'][i]>6 and data['pago_creditos'][i]<=12:\n",
    "            data.loc[i,'pago_creditos'] = 2\n",
    "        if data['pago_creditos'][i]>12 and data['pago_creditos'][i]<=18:\n",
    "            data.loc[i,'pago_creditos'] = 3\n",
    "        if data['pago_creditos'][i]>18:\n",
    "            data.loc[i,'pago_creditos'] = 4\n",
    "\n",
    "    #pago_renta\n",
    "    for i in range(0, len(data)):\n",
    "        if data['pago_renta'][i] == 100 or data['pago_renta'][i] == 101  or data['pago_renta'][i] == 102:\n",
    "            data.loc[i,'pago_renta'] = 0\n",
    "        if data['pago_renta'][i]>0 and data['pago_renta'][i]<=6:\n",
    "            data.loc[i,'pago_renta'] = 1\n",
    "        if data['pago_renta'][i]>6 and data['pago_renta'][i]<=12:\n",
    "            data.loc[i,'pago_renta'] = 2\n",
    "        if data['pago_renta'][i]>12 and data['pago_renta'][i]<=18:\n",
    "            data.loc[i] = 3\n",
    "        if data['pago_renta'][i]>18:\n",
    "            data.loc[i,'pago_renta'] = 4\n",
    "\n",
    "    #pago_internet\n",
    "    for i in range(0, len(data)):\n",
    "        if data['pago_internet'][i] == 100 or data['pago_internet'][i] == 101  or data['pago_internet'][i] == 102:\n",
    "            data.loc[i,'pago_internet'] = 0\n",
    "        if data['pago_internet'][i]>0 and data['pago_internet'][i]<=6:\n",
    "            data.loc[i,'pago_internet'] = 1\n",
    "        if data['pago_internet'][i]>6 and data['pago_internet'][i]<=12:\n",
    "            data.loc[i,'pago_internet'] = 2\n",
    "        if data['pago_internet'][i]>12 and data['pago_internet'][i]<=18:\n",
    "            data.loc[i,'pago_internet'] = 3\n",
    "        if data['pago_internet'][i]>18:\n",
    "            data.loc[i,'pago_internet'] = 4\n",
    "\n",
    "    #pago_agua\n",
    "    for i in range(0, len(data)):\n",
    "        if data['pago_agua'][i] == 100 or data['pago_agua'][i] == 101  or data['pago_agua'][i] == 102:\n",
    "            data.loc[i,'pago_agua'] = 0\n",
    "        if data['pago_agua'][i]>0 and data['pago_agua'][i]<=6:\n",
    "            data.loc[i,'pago_agua'] = 1\n",
    "        if data['pago_agua'][i]>6 and data['pago_agua'][i]<=12:\n",
    "            data.loc[i,'pago_agua'] = 2\n",
    "        if data['pago_agua'][i]>12 and data['pago_agua'][i]<=18:\n",
    "            data.loc[i,'pago_agua'] = 3\n",
    "        if data['pago_agua'][i]>18:\n",
    "            data.loc[i,'pago_agua'] = 4\n",
    "\n",
    "    #pago_luz\n",
    "    for i in range(0, len(data)):\n",
    "        if data['pago_luz'][i] == 100 or data['pago_luz'][i] == 101  or data['pago_luz'][i] == 102:\n",
    "            data.loc[i,'pago_luz'] = 0\n",
    "        if data['pago_luz'][i]>0 and data['pago_luz'][i]<=6:\n",
    "            data.loc[i,'pago_luz'] = 1\n",
    "        if data['pago_luz'][i]>6 and data['pago_luz'][i]<=12:\n",
    "            data.loc[i,'pago_luz'] = 2\n",
    "        if data['pago_luz'][i]>12 and data['pago_luz'][i]<=18:\n",
    "            data.loc[i,'pago_luz'] = 3\n",
    "        if data['pago_luz'][i]>18:\n",
    "            data.loc[i,'pago_luz'] = 4\n",
    "\n",
    "    #pago_gas\n",
    "    for i in range(0, len(data)):\n",
    "        if data['pago_gas'][i] == 100 or data['pago_gas'][i] == 101  or data['pago_gas'][i] == 102:\n",
    "            data.loc[i,'pago_gas'] = 0\n",
    "        if data['pago_gas'][i]>0 and data['pago_gas'][i]<=6:\n",
    "            data.loc[i,'pago_gas'] = 1\n",
    "        if data['pago_gas'][i]>6 and data['pago_gas'][i]<=12:\n",
    "            data.loc[i,'pago_gas'] = 2\n",
    "        if data['pago_gas'][i]>12 and data['pago_gas'][i]<=18:\n",
    "            data.loc[i,'pago_gas'] = 3\n",
    "        if data['pago_gas'][i]>18:\n",
    "            data.loc[i,'pago_gas'] = 4\n",
    "\n",
    "    #duracion\n",
    "    for i in range(0, len(data)):\n",
    "        if  data['duracion'][i] == 12 or data['duracion'][i] == 102:\n",
    "            data.loc[i,'duracion'] = 0\n",
    "        if data['duracion'][i]>0 and data['duracion'][i]<=6:\n",
    "            data.loc[i,'duracion'] = 1\n",
    "        if data['duracion'][i]>6 and data['duracion'][i]<=12:\n",
    "            data.loc[i,'duracion'] = 2\n",
    "        if data['duracion'][i]>12 and data['duracion'][i]<=18:\n",
    "            data.loc[i,'duracion'] = 3\n",
    "        if data['duracion'][i]>18:\n",
    "            data.loc[i,'duracion'] = 4\n",
    "\n",
    "    #capacidad_pago\n",
    "    for i in range(0, len(data)):\n",
    "        if data['capacidad_pago'][i] == 'Sí':\n",
    "            data.loc[i,'capacidad_pago'] = 1\n",
    "        if data['capacidad_pago'][i] == 'No':\n",
    "            data.loc[i,'capacidad_pago'] = 2\n",
    "        if data['capacidad_pago'][i] == 'No sé':\n",
    "            data.loc[i,'capacidad_pago'] = 0\n",
    "        if data['capacidad_pago'][i] == 100:\n",
    "            data.loc[i,'capacidad_pago'] = 0\n",
    "        if data['capacidad_pago'][i] == 102:\n",
    "            data.loc[i,'capacidad_pago'] = 0\n",
    "        if data['capacidad_pago'][i] == 101:\n",
    "            data.loc[i,'capacidad_pago'] = 0\n",
    "\n",
    "    #credito\n",
    "    for i in range(0, len(data)):\n",
    "        if data['credito'][i] == 'Sí':\n",
    "            data.loc[i,'credito'] = 2\n",
    "        if data['credito'][i] == 'No':\n",
    "            data.loc[i,'credito'] = 0\n",
    "        if data['credito'][i] == 'No':\n",
    "            data.loc[i,'credito'] = 0\n",
    "\n",
    "    #aumento_insumos\n",
    "    for i in range(0, len(data)):\n",
    "        if data['aumento_insumos'][i] == 'Sí':\n",
    "            data.loc[i,'aumento_insumos'] = 3\n",
    "        if data['aumento_insumos'][i] == 'No':\n",
    "            data.loc[i,'aumento_insumos'] = 0\n",
    "        if data['aumento_insumos'][i] == 'No, pero lo estoy considerando':\n",
    "            data.loc[i,'aumento_insumos'] = 0\n",
    "        if data['aumento_insumos'][i] == 102:\n",
    "            data.loc[i,'aumento_insumos'] = 0\n",
    "\n",
    "    #aumento_precios\n",
    "    for i in range(0, len(data)):\n",
    "        if data['aumento_precios'][i] == 'Sí':\n",
    "            data.loc[i,'aumento_precios'] = 3\n",
    "        if data['aumento_precios'][i] == 'No':\n",
    "            data.loc[i,'aumento_precios'] = 0\n",
    "        if data['aumento_precios'][i]==100:\n",
    "            data.loc[i,'aumento_precios'] = 0\n",
    "        if data['aumento_precios'][i]==102:\n",
    "            data.loc[i,'aumento_precios'] = 0\n",
    "        if data['aumento_precios'][i]==101:\n",
    "            data.loc[i,'aumento_precios'] = 0\n",
    "        if data['aumento_precios'][i] == 'No, pero lo estoy considerando':\n",
    "            data.loc[i,'aumento_precios'] = 0\n",
    "\n",
    "    #escasez_insumos\n",
    "    for i in range(0, len(data)):\n",
    "        if data['escasez_insumos'][i] == 'Sí':\n",
    "            data.loc[i,'escasez_insumos'] = 3\n",
    "        if data['escasez_insumos'][i] == 'No':\n",
    "            data.loc[i,'escasez_insumos'] = 0\n",
    "        if data['escasez_insumos'][i] == 102:\n",
    "            data.loc[i,'escasez_insumos'] = 0\n",
    "\n",
    "    #aumento_tipocambio\n",
    "    for i in range(0, len(data)):\n",
    "        if data['aumento_tipocambio'][i] == 'Sí':\n",
    "            data.loc[i,'aumento_tipocambio'] = 4\n",
    "        if data['aumento_tipocambio'][i] == 'No':\n",
    "            data.loc[i,'aumento_tipocambio'] = 0\n",
    "        if data['aumento_tipocambio'][i] == 102:\n",
    "            data.loc[i,'aumento_tipocambio'] = 0\n",
    "    \n",
    "    #Tabla de Estrés\n",
    "    column = data[['Municipio', 'Sector', 'Giro', 'Tamaño','ventas_porcentaje','perdidas_porcentaje',\n",
    "                   'capacidad','cerrar','despidos',\n",
    "      'plantilla_porcentaje', 'pago_salarios', 'pago_impuestos', 'pago_creditos','pago_renta','pago_internet','pago_agua',\n",
    "                  'pago_luz','pago_gas','duracion','capacidad_pago','credito','aumento_insumos','aumento_precios',\n",
    "                  'escasez_insumos','aumento_tipocambio']]\n",
    "    column = column.astype({'ventas_porcentaje': int,'perdidas_porcentaje': int, 'capacidad': int,'cerrar': int\n",
    "                        ,'despidos': int, 'plantilla_porcentaje': int, 'pago_salarios': int\n",
    "                        , 'pago_impuestos': int, 'pago_creditos': int,'pago_renta': int,'pago_internet': int, 'pago_agua': int,\n",
    "                           'pago_luz': int, 'pago_gas': int, 'duracion': int, 'capacidad_pago': int, 'credito': int,\n",
    "                           'aumento_insumos': int,\n",
    "                            'aumento_precios': int,\n",
    "                            'escasez_insumos': int,\n",
    "                            'aumento_tipocambio': int})\n",
    "\n",
    "    column['Estrés'] = column['ventas_porcentaje']+column['perdidas_porcentaje']+column['capacidad']+\\\n",
    "                         column['cerrar']+column['despidos']+column['plantilla_porcentaje']+column['pago_salarios']+\\\n",
    "                         column['pago_impuestos']+column['pago_creditos']+column['pago_renta']+\\\n",
    "                         column['pago_internet']+ column['pago_agua']+\\\n",
    "                         column['pago_luz']+column['pago_gas']+column['duracion']+column['capacidad_pago']+\\\n",
    "                         column['credito']+column['aumento_insumos']+column['aumento_precios']+column['escasez_insumos']+\\\n",
    "                         column['aumento_tipocambio']\n",
    "\n",
    "    \n",
    "    # Creación de tabla resumen\n",
    "    pivot_size = pd.pivot_table(column,index = ['Tamaño'],\n",
    "                                values = ['ventas_porcentaje','perdidas_porcentaje',\n",
    "                                          'capacidad','cerrar','despidos','plantilla_porcentaje','pago_salarios',\n",
    "                                          'pago_impuestos',\n",
    "                                          'pago_creditos', 'pago_renta', 'pago_internet',\n",
    "                                          'pago_agua','pago_luz','pago_gas','duracion','capacidad_pago',\n",
    "                                          'credito','aumento_insumos',\n",
    "                                         'aumento_precios','escasez_insumos','aumento_tipocambio'], aggfunc=np.median)\n",
    "\n",
    "    pivot_size['Estrés'] = pivot_size['ventas_porcentaje']+pivot_size['perdidas_porcentaje']+\\\n",
    "                         pivot_size['capacidad']+pivot_size['cerrar']+pivot_size['despidos']+\\\n",
    "                         pivot_size['plantilla_porcentaje']+pivot_size['pago_salarios']+\\\n",
    "                         pivot_size['pago_impuestos']+pivot_size['pago_creditos']+\\\n",
    "                         pivot_size['pago_renta']+pivot_size['pago_internet']+pivot_size['pago_agua']+\\\n",
    "                         pivot_size['pago_luz']++pivot_size['pago_gas']+pivot_size['duracion']+\\\n",
    "                         pivot_size['capacidad_pago']+pivot_size['credito']+pivot_size['aumento_insumos']+\\\n",
    "                         pivot_size['aumento_precios']+pivot_size['escasez_insumos']+pivot_size['aumento_tipocambio']\n",
    "    \n",
    "            \n",
    "    #Creacion de figura\n",
    "    fig = go.Figure()\n",
    "\n",
    "    fig.add_trace(go.Indicator(\n",
    "        value = pivot_size.loc['Micro','Estrés'],\n",
    "        title = {'text': \"Micro\"},\n",
    "        gauge = {\n",
    "            'bar': {'color': \"salmon\"},\n",
    "            'axis': {'range': [None, 41],'visible': False}},\n",
    "        domain = {'row': 0, 'column': 0}))\n",
    "\n",
    "    fig.add_trace(go.Indicator(\n",
    "        value = pivot_size.loc['Pequeña','Estrés'],\n",
    "        title = {'text': \"Pequeña\"},\n",
    "        gauge = {\n",
    "            'bar': {'color': \"crimson\"},\n",
    "            'axis': {'range': [None, 41],'visible': False}},\n",
    "        domain = {'row': 0, 'column': 1}))\n",
    "\n",
    "    fig.add_trace(go.Indicator(\n",
    "        value = pivot_size.loc['Mediana','Estrés'],\n",
    "        title = {'text': \"Mediana\"},\n",
    "        gauge = {\n",
    "            'bar': {'color': \"red\"},\n",
    "            'axis': {'range': [None, 41],'visible': False}},\n",
    "        domain = {'row': 1, 'column': 0}))\n",
    "\n",
    "\n",
    "    fig.add_trace(go.Indicator(\n",
    "        value = pivot_size.loc['Grande','Estrés'],\n",
    "        title = {'text': \"Grande\"},\n",
    "        gauge = {\n",
    "            'bar': {'color': \"red\"},\n",
    "            'axis': {'range': [None, 41],'visible': False}},\n",
    "        domain = {'row': 1, 'column': 1}))\n",
    "\n",
    "\n",
    "    fig.update_layout(title=\"Estrés en los Tamaños de las empresas\",\n",
    "                      grid = {'rows': 2, 'columns': 2, 'pattern': \"independent\"},\n",
    "                      template = {'data' : {'indicator': [{\n",
    "                          'title': {'text': \"Tamaño\"},\n",
    "                          'mode' : \"number+gauge\"}]}})\n",
    "            \n",
    "    return fig"
   ]
  },
  {
   "cell_type": "code",
   "execution_count": 121,
   "metadata": {
    "ExecuteTime": {
     "end_time": "2020-06-27T06:43:28.488363Z",
     "start_time": "2020-06-27T06:42:55.788157Z"
    }
   },
   "outputs": [
    {
     "data": {
      "application/vnd.plotly.v1+json": {
       "config": {
        "plotlyServerURL": "https://plot.ly"
       },
       "data": [
        {
         "domain": {
          "column": 0,
          "row": 0
         },
         "gauge": {
          "axis": {
           "range": [
            null,
            41
           ],
           "visible": false
          },
          "bar": {
           "color": "salmon"
          }
         },
         "title": {
          "text": "Micro"
         },
         "type": "indicator",
         "value": 30
        },
        {
         "domain": {
          "column": 1,
          "row": 0
         },
         "gauge": {
          "axis": {
           "range": [
            null,
            41
           ],
           "visible": false
          },
          "bar": {
           "color": "crimson"
          }
         },
         "title": {
          "text": "Pequeña"
         },
         "type": "indicator",
         "value": 32.5
        },
        {
         "domain": {
          "column": 0,
          "row": 1
         },
         "gauge": {
          "axis": {
           "range": [
            null,
            41
           ],
           "visible": false
          },
          "bar": {
           "color": "red"
          }
         },
         "title": {
          "text": "Mediana"
         },
         "type": "indicator",
         "value": 32
        },
        {
         "domain": {
          "column": 1,
          "row": 1
         },
         "gauge": {
          "axis": {
           "range": [
            null,
            41
           ],
           "visible": false
          },
          "bar": {
           "color": "red"
          }
         },
         "title": {
          "text": "Grande"
         },
         "type": "indicator",
         "value": 32
        }
       ],
       "layout": {
        "grid": {
         "columns": 2,
         "pattern": "independent",
         "rows": 2
        },
        "template": {
         "data": {
          "bar": [
           {
            "error_x": {
             "color": "#2a3f5f"
            },
            "error_y": {
             "color": "#2a3f5f"
            },
            "marker": {
             "line": {
              "color": "#E5ECF6",
              "width": 0.5
             }
            },
            "type": "bar"
           }
          ],
          "barpolar": [
           {
            "marker": {
             "line": {
              "color": "#E5ECF6",
              "width": 0.5
             }
            },
            "type": "barpolar"
           }
          ],
          "carpet": [
           {
            "aaxis": {
             "endlinecolor": "#2a3f5f",
             "gridcolor": "white",
             "linecolor": "white",
             "minorgridcolor": "white",
             "startlinecolor": "#2a3f5f"
            },
            "baxis": {
             "endlinecolor": "#2a3f5f",
             "gridcolor": "white",
             "linecolor": "white",
             "minorgridcolor": "white",
             "startlinecolor": "#2a3f5f"
            },
            "type": "carpet"
           }
          ],
          "choropleth": [
           {
            "colorbar": {
             "outlinewidth": 0,
             "ticks": ""
            },
            "type": "choropleth"
           }
          ],
          "contour": [
           {
            "colorbar": {
             "outlinewidth": 0,
             "ticks": ""
            },
            "colorscale": [
             [
              0,
              "#0d0887"
             ],
             [
              0.1111111111111111,
              "#46039f"
             ],
             [
              0.2222222222222222,
              "#7201a8"
             ],
             [
              0.3333333333333333,
              "#9c179e"
             ],
             [
              0.4444444444444444,
              "#bd3786"
             ],
             [
              0.5555555555555556,
              "#d8576b"
             ],
             [
              0.6666666666666666,
              "#ed7953"
             ],
             [
              0.7777777777777778,
              "#fb9f3a"
             ],
             [
              0.8888888888888888,
              "#fdca26"
             ],
             [
              1,
              "#f0f921"
             ]
            ],
            "type": "contour"
           }
          ],
          "contourcarpet": [
           {
            "colorbar": {
             "outlinewidth": 0,
             "ticks": ""
            },
            "type": "contourcarpet"
           }
          ],
          "heatmap": [
           {
            "colorbar": {
             "outlinewidth": 0,
             "ticks": ""
            },
            "colorscale": [
             [
              0,
              "#0d0887"
             ],
             [
              0.1111111111111111,
              "#46039f"
             ],
             [
              0.2222222222222222,
              "#7201a8"
             ],
             [
              0.3333333333333333,
              "#9c179e"
             ],
             [
              0.4444444444444444,
              "#bd3786"
             ],
             [
              0.5555555555555556,
              "#d8576b"
             ],
             [
              0.6666666666666666,
              "#ed7953"
             ],
             [
              0.7777777777777778,
              "#fb9f3a"
             ],
             [
              0.8888888888888888,
              "#fdca26"
             ],
             [
              1,
              "#f0f921"
             ]
            ],
            "type": "heatmap"
           }
          ],
          "heatmapgl": [
           {
            "colorbar": {
             "outlinewidth": 0,
             "ticks": ""
            },
            "colorscale": [
             [
              0,
              "#0d0887"
             ],
             [
              0.1111111111111111,
              "#46039f"
             ],
             [
              0.2222222222222222,
              "#7201a8"
             ],
             [
              0.3333333333333333,
              "#9c179e"
             ],
             [
              0.4444444444444444,
              "#bd3786"
             ],
             [
              0.5555555555555556,
              "#d8576b"
             ],
             [
              0.6666666666666666,
              "#ed7953"
             ],
             [
              0.7777777777777778,
              "#fb9f3a"
             ],
             [
              0.8888888888888888,
              "#fdca26"
             ],
             [
              1,
              "#f0f921"
             ]
            ],
            "type": "heatmapgl"
           }
          ],
          "histogram": [
           {
            "marker": {
             "colorbar": {
              "outlinewidth": 0,
              "ticks": ""
             }
            },
            "type": "histogram"
           }
          ],
          "histogram2d": [
           {
            "colorbar": {
             "outlinewidth": 0,
             "ticks": ""
            },
            "colorscale": [
             [
              0,
              "#0d0887"
             ],
             [
              0.1111111111111111,
              "#46039f"
             ],
             [
              0.2222222222222222,
              "#7201a8"
             ],
             [
              0.3333333333333333,
              "#9c179e"
             ],
             [
              0.4444444444444444,
              "#bd3786"
             ],
             [
              0.5555555555555556,
              "#d8576b"
             ],
             [
              0.6666666666666666,
              "#ed7953"
             ],
             [
              0.7777777777777778,
              "#fb9f3a"
             ],
             [
              0.8888888888888888,
              "#fdca26"
             ],
             [
              1,
              "#f0f921"
             ]
            ],
            "type": "histogram2d"
           }
          ],
          "histogram2dcontour": [
           {
            "colorbar": {
             "outlinewidth": 0,
             "ticks": ""
            },
            "colorscale": [
             [
              0,
              "#0d0887"
             ],
             [
              0.1111111111111111,
              "#46039f"
             ],
             [
              0.2222222222222222,
              "#7201a8"
             ],
             [
              0.3333333333333333,
              "#9c179e"
             ],
             [
              0.4444444444444444,
              "#bd3786"
             ],
             [
              0.5555555555555556,
              "#d8576b"
             ],
             [
              0.6666666666666666,
              "#ed7953"
             ],
             [
              0.7777777777777778,
              "#fb9f3a"
             ],
             [
              0.8888888888888888,
              "#fdca26"
             ],
             [
              1,
              "#f0f921"
             ]
            ],
            "type": "histogram2dcontour"
           }
          ],
          "indicator": [
           {
            "mode": "number+gauge",
            "title": {
             "text": "Tamaño"
            },
            "type": "indicator"
           }
          ],
          "mesh3d": [
           {
            "colorbar": {
             "outlinewidth": 0,
             "ticks": ""
            },
            "type": "mesh3d"
           }
          ],
          "parcoords": [
           {
            "line": {
             "colorbar": {
              "outlinewidth": 0,
              "ticks": ""
             }
            },
            "type": "parcoords"
           }
          ],
          "pie": [
           {
            "automargin": true,
            "type": "pie"
           }
          ],
          "scatter": [
           {
            "marker": {
             "colorbar": {
              "outlinewidth": 0,
              "ticks": ""
             }
            },
            "type": "scatter"
           }
          ],
          "scatter3d": [
           {
            "line": {
             "colorbar": {
              "outlinewidth": 0,
              "ticks": ""
             }
            },
            "marker": {
             "colorbar": {
              "outlinewidth": 0,
              "ticks": ""
             }
            },
            "type": "scatter3d"
           }
          ],
          "scattercarpet": [
           {
            "marker": {
             "colorbar": {
              "outlinewidth": 0,
              "ticks": ""
             }
            },
            "type": "scattercarpet"
           }
          ],
          "scattergeo": [
           {
            "marker": {
             "colorbar": {
              "outlinewidth": 0,
              "ticks": ""
             }
            },
            "type": "scattergeo"
           }
          ],
          "scattergl": [
           {
            "marker": {
             "colorbar": {
              "outlinewidth": 0,
              "ticks": ""
             }
            },
            "type": "scattergl"
           }
          ],
          "scattermapbox": [
           {
            "marker": {
             "colorbar": {
              "outlinewidth": 0,
              "ticks": ""
             }
            },
            "type": "scattermapbox"
           }
          ],
          "scatterpolar": [
           {
            "marker": {
             "colorbar": {
              "outlinewidth": 0,
              "ticks": ""
             }
            },
            "type": "scatterpolar"
           }
          ],
          "scatterpolargl": [
           {
            "marker": {
             "colorbar": {
              "outlinewidth": 0,
              "ticks": ""
             }
            },
            "type": "scatterpolargl"
           }
          ],
          "scatterternary": [
           {
            "marker": {
             "colorbar": {
              "outlinewidth": 0,
              "ticks": ""
             }
            },
            "type": "scatterternary"
           }
          ],
          "surface": [
           {
            "colorbar": {
             "outlinewidth": 0,
             "ticks": ""
            },
            "colorscale": [
             [
              0,
              "#0d0887"
             ],
             [
              0.1111111111111111,
              "#46039f"
             ],
             [
              0.2222222222222222,
              "#7201a8"
             ],
             [
              0.3333333333333333,
              "#9c179e"
             ],
             [
              0.4444444444444444,
              "#bd3786"
             ],
             [
              0.5555555555555556,
              "#d8576b"
             ],
             [
              0.6666666666666666,
              "#ed7953"
             ],
             [
              0.7777777777777778,
              "#fb9f3a"
             ],
             [
              0.8888888888888888,
              "#fdca26"
             ],
             [
              1,
              "#f0f921"
             ]
            ],
            "type": "surface"
           }
          ],
          "table": [
           {
            "cells": {
             "fill": {
              "color": "#EBF0F8"
             },
             "line": {
              "color": "white"
             }
            },
            "header": {
             "fill": {
              "color": "#C8D4E3"
             },
             "line": {
              "color": "white"
             }
            },
            "type": "table"
           }
          ]
         },
         "layout": {
          "annotationdefaults": {
           "arrowcolor": "#2a3f5f",
           "arrowhead": 0,
           "arrowwidth": 1
          },
          "coloraxis": {
           "colorbar": {
            "outlinewidth": 0,
            "ticks": ""
           }
          },
          "colorscale": {
           "diverging": [
            [
             0,
             "#8e0152"
            ],
            [
             0.1,
             "#c51b7d"
            ],
            [
             0.2,
             "#de77ae"
            ],
            [
             0.3,
             "#f1b6da"
            ],
            [
             0.4,
             "#fde0ef"
            ],
            [
             0.5,
             "#f7f7f7"
            ],
            [
             0.6,
             "#e6f5d0"
            ],
            [
             0.7,
             "#b8e186"
            ],
            [
             0.8,
             "#7fbc41"
            ],
            [
             0.9,
             "#4d9221"
            ],
            [
             1,
             "#276419"
            ]
           ],
           "sequential": [
            [
             0,
             "#0d0887"
            ],
            [
             0.1111111111111111,
             "#46039f"
            ],
            [
             0.2222222222222222,
             "#7201a8"
            ],
            [
             0.3333333333333333,
             "#9c179e"
            ],
            [
             0.4444444444444444,
             "#bd3786"
            ],
            [
             0.5555555555555556,
             "#d8576b"
            ],
            [
             0.6666666666666666,
             "#ed7953"
            ],
            [
             0.7777777777777778,
             "#fb9f3a"
            ],
            [
             0.8888888888888888,
             "#fdca26"
            ],
            [
             1,
             "#f0f921"
            ]
           ],
           "sequentialminus": [
            [
             0,
             "#0d0887"
            ],
            [
             0.1111111111111111,
             "#46039f"
            ],
            [
             0.2222222222222222,
             "#7201a8"
            ],
            [
             0.3333333333333333,
             "#9c179e"
            ],
            [
             0.4444444444444444,
             "#bd3786"
            ],
            [
             0.5555555555555556,
             "#d8576b"
            ],
            [
             0.6666666666666666,
             "#ed7953"
            ],
            [
             0.7777777777777778,
             "#fb9f3a"
            ],
            [
             0.8888888888888888,
             "#fdca26"
            ],
            [
             1,
             "#f0f921"
            ]
           ]
          },
          "colorway": [
           "#636efa",
           "#EF553B",
           "#00cc96",
           "#ab63fa",
           "#FFA15A",
           "#19d3f3",
           "#FF6692",
           "#B6E880",
           "#FF97FF",
           "#FECB52"
          ],
          "font": {
           "color": "#2a3f5f"
          },
          "geo": {
           "bgcolor": "white",
           "lakecolor": "white",
           "landcolor": "#E5ECF6",
           "showlakes": true,
           "showland": true,
           "subunitcolor": "white"
          },
          "hoverlabel": {
           "align": "left"
          },
          "hovermode": "closest",
          "mapbox": {
           "style": "light"
          },
          "paper_bgcolor": "white",
          "plot_bgcolor": "#E5ECF6",
          "polar": {
           "angularaxis": {
            "gridcolor": "white",
            "linecolor": "white",
            "ticks": ""
           },
           "bgcolor": "#E5ECF6",
           "radialaxis": {
            "gridcolor": "white",
            "linecolor": "white",
            "ticks": ""
           }
          },
          "scene": {
           "xaxis": {
            "backgroundcolor": "#E5ECF6",
            "gridcolor": "white",
            "gridwidth": 2,
            "linecolor": "white",
            "showbackground": true,
            "ticks": "",
            "zerolinecolor": "white"
           },
           "yaxis": {
            "backgroundcolor": "#E5ECF6",
            "gridcolor": "white",
            "gridwidth": 2,
            "linecolor": "white",
            "showbackground": true,
            "ticks": "",
            "zerolinecolor": "white"
           },
           "zaxis": {
            "backgroundcolor": "#E5ECF6",
            "gridcolor": "white",
            "gridwidth": 2,
            "linecolor": "white",
            "showbackground": true,
            "ticks": "",
            "zerolinecolor": "white"
           }
          },
          "shapedefaults": {
           "line": {
            "color": "#2a3f5f"
           }
          },
          "ternary": {
           "aaxis": {
            "gridcolor": "white",
            "linecolor": "white",
            "ticks": ""
           },
           "baxis": {
            "gridcolor": "white",
            "linecolor": "white",
            "ticks": ""
           },
           "bgcolor": "#E5ECF6",
           "caxis": {
            "gridcolor": "white",
            "linecolor": "white",
            "ticks": ""
           }
          },
          "title": {
           "x": 0.05
          },
          "xaxis": {
           "automargin": true,
           "gridcolor": "white",
           "linecolor": "white",
           "ticks": "",
           "title": {
            "standoff": 15
           },
           "zerolinecolor": "white",
           "zerolinewidth": 2
          },
          "yaxis": {
           "automargin": true,
           "gridcolor": "white",
           "linecolor": "white",
           "ticks": "",
           "title": {
            "standoff": 15
           },
           "zerolinecolor": "white",
           "zerolinewidth": 2
          }
         }
        },
        "title": {
         "text": "Estrés en los Tamaños de las empresas"
        }
       }
      },
      "text/html": [
       "<div>\n",
       "        \n",
       "        \n",
       "            <div id=\"bc08f555-2b20-46ef-b7d6-9b910463e61b\" class=\"plotly-graph-div\" style=\"height:525px; width:100%;\"></div>\n",
       "            <script type=\"text/javascript\">\n",
       "                require([\"plotly\"], function(Plotly) {\n",
       "                    window.PLOTLYENV=window.PLOTLYENV || {};\n",
       "                    \n",
       "                if (document.getElementById(\"bc08f555-2b20-46ef-b7d6-9b910463e61b\")) {\n",
       "                    Plotly.newPlot(\n",
       "                        'bc08f555-2b20-46ef-b7d6-9b910463e61b',\n",
       "                        [{\"domain\": {\"column\": 0, \"row\": 0}, \"gauge\": {\"axis\": {\"range\": [null, 41], \"visible\": false}, \"bar\": {\"color\": \"salmon\"}}, \"title\": {\"text\": \"Micro\"}, \"type\": \"indicator\", \"value\": 30.0}, {\"domain\": {\"column\": 1, \"row\": 0}, \"gauge\": {\"axis\": {\"range\": [null, 41], \"visible\": false}, \"bar\": {\"color\": \"crimson\"}}, \"title\": {\"text\": \"Peque\\u00f1a\"}, \"type\": \"indicator\", \"value\": 32.5}, {\"domain\": {\"column\": 0, \"row\": 1}, \"gauge\": {\"axis\": {\"range\": [null, 41], \"visible\": false}, \"bar\": {\"color\": \"red\"}}, \"title\": {\"text\": \"Mediana\"}, \"type\": \"indicator\", \"value\": 32.0}, {\"domain\": {\"column\": 1, \"row\": 1}, \"gauge\": {\"axis\": {\"range\": [null, 41], \"visible\": false}, \"bar\": {\"color\": \"red\"}}, \"title\": {\"text\": \"Grande\"}, \"type\": \"indicator\", \"value\": 32.0}],\n",
       "                        {\"grid\": {\"columns\": 2, \"pattern\": \"independent\", \"rows\": 2}, \"template\": {\"data\": {\"bar\": [{\"error_x\": {\"color\": \"#2a3f5f\"}, \"error_y\": {\"color\": \"#2a3f5f\"}, \"marker\": {\"line\": {\"color\": \"#E5ECF6\", \"width\": 0.5}}, \"type\": \"bar\"}], \"barpolar\": [{\"marker\": {\"line\": {\"color\": \"#E5ECF6\", \"width\": 0.5}}, \"type\": \"barpolar\"}], \"carpet\": [{\"aaxis\": {\"endlinecolor\": \"#2a3f5f\", \"gridcolor\": \"white\", \"linecolor\": \"white\", \"minorgridcolor\": \"white\", \"startlinecolor\": \"#2a3f5f\"}, \"baxis\": {\"endlinecolor\": \"#2a3f5f\", \"gridcolor\": \"white\", \"linecolor\": \"white\", \"minorgridcolor\": \"white\", \"startlinecolor\": \"#2a3f5f\"}, \"type\": \"carpet\"}], \"choropleth\": [{\"colorbar\": {\"outlinewidth\": 0, \"ticks\": \"\"}, \"type\": \"choropleth\"}], \"contour\": [{\"colorbar\": {\"outlinewidth\": 0, \"ticks\": \"\"}, \"colorscale\": [[0.0, \"#0d0887\"], [0.1111111111111111, \"#46039f\"], [0.2222222222222222, \"#7201a8\"], [0.3333333333333333, \"#9c179e\"], [0.4444444444444444, \"#bd3786\"], [0.5555555555555556, \"#d8576b\"], [0.6666666666666666, \"#ed7953\"], [0.7777777777777778, \"#fb9f3a\"], [0.8888888888888888, \"#fdca26\"], [1.0, \"#f0f921\"]], \"type\": \"contour\"}], \"contourcarpet\": [{\"colorbar\": {\"outlinewidth\": 0, \"ticks\": \"\"}, \"type\": \"contourcarpet\"}], \"heatmap\": [{\"colorbar\": {\"outlinewidth\": 0, \"ticks\": \"\"}, \"colorscale\": [[0.0, \"#0d0887\"], [0.1111111111111111, \"#46039f\"], [0.2222222222222222, \"#7201a8\"], [0.3333333333333333, \"#9c179e\"], [0.4444444444444444, \"#bd3786\"], [0.5555555555555556, \"#d8576b\"], [0.6666666666666666, \"#ed7953\"], [0.7777777777777778, \"#fb9f3a\"], [0.8888888888888888, \"#fdca26\"], [1.0, \"#f0f921\"]], \"type\": \"heatmap\"}], \"heatmapgl\": [{\"colorbar\": {\"outlinewidth\": 0, \"ticks\": \"\"}, \"colorscale\": [[0.0, \"#0d0887\"], [0.1111111111111111, \"#46039f\"], [0.2222222222222222, \"#7201a8\"], [0.3333333333333333, \"#9c179e\"], [0.4444444444444444, \"#bd3786\"], [0.5555555555555556, \"#d8576b\"], [0.6666666666666666, \"#ed7953\"], [0.7777777777777778, \"#fb9f3a\"], [0.8888888888888888, \"#fdca26\"], [1.0, \"#f0f921\"]], \"type\": \"heatmapgl\"}], \"histogram\": [{\"marker\": {\"colorbar\": {\"outlinewidth\": 0, \"ticks\": \"\"}}, \"type\": \"histogram\"}], \"histogram2d\": [{\"colorbar\": {\"outlinewidth\": 0, \"ticks\": \"\"}, \"colorscale\": [[0.0, \"#0d0887\"], [0.1111111111111111, \"#46039f\"], [0.2222222222222222, \"#7201a8\"], [0.3333333333333333, \"#9c179e\"], [0.4444444444444444, \"#bd3786\"], [0.5555555555555556, \"#d8576b\"], [0.6666666666666666, \"#ed7953\"], [0.7777777777777778, \"#fb9f3a\"], [0.8888888888888888, \"#fdca26\"], [1.0, \"#f0f921\"]], \"type\": \"histogram2d\"}], \"histogram2dcontour\": [{\"colorbar\": {\"outlinewidth\": 0, \"ticks\": \"\"}, \"colorscale\": [[0.0, \"#0d0887\"], [0.1111111111111111, \"#46039f\"], [0.2222222222222222, \"#7201a8\"], [0.3333333333333333, \"#9c179e\"], [0.4444444444444444, \"#bd3786\"], [0.5555555555555556, \"#d8576b\"], [0.6666666666666666, \"#ed7953\"], [0.7777777777777778, \"#fb9f3a\"], [0.8888888888888888, \"#fdca26\"], [1.0, \"#f0f921\"]], \"type\": \"histogram2dcontour\"}], \"indicator\": [{\"mode\": \"number+gauge\", \"title\": {\"text\": \"Tama\\u00f1o\"}, \"type\": \"indicator\"}], \"mesh3d\": [{\"colorbar\": {\"outlinewidth\": 0, \"ticks\": \"\"}, \"type\": \"mesh3d\"}], \"parcoords\": [{\"line\": {\"colorbar\": {\"outlinewidth\": 0, \"ticks\": \"\"}}, \"type\": \"parcoords\"}], \"pie\": [{\"automargin\": true, \"type\": \"pie\"}], \"scatter\": [{\"marker\": {\"colorbar\": {\"outlinewidth\": 0, \"ticks\": \"\"}}, \"type\": \"scatter\"}], \"scatter3d\": [{\"line\": {\"colorbar\": {\"outlinewidth\": 0, \"ticks\": \"\"}}, \"marker\": {\"colorbar\": {\"outlinewidth\": 0, \"ticks\": \"\"}}, \"type\": \"scatter3d\"}], \"scattercarpet\": [{\"marker\": {\"colorbar\": {\"outlinewidth\": 0, \"ticks\": \"\"}}, \"type\": \"scattercarpet\"}], \"scattergeo\": [{\"marker\": {\"colorbar\": {\"outlinewidth\": 0, \"ticks\": \"\"}}, \"type\": \"scattergeo\"}], \"scattergl\": [{\"marker\": {\"colorbar\": {\"outlinewidth\": 0, \"ticks\": \"\"}}, \"type\": \"scattergl\"}], \"scattermapbox\": [{\"marker\": {\"colorbar\": {\"outlinewidth\": 0, \"ticks\": \"\"}}, \"type\": \"scattermapbox\"}], \"scatterpolar\": [{\"marker\": {\"colorbar\": {\"outlinewidth\": 0, \"ticks\": \"\"}}, \"type\": \"scatterpolar\"}], \"scatterpolargl\": [{\"marker\": {\"colorbar\": {\"outlinewidth\": 0, \"ticks\": \"\"}}, \"type\": \"scatterpolargl\"}], \"scatterternary\": [{\"marker\": {\"colorbar\": {\"outlinewidth\": 0, \"ticks\": \"\"}}, \"type\": \"scatterternary\"}], \"surface\": [{\"colorbar\": {\"outlinewidth\": 0, \"ticks\": \"\"}, \"colorscale\": [[0.0, \"#0d0887\"], [0.1111111111111111, \"#46039f\"], [0.2222222222222222, \"#7201a8\"], [0.3333333333333333, \"#9c179e\"], [0.4444444444444444, \"#bd3786\"], [0.5555555555555556, \"#d8576b\"], [0.6666666666666666, \"#ed7953\"], [0.7777777777777778, \"#fb9f3a\"], [0.8888888888888888, \"#fdca26\"], [1.0, \"#f0f921\"]], \"type\": \"surface\"}], \"table\": [{\"cells\": {\"fill\": {\"color\": \"#EBF0F8\"}, \"line\": {\"color\": \"white\"}}, \"header\": {\"fill\": {\"color\": \"#C8D4E3\"}, \"line\": {\"color\": \"white\"}}, \"type\": \"table\"}]}, \"layout\": {\"annotationdefaults\": {\"arrowcolor\": \"#2a3f5f\", \"arrowhead\": 0, \"arrowwidth\": 1}, \"coloraxis\": {\"colorbar\": {\"outlinewidth\": 0, \"ticks\": \"\"}}, \"colorscale\": {\"diverging\": [[0, \"#8e0152\"], [0.1, \"#c51b7d\"], [0.2, \"#de77ae\"], [0.3, \"#f1b6da\"], [0.4, \"#fde0ef\"], [0.5, \"#f7f7f7\"], [0.6, \"#e6f5d0\"], [0.7, \"#b8e186\"], [0.8, \"#7fbc41\"], [0.9, \"#4d9221\"], [1, \"#276419\"]], \"sequential\": [[0.0, \"#0d0887\"], [0.1111111111111111, \"#46039f\"], [0.2222222222222222, \"#7201a8\"], [0.3333333333333333, \"#9c179e\"], [0.4444444444444444, \"#bd3786\"], [0.5555555555555556, \"#d8576b\"], [0.6666666666666666, \"#ed7953\"], [0.7777777777777778, \"#fb9f3a\"], [0.8888888888888888, \"#fdca26\"], [1.0, \"#f0f921\"]], \"sequentialminus\": [[0.0, \"#0d0887\"], [0.1111111111111111, \"#46039f\"], [0.2222222222222222, \"#7201a8\"], [0.3333333333333333, \"#9c179e\"], [0.4444444444444444, \"#bd3786\"], [0.5555555555555556, \"#d8576b\"], [0.6666666666666666, \"#ed7953\"], [0.7777777777777778, \"#fb9f3a\"], [0.8888888888888888, \"#fdca26\"], [1.0, \"#f0f921\"]]}, \"colorway\": [\"#636efa\", \"#EF553B\", \"#00cc96\", \"#ab63fa\", \"#FFA15A\", \"#19d3f3\", \"#FF6692\", \"#B6E880\", \"#FF97FF\", \"#FECB52\"], \"font\": {\"color\": \"#2a3f5f\"}, \"geo\": {\"bgcolor\": \"white\", \"lakecolor\": \"white\", \"landcolor\": \"#E5ECF6\", \"showlakes\": true, \"showland\": true, \"subunitcolor\": \"white\"}, \"hoverlabel\": {\"align\": \"left\"}, \"hovermode\": \"closest\", \"mapbox\": {\"style\": \"light\"}, \"paper_bgcolor\": \"white\", \"plot_bgcolor\": \"#E5ECF6\", \"polar\": {\"angularaxis\": {\"gridcolor\": \"white\", \"linecolor\": \"white\", \"ticks\": \"\"}, \"bgcolor\": \"#E5ECF6\", \"radialaxis\": {\"gridcolor\": \"white\", \"linecolor\": \"white\", \"ticks\": \"\"}}, \"scene\": {\"xaxis\": {\"backgroundcolor\": \"#E5ECF6\", \"gridcolor\": \"white\", \"gridwidth\": 2, \"linecolor\": \"white\", \"showbackground\": true, \"ticks\": \"\", \"zerolinecolor\": \"white\"}, \"yaxis\": {\"backgroundcolor\": \"#E5ECF6\", \"gridcolor\": \"white\", \"gridwidth\": 2, \"linecolor\": \"white\", \"showbackground\": true, \"ticks\": \"\", \"zerolinecolor\": \"white\"}, \"zaxis\": {\"backgroundcolor\": \"#E5ECF6\", \"gridcolor\": \"white\", \"gridwidth\": 2, \"linecolor\": \"white\", \"showbackground\": true, \"ticks\": \"\", \"zerolinecolor\": \"white\"}}, \"shapedefaults\": {\"line\": {\"color\": \"#2a3f5f\"}}, \"ternary\": {\"aaxis\": {\"gridcolor\": \"white\", \"linecolor\": \"white\", \"ticks\": \"\"}, \"baxis\": {\"gridcolor\": \"white\", \"linecolor\": \"white\", \"ticks\": \"\"}, \"bgcolor\": \"#E5ECF6\", \"caxis\": {\"gridcolor\": \"white\", \"linecolor\": \"white\", \"ticks\": \"\"}}, \"title\": {\"x\": 0.05}, \"xaxis\": {\"automargin\": true, \"gridcolor\": \"white\", \"linecolor\": \"white\", \"ticks\": \"\", \"title\": {\"standoff\": 15}, \"zerolinecolor\": \"white\", \"zerolinewidth\": 2}, \"yaxis\": {\"automargin\": true, \"gridcolor\": \"white\", \"linecolor\": \"white\", \"ticks\": \"\", \"title\": {\"standoff\": 15}, \"zerolinecolor\": \"white\", \"zerolinewidth\": 2}}}, \"title\": {\"text\": \"Estr\\u00e9s en los Tama\\u00f1os de las empresas\"}},\n",
       "                        {\"responsive\": true}\n",
       "                    ).then(function(){\n",
       "                            \n",
       "var gd = document.getElementById('bc08f555-2b20-46ef-b7d6-9b910463e61b');\n",
       "var x = new MutationObserver(function (mutations, observer) {{\n",
       "        var display = window.getComputedStyle(gd).display;\n",
       "        if (!display || display === 'none') {{\n",
       "            console.log([gd, 'removed!']);\n",
       "            Plotly.purge(gd);\n",
       "            observer.disconnect();\n",
       "        }}\n",
       "}});\n",
       "\n",
       "// Listen for the removal of the full notebook cells\n",
       "var notebookContainer = gd.closest('#notebook-container');\n",
       "if (notebookContainer) {{\n",
       "    x.observe(notebookContainer, {childList: true});\n",
       "}}\n",
       "\n",
       "// Listen for the clearing of the current output cell\n",
       "var outputEl = gd.closest('.output');\n",
       "if (outputEl) {{\n",
       "    x.observe(outputEl, {childList: true});\n",
       "}}\n",
       "\n",
       "                        })\n",
       "                };\n",
       "                });\n",
       "            </script>\n",
       "        </div>"
      ]
     },
     "metadata": {},
     "output_type": "display_data"
    }
   ],
   "source": [
    "fig1 = stress_size(\"datos_estres_1.xlsx\")\n",
    "\n",
    "fig1.show()"
   ]
  },
  {
   "cell_type": "markdown",
   "metadata": {},
   "source": [
    "# Municipio"
   ]
  },
  {
   "cell_type": "code",
   "execution_count": 93,
   "metadata": {
    "ExecuteTime": {
     "end_time": "2020-06-27T06:11:08.737995Z",
     "start_time": "2020-06-27T06:11:08.556126Z"
    }
   },
   "outputs": [],
   "source": [
    "# .. ................................................................................... .. #\n",
    "# .. Proyecto: UrbanLab - Plataforma de ayuda para micro y pequeñas empresas             .. #\n",
    "# .. Archivo: stress_mun.py - gráfica Estrés por Municipios.                        .. #\n",
    "# .. Licencia: Todos los derechos reservados                                             .. #\n",
    "# .. Repositorio: https://github.com/IFFranciscoME/Urban_Lab_App.git                     .. #\n",
    "# .. ................................................................................... .. #\n",
    "\n",
    "import pandas as pd\n",
    "import numpy as np\n",
    "import plotly.graph_objects as go\n",
    "\n",
    "def stress_mun(ruta_db):\n",
    "    \"\"\"\n",
    "    Parameters\n",
    "    ---------\n",
    "    :param:\n",
    "        ruta_db: str : Path to the Database\n",
    "    Returns\n",
    "    ---------\n",
    "    :return:\n",
    "        fig: Plotly : Plotly graph ( Use fig.show() )\n",
    "    Debugging\n",
    "    ---------\n",
    "        file_path = 'Base_de_datos.xlsx'\n",
    "\t\tsheet = 'IIEG_E_1'\n",
    "    \"\"\"\n",
    "    \n",
    "    df_data = pd.read_excel(ruta_db) # Cambiar ruta para la base de datos\n",
    "    \n",
    "    df_data = df_data.loc[df_data['Municipio'].isin(['Zapopan','Tonalá',\n",
    "                                                     'Tlaquepaque','Tlajomulco de Zúñiga',\n",
    "                                                     'El Salto','Guadalajara'])]\n",
    "    df_data = df_data.reset_index(drop=True)\n",
    "    \n",
    "    \n",
    "    #Acomodo de datos\n",
    "    data = df_data\n",
    "    data = data.replace({\"Más de 52\": 52, \"De 26 a 52\": 26, \"No aplica\": 100, \"No contesto\": 101,\n",
    "                         \"No sé\":102, \"Más de un año\":12})\n",
    "    #estres = np.zeros(len(data))\n",
    "    #estres = data_importado\n",
    "    \n",
    "    #ventas_porcentaje\n",
    "    for i in range(0, len(data)):\n",
    "        if data['ventas_porcentaje'][i]>0 and data['ventas_porcentaje'][i]<=25:\n",
    "            data.loc[i,'ventas_porcentaje'] = 1\n",
    "        if data['ventas_porcentaje'][i]>25 and data['ventas_porcentaje'][i]<=50:\n",
    "            data.loc[i,'ventas_porcentaje'] = 2\n",
    "        if data['ventas_porcentaje'][i]>50 and data['ventas_porcentaje'][i]<=75:\n",
    "            data.loc[i,'ventas_porcentaje'] = 3\n",
    "        if data['ventas_porcentaje'][i]>75 and data['ventas_porcentaje'][i]<=100:\n",
    "            data.loc[i,'ventas_porcentaje'] = 4\n",
    "        if data['ventas_porcentaje'][i]>100:\n",
    "            data.loc[i,'ventas_porcentaje'] = 1  \n",
    "        \n",
    "\n",
    "    #perdidas_porcentaje\n",
    "    for i in range(0, len(data)):\n",
    "        if data['perdidas_porcentaje'][i]>0 and data['perdidas_porcentaje'][i]<=25:\n",
    "            data.loc[i,'perdidas_porcentaje'] = 1\n",
    "        if data['perdidas_porcentaje'][i]>25 and data['perdidas_porcentaje'][i]<=50:\n",
    "            data.loc[i,'perdidas_porcentaje'] = 2\n",
    "        if data['perdidas_porcentaje'][i]>50 and data['perdidas_porcentaje'][i]<=75:\n",
    "            data.loc[i,'perdidas_porcentaje'] = 3\n",
    "        if data['perdidas_porcentaje'][i]>75 and data['perdidas_porcentaje'][i]<=100:\n",
    "            data.loc[i,'perdidas_porcentaje'] = 4\n",
    "        if data['perdidas_porcentaje'][i]>100:\n",
    "            data.loc[i,'perdidas_porcentaje'] = 1 \n",
    "\n",
    "    #capacidad\n",
    "    for i in range(0, len(data)):\n",
    "        if data['capacidad'][i]>0 and data['capacidad'][i]<=25:\n",
    "            data.loc[i,'capacidad'] = 1\n",
    "        if data['capacidad'][i]>25 and data['capacidad'][i]<=50:\n",
    "            data.loc[i,'capacidad'] = 2\n",
    "        if data['capacidad'][i]>50 and data['capacidad'][i]<=75:\n",
    "            data.loc[i,'capacidad'] = 3\n",
    "        if data['capacidad'][i]>75 and data['capacidad'][i]<=100:\n",
    "            data.loc[i,'capacidad'] = 4\n",
    "        if data['capacidad'][i]>100:\n",
    "            data.loc[i,'capacidad'] = 1\n",
    "\n",
    "    #cerrar\n",
    "    for i in range(0, len(data)):\n",
    "        if data['cerrar'][i] == 'Sí':\n",
    "            data.loc[i,'cerrar'] = 2\n",
    "        if data['cerrar'][i] == 'No':\n",
    "            data.loc[i,'cerrar'] = 0\n",
    "\n",
    "    #despidos\n",
    "    for i in range(0, len(data)):\n",
    "        if data['despidos'][i] == 'Sí' or data['despidos'][i] == 'No, pero lo está considerando':\n",
    "            data.loc[i,'despidos'] = 2\n",
    "        if data['despidos'][i] == 'No' or data['despidos'][i] == 'No cuenta con personal':\n",
    "            data.loc[i,'despidos'] = 0\n",
    "        if data['despidos'][i] == 'No, pero lo va a hacer en los próximos días':\n",
    "            data.loc[i,'despidos'] = 3\n",
    "\n",
    "    #plantilla_porcentaje\n",
    "    for i in range(0, len(data)):\n",
    "        if data['plantilla_porcentaje'][i]>0 and data['plantilla_porcentaje'][i]<=25:\n",
    "            data.loc[i,'plantilla_porcentaje'] = 1\n",
    "        if data['plantilla_porcentaje'][i]>25 and data['plantilla_porcentaje'][i]<=50:\n",
    "            data.loc[i,'plantilla_porcentaje'] = 2\n",
    "        if data['plantilla_porcentaje'][i]>50 and data['plantilla_porcentaje'][i]<=75:\n",
    "            data.loc[i,'plantilla_porcentaje'] = 3\n",
    "        if data['plantilla_porcentaje'][i]>75 and data['plantilla_porcentaje'][i]<=100:\n",
    "            data.loc[i,'plantilla_porcentaje'] = 4\n",
    "        if data['plantilla_porcentaje'][i]>100:\n",
    "            data.loc[i,'plantilla_porcentaje'] = 1\n",
    "\n",
    "    #pago_salarios\n",
    "    for i in range(0, len(data)):\n",
    "        if data['pago_salarios'][i] == 100 or data['pago_salarios'][i] == 101 or data['pago_salarios'][i] == 102:\n",
    "            data.loc[i,'pago_salarios'] = 0\n",
    "        if data['pago_salarios'][i]>0 and data['pago_salarios'][i]<=6:\n",
    "            data.loc[i,'pago_salarios'] = 1\n",
    "        if data['pago_salarios'][i]>6 and data['pago_salarios'][i]<=12:\n",
    "            data.loc[i,'pago_salarios'] = 2\n",
    "        if data['pago_salarios'][i]>12 and data['pago_salarios'][i]<=18:\n",
    "            data.loc[i,'pago_salarios'] = 3\n",
    "        if data['pago_salarios'][i]>18:\n",
    "            data.loc[i,'pago_salarios'] = 4\n",
    "\n",
    "    #pago_impuestos\n",
    "    for i in range(0, len(data)):\n",
    "        if data['pago_impuestos'][i] == 100 or data['pago_impuestos'][i] == 101 or data['pago_impuestos'][i] == 102:\n",
    "            data.loc[i,'pago_impuestos'] = 0\n",
    "        if data['pago_impuestos'][i]>0 and data['pago_impuestos'][i]<=6:\n",
    "            data.loc[i,'pago_impuestos'] = 1\n",
    "        if data['pago_impuestos'][i]>6 and data['pago_impuestos'][i]<=12:\n",
    "            data.loc[i,'pago_impuestos'] = 2\n",
    "        if data['pago_impuestos'][i]>12 and data['pago_impuestos'][i]<=18:\n",
    "            data.loc[i,'pago_impuestos'] = 3\n",
    "        if data['pago_impuestos'][i]>18:\n",
    "            data.loc[i,'pago_impuestos'] = 4\n",
    "\n",
    "    #pago_credito\n",
    "    for i in range(0, len(data)):\n",
    "        if data['pago_creditos'][i] == 100 or data['pago_creditos'][i] == 101  or data['pago_creditos'][i] == 102:\n",
    "            data.loc[i,'pago_creditos'] = 0\n",
    "        if data['pago_creditos'][i]>0 and data['pago_creditos'][i]<=6:\n",
    "            data.loc[i,'pago_creditos'] = 1\n",
    "        if data['pago_creditos'][i]>6 and data['pago_creditos'][i]<=12:\n",
    "            data.loc[i,'pago_creditos'] = 2\n",
    "        if data['pago_creditos'][i]>12 and data['pago_creditos'][i]<=18:\n",
    "            data.loc[i,'pago_creditos'] = 3\n",
    "        if data['pago_creditos'][i]>18:\n",
    "            data.loc[i,'pago_creditos'] = 4\n",
    "\n",
    "    #pago_renta\n",
    "    for i in range(0, len(data)):\n",
    "        if data['pago_renta'][i] == 100 or data['pago_renta'][i] == 101  or data['pago_renta'][i] == 102:\n",
    "            data.loc[i,'pago_renta'] = 0\n",
    "        if data['pago_renta'][i]>0 and data['pago_renta'][i]<=6:\n",
    "            data.loc[i,'pago_renta'] = 1\n",
    "        if data['pago_renta'][i]>6 and data['pago_renta'][i]<=12:\n",
    "            data.loc[i,'pago_renta'] = 2\n",
    "        if data['pago_renta'][i]>12 and data['pago_renta'][i]<=18:\n",
    "            data.loc[i] = 3\n",
    "        if data['pago_renta'][i]>18:\n",
    "            data.loc[i,'pago_renta'] = 4\n",
    "\n",
    "    #pago_internet\n",
    "    for i in range(0, len(data)):\n",
    "        if data['pago_internet'][i] == 100 or data['pago_internet'][i] == 101  or data['pago_internet'][i] == 102:\n",
    "            data.loc[i,'pago_internet'] = 0\n",
    "        if data['pago_internet'][i]>0 and data['pago_internet'][i]<=6:\n",
    "            data.loc[i,'pago_internet'] = 1\n",
    "        if data['pago_internet'][i]>6 and data['pago_internet'][i]<=12:\n",
    "            data.loc[i,'pago_internet'] = 2\n",
    "        if data['pago_internet'][i]>12 and data['pago_internet'][i]<=18:\n",
    "            data.loc[i,'pago_internet'] = 3\n",
    "        if data['pago_internet'][i]>18:\n",
    "            data.loc[i,'pago_internet'] = 4\n",
    "\n",
    "    #pago_agua\n",
    "    for i in range(0, len(data)):\n",
    "        if data['pago_agua'][i] == 100 or data['pago_agua'][i] == 101  or data['pago_agua'][i] == 102:\n",
    "            data.loc[i,'pago_agua'] = 0\n",
    "        if data['pago_agua'][i]>0 and data['pago_agua'][i]<=6:\n",
    "            data.loc[i,'pago_agua'] = 1\n",
    "        if data['pago_agua'][i]>6 and data['pago_agua'][i]<=12:\n",
    "            data.loc[i,'pago_agua'] = 2\n",
    "        if data['pago_agua'][i]>12 and data['pago_agua'][i]<=18:\n",
    "            data.loc[i,'pago_agua'] = 3\n",
    "        if data['pago_agua'][i]>18:\n",
    "            data.loc[i,'pago_agua'] = 4\n",
    "\n",
    "    #pago_luz\n",
    "    for i in range(0, len(data)):\n",
    "        if data['pago_luz'][i] == 100 or data['pago_luz'][i] == 101  or data['pago_luz'][i] == 102:\n",
    "            data.loc[i,'pago_luz'] = 0\n",
    "        if data['pago_luz'][i]>0 and data['pago_luz'][i]<=6:\n",
    "            data.loc[i,'pago_luz'] = 1\n",
    "        if data['pago_luz'][i]>6 and data['pago_luz'][i]<=12:\n",
    "            data.loc[i,'pago_luz'] = 2\n",
    "        if data['pago_luz'][i]>12 and data['pago_luz'][i]<=18:\n",
    "            data.loc[i,'pago_luz'] = 3\n",
    "        if data['pago_luz'][i]>18:\n",
    "            data.loc[i,'pago_luz'] = 4\n",
    "\n",
    "    #pago_gas\n",
    "    for i in range(0, len(data)):\n",
    "        if data['pago_gas'][i] == 100 or data['pago_gas'][i] == 101  or data['pago_gas'][i] == 102:\n",
    "            data.loc[i,'pago_gas'] = 0\n",
    "        if data['pago_gas'][i]>0 and data['pago_gas'][i]<=6:\n",
    "            data.loc[i,'pago_gas'] = 1\n",
    "        if data['pago_gas'][i]>6 and data['pago_gas'][i]<=12:\n",
    "            data.loc[i,'pago_gas'] = 2\n",
    "        if data['pago_gas'][i]>12 and data['pago_gas'][i]<=18:\n",
    "            data.loc[i,'pago_gas'] = 3\n",
    "        if data['pago_gas'][i]>18:\n",
    "            data.loc[i,'pago_gas'] = 4\n",
    "\n",
    "    #duracion\n",
    "    for i in range(0, len(data)):\n",
    "        if  data['duracion'][i] == 12 or data['duracion'][i] == 102:\n",
    "            data.loc[i,'duracion'] = 0\n",
    "        if data['duracion'][i]>0 and data['duracion'][i]<=6:\n",
    "            data.loc[i,'duracion'] = 1\n",
    "        if data['duracion'][i]>6 and data['duracion'][i]<=12:\n",
    "            data.loc[i,'duracion'] = 2\n",
    "        if data['duracion'][i]>12 and data['duracion'][i]<=18:\n",
    "            data.loc[i,'duracion'] = 3\n",
    "        if data['duracion'][i]>18:\n",
    "            data.loc[i,'duracion'] = 4\n",
    "\n",
    "    #capacidad_pago\n",
    "    for i in range(0, len(data)):\n",
    "        if data['capacidad_pago'][i] == 'Sí':\n",
    "            data.loc[i,'capacidad_pago'] = 1\n",
    "        if data['capacidad_pago'][i] == 'No':\n",
    "            data.loc[i,'capacidad_pago'] = 2\n",
    "        if data['capacidad_pago'][i] == 'No sé':\n",
    "            data.loc[i,'capacidad_pago'] = 0\n",
    "        if data['capacidad_pago'][i] == 100:\n",
    "            data.loc[i,'capacidad_pago'] = 0\n",
    "        if data['capacidad_pago'][i] == 102:\n",
    "            data.loc[i,'capacidad_pago'] = 0\n",
    "        if data['capacidad_pago'][i] == 101:\n",
    "            data.loc[i,'capacidad_pago'] = 0\n",
    "\n",
    "    #credito\n",
    "    for i in range(0, len(data)):\n",
    "        if data['credito'][i] == 'Sí':\n",
    "            data.loc[i,'credito'] = 2\n",
    "        if data['credito'][i] == 'No':\n",
    "            data.loc[i,'credito'] = 0\n",
    "        if data['credito'][i] == 'No':\n",
    "            data.loc[i,'credito'] = 0\n",
    "\n",
    "    #aumento_insumos\n",
    "    for i in range(0, len(data)):\n",
    "        if data['aumento_insumos'][i] == 'Sí':\n",
    "            data.loc[i,'aumento_insumos'] = 3\n",
    "        if data['aumento_insumos'][i] == 'No':\n",
    "            data.loc[i,'aumento_insumos'] = 0\n",
    "        if data['aumento_insumos'][i] == 'No, pero lo estoy considerando':\n",
    "            data.loc[i,'aumento_insumos'] = 0\n",
    "        if data['aumento_insumos'][i] == 102:\n",
    "            data.loc[i,'aumento_insumos'] = 0\n",
    "\n",
    "    #aumento_precios\n",
    "    for i in range(0, len(data)):\n",
    "        if data['aumento_precios'][i] == 'Sí':\n",
    "            data.loc[i,'aumento_precios'] = 3\n",
    "        if data['aumento_precios'][i] == 'No':\n",
    "            data.loc[i,'aumento_precios'] = 0\n",
    "        if data['aumento_precios'][i]==100:\n",
    "            data.loc[i,'aumento_precios'] = 0\n",
    "        if data['aumento_precios'][i]==102:\n",
    "            data.loc[i,'aumento_precios'] = 0\n",
    "        if data['aumento_precios'][i]==101:\n",
    "            data.loc[i,'aumento_precios'] = 0\n",
    "        if data['aumento_precios'][i] == 'No, pero lo estoy considerando':\n",
    "            data.loc[i,'aumento_precios'] = 0\n",
    "\n",
    "    #escasez_insumos\n",
    "    for i in range(0, len(data)):\n",
    "        if data['escasez_insumos'][i] == 'Sí':\n",
    "            data.loc[i,'escasez_insumos'] = 3\n",
    "        if data['escasez_insumos'][i] == 'No':\n",
    "            data.loc[i,'escasez_insumos'] = 0\n",
    "        if data['escasez_insumos'][i] == 102:\n",
    "            data.loc[i,'escasez_insumos'] = 0\n",
    "\n",
    "    #aumento_tipocambio\n",
    "    for i in range(0, len(data)):\n",
    "        if data['aumento_tipocambio'][i] == 'Sí':\n",
    "            data.loc[i,'aumento_tipocambio'] = 4\n",
    "        if data['aumento_tipocambio'][i] == 'No':\n",
    "            data.loc[i,'aumento_tipocambio'] = 0\n",
    "        if data['aumento_tipocambio'][i] == 102:\n",
    "            data.loc[i,'aumento_tipocambio'] = 0\n",
    "    \n",
    "    #Tabla de Estrés\n",
    "    column = data[['Municipio', 'Sector', 'Giro', 'Tamaño','ventas_porcentaje','perdidas_porcentaje',\n",
    "                   'capacidad','cerrar','despidos',\n",
    "      'plantilla_porcentaje', 'pago_salarios', 'pago_impuestos', 'pago_creditos','pago_renta','pago_internet','pago_agua',\n",
    "                  'pago_luz','pago_gas','duracion','capacidad_pago','credito','aumento_insumos','aumento_precios',\n",
    "                  'escasez_insumos','aumento_tipocambio']]\n",
    "    column = column.astype({'ventas_porcentaje': int,'perdidas_porcentaje': int, 'capacidad': int,'cerrar': int\n",
    "                        ,'despidos': int, 'plantilla_porcentaje': int, 'pago_salarios': int\n",
    "                        , 'pago_impuestos': int, 'pago_creditos': int,'pago_renta': int,'pago_internet': int, 'pago_agua': int,\n",
    "                           'pago_luz': int, 'pago_gas': int, 'duracion': int, 'capacidad_pago': int, 'credito': int,\n",
    "                           'aumento_insumos': int,\n",
    "                            'aumento_precios': int,\n",
    "                            'escasez_insumos': int,\n",
    "                            'aumento_tipocambio': int})\n",
    "\n",
    "    column['Estrés'] = column['ventas_porcentaje']+column['perdidas_porcentaje']+column['capacidad']+\\\n",
    "                         column['cerrar']+column['despidos']+column['plantilla_porcentaje']+column['pago_salarios']+\\\n",
    "                         column['pago_impuestos']+column['pago_creditos']+column['pago_renta']+\\\n",
    "                         column['pago_internet']+ column['pago_agua']+\\\n",
    "                         column['pago_luz']+column['pago_gas']+column['duracion']+column['capacidad_pago']+\\\n",
    "                         column['credito']+column['aumento_insumos']+column['aumento_precios']+column['escasez_insumos']+\\\n",
    "                         column['aumento_tipocambio']\n",
    "    \n",
    "    #Creación de tabla resumen\n",
    "    pivot_mun = pd.pivot_table(column,index = ['Municipio'],\n",
    "                                values = ['ventas_porcentaje','perdidas_porcentaje',\n",
    "                                          'capacidad','cerrar','despidos','plantilla_porcentaje',\n",
    "                                          'pago_salarios','pago_impuestos',\n",
    "                                          'pago_creditos', 'pago_renta', 'pago_internet',\n",
    "                                          'pago_agua','pago_luz','pago_gas','duracion','capacidad_pago',\n",
    "                                          'credito','aumento_insumos',\n",
    "                                         'aumento_precios','escasez_insumos','aumento_tipocambio'], aggfunc=np.median)\n",
    "    \n",
    "    pivot_mun['Estrés'] = pivot_mun['ventas_porcentaje']+pivot_mun['perdidas_porcentaje']+\\\n",
    "                         pivot_mun['capacidad']+pivot_mun['cerrar']+pivot_mun['despidos']+pivot_mun['plantilla_porcentaje']+\\\n",
    "                         pivot_mun['pago_salarios']+\\\n",
    "                         pivot_mun['pago_impuestos']+pivot_mun['pago_creditos']+\\\n",
    "                         pivot_mun['pago_renta']+pivot_mun['pago_internet']+pivot_mun['pago_agua']+\\\n",
    "                         pivot_mun['pago_luz']+pivot_mun['pago_gas']+pivot_mun['duracion']+pivot_mun['capacidad_pago']+\\\n",
    "                         pivot_mun['credito']+pivot_mun['aumento_insumos']+\\\n",
    "                         pivot_mun['aumento_precios']+pivot_mun['escasez_insumos']+pivot_mun['aumento_tipocambio']\n",
    "    \n",
    "    #Creacion de figura\n",
    "    fig = go.Figure()\n",
    "\n",
    "    colors = ['mistyrose', 'crimson', 'crimson', 'red', 'crimson','lightsalmon']\n",
    "\n",
    "    fig = go.Figure(data=[go.Bar(x=pivot_mun.index, y=pivot_mun['Estrés'],marker_color=colors)],\n",
    "               layout={'yaxis':{'range': [0, 40]}})\n",
    "    fig.update_layout(title=\"Estrés en los Municipios de la ZMG\",\n",
    "                  xaxis_title=\"Municipios\",\n",
    "                  yaxis_title=\"Estrés\",\n",
    "                  plot_bgcolor='white',hovermode='closest')\n",
    "\n",
    "    \n",
    "    return fig"
   ]
  },
  {
   "cell_type": "code",
   "execution_count": 94,
   "metadata": {
    "ExecuteTime": {
     "end_time": "2020-06-27T06:11:50.168992Z",
     "start_time": "2020-06-27T06:11:08.903751Z"
    }
   },
   "outputs": [
    {
     "data": {
      "application/vnd.plotly.v1+json": {
       "config": {
        "plotlyServerURL": "https://plot.ly"
       },
       "data": [
        {
         "marker": {
          "color": [
           "mistyrose",
           "crimson",
           "crimson",
           "red",
           "crimson",
           "lightsalmon"
          ]
         },
         "type": "bar",
         "x": [
          "El Salto",
          "Guadalajara",
          "Tlajomulco de Zúñiga",
          "Tlaquepaque",
          "Tonalá",
          "Zapopan"
         ],
         "y": [
          28,
          32,
          32,
          31,
          32,
          29
         ]
        }
       ],
       "layout": {
        "hovermode": "closest",
        "plot_bgcolor": "white",
        "template": {
         "data": {
          "bar": [
           {
            "error_x": {
             "color": "#2a3f5f"
            },
            "error_y": {
             "color": "#2a3f5f"
            },
            "marker": {
             "line": {
              "color": "#E5ECF6",
              "width": 0.5
             }
            },
            "type": "bar"
           }
          ],
          "barpolar": [
           {
            "marker": {
             "line": {
              "color": "#E5ECF6",
              "width": 0.5
             }
            },
            "type": "barpolar"
           }
          ],
          "carpet": [
           {
            "aaxis": {
             "endlinecolor": "#2a3f5f",
             "gridcolor": "white",
             "linecolor": "white",
             "minorgridcolor": "white",
             "startlinecolor": "#2a3f5f"
            },
            "baxis": {
             "endlinecolor": "#2a3f5f",
             "gridcolor": "white",
             "linecolor": "white",
             "minorgridcolor": "white",
             "startlinecolor": "#2a3f5f"
            },
            "type": "carpet"
           }
          ],
          "choropleth": [
           {
            "colorbar": {
             "outlinewidth": 0,
             "ticks": ""
            },
            "type": "choropleth"
           }
          ],
          "contour": [
           {
            "colorbar": {
             "outlinewidth": 0,
             "ticks": ""
            },
            "colorscale": [
             [
              0,
              "#0d0887"
             ],
             [
              0.1111111111111111,
              "#46039f"
             ],
             [
              0.2222222222222222,
              "#7201a8"
             ],
             [
              0.3333333333333333,
              "#9c179e"
             ],
             [
              0.4444444444444444,
              "#bd3786"
             ],
             [
              0.5555555555555556,
              "#d8576b"
             ],
             [
              0.6666666666666666,
              "#ed7953"
             ],
             [
              0.7777777777777778,
              "#fb9f3a"
             ],
             [
              0.8888888888888888,
              "#fdca26"
             ],
             [
              1,
              "#f0f921"
             ]
            ],
            "type": "contour"
           }
          ],
          "contourcarpet": [
           {
            "colorbar": {
             "outlinewidth": 0,
             "ticks": ""
            },
            "type": "contourcarpet"
           }
          ],
          "heatmap": [
           {
            "colorbar": {
             "outlinewidth": 0,
             "ticks": ""
            },
            "colorscale": [
             [
              0,
              "#0d0887"
             ],
             [
              0.1111111111111111,
              "#46039f"
             ],
             [
              0.2222222222222222,
              "#7201a8"
             ],
             [
              0.3333333333333333,
              "#9c179e"
             ],
             [
              0.4444444444444444,
              "#bd3786"
             ],
             [
              0.5555555555555556,
              "#d8576b"
             ],
             [
              0.6666666666666666,
              "#ed7953"
             ],
             [
              0.7777777777777778,
              "#fb9f3a"
             ],
             [
              0.8888888888888888,
              "#fdca26"
             ],
             [
              1,
              "#f0f921"
             ]
            ],
            "type": "heatmap"
           }
          ],
          "heatmapgl": [
           {
            "colorbar": {
             "outlinewidth": 0,
             "ticks": ""
            },
            "colorscale": [
             [
              0,
              "#0d0887"
             ],
             [
              0.1111111111111111,
              "#46039f"
             ],
             [
              0.2222222222222222,
              "#7201a8"
             ],
             [
              0.3333333333333333,
              "#9c179e"
             ],
             [
              0.4444444444444444,
              "#bd3786"
             ],
             [
              0.5555555555555556,
              "#d8576b"
             ],
             [
              0.6666666666666666,
              "#ed7953"
             ],
             [
              0.7777777777777778,
              "#fb9f3a"
             ],
             [
              0.8888888888888888,
              "#fdca26"
             ],
             [
              1,
              "#f0f921"
             ]
            ],
            "type": "heatmapgl"
           }
          ],
          "histogram": [
           {
            "marker": {
             "colorbar": {
              "outlinewidth": 0,
              "ticks": ""
             }
            },
            "type": "histogram"
           }
          ],
          "histogram2d": [
           {
            "colorbar": {
             "outlinewidth": 0,
             "ticks": ""
            },
            "colorscale": [
             [
              0,
              "#0d0887"
             ],
             [
              0.1111111111111111,
              "#46039f"
             ],
             [
              0.2222222222222222,
              "#7201a8"
             ],
             [
              0.3333333333333333,
              "#9c179e"
             ],
             [
              0.4444444444444444,
              "#bd3786"
             ],
             [
              0.5555555555555556,
              "#d8576b"
             ],
             [
              0.6666666666666666,
              "#ed7953"
             ],
             [
              0.7777777777777778,
              "#fb9f3a"
             ],
             [
              0.8888888888888888,
              "#fdca26"
             ],
             [
              1,
              "#f0f921"
             ]
            ],
            "type": "histogram2d"
           }
          ],
          "histogram2dcontour": [
           {
            "colorbar": {
             "outlinewidth": 0,
             "ticks": ""
            },
            "colorscale": [
             [
              0,
              "#0d0887"
             ],
             [
              0.1111111111111111,
              "#46039f"
             ],
             [
              0.2222222222222222,
              "#7201a8"
             ],
             [
              0.3333333333333333,
              "#9c179e"
             ],
             [
              0.4444444444444444,
              "#bd3786"
             ],
             [
              0.5555555555555556,
              "#d8576b"
             ],
             [
              0.6666666666666666,
              "#ed7953"
             ],
             [
              0.7777777777777778,
              "#fb9f3a"
             ],
             [
              0.8888888888888888,
              "#fdca26"
             ],
             [
              1,
              "#f0f921"
             ]
            ],
            "type": "histogram2dcontour"
           }
          ],
          "mesh3d": [
           {
            "colorbar": {
             "outlinewidth": 0,
             "ticks": ""
            },
            "type": "mesh3d"
           }
          ],
          "parcoords": [
           {
            "line": {
             "colorbar": {
              "outlinewidth": 0,
              "ticks": ""
             }
            },
            "type": "parcoords"
           }
          ],
          "pie": [
           {
            "automargin": true,
            "type": "pie"
           }
          ],
          "scatter": [
           {
            "marker": {
             "colorbar": {
              "outlinewidth": 0,
              "ticks": ""
             }
            },
            "type": "scatter"
           }
          ],
          "scatter3d": [
           {
            "line": {
             "colorbar": {
              "outlinewidth": 0,
              "ticks": ""
             }
            },
            "marker": {
             "colorbar": {
              "outlinewidth": 0,
              "ticks": ""
             }
            },
            "type": "scatter3d"
           }
          ],
          "scattercarpet": [
           {
            "marker": {
             "colorbar": {
              "outlinewidth": 0,
              "ticks": ""
             }
            },
            "type": "scattercarpet"
           }
          ],
          "scattergeo": [
           {
            "marker": {
             "colorbar": {
              "outlinewidth": 0,
              "ticks": ""
             }
            },
            "type": "scattergeo"
           }
          ],
          "scattergl": [
           {
            "marker": {
             "colorbar": {
              "outlinewidth": 0,
              "ticks": ""
             }
            },
            "type": "scattergl"
           }
          ],
          "scattermapbox": [
           {
            "marker": {
             "colorbar": {
              "outlinewidth": 0,
              "ticks": ""
             }
            },
            "type": "scattermapbox"
           }
          ],
          "scatterpolar": [
           {
            "marker": {
             "colorbar": {
              "outlinewidth": 0,
              "ticks": ""
             }
            },
            "type": "scatterpolar"
           }
          ],
          "scatterpolargl": [
           {
            "marker": {
             "colorbar": {
              "outlinewidth": 0,
              "ticks": ""
             }
            },
            "type": "scatterpolargl"
           }
          ],
          "scatterternary": [
           {
            "marker": {
             "colorbar": {
              "outlinewidth": 0,
              "ticks": ""
             }
            },
            "type": "scatterternary"
           }
          ],
          "surface": [
           {
            "colorbar": {
             "outlinewidth": 0,
             "ticks": ""
            },
            "colorscale": [
             [
              0,
              "#0d0887"
             ],
             [
              0.1111111111111111,
              "#46039f"
             ],
             [
              0.2222222222222222,
              "#7201a8"
             ],
             [
              0.3333333333333333,
              "#9c179e"
             ],
             [
              0.4444444444444444,
              "#bd3786"
             ],
             [
              0.5555555555555556,
              "#d8576b"
             ],
             [
              0.6666666666666666,
              "#ed7953"
             ],
             [
              0.7777777777777778,
              "#fb9f3a"
             ],
             [
              0.8888888888888888,
              "#fdca26"
             ],
             [
              1,
              "#f0f921"
             ]
            ],
            "type": "surface"
           }
          ],
          "table": [
           {
            "cells": {
             "fill": {
              "color": "#EBF0F8"
             },
             "line": {
              "color": "white"
             }
            },
            "header": {
             "fill": {
              "color": "#C8D4E3"
             },
             "line": {
              "color": "white"
             }
            },
            "type": "table"
           }
          ]
         },
         "layout": {
          "annotationdefaults": {
           "arrowcolor": "#2a3f5f",
           "arrowhead": 0,
           "arrowwidth": 1
          },
          "coloraxis": {
           "colorbar": {
            "outlinewidth": 0,
            "ticks": ""
           }
          },
          "colorscale": {
           "diverging": [
            [
             0,
             "#8e0152"
            ],
            [
             0.1,
             "#c51b7d"
            ],
            [
             0.2,
             "#de77ae"
            ],
            [
             0.3,
             "#f1b6da"
            ],
            [
             0.4,
             "#fde0ef"
            ],
            [
             0.5,
             "#f7f7f7"
            ],
            [
             0.6,
             "#e6f5d0"
            ],
            [
             0.7,
             "#b8e186"
            ],
            [
             0.8,
             "#7fbc41"
            ],
            [
             0.9,
             "#4d9221"
            ],
            [
             1,
             "#276419"
            ]
           ],
           "sequential": [
            [
             0,
             "#0d0887"
            ],
            [
             0.1111111111111111,
             "#46039f"
            ],
            [
             0.2222222222222222,
             "#7201a8"
            ],
            [
             0.3333333333333333,
             "#9c179e"
            ],
            [
             0.4444444444444444,
             "#bd3786"
            ],
            [
             0.5555555555555556,
             "#d8576b"
            ],
            [
             0.6666666666666666,
             "#ed7953"
            ],
            [
             0.7777777777777778,
             "#fb9f3a"
            ],
            [
             0.8888888888888888,
             "#fdca26"
            ],
            [
             1,
             "#f0f921"
            ]
           ],
           "sequentialminus": [
            [
             0,
             "#0d0887"
            ],
            [
             0.1111111111111111,
             "#46039f"
            ],
            [
             0.2222222222222222,
             "#7201a8"
            ],
            [
             0.3333333333333333,
             "#9c179e"
            ],
            [
             0.4444444444444444,
             "#bd3786"
            ],
            [
             0.5555555555555556,
             "#d8576b"
            ],
            [
             0.6666666666666666,
             "#ed7953"
            ],
            [
             0.7777777777777778,
             "#fb9f3a"
            ],
            [
             0.8888888888888888,
             "#fdca26"
            ],
            [
             1,
             "#f0f921"
            ]
           ]
          },
          "colorway": [
           "#636efa",
           "#EF553B",
           "#00cc96",
           "#ab63fa",
           "#FFA15A",
           "#19d3f3",
           "#FF6692",
           "#B6E880",
           "#FF97FF",
           "#FECB52"
          ],
          "font": {
           "color": "#2a3f5f"
          },
          "geo": {
           "bgcolor": "white",
           "lakecolor": "white",
           "landcolor": "#E5ECF6",
           "showlakes": true,
           "showland": true,
           "subunitcolor": "white"
          },
          "hoverlabel": {
           "align": "left"
          },
          "hovermode": "closest",
          "mapbox": {
           "style": "light"
          },
          "paper_bgcolor": "white",
          "plot_bgcolor": "#E5ECF6",
          "polar": {
           "angularaxis": {
            "gridcolor": "white",
            "linecolor": "white",
            "ticks": ""
           },
           "bgcolor": "#E5ECF6",
           "radialaxis": {
            "gridcolor": "white",
            "linecolor": "white",
            "ticks": ""
           }
          },
          "scene": {
           "xaxis": {
            "backgroundcolor": "#E5ECF6",
            "gridcolor": "white",
            "gridwidth": 2,
            "linecolor": "white",
            "showbackground": true,
            "ticks": "",
            "zerolinecolor": "white"
           },
           "yaxis": {
            "backgroundcolor": "#E5ECF6",
            "gridcolor": "white",
            "gridwidth": 2,
            "linecolor": "white",
            "showbackground": true,
            "ticks": "",
            "zerolinecolor": "white"
           },
           "zaxis": {
            "backgroundcolor": "#E5ECF6",
            "gridcolor": "white",
            "gridwidth": 2,
            "linecolor": "white",
            "showbackground": true,
            "ticks": "",
            "zerolinecolor": "white"
           }
          },
          "shapedefaults": {
           "line": {
            "color": "#2a3f5f"
           }
          },
          "ternary": {
           "aaxis": {
            "gridcolor": "white",
            "linecolor": "white",
            "ticks": ""
           },
           "baxis": {
            "gridcolor": "white",
            "linecolor": "white",
            "ticks": ""
           },
           "bgcolor": "#E5ECF6",
           "caxis": {
            "gridcolor": "white",
            "linecolor": "white",
            "ticks": ""
           }
          },
          "title": {
           "x": 0.05
          },
          "xaxis": {
           "automargin": true,
           "gridcolor": "white",
           "linecolor": "white",
           "ticks": "",
           "title": {
            "standoff": 15
           },
           "zerolinecolor": "white",
           "zerolinewidth": 2
          },
          "yaxis": {
           "automargin": true,
           "gridcolor": "white",
           "linecolor": "white",
           "ticks": "",
           "title": {
            "standoff": 15
           },
           "zerolinecolor": "white",
           "zerolinewidth": 2
          }
         }
        },
        "title": {
         "text": "Estrés en los Municipios de la ZMG"
        },
        "xaxis": {
         "title": {
          "text": "Municipios"
         }
        },
        "yaxis": {
         "range": [
          0,
          40
         ],
         "title": {
          "text": "Estrés"
         }
        }
       }
      },
      "text/html": [
       "<div>\n",
       "        \n",
       "        \n",
       "            <div id=\"2d75d41e-3501-4bd0-86a9-882c5c7ad186\" class=\"plotly-graph-div\" style=\"height:525px; width:100%;\"></div>\n",
       "            <script type=\"text/javascript\">\n",
       "                require([\"plotly\"], function(Plotly) {\n",
       "                    window.PLOTLYENV=window.PLOTLYENV || {};\n",
       "                    \n",
       "                if (document.getElementById(\"2d75d41e-3501-4bd0-86a9-882c5c7ad186\")) {\n",
       "                    Plotly.newPlot(\n",
       "                        '2d75d41e-3501-4bd0-86a9-882c5c7ad186',\n",
       "                        [{\"marker\": {\"color\": [\"mistyrose\", \"crimson\", \"crimson\", \"red\", \"crimson\", \"lightsalmon\"]}, \"type\": \"bar\", \"x\": [\"El Salto\", \"Guadalajara\", \"Tlajomulco de Z\\u00fa\\u00f1iga\", \"Tlaquepaque\", \"Tonal\\u00e1\", \"Zapopan\"], \"y\": [28, 32, 32, 31, 32, 29]}],\n",
       "                        {\"hovermode\": \"closest\", \"plot_bgcolor\": \"white\", \"template\": {\"data\": {\"bar\": [{\"error_x\": {\"color\": \"#2a3f5f\"}, \"error_y\": {\"color\": \"#2a3f5f\"}, \"marker\": {\"line\": {\"color\": \"#E5ECF6\", \"width\": 0.5}}, \"type\": \"bar\"}], \"barpolar\": [{\"marker\": {\"line\": {\"color\": \"#E5ECF6\", \"width\": 0.5}}, \"type\": \"barpolar\"}], \"carpet\": [{\"aaxis\": {\"endlinecolor\": \"#2a3f5f\", \"gridcolor\": \"white\", \"linecolor\": \"white\", \"minorgridcolor\": \"white\", \"startlinecolor\": \"#2a3f5f\"}, \"baxis\": {\"endlinecolor\": \"#2a3f5f\", \"gridcolor\": \"white\", \"linecolor\": \"white\", \"minorgridcolor\": \"white\", \"startlinecolor\": \"#2a3f5f\"}, \"type\": \"carpet\"}], \"choropleth\": [{\"colorbar\": {\"outlinewidth\": 0, \"ticks\": \"\"}, \"type\": \"choropleth\"}], \"contour\": [{\"colorbar\": {\"outlinewidth\": 0, \"ticks\": \"\"}, \"colorscale\": [[0.0, \"#0d0887\"], [0.1111111111111111, \"#46039f\"], [0.2222222222222222, \"#7201a8\"], [0.3333333333333333, \"#9c179e\"], [0.4444444444444444, \"#bd3786\"], [0.5555555555555556, \"#d8576b\"], [0.6666666666666666, \"#ed7953\"], [0.7777777777777778, \"#fb9f3a\"], [0.8888888888888888, \"#fdca26\"], [1.0, \"#f0f921\"]], \"type\": \"contour\"}], \"contourcarpet\": [{\"colorbar\": {\"outlinewidth\": 0, \"ticks\": \"\"}, \"type\": \"contourcarpet\"}], \"heatmap\": [{\"colorbar\": {\"outlinewidth\": 0, \"ticks\": \"\"}, \"colorscale\": [[0.0, \"#0d0887\"], [0.1111111111111111, \"#46039f\"], [0.2222222222222222, \"#7201a8\"], [0.3333333333333333, \"#9c179e\"], [0.4444444444444444, \"#bd3786\"], [0.5555555555555556, \"#d8576b\"], [0.6666666666666666, \"#ed7953\"], [0.7777777777777778, \"#fb9f3a\"], [0.8888888888888888, \"#fdca26\"], [1.0, \"#f0f921\"]], \"type\": \"heatmap\"}], \"heatmapgl\": [{\"colorbar\": {\"outlinewidth\": 0, \"ticks\": \"\"}, \"colorscale\": [[0.0, \"#0d0887\"], [0.1111111111111111, \"#46039f\"], [0.2222222222222222, \"#7201a8\"], [0.3333333333333333, \"#9c179e\"], [0.4444444444444444, \"#bd3786\"], [0.5555555555555556, \"#d8576b\"], [0.6666666666666666, \"#ed7953\"], [0.7777777777777778, \"#fb9f3a\"], [0.8888888888888888, \"#fdca26\"], [1.0, \"#f0f921\"]], \"type\": \"heatmapgl\"}], \"histogram\": [{\"marker\": {\"colorbar\": {\"outlinewidth\": 0, \"ticks\": \"\"}}, \"type\": \"histogram\"}], \"histogram2d\": [{\"colorbar\": {\"outlinewidth\": 0, \"ticks\": \"\"}, \"colorscale\": [[0.0, \"#0d0887\"], [0.1111111111111111, \"#46039f\"], [0.2222222222222222, \"#7201a8\"], [0.3333333333333333, \"#9c179e\"], [0.4444444444444444, \"#bd3786\"], [0.5555555555555556, \"#d8576b\"], [0.6666666666666666, \"#ed7953\"], [0.7777777777777778, \"#fb9f3a\"], [0.8888888888888888, \"#fdca26\"], [1.0, \"#f0f921\"]], \"type\": \"histogram2d\"}], \"histogram2dcontour\": [{\"colorbar\": {\"outlinewidth\": 0, \"ticks\": \"\"}, \"colorscale\": [[0.0, \"#0d0887\"], [0.1111111111111111, \"#46039f\"], [0.2222222222222222, \"#7201a8\"], [0.3333333333333333, \"#9c179e\"], [0.4444444444444444, \"#bd3786\"], [0.5555555555555556, \"#d8576b\"], [0.6666666666666666, \"#ed7953\"], [0.7777777777777778, \"#fb9f3a\"], [0.8888888888888888, \"#fdca26\"], [1.0, \"#f0f921\"]], \"type\": \"histogram2dcontour\"}], \"mesh3d\": [{\"colorbar\": {\"outlinewidth\": 0, \"ticks\": \"\"}, \"type\": \"mesh3d\"}], \"parcoords\": [{\"line\": {\"colorbar\": {\"outlinewidth\": 0, \"ticks\": \"\"}}, \"type\": \"parcoords\"}], \"pie\": [{\"automargin\": true, \"type\": \"pie\"}], \"scatter\": [{\"marker\": {\"colorbar\": {\"outlinewidth\": 0, \"ticks\": \"\"}}, \"type\": \"scatter\"}], \"scatter3d\": [{\"line\": {\"colorbar\": {\"outlinewidth\": 0, \"ticks\": \"\"}}, \"marker\": {\"colorbar\": {\"outlinewidth\": 0, \"ticks\": \"\"}}, \"type\": \"scatter3d\"}], \"scattercarpet\": [{\"marker\": {\"colorbar\": {\"outlinewidth\": 0, \"ticks\": \"\"}}, \"type\": \"scattercarpet\"}], \"scattergeo\": [{\"marker\": {\"colorbar\": {\"outlinewidth\": 0, \"ticks\": \"\"}}, \"type\": \"scattergeo\"}], \"scattergl\": [{\"marker\": {\"colorbar\": {\"outlinewidth\": 0, \"ticks\": \"\"}}, \"type\": \"scattergl\"}], \"scattermapbox\": [{\"marker\": {\"colorbar\": {\"outlinewidth\": 0, \"ticks\": \"\"}}, \"type\": \"scattermapbox\"}], \"scatterpolar\": [{\"marker\": {\"colorbar\": {\"outlinewidth\": 0, \"ticks\": \"\"}}, \"type\": \"scatterpolar\"}], \"scatterpolargl\": [{\"marker\": {\"colorbar\": {\"outlinewidth\": 0, \"ticks\": \"\"}}, \"type\": \"scatterpolargl\"}], \"scatterternary\": [{\"marker\": {\"colorbar\": {\"outlinewidth\": 0, \"ticks\": \"\"}}, \"type\": \"scatterternary\"}], \"surface\": [{\"colorbar\": {\"outlinewidth\": 0, \"ticks\": \"\"}, \"colorscale\": [[0.0, \"#0d0887\"], [0.1111111111111111, \"#46039f\"], [0.2222222222222222, \"#7201a8\"], [0.3333333333333333, \"#9c179e\"], [0.4444444444444444, \"#bd3786\"], [0.5555555555555556, \"#d8576b\"], [0.6666666666666666, \"#ed7953\"], [0.7777777777777778, \"#fb9f3a\"], [0.8888888888888888, \"#fdca26\"], [1.0, \"#f0f921\"]], \"type\": \"surface\"}], \"table\": [{\"cells\": {\"fill\": {\"color\": \"#EBF0F8\"}, \"line\": {\"color\": \"white\"}}, \"header\": {\"fill\": {\"color\": \"#C8D4E3\"}, \"line\": {\"color\": \"white\"}}, \"type\": \"table\"}]}, \"layout\": {\"annotationdefaults\": {\"arrowcolor\": \"#2a3f5f\", \"arrowhead\": 0, \"arrowwidth\": 1}, \"coloraxis\": {\"colorbar\": {\"outlinewidth\": 0, \"ticks\": \"\"}}, \"colorscale\": {\"diverging\": [[0, \"#8e0152\"], [0.1, \"#c51b7d\"], [0.2, \"#de77ae\"], [0.3, \"#f1b6da\"], [0.4, \"#fde0ef\"], [0.5, \"#f7f7f7\"], [0.6, \"#e6f5d0\"], [0.7, \"#b8e186\"], [0.8, \"#7fbc41\"], [0.9, \"#4d9221\"], [1, \"#276419\"]], \"sequential\": [[0.0, \"#0d0887\"], [0.1111111111111111, \"#46039f\"], [0.2222222222222222, \"#7201a8\"], [0.3333333333333333, \"#9c179e\"], [0.4444444444444444, \"#bd3786\"], [0.5555555555555556, \"#d8576b\"], [0.6666666666666666, \"#ed7953\"], [0.7777777777777778, \"#fb9f3a\"], [0.8888888888888888, \"#fdca26\"], [1.0, \"#f0f921\"]], \"sequentialminus\": [[0.0, \"#0d0887\"], [0.1111111111111111, \"#46039f\"], [0.2222222222222222, \"#7201a8\"], [0.3333333333333333, \"#9c179e\"], [0.4444444444444444, \"#bd3786\"], [0.5555555555555556, \"#d8576b\"], [0.6666666666666666, \"#ed7953\"], [0.7777777777777778, \"#fb9f3a\"], [0.8888888888888888, \"#fdca26\"], [1.0, \"#f0f921\"]]}, \"colorway\": [\"#636efa\", \"#EF553B\", \"#00cc96\", \"#ab63fa\", \"#FFA15A\", \"#19d3f3\", \"#FF6692\", \"#B6E880\", \"#FF97FF\", \"#FECB52\"], \"font\": {\"color\": \"#2a3f5f\"}, \"geo\": {\"bgcolor\": \"white\", \"lakecolor\": \"white\", \"landcolor\": \"#E5ECF6\", \"showlakes\": true, \"showland\": true, \"subunitcolor\": \"white\"}, \"hoverlabel\": {\"align\": \"left\"}, \"hovermode\": \"closest\", \"mapbox\": {\"style\": \"light\"}, \"paper_bgcolor\": \"white\", \"plot_bgcolor\": \"#E5ECF6\", \"polar\": {\"angularaxis\": {\"gridcolor\": \"white\", \"linecolor\": \"white\", \"ticks\": \"\"}, \"bgcolor\": \"#E5ECF6\", \"radialaxis\": {\"gridcolor\": \"white\", \"linecolor\": \"white\", \"ticks\": \"\"}}, \"scene\": {\"xaxis\": {\"backgroundcolor\": \"#E5ECF6\", \"gridcolor\": \"white\", \"gridwidth\": 2, \"linecolor\": \"white\", \"showbackground\": true, \"ticks\": \"\", \"zerolinecolor\": \"white\"}, \"yaxis\": {\"backgroundcolor\": \"#E5ECF6\", \"gridcolor\": \"white\", \"gridwidth\": 2, \"linecolor\": \"white\", \"showbackground\": true, \"ticks\": \"\", \"zerolinecolor\": \"white\"}, \"zaxis\": {\"backgroundcolor\": \"#E5ECF6\", \"gridcolor\": \"white\", \"gridwidth\": 2, \"linecolor\": \"white\", \"showbackground\": true, \"ticks\": \"\", \"zerolinecolor\": \"white\"}}, \"shapedefaults\": {\"line\": {\"color\": \"#2a3f5f\"}}, \"ternary\": {\"aaxis\": {\"gridcolor\": \"white\", \"linecolor\": \"white\", \"ticks\": \"\"}, \"baxis\": {\"gridcolor\": \"white\", \"linecolor\": \"white\", \"ticks\": \"\"}, \"bgcolor\": \"#E5ECF6\", \"caxis\": {\"gridcolor\": \"white\", \"linecolor\": \"white\", \"ticks\": \"\"}}, \"title\": {\"x\": 0.05}, \"xaxis\": {\"automargin\": true, \"gridcolor\": \"white\", \"linecolor\": \"white\", \"ticks\": \"\", \"title\": {\"standoff\": 15}, \"zerolinecolor\": \"white\", \"zerolinewidth\": 2}, \"yaxis\": {\"automargin\": true, \"gridcolor\": \"white\", \"linecolor\": \"white\", \"ticks\": \"\", \"title\": {\"standoff\": 15}, \"zerolinecolor\": \"white\", \"zerolinewidth\": 2}}}, \"title\": {\"text\": \"Estr\\u00e9s en los Municipios de la ZMG\"}, \"xaxis\": {\"title\": {\"text\": \"Municipios\"}}, \"yaxis\": {\"range\": [0, 40], \"title\": {\"text\": \"Estr\\u00e9s\"}}},\n",
       "                        {\"responsive\": true}\n",
       "                    ).then(function(){\n",
       "                            \n",
       "var gd = document.getElementById('2d75d41e-3501-4bd0-86a9-882c5c7ad186');\n",
       "var x = new MutationObserver(function (mutations, observer) {{\n",
       "        var display = window.getComputedStyle(gd).display;\n",
       "        if (!display || display === 'none') {{\n",
       "            console.log([gd, 'removed!']);\n",
       "            Plotly.purge(gd);\n",
       "            observer.disconnect();\n",
       "        }}\n",
       "}});\n",
       "\n",
       "// Listen for the removal of the full notebook cells\n",
       "var notebookContainer = gd.closest('#notebook-container');\n",
       "if (notebookContainer) {{\n",
       "    x.observe(notebookContainer, {childList: true});\n",
       "}}\n",
       "\n",
       "// Listen for the clearing of the current output cell\n",
       "var outputEl = gd.closest('.output');\n",
       "if (outputEl) {{\n",
       "    x.observe(outputEl, {childList: true});\n",
       "}}\n",
       "\n",
       "                        })\n",
       "                };\n",
       "                });\n",
       "            </script>\n",
       "        </div>"
      ]
     },
     "metadata": {},
     "output_type": "display_data"
    }
   ],
   "source": [
    "fig2 = stress_mun(\"datos_estres_1.xlsx\")\n",
    "fig2"
   ]
  },
  {
   "cell_type": "markdown",
   "metadata": {},
   "source": [
    "# Dataframe"
   ]
  },
  {
   "cell_type": "code",
   "execution_count": 115,
   "metadata": {
    "ExecuteTime": {
     "end_time": "2020-06-27T06:39:19.947328Z",
     "start_time": "2020-06-27T06:39:19.767601Z"
    }
   },
   "outputs": [],
   "source": [
    "# .. ................................................................................... .. #\n",
    "# .. Proyecto: UrbanLab - Plataforma de ayuda para micro y pequeñas empresas             .. #\n",
    "# .. Archivo: stress_table.py - Tabla Estrés por giro.   de empresas                .. #\n",
    "# .. Licencia: Todos los derechos reservados                                             .. #\n",
    "# .. Repositorio: https://github.com/IFFranciscoME/Urban_Lab_App.git                     .. #\n",
    "# .. ................................................................................... .. #\n",
    "\n",
    "import pandas as pd\n",
    "import numpy as np\n",
    "import plotly.graph_objects as go\n",
    "\n",
    "def stress_table(ruta_db):\n",
    "    \"\"\"\n",
    "    Parameters\n",
    "    ---------\n",
    "    :param:\n",
    "        ruta_db: str : Path to the Database\n",
    "    Returns\n",
    "    ---------\n",
    "    :return:\n",
    "        fig: Plotly : Plotly table ( Use fig.show () )\n",
    "    Debugging\n",
    "    ---------\n",
    "        file_path = 'Base_de_datos.xlsx'\n",
    "\t\tsheet = 'IIEG_E_1'\n",
    "    \"\"\"\n",
    "    df_data = pd.read_excel(ruta_db) # Cambiar ruta para la base de datos\n",
    "    \n",
    "    df_data = df_data.loc[df_data['Municipio'].isin(['Zapopan','Tonalá',\n",
    "                                                     'Tlaquepaque','Tlajomulco de Zúñiga',\n",
    "                                                     'El Salto','Guadalajara'])]\n",
    "    df_data = df_data.reset_index(drop=True)\n",
    "    \n",
    "    \n",
    "    #Acomodo de datos\n",
    "    data = df_data\n",
    "    data = data.replace({\"Más de 52\": 52, \"De 26 a 52\": 26, \"No aplica\": 100, \"No contesto\": 101,\n",
    "                         \"No sé\":102, \"Más de un año\":12})\n",
    "\n",
    "   #ventas_porcentaje\n",
    "    for i in range(0, len(data)):\n",
    "        if data['ventas_porcentaje'][i]>0 and data['ventas_porcentaje'][i]<=25:\n",
    "            data.loc[i,'ventas_porcentaje'] = 1\n",
    "        if data['ventas_porcentaje'][i]>25 and data['ventas_porcentaje'][i]<=50:\n",
    "            data.loc[i,'ventas_porcentaje'] = 2\n",
    "        if data['ventas_porcentaje'][i]>50 and data['ventas_porcentaje'][i]<=75:\n",
    "            data.loc[i,'ventas_porcentaje'] = 3\n",
    "        if data['ventas_porcentaje'][i]>75 and data['ventas_porcentaje'][i]<=100:\n",
    "            data.loc[i,'ventas_porcentaje'] = 4\n",
    "        if data['ventas_porcentaje'][i]>100:\n",
    "            data.loc[i,'ventas_porcentaje'] = 1  \n",
    "        \n",
    "\n",
    "    #perdidas_porcentaje\n",
    "    for i in range(0, len(data)):\n",
    "        if data['perdidas_porcentaje'][i]>0 and data['perdidas_porcentaje'][i]<=25:\n",
    "            data.loc[i,'perdidas_porcentaje'] = 1\n",
    "        if data['perdidas_porcentaje'][i]>25 and data['perdidas_porcentaje'][i]<=50:\n",
    "            data.loc[i,'perdidas_porcentaje'] = 2\n",
    "        if data['perdidas_porcentaje'][i]>50 and data['perdidas_porcentaje'][i]<=75:\n",
    "            data.loc[i,'perdidas_porcentaje'] = 3\n",
    "        if data['perdidas_porcentaje'][i]>75 and data['perdidas_porcentaje'][i]<=100:\n",
    "            data.loc[i,'perdidas_porcentaje'] = 4\n",
    "        if data['perdidas_porcentaje'][i]>100:\n",
    "            data.loc[i,'perdidas_porcentaje'] = 1 \n",
    "\n",
    "    #capacidad\n",
    "    for i in range(0, len(data)):\n",
    "        if data['capacidad'][i]>0 and data['capacidad'][i]<=25:\n",
    "            data.loc[i,'capacidad'] = 1\n",
    "        if data['capacidad'][i]>25 and data['capacidad'][i]<=50:\n",
    "            data.loc[i,'capacidad'] = 2\n",
    "        if data['capacidad'][i]>50 and data['capacidad'][i]<=75:\n",
    "            data.loc[i,'capacidad'] = 3\n",
    "        if data['capacidad'][i]>75 and data['capacidad'][i]<=100:\n",
    "            data.loc[i,'capacidad'] = 4\n",
    "        if data['capacidad'][i]>100:\n",
    "            data.loc[i,'capacidad'] = 1\n",
    "\n",
    "    #cerrar\n",
    "    for i in range(0, len(data)):\n",
    "        if data['cerrar'][i] == 'Sí':\n",
    "            data.loc[i,'cerrar'] = 2\n",
    "        if data['cerrar'][i] == 'No':\n",
    "            data.loc[i,'cerrar'] = 0\n",
    "\n",
    "    #despidos\n",
    "    for i in range(0, len(data)):\n",
    "        if data['despidos'][i] == 'Sí' or data['despidos'][i] == 'No, pero lo está considerando':\n",
    "            data.loc[i,'despidos'] = 2\n",
    "        if data['despidos'][i] == 'No' or data['despidos'][i] == 'No cuenta con personal':\n",
    "            data.loc[i,'despidos'] = 0\n",
    "        if data['despidos'][i] == 'No, pero lo va a hacer en los próximos días':\n",
    "            data.loc[i,'despidos'] = 3\n",
    "\n",
    "    #plantilla_porcentaje\n",
    "    for i in range(0, len(data)):\n",
    "        if data['plantilla_porcentaje'][i]>0 and data['plantilla_porcentaje'][i]<=25:\n",
    "            data.loc[i,'plantilla_porcentaje'] = 1\n",
    "        if data['plantilla_porcentaje'][i]>25 and data['plantilla_porcentaje'][i]<=50:\n",
    "            data.loc[i,'plantilla_porcentaje'] = 2\n",
    "        if data['plantilla_porcentaje'][i]>50 and data['plantilla_porcentaje'][i]<=75:\n",
    "            data.loc[i,'plantilla_porcentaje'] = 3\n",
    "        if data['plantilla_porcentaje'][i]>75 and data['plantilla_porcentaje'][i]<=100:\n",
    "            data.loc[i,'plantilla_porcentaje'] = 4\n",
    "        if data['plantilla_porcentaje'][i]>100:\n",
    "            data.loc[i,'plantilla_porcentaje'] = 1\n",
    "\n",
    "    #pago_salarios\n",
    "    for i in range(0, len(data)):\n",
    "        if data['pago_salarios'][i] == 100 or data['pago_salarios'][i] == 101 or data['pago_salarios'][i] == 102:\n",
    "            data.loc[i,'pago_salarios'] = 0\n",
    "        if data['pago_salarios'][i]>0 and data['pago_salarios'][i]<=6:\n",
    "            data.loc[i,'pago_salarios'] = 1\n",
    "        if data['pago_salarios'][i]>6 and data['pago_salarios'][i]<=12:\n",
    "            data.loc[i,'pago_salarios'] = 2\n",
    "        if data['pago_salarios'][i]>12 and data['pago_salarios'][i]<=18:\n",
    "            data.loc[i,'pago_salarios'] = 3\n",
    "        if data['pago_salarios'][i]>18:\n",
    "            data.loc[i,'pago_salarios'] = 4\n",
    "\n",
    "    #pago_impuestos\n",
    "    for i in range(0, len(data)):\n",
    "        if data['pago_impuestos'][i] == 100 or data['pago_impuestos'][i] == 101 or data['pago_impuestos'][i] == 102:\n",
    "            data.loc[i,'pago_impuestos'] = 0\n",
    "        if data['pago_impuestos'][i]>0 and data['pago_impuestos'][i]<=6:\n",
    "            data.loc[i,'pago_impuestos'] = 1\n",
    "        if data['pago_impuestos'][i]>6 and data['pago_impuestos'][i]<=12:\n",
    "            data.loc[i,'pago_impuestos'] = 2\n",
    "        if data['pago_impuestos'][i]>12 and data['pago_impuestos'][i]<=18:\n",
    "            data.loc[i,'pago_impuestos'] = 3\n",
    "        if data['pago_impuestos'][i]>18:\n",
    "            data.loc[i,'pago_impuestos'] = 4\n",
    "\n",
    "    #pago_credito\n",
    "    for i in range(0, len(data)):\n",
    "        if data['pago_creditos'][i] == 100 or data['pago_creditos'][i] == 101  or data['pago_creditos'][i] == 102:\n",
    "            data.loc[i,'pago_creditos'] = 0\n",
    "        if data['pago_creditos'][i]>0 and data['pago_creditos'][i]<=6:\n",
    "            data.loc[i,'pago_creditos'] = 1\n",
    "        if data['pago_creditos'][i]>6 and data['pago_creditos'][i]<=12:\n",
    "            data.loc[i,'pago_creditos'] = 2\n",
    "        if data['pago_creditos'][i]>12 and data['pago_creditos'][i]<=18:\n",
    "            data.loc[i,'pago_creditos'] = 3\n",
    "        if data['pago_creditos'][i]>18:\n",
    "            data.loc[i,'pago_creditos'] = 4\n",
    "\n",
    "    #pago_renta\n",
    "    for i in range(0, len(data)):\n",
    "        if data['pago_renta'][i] == 100 or data['pago_renta'][i] == 101  or data['pago_renta'][i] == 102:\n",
    "            data.loc[i,'pago_renta'] = 0\n",
    "        if data['pago_renta'][i]>0 and data['pago_renta'][i]<=6:\n",
    "            data.loc[i,'pago_renta'] = 1\n",
    "        if data['pago_renta'][i]>6 and data['pago_renta'][i]<=12:\n",
    "            data.loc[i,'pago_renta'] = 2\n",
    "        if data['pago_renta'][i]>12 and data['pago_renta'][i]<=18:\n",
    "            data.loc[i] = 3\n",
    "        if data['pago_renta'][i]>18:\n",
    "            data.loc[i,'pago_renta'] = 4\n",
    "\n",
    "    #pago_internet\n",
    "    for i in range(0, len(data)):\n",
    "        if data['pago_internet'][i] == 100 or data['pago_internet'][i] == 101  or data['pago_internet'][i] == 102:\n",
    "            data.loc[i,'pago_internet'] = 0\n",
    "        if data['pago_internet'][i]>0 and data['pago_internet'][i]<=6:\n",
    "            data.loc[i,'pago_internet'] = 1\n",
    "        if data['pago_internet'][i]>6 and data['pago_internet'][i]<=12:\n",
    "            data.loc[i,'pago_internet'] = 2\n",
    "        if data['pago_internet'][i]>12 and data['pago_internet'][i]<=18:\n",
    "            data.loc[i,'pago_internet'] = 3\n",
    "        if data['pago_internet'][i]>18:\n",
    "            data.loc[i,'pago_internet'] = 4\n",
    "\n",
    "    #pago_agua\n",
    "    for i in range(0, len(data)):\n",
    "        if data['pago_agua'][i] == 100 or data['pago_agua'][i] == 101  or data['pago_agua'][i] == 102:\n",
    "            data.loc[i,'pago_agua'] = 0\n",
    "        if data['pago_agua'][i]>0 and data['pago_agua'][i]<=6:\n",
    "            data.loc[i,'pago_agua'] = 1\n",
    "        if data['pago_agua'][i]>6 and data['pago_agua'][i]<=12:\n",
    "            data.loc[i,'pago_agua'] = 2\n",
    "        if data['pago_agua'][i]>12 and data['pago_agua'][i]<=18:\n",
    "            data.loc[i,'pago_agua'] = 3\n",
    "        if data['pago_agua'][i]>18:\n",
    "            data.loc[i,'pago_agua'] = 4\n",
    "\n",
    "    #pago_luz\n",
    "    for i in range(0, len(data)):\n",
    "        if data['pago_luz'][i] == 100 or data['pago_luz'][i] == 101  or data['pago_luz'][i] == 102:\n",
    "            data.loc[i,'pago_luz'] = 0\n",
    "        if data['pago_luz'][i]>0 and data['pago_luz'][i]<=6:\n",
    "            data.loc[i,'pago_luz'] = 1\n",
    "        if data['pago_luz'][i]>6 and data['pago_luz'][i]<=12:\n",
    "            data.loc[i,'pago_luz'] = 2\n",
    "        if data['pago_luz'][i]>12 and data['pago_luz'][i]<=18:\n",
    "            data.loc[i,'pago_luz'] = 3\n",
    "        if data['pago_luz'][i]>18:\n",
    "            data.loc[i,'pago_luz'] = 4\n",
    "\n",
    "    #pago_gas\n",
    "    for i in range(0, len(data)):\n",
    "        if data['pago_gas'][i] == 100 or data['pago_gas'][i] == 101  or data['pago_gas'][i] == 102:\n",
    "            data.loc[i,'pago_gas'] = 0\n",
    "        if data['pago_gas'][i]>0 and data['pago_gas'][i]<=6:\n",
    "            data.loc[i,'pago_gas'] = 1\n",
    "        if data['pago_gas'][i]>6 and data['pago_gas'][i]<=12:\n",
    "            data.loc[i,'pago_gas'] = 2\n",
    "        if data['pago_gas'][i]>12 and data['pago_gas'][i]<=18:\n",
    "            data.loc[i,'pago_gas'] = 3\n",
    "        if data['pago_gas'][i]>18:\n",
    "            data.loc[i,'pago_gas'] = 4\n",
    "\n",
    "    #duracion\n",
    "    for i in range(0, len(data)):\n",
    "        if  data['duracion'][i] == 12 or data['duracion'][i] == 102:\n",
    "            data.loc[i,'duracion'] = 0\n",
    "        if data['duracion'][i]>0 and data['duracion'][i]<=6:\n",
    "            data.loc[i,'duracion'] = 1\n",
    "        if data['duracion'][i]>6 and data['duracion'][i]<=12:\n",
    "            data.loc[i,'duracion'] = 2\n",
    "        if data['duracion'][i]>12 and data['duracion'][i]<=18:\n",
    "            data.loc[i,'duracion'] = 3\n",
    "        if data['duracion'][i]>18:\n",
    "            data.loc[i,'duracion'] = 4\n",
    "\n",
    "    #capacidad_pago\n",
    "    for i in range(0, len(data)):\n",
    "        if data['capacidad_pago'][i] == 'Sí':\n",
    "            data.loc[i,'capacidad_pago'] = 1\n",
    "        if data['capacidad_pago'][i] == 'No':\n",
    "            data.loc[i,'capacidad_pago'] = 2\n",
    "        if data['capacidad_pago'][i] == 'No sé':\n",
    "            data.loc[i,'capacidad_pago'] = 0\n",
    "        if data['capacidad_pago'][i] == 100:\n",
    "            data.loc[i,'capacidad_pago'] = 0\n",
    "        if data['capacidad_pago'][i] == 102:\n",
    "            data.loc[i,'capacidad_pago'] = 0\n",
    "        if data['capacidad_pago'][i] == 101:\n",
    "            data.loc[i,'capacidad_pago'] = 0\n",
    "\n",
    "    #credito\n",
    "    for i in range(0, len(data)):\n",
    "        if data['credito'][i] == 'Sí':\n",
    "            data.loc[i,'credito'] = 2\n",
    "        if data['credito'][i] == 'No':\n",
    "            data.loc[i,'credito'] = 0\n",
    "        if data['credito'][i] == 'No':\n",
    "            data.loc[i,'credito'] = 0\n",
    "\n",
    "    #aumento_insumos\n",
    "    for i in range(0, len(data)):\n",
    "        if data['aumento_insumos'][i] == 'Sí':\n",
    "            data.loc[i,'aumento_insumos'] = 3\n",
    "        if data['aumento_insumos'][i] == 'No':\n",
    "            data.loc[i,'aumento_insumos'] = 0\n",
    "        if data['aumento_insumos'][i] == 'No, pero lo estoy considerando':\n",
    "            data.loc[i,'aumento_insumos'] = 0\n",
    "        if data['aumento_insumos'][i] == 102:\n",
    "            data.loc[i,'aumento_insumos'] = 0\n",
    "\n",
    "    #aumento_precios\n",
    "    for i in range(0, len(data)):\n",
    "        if data['aumento_precios'][i] == 'Sí':\n",
    "            data.loc[i,'aumento_precios'] = 3\n",
    "        if data['aumento_precios'][i] == 'No':\n",
    "            data.loc[i,'aumento_precios'] = 0\n",
    "        if data['aumento_precios'][i]==100:\n",
    "            data.loc[i,'aumento_precios'] = 0\n",
    "        if data['aumento_precios'][i]==102:\n",
    "            data.loc[i,'aumento_precios'] = 0\n",
    "        if data['aumento_precios'][i]==101:\n",
    "            data.loc[i,'aumento_precios'] = 0\n",
    "        if data['aumento_precios'][i] == 'No, pero lo estoy considerando':\n",
    "            data.loc[i,'aumento_precios'] = 0\n",
    "\n",
    "    #escasez_insumos\n",
    "    for i in range(0, len(data)):\n",
    "        if data['escasez_insumos'][i] == 'Sí':\n",
    "            data.loc[i,'escasez_insumos'] = 3\n",
    "        if data['escasez_insumos'][i] == 'No':\n",
    "            data.loc[i,'escasez_insumos'] = 0\n",
    "        if data['escasez_insumos'][i] == 102:\n",
    "            data.loc[i,'escasez_insumos'] = 0\n",
    "\n",
    "    #aumento_tipocambio\n",
    "    for i in range(0, len(data)):\n",
    "        if data['aumento_tipocambio'][i] == 'Sí':\n",
    "            data.loc[i,'aumento_tipocambio'] = 4\n",
    "        if data['aumento_tipocambio'][i] == 'No':\n",
    "            data.loc[i,'aumento_tipocambio'] = 0\n",
    "        if data['aumento_tipocambio'][i] == 102:\n",
    "            data.loc[i,'aumento_tipocambio'] = 0\n",
    "\n",
    "\n",
    "    #Tabla de Estrés\n",
    "    column = data[['Municipio', 'Sector', 'Giro', 'Tamaño','ventas_porcentaje','perdidas_porcentaje',\n",
    "                   'capacidad','cerrar','despidos',\n",
    "      'plantilla_porcentaje', 'pago_salarios', 'pago_impuestos', 'pago_creditos','pago_renta','pago_internet','pago_agua',\n",
    "                  'pago_luz','pago_gas','duracion','capacidad_pago','credito','aumento_insumos','aumento_precios',\n",
    "                  'escasez_insumos','aumento_tipocambio']]\n",
    "    column = column.astype({'ventas_porcentaje': int,'perdidas_porcentaje': int, 'capacidad': int,'cerrar': int\n",
    "                        ,'despidos': int, 'plantilla_porcentaje': int, 'pago_salarios': int\n",
    "                        , 'pago_impuestos': int, 'pago_creditos': int,'pago_renta': int,'pago_internet': int, 'pago_agua': int,\n",
    "                           'pago_luz': int, 'pago_gas': int, 'duracion': int, 'capacidad_pago': int, 'credito': int,\n",
    "                           'aumento_insumos': int,\n",
    "                            'aumento_precios': int,\n",
    "                            'escasez_insumos': int,\n",
    "                            'aumento_tipocambio': int})\n",
    "\n",
    "    column['Estrés'] = column['ventas_porcentaje']+column['perdidas_porcentaje']+column['capacidad']+\\\n",
    "                         column['cerrar']+column['despidos']+column['plantilla_porcentaje']+column['pago_salarios']+\\\n",
    "                         column['pago_impuestos']+column['pago_creditos']+column['pago_renta']+\\\n",
    "                         column['pago_internet']+ column['pago_agua']+\\\n",
    "                         column['pago_luz']+column['pago_gas']+column['duracion']+column['capacidad_pago']+\\\n",
    "                         column['credito']+column['aumento_insumos']+column['aumento_precios']+column['escasez_insumos']+\\\n",
    "                         column['aumento_tipocambio']  \n",
    "    \n",
    "    #Creación de tabla resumen\n",
    "    pivot_giro = pd.pivot_table(column,index = ['Giro'],\n",
    "                                values = ['ventas_porcentaje','perdidas_porcentaje',\n",
    "                                          'capacidad','cerrar','despidos','plantilla_porcentaje','pago_salarios',\n",
    "                                          'pago_impuestos','pago_creditos', 'pago_renta', 'pago_internet',\n",
    "                                          'pago_agua','pago_luz','pago_gas','duracion','capacidad_pago',\n",
    "                                          'credito','aumento_insumos','aumento_precios','escasez_insumos',\n",
    "                                          'aumento_tipocambio'], aggfunc=np.median)\n",
    "    \n",
    "    pivot_giro['Estrés'] = pivot_giro['ventas_porcentaje']+pivot_giro['perdidas_porcentaje']+\\\n",
    "                         pivot_giro['capacidad']+pivot_giro['cerrar']+pivot_giro['despidos']+\\\n",
    "                         pivot_giro['plantilla_porcentaje']+pivot_giro['pago_salarios']+pivot_giro['pago_impuestos']+\\\n",
    "                         pivot_giro['pago_creditos']+pivot_giro['pago_renta']+\\\n",
    "                         pivot_giro['pago_internet']+pivot_giro['pago_agua']+pivot_giro['pago_luz']+\\\n",
    "                         pivot_giro['pago_gas']+pivot_giro['duracion']+pivot_giro['capacidad_pago']+\\\n",
    "                         pivot_giro['credito']+pivot_giro['aumento_insumos']+pivot_giro['aumento_precios']+\\\n",
    "                         pivot_giro['escasez_insumos']+pivot_giro['aumento_tipocambio']\n",
    "    \n",
    "    pivot_giro.columns = ['Ventas en Porcentaje', 'Perdidas en Porcentaje','Capacidad','Cerrar','Despidos',\n",
    "                          'Plantilla en Porcentaje','Pago de Salarios','Pago de Impuestos','Pago de Crédito',\n",
    "                          'Pago de Renta','Pago de Internet','Pago de Agua','Pago de Luz','Pago de Gas','Duración',\n",
    "                          'Capacidad de Pago','Crédito','Aumento de Insumos',\n",
    "                          'Aumento de Precios','Escasez de Insumos','Aumento por Tipo de Cambio','Estrés']\n",
    "    \n",
    "    # Creacion de figura\n",
    "    fig = go.Figure(data=[go.Table(name= \"Estrés\",\n",
    "    header=dict(values= [\"Giro\"]+pivot_giro.columns.tolist(),\n",
    "                fill_color='crimson',\n",
    "                align='center', font_color = 'White', font_size = 11),\n",
    "    cells=dict(values=[pivot_giro.index,pivot_giro['Ventas en Porcentaje'],pivot_giro['Perdidas en Porcentaje'],\n",
    "                         pivot_giro['Capacidad'],pivot_giro['Cerrar'],\n",
    "                         pivot_giro['Despidos'],pivot_giro['Plantilla en Porcentaje'],pivot_giro['Pago de Salarios'],\n",
    "                         pivot_giro['Pago de Impuestos'],pivot_giro['Pago de Crédito'],pivot_giro['Pago de Renta'],\n",
    "                         pivot_giro['Pago de Internet'],pivot_giro['Pago de Agua'],\n",
    "                         pivot_giro['Pago de Luz'],pivot_giro['Pago de Gas'],pivot_giro['Duración'],\n",
    "                         pivot_giro['Capacidad de Pago'],pivot_giro['Crédito'],\n",
    "                         pivot_giro['Aumento de Insumos'],pivot_giro['Aumento de Precios'],pivot_giro['Escasez de Insumos'],\n",
    "                         pivot_giro['Aumento por Tipo de Cambio'],pivot_giro['Estrés']],\n",
    "               fill_color='salmon',\n",
    "               align='center',height=20,font_size=11))])\n",
    "\n",
    "    \n",
    "    return fig\n",
    "    "
   ]
  },
  {
   "cell_type": "code",
   "execution_count": 116,
   "metadata": {
    "ExecuteTime": {
     "end_time": "2020-06-27T06:39:54.784926Z",
     "start_time": "2020-06-27T06:39:20.106870Z"
    },
    "scrolled": true
   },
   "outputs": [
    {
     "data": {
      "application/vnd.plotly.v1+json": {
       "config": {
        "plotlyServerURL": "https://plot.ly"
       },
       "data": [
        {
         "cells": {
          "align": "center",
          "fill": {
           "color": "salmon"
          },
          "font": {
           "size": 11
          },
          "height": 20,
          "values": [
           [
            "Agencias de viajes",
            "Cafeterías y neverías",
            "Cajas de ahorro popular",
            "Carnicerías",
            "Confección de productos textiles",
            "Construcción de carreteras y puentes",
            "Construcción de obras de urbanización",
            "Consultorios dentales",
            "Consultorios médicos",
            "Consultorías en administración",
            "Despachos contables",
            "Despachos jurídicos",
            "Edificación de inmuebles comerciales",
            "Edificación de naves industriales",
            "Edificación de vivienda unifamiliar",
            "Elaboración de alimentos para animales",
            "Elaboración de botanas",
            "Elaboración de dulces",
            "Elaboración de helados y paletas",
            "Elaboración de piezas para maquinaria",
            "Elaboración de tortillas",
            "Equipo y material eléctrico",
            "Escuelas",
            "Estéticas, salones de belleza y peluquerías",
            "Fabricación de bolsas de plástico",
            "Fabricación de calzado",
            "Fabricación de envases de cartón",
            "Fabricación de envases de plástico para embalaje",
            "Fabricación de jabones, limpiadores y dentífricos",
            "Fabricación de muebles",
            "Fabricación de preparaciones farmacéuticas",
            "Fabricación de productos de madera",
            "Farmacias",
            "Ferreterías y tlapalerías",
            "Fertilizantes, plaguicidas y semillas",
            "Gasolineras",
            "Herrería y estructuras metálicas",
            "Hoteles",
            "Impresión",
            "Inmobiliarias y agentes de bienes raíces",
            "Instalaciones eléctricas",
            "Joyerías y tiendas de relojes",
            "Laboratorios médicos y de diagnóstico",
            "Minisupers",
            "Mueblerías",
            "No especificado",
            "Otro",
            "Panificación",
            "Papelerías",
            "Purificación de agua",
            "Refacciones para automóviles",
            "Reparación de electrónicos",
            "Reparación de maquinaria y equipo",
            "Restaurantes",
            "Servicios de acceso a computadoras (cibers)",
            "Talleres Mecánicos",
            "Taquerías y Tortas",
            "Tiendas de Lentes",
            "Tiendas de abarrotes",
            "Tiendas de celulares",
            "Tiendas de frutas y verduras",
            "Tiendas de perfumería y cosméticos",
            "Tiendas de pintura",
            "Tiendas de ropa",
            "Venta de materiales para la construcción",
            "Veterinarias",
            "Zapaterías"
           ],
           [
            0,
            3,
            3,
            0,
            3,
            3,
            0,
            3,
            3,
            0,
            0,
            0,
            3,
            3,
            3,
            0,
            3,
            3,
            3,
            3,
            3,
            3,
            0,
            0,
            3,
            3,
            3,
            1.5,
            1.5,
            3,
            3,
            0,
            3,
            3,
            3,
            0,
            3,
            0,
            3,
            0,
            3,
            3,
            0,
            1.5,
            3,
            1.5,
            3,
            3,
            3,
            0,
            3,
            3,
            3,
            3,
            3,
            3,
            1.5,
            0,
            3,
            3,
            3,
            0,
            3,
            3,
            0,
            3,
            3
           ],
           [
            0,
            0,
            0,
            0,
            0,
            3,
            0,
            0,
            0,
            0,
            0,
            0,
            0,
            0,
            0,
            0,
            0,
            3,
            0,
            0,
            0,
            0,
            0,
            0,
            0,
            0,
            0,
            0,
            0,
            0,
            0,
            0,
            0,
            3,
            0,
            0,
            0,
            0,
            0,
            0,
            3,
            0,
            0,
            0,
            0,
            0,
            0,
            0,
            0,
            0,
            3,
            0,
            0,
            0,
            0,
            0,
            0,
            0,
            1.5,
            0,
            0,
            0,
            0,
            0,
            0,
            0,
            0
           ],
           [
            4,
            0,
            2,
            4,
            4,
            4,
            0,
            4,
            4,
            4,
            4,
            0,
            4,
            4,
            4,
            0,
            4,
            4,
            4,
            4,
            4,
            4,
            4,
            4,
            4,
            4,
            4,
            4,
            2,
            4,
            4,
            4,
            4,
            4,
            4,
            0,
            4,
            0,
            4,
            4,
            4,
            4,
            2,
            0,
            4,
            4,
            4,
            4,
            4,
            0,
            4,
            4,
            4,
            4,
            4,
            4,
            2,
            2,
            4,
            4,
            4,
            4,
            4,
            4,
            4,
            4,
            4
           ],
           [
            1,
            2,
            2.5,
            3,
            1,
            2,
            3,
            1,
            2,
            1,
            3,
            1,
            1.5,
            2,
            1.5,
            4,
            3,
            4,
            2,
            1.5,
            3,
            2,
            1,
            0,
            2,
            0,
            1.5,
            4,
            1.5,
            1,
            3,
            2,
            2,
            2,
            3,
            2,
            1,
            1,
            1,
            2,
            3,
            0,
            2,
            3.5,
            0.5,
            0.5,
            1,
            2.5,
            1,
            1,
            2,
            1,
            2,
            1,
            0,
            2,
            2,
            2,
            2,
            1,
            2,
            0,
            2.5,
            1,
            2,
            2,
            0.5
           ],
           [
            2,
            2,
            1.5,
            2,
            2,
            0,
            2,
            2,
            2,
            2,
            1,
            2,
            2,
            2,
            2,
            1,
            1,
            2,
            1,
            2,
            2,
            2,
            2,
            2,
            2,
            2,
            1.5,
            1.5,
            1.5,
            2,
            1.5,
            2,
            2,
            2,
            2,
            2,
            2,
            2,
            2,
            1,
            2,
            2,
            2,
            1.5,
            2,
            2,
            2,
            2,
            2,
            2,
            2,
            2,
            2,
            2,
            2,
            2,
            2,
            2,
            2,
            2,
            2,
            2,
            1,
            2,
            2,
            2,
            2
           ],
           [
            0,
            0,
            0,
            0,
            0,
            2,
            0,
            0,
            0,
            0,
            0,
            0,
            0,
            0,
            0,
            0,
            0,
            0,
            0,
            1,
            1,
            0,
            0,
            2,
            2,
            2,
            0,
            0,
            1,
            0,
            0,
            0,
            0,
            0,
            0,
            0,
            0,
            0,
            0,
            0,
            2,
            0,
            0,
            1,
            0,
            1,
            0,
            0,
            0,
            2,
            0,
            0,
            0,
            0,
            0,
            0,
            0,
            1,
            0,
            2,
            0,
            0,
            1,
            1,
            0,
            0,
            2
           ],
           [
            0,
            0,
            0,
            2,
            0,
            2,
            2,
            2,
            1,
            2,
            2,
            0,
            0,
            2,
            1,
            2,
            2,
            2,
            0,
            2,
            2,
            0,
            0,
            0,
            2,
            2,
            2,
            2,
            1,
            2,
            2,
            2,
            1,
            2,
            0,
            0,
            0,
            0,
            2,
            0,
            2,
            2,
            1,
            1,
            0,
            0,
            2,
            1,
            0,
            0,
            2,
            0,
            2,
            0,
            2,
            0,
            0,
            0,
            2,
            2,
            2,
            0,
            1,
            0,
            2,
            0,
            2
           ],
           [
            2,
            2,
            2,
            0,
            2,
            2,
            0,
            0,
            2,
            2,
            2,
            2,
            2,
            2,
            2,
            0,
            1,
            2,
            0,
            2,
            2,
            2,
            2,
            2,
            2,
            2,
            1,
            1,
            1,
            2,
            1,
            2,
            0,
            2,
            2,
            0,
            0,
            0,
            2,
            2,
            2,
            2,
            2,
            1,
            2,
            2,
            2,
            1,
            0,
            0,
            2,
            2,
            2,
            2,
            2,
            2,
            0,
            1,
            2,
            2,
            0,
            2,
            2,
            2,
            2,
            0,
            2
           ],
           [
            1,
            1,
            1,
            1,
            1,
            1,
            1,
            1,
            1,
            1,
            1,
            1,
            1,
            1,
            1,
            0,
            1,
            1,
            1,
            1,
            0,
            1,
            1,
            1,
            1,
            1,
            1,
            1,
            1,
            1,
            0.5,
            1,
            1,
            1,
            1,
            1,
            1,
            0,
            1,
            1,
            1,
            1,
            1,
            0.5,
            1,
            1,
            1,
            1,
            1,
            1,
            1,
            1,
            1,
            1,
            1,
            1,
            1,
            1,
            1,
            1,
            1,
            1,
            1,
            1,
            1,
            1,
            0.5
           ],
           [
            3,
            1.5,
            3,
            3,
            3,
            3,
            0,
            3,
            3,
            0,
            0,
            0,
            3,
            3,
            3,
            0,
            1.5,
            0,
            3,
            3,
            1.5,
            3,
            0,
            3,
            0,
            3,
            1.5,
            3,
            1.5,
            3,
            3,
            3,
            3,
            3,
            3,
            0,
            3,
            0,
            3,
            3,
            3,
            3,
            1.5,
            1.5,
            3,
            1.5,
            3,
            3,
            3,
            0,
            3,
            3,
            3,
            0,
            3,
            3,
            0,
            3,
            3,
            3,
            0,
            3,
            3,
            3,
            3,
            3,
            1.5
           ],
           [
            1,
            1,
            1,
            1,
            1,
            1,
            0,
            1,
            1,
            1,
            1,
            1,
            1,
            1,
            1,
            0,
            1,
            0,
            1,
            1,
            0.5,
            1,
            1,
            1,
            1,
            1,
            1,
            0.5,
            1.5,
            1,
            2,
            1,
            1,
            1,
            1,
            2,
            1,
            1,
            1,
            1,
            1,
            1,
            1,
            2.5,
            1,
            0,
            1,
            0,
            1,
            0,
            1,
            1,
            1,
            1,
            1,
            1,
            0.5,
            1,
            1,
            1,
            1,
            1,
            1,
            1,
            1,
            1,
            1
           ],
           [
            1,
            0.5,
            0,
            0,
            0,
            1,
            1,
            0.5,
            1,
            1,
            1,
            1,
            1,
            1,
            1,
            0,
            1,
            1,
            0,
            1,
            0,
            1,
            0,
            1,
            1,
            1,
            1,
            0.5,
            1,
            1,
            2.5,
            1,
            0,
            1,
            1,
            0,
            1,
            0,
            1,
            1,
            1,
            0,
            1,
            0.5,
            0.5,
            0.5,
            1,
            0.5,
            1,
            0,
            0,
            0,
            1,
            0,
            0,
            0,
            0.5,
            1,
            1,
            1,
            1,
            1,
            1,
            1,
            1,
            1,
            0
           ],
           [
            0,
            0,
            0,
            1,
            1,
            0,
            0,
            0,
            0,
            0,
            1,
            0.5,
            0,
            1,
            0,
            0,
            0.5,
            0,
            1,
            1,
            0,
            0,
            0,
            1,
            1,
            0,
            0,
            0,
            1,
            0.5,
            2,
            1,
            0,
            0,
            1,
            0,
            1,
            0,
            1,
            0,
            0,
            0,
            0,
            0,
            0,
            0,
            0,
            0.5,
            0,
            0,
            1,
            0,
            0,
            1,
            0.5,
            0,
            1,
            0,
            1,
            0,
            0,
            1,
            0.5,
            1,
            0,
            1,
            0
           ],
           [
            1,
            1,
            1,
            1,
            1,
            1,
            1,
            1,
            1,
            1,
            1,
            1,
            1,
            1,
            1,
            0,
            1,
            1,
            1,
            1,
            0,
            1,
            1,
            1,
            1,
            1,
            1,
            0.5,
            1.5,
            1,
            2.5,
            1,
            1,
            1,
            1,
            1,
            1,
            1,
            1,
            1,
            1,
            1,
            1,
            1,
            1,
            0.5,
            1,
            0.5,
            1,
            0,
            1,
            1,
            1,
            1,
            1,
            1,
            0.5,
            1,
            1,
            1,
            1,
            1,
            1,
            1,
            1,
            1,
            0
           ],
           [
            1,
            1,
            1,
            1,
            1,
            1,
            4,
            1,
            1,
            1,
            1,
            1,
            1,
            1,
            1,
            0,
            1,
            0,
            1,
            1,
            0.5,
            1,
            1,
            1,
            1,
            1,
            1,
            0.5,
            1.5,
            1,
            2.5,
            1,
            1,
            1,
            1,
            2,
            1,
            0,
            1,
            1,
            1,
            1,
            1,
            2.5,
            1,
            1,
            1,
            0.5,
            1,
            1,
            1,
            1,
            1,
            1,
            1,
            1,
            0.5,
            1,
            1,
            1,
            1,
            1,
            1,
            1,
            1,
            1,
            1
           ],
           [
            1,
            1,
            1.5,
            1,
            1,
            1,
            4,
            1,
            1,
            1,
            1,
            1,
            1,
            1,
            1,
            0,
            1,
            0,
            1,
            1,
            0,
            1,
            1,
            1,
            1,
            1,
            1,
            0.5,
            1.5,
            1,
            2.5,
            1,
            1,
            1,
            1,
            2,
            1,
            0,
            1,
            1,
            1,
            1,
            1,
            1,
            1,
            0.5,
            1,
            0.5,
            1,
            0,
            1,
            1,
            1,
            1,
            1,
            1,
            0,
            1,
            1,
            1,
            1,
            1,
            1,
            1,
            1,
            1,
            1
           ],
           [
            1,
            1,
            0.5,
            1,
            0,
            1,
            1,
            1,
            1,
            1,
            1,
            1,
            1,
            1,
            1,
            0,
            0.5,
            0,
            1,
            1,
            0.5,
            1,
            1,
            1,
            0,
            1,
            1,
            0.5,
            1.5,
            1,
            2.5,
            1,
            1,
            1,
            1,
            1,
            1,
            0,
            1,
            1,
            0,
            1,
            1,
            1,
            1,
            0.5,
            1,
            0.5,
            1,
            0,
            1,
            1,
            0.5,
            1,
            1,
            1,
            0,
            1,
            1,
            1,
            1,
            1,
            1,
            1,
            0,
            1,
            1
           ],
           [
            1,
            1,
            1,
            1,
            1,
            1,
            1,
            1,
            1,
            1,
            1,
            1,
            1,
            1,
            1,
            0,
            1,
            1,
            1,
            1,
            0,
            1,
            1,
            1,
            1,
            1,
            1,
            1,
            1.5,
            1,
            2.5,
            1,
            0.5,
            1,
            1,
            1,
            1,
            0,
            1,
            1,
            1,
            1,
            1,
            1,
            1,
            0.5,
            1,
            1,
            1,
            1,
            1,
            1,
            1,
            1,
            1,
            1,
            1,
            1,
            1,
            1,
            1,
            1,
            1,
            1,
            1,
            1,
            1
           ],
           [
            4,
            3.5,
            2.5,
            2,
            4,
            3,
            2,
            3,
            3,
            2,
            2,
            2,
            4,
            2,
            3,
            1,
            3,
            2,
            3,
            3.5,
            1.5,
            2,
            2,
            4,
            2,
            3,
            2,
            1,
            2,
            2,
            1,
            3,
            1.5,
            2,
            2,
            2,
            2,
            4,
            2,
            2,
            2,
            4,
            2.5,
            1.5,
            2,
            1,
            2,
            2,
            3,
            4,
            3,
            3,
            3,
            3,
            3,
            3,
            2,
            3,
            2,
            2.5,
            2,
            2,
            2,
            3,
            2,
            2,
            4
           ],
           [
            1.5,
            1.5,
            1,
            1,
            2,
            2,
            1,
            1,
            1,
            1,
            1,
            1.5,
            1,
            1,
            2,
            1,
            1.5,
            2,
            1,
            2,
            1,
            1,
            1,
            2,
            2,
            2,
            1,
            1,
            2.5,
            2,
            1,
            1,
            1,
            1,
            2,
            1,
            1,
            1,
            1.5,
            2,
            1,
            2,
            1,
            1,
            2,
            1.5,
            1,
            1.5,
            1,
            1,
            1,
            2,
            2,
            2,
            1,
            2,
            1,
            1.5,
            1.5,
            1,
            1,
            2,
            1.5,
            2,
            2,
            1,
            2
           ],
           [
            4,
            3,
            2.5,
            2,
            4,
            4,
            2,
            4,
            3,
            3,
            1,
            3.5,
            4,
            3,
            3,
            1,
            3,
            3,
            3,
            3,
            2,
            2,
            2,
            4,
            3,
            4,
            2.5,
            1,
            2.5,
            3,
            1,
            2,
            2,
            3,
            3,
            3,
            3,
            4,
            3,
            3,
            2,
            4,
            3,
            1.5,
            4,
            1.5,
            3,
            2.5,
            4,
            4,
            3,
            3,
            3,
            3,
            4,
            3,
            2.5,
            3.5,
            2,
            3.5,
            3,
            3,
            2,
            4,
            3,
            2,
            3.5
           ],
           [
            29.5,
            26,
            27,
            27,
            32,
            38,
            25,
            30.5,
            32,
            25,
            25,
            20.5,
            32.5,
            33,
            32.5,
            10,
            31,
            31,
            28,
            36,
            24.5,
            29,
            21,
            32,
            32,
            35,
            28,
            25,
            30,
            32.5,
            40,
            30,
            26,
            35,
            33,
            20,
            28,
            14,
            32.5,
            27,
            36,
            33,
            25,
            25,
            30,
            21,
            31,
            27.5,
            29,
            17,
            36,
            30,
            33.5,
            28,
            31.5,
            31,
            18,
            27,
            34,
            34,
            27,
            27,
            31.5,
            34,
            29,
            28,
            32
           ]
          ]
         },
         "header": {
          "align": "center",
          "fill": {
           "color": "crimson"
          },
          "font": {
           "color": "White",
           "size": 11
          },
          "values": [
           "Giro",
           "Ventas en Porcentaje",
           "Perdidas en Porcentaje",
           "Capacidad",
           "Cerrar",
           "Despidos",
           "Plantilla en Porcentaje",
           "Pago de Salarios",
           "Pago de Impuestos",
           "Pago de Crédito",
           "Pago de Renta",
           "Pago de Internet",
           "Pago de Agua",
           "Pago de Luz",
           "Pago de Gas",
           "Duración",
           "Capacidad de Pago",
           "Crédito",
           "Aumento de Insumos",
           "Aumento de Precios",
           "Escasez de Insumos",
           "Aumento por Tipo de Cambio",
           "Estrés"
          ]
         },
         "name": "Estrés",
         "type": "table"
        }
       ],
       "layout": {
        "template": {
         "data": {
          "bar": [
           {
            "error_x": {
             "color": "#2a3f5f"
            },
            "error_y": {
             "color": "#2a3f5f"
            },
            "marker": {
             "line": {
              "color": "#E5ECF6",
              "width": 0.5
             }
            },
            "type": "bar"
           }
          ],
          "barpolar": [
           {
            "marker": {
             "line": {
              "color": "#E5ECF6",
              "width": 0.5
             }
            },
            "type": "barpolar"
           }
          ],
          "carpet": [
           {
            "aaxis": {
             "endlinecolor": "#2a3f5f",
             "gridcolor": "white",
             "linecolor": "white",
             "minorgridcolor": "white",
             "startlinecolor": "#2a3f5f"
            },
            "baxis": {
             "endlinecolor": "#2a3f5f",
             "gridcolor": "white",
             "linecolor": "white",
             "minorgridcolor": "white",
             "startlinecolor": "#2a3f5f"
            },
            "type": "carpet"
           }
          ],
          "choropleth": [
           {
            "colorbar": {
             "outlinewidth": 0,
             "ticks": ""
            },
            "type": "choropleth"
           }
          ],
          "contour": [
           {
            "colorbar": {
             "outlinewidth": 0,
             "ticks": ""
            },
            "colorscale": [
             [
              0,
              "#0d0887"
             ],
             [
              0.1111111111111111,
              "#46039f"
             ],
             [
              0.2222222222222222,
              "#7201a8"
             ],
             [
              0.3333333333333333,
              "#9c179e"
             ],
             [
              0.4444444444444444,
              "#bd3786"
             ],
             [
              0.5555555555555556,
              "#d8576b"
             ],
             [
              0.6666666666666666,
              "#ed7953"
             ],
             [
              0.7777777777777778,
              "#fb9f3a"
             ],
             [
              0.8888888888888888,
              "#fdca26"
             ],
             [
              1,
              "#f0f921"
             ]
            ],
            "type": "contour"
           }
          ],
          "contourcarpet": [
           {
            "colorbar": {
             "outlinewidth": 0,
             "ticks": ""
            },
            "type": "contourcarpet"
           }
          ],
          "heatmap": [
           {
            "colorbar": {
             "outlinewidth": 0,
             "ticks": ""
            },
            "colorscale": [
             [
              0,
              "#0d0887"
             ],
             [
              0.1111111111111111,
              "#46039f"
             ],
             [
              0.2222222222222222,
              "#7201a8"
             ],
             [
              0.3333333333333333,
              "#9c179e"
             ],
             [
              0.4444444444444444,
              "#bd3786"
             ],
             [
              0.5555555555555556,
              "#d8576b"
             ],
             [
              0.6666666666666666,
              "#ed7953"
             ],
             [
              0.7777777777777778,
              "#fb9f3a"
             ],
             [
              0.8888888888888888,
              "#fdca26"
             ],
             [
              1,
              "#f0f921"
             ]
            ],
            "type": "heatmap"
           }
          ],
          "heatmapgl": [
           {
            "colorbar": {
             "outlinewidth": 0,
             "ticks": ""
            },
            "colorscale": [
             [
              0,
              "#0d0887"
             ],
             [
              0.1111111111111111,
              "#46039f"
             ],
             [
              0.2222222222222222,
              "#7201a8"
             ],
             [
              0.3333333333333333,
              "#9c179e"
             ],
             [
              0.4444444444444444,
              "#bd3786"
             ],
             [
              0.5555555555555556,
              "#d8576b"
             ],
             [
              0.6666666666666666,
              "#ed7953"
             ],
             [
              0.7777777777777778,
              "#fb9f3a"
             ],
             [
              0.8888888888888888,
              "#fdca26"
             ],
             [
              1,
              "#f0f921"
             ]
            ],
            "type": "heatmapgl"
           }
          ],
          "histogram": [
           {
            "marker": {
             "colorbar": {
              "outlinewidth": 0,
              "ticks": ""
             }
            },
            "type": "histogram"
           }
          ],
          "histogram2d": [
           {
            "colorbar": {
             "outlinewidth": 0,
             "ticks": ""
            },
            "colorscale": [
             [
              0,
              "#0d0887"
             ],
             [
              0.1111111111111111,
              "#46039f"
             ],
             [
              0.2222222222222222,
              "#7201a8"
             ],
             [
              0.3333333333333333,
              "#9c179e"
             ],
             [
              0.4444444444444444,
              "#bd3786"
             ],
             [
              0.5555555555555556,
              "#d8576b"
             ],
             [
              0.6666666666666666,
              "#ed7953"
             ],
             [
              0.7777777777777778,
              "#fb9f3a"
             ],
             [
              0.8888888888888888,
              "#fdca26"
             ],
             [
              1,
              "#f0f921"
             ]
            ],
            "type": "histogram2d"
           }
          ],
          "histogram2dcontour": [
           {
            "colorbar": {
             "outlinewidth": 0,
             "ticks": ""
            },
            "colorscale": [
             [
              0,
              "#0d0887"
             ],
             [
              0.1111111111111111,
              "#46039f"
             ],
             [
              0.2222222222222222,
              "#7201a8"
             ],
             [
              0.3333333333333333,
              "#9c179e"
             ],
             [
              0.4444444444444444,
              "#bd3786"
             ],
             [
              0.5555555555555556,
              "#d8576b"
             ],
             [
              0.6666666666666666,
              "#ed7953"
             ],
             [
              0.7777777777777778,
              "#fb9f3a"
             ],
             [
              0.8888888888888888,
              "#fdca26"
             ],
             [
              1,
              "#f0f921"
             ]
            ],
            "type": "histogram2dcontour"
           }
          ],
          "mesh3d": [
           {
            "colorbar": {
             "outlinewidth": 0,
             "ticks": ""
            },
            "type": "mesh3d"
           }
          ],
          "parcoords": [
           {
            "line": {
             "colorbar": {
              "outlinewidth": 0,
              "ticks": ""
             }
            },
            "type": "parcoords"
           }
          ],
          "pie": [
           {
            "automargin": true,
            "type": "pie"
           }
          ],
          "scatter": [
           {
            "marker": {
             "colorbar": {
              "outlinewidth": 0,
              "ticks": ""
             }
            },
            "type": "scatter"
           }
          ],
          "scatter3d": [
           {
            "line": {
             "colorbar": {
              "outlinewidth": 0,
              "ticks": ""
             }
            },
            "marker": {
             "colorbar": {
              "outlinewidth": 0,
              "ticks": ""
             }
            },
            "type": "scatter3d"
           }
          ],
          "scattercarpet": [
           {
            "marker": {
             "colorbar": {
              "outlinewidth": 0,
              "ticks": ""
             }
            },
            "type": "scattercarpet"
           }
          ],
          "scattergeo": [
           {
            "marker": {
             "colorbar": {
              "outlinewidth": 0,
              "ticks": ""
             }
            },
            "type": "scattergeo"
           }
          ],
          "scattergl": [
           {
            "marker": {
             "colorbar": {
              "outlinewidth": 0,
              "ticks": ""
             }
            },
            "type": "scattergl"
           }
          ],
          "scattermapbox": [
           {
            "marker": {
             "colorbar": {
              "outlinewidth": 0,
              "ticks": ""
             }
            },
            "type": "scattermapbox"
           }
          ],
          "scatterpolar": [
           {
            "marker": {
             "colorbar": {
              "outlinewidth": 0,
              "ticks": ""
             }
            },
            "type": "scatterpolar"
           }
          ],
          "scatterpolargl": [
           {
            "marker": {
             "colorbar": {
              "outlinewidth": 0,
              "ticks": ""
             }
            },
            "type": "scatterpolargl"
           }
          ],
          "scatterternary": [
           {
            "marker": {
             "colorbar": {
              "outlinewidth": 0,
              "ticks": ""
             }
            },
            "type": "scatterternary"
           }
          ],
          "surface": [
           {
            "colorbar": {
             "outlinewidth": 0,
             "ticks": ""
            },
            "colorscale": [
             [
              0,
              "#0d0887"
             ],
             [
              0.1111111111111111,
              "#46039f"
             ],
             [
              0.2222222222222222,
              "#7201a8"
             ],
             [
              0.3333333333333333,
              "#9c179e"
             ],
             [
              0.4444444444444444,
              "#bd3786"
             ],
             [
              0.5555555555555556,
              "#d8576b"
             ],
             [
              0.6666666666666666,
              "#ed7953"
             ],
             [
              0.7777777777777778,
              "#fb9f3a"
             ],
             [
              0.8888888888888888,
              "#fdca26"
             ],
             [
              1,
              "#f0f921"
             ]
            ],
            "type": "surface"
           }
          ],
          "table": [
           {
            "cells": {
             "fill": {
              "color": "#EBF0F8"
             },
             "line": {
              "color": "white"
             }
            },
            "header": {
             "fill": {
              "color": "#C8D4E3"
             },
             "line": {
              "color": "white"
             }
            },
            "type": "table"
           }
          ]
         },
         "layout": {
          "annotationdefaults": {
           "arrowcolor": "#2a3f5f",
           "arrowhead": 0,
           "arrowwidth": 1
          },
          "coloraxis": {
           "colorbar": {
            "outlinewidth": 0,
            "ticks": ""
           }
          },
          "colorscale": {
           "diverging": [
            [
             0,
             "#8e0152"
            ],
            [
             0.1,
             "#c51b7d"
            ],
            [
             0.2,
             "#de77ae"
            ],
            [
             0.3,
             "#f1b6da"
            ],
            [
             0.4,
             "#fde0ef"
            ],
            [
             0.5,
             "#f7f7f7"
            ],
            [
             0.6,
             "#e6f5d0"
            ],
            [
             0.7,
             "#b8e186"
            ],
            [
             0.8,
             "#7fbc41"
            ],
            [
             0.9,
             "#4d9221"
            ],
            [
             1,
             "#276419"
            ]
           ],
           "sequential": [
            [
             0,
             "#0d0887"
            ],
            [
             0.1111111111111111,
             "#46039f"
            ],
            [
             0.2222222222222222,
             "#7201a8"
            ],
            [
             0.3333333333333333,
             "#9c179e"
            ],
            [
             0.4444444444444444,
             "#bd3786"
            ],
            [
             0.5555555555555556,
             "#d8576b"
            ],
            [
             0.6666666666666666,
             "#ed7953"
            ],
            [
             0.7777777777777778,
             "#fb9f3a"
            ],
            [
             0.8888888888888888,
             "#fdca26"
            ],
            [
             1,
             "#f0f921"
            ]
           ],
           "sequentialminus": [
            [
             0,
             "#0d0887"
            ],
            [
             0.1111111111111111,
             "#46039f"
            ],
            [
             0.2222222222222222,
             "#7201a8"
            ],
            [
             0.3333333333333333,
             "#9c179e"
            ],
            [
             0.4444444444444444,
             "#bd3786"
            ],
            [
             0.5555555555555556,
             "#d8576b"
            ],
            [
             0.6666666666666666,
             "#ed7953"
            ],
            [
             0.7777777777777778,
             "#fb9f3a"
            ],
            [
             0.8888888888888888,
             "#fdca26"
            ],
            [
             1,
             "#f0f921"
            ]
           ]
          },
          "colorway": [
           "#636efa",
           "#EF553B",
           "#00cc96",
           "#ab63fa",
           "#FFA15A",
           "#19d3f3",
           "#FF6692",
           "#B6E880",
           "#FF97FF",
           "#FECB52"
          ],
          "font": {
           "color": "#2a3f5f"
          },
          "geo": {
           "bgcolor": "white",
           "lakecolor": "white",
           "landcolor": "#E5ECF6",
           "showlakes": true,
           "showland": true,
           "subunitcolor": "white"
          },
          "hoverlabel": {
           "align": "left"
          },
          "hovermode": "closest",
          "mapbox": {
           "style": "light"
          },
          "paper_bgcolor": "white",
          "plot_bgcolor": "#E5ECF6",
          "polar": {
           "angularaxis": {
            "gridcolor": "white",
            "linecolor": "white",
            "ticks": ""
           },
           "bgcolor": "#E5ECF6",
           "radialaxis": {
            "gridcolor": "white",
            "linecolor": "white",
            "ticks": ""
           }
          },
          "scene": {
           "xaxis": {
            "backgroundcolor": "#E5ECF6",
            "gridcolor": "white",
            "gridwidth": 2,
            "linecolor": "white",
            "showbackground": true,
            "ticks": "",
            "zerolinecolor": "white"
           },
           "yaxis": {
            "backgroundcolor": "#E5ECF6",
            "gridcolor": "white",
            "gridwidth": 2,
            "linecolor": "white",
            "showbackground": true,
            "ticks": "",
            "zerolinecolor": "white"
           },
           "zaxis": {
            "backgroundcolor": "#E5ECF6",
            "gridcolor": "white",
            "gridwidth": 2,
            "linecolor": "white",
            "showbackground": true,
            "ticks": "",
            "zerolinecolor": "white"
           }
          },
          "shapedefaults": {
           "line": {
            "color": "#2a3f5f"
           }
          },
          "ternary": {
           "aaxis": {
            "gridcolor": "white",
            "linecolor": "white",
            "ticks": ""
           },
           "baxis": {
            "gridcolor": "white",
            "linecolor": "white",
            "ticks": ""
           },
           "bgcolor": "#E5ECF6",
           "caxis": {
            "gridcolor": "white",
            "linecolor": "white",
            "ticks": ""
           }
          },
          "title": {
           "x": 0.05
          },
          "xaxis": {
           "automargin": true,
           "gridcolor": "white",
           "linecolor": "white",
           "ticks": "",
           "title": {
            "standoff": 15
           },
           "zerolinecolor": "white",
           "zerolinewidth": 2
          },
          "yaxis": {
           "automargin": true,
           "gridcolor": "white",
           "linecolor": "white",
           "ticks": "",
           "title": {
            "standoff": 15
           },
           "zerolinecolor": "white",
           "zerolinewidth": 2
          }
         }
        }
       }
      },
      "text/html": [
       "<div>\n",
       "        \n",
       "        \n",
       "            <div id=\"4d90a3de-3430-4100-97d8-46f6b9eca692\" class=\"plotly-graph-div\" style=\"height:525px; width:100%;\"></div>\n",
       "            <script type=\"text/javascript\">\n",
       "                require([\"plotly\"], function(Plotly) {\n",
       "                    window.PLOTLYENV=window.PLOTLYENV || {};\n",
       "                    \n",
       "                if (document.getElementById(\"4d90a3de-3430-4100-97d8-46f6b9eca692\")) {\n",
       "                    Plotly.newPlot(\n",
       "                        '4d90a3de-3430-4100-97d8-46f6b9eca692',\n",
       "                        [{\"cells\": {\"align\": \"center\", \"fill\": {\"color\": \"salmon\"}, \"font\": {\"size\": 11}, \"height\": 20, \"values\": [[\"Agencias de viajes\", \"Cafeter\\u00edas y never\\u00edas\", \"Cajas de ahorro popular\", \"Carnicer\\u00edas\", \"Confecci\\u00f3n de productos textiles\", \"Construcci\\u00f3n de carreteras y puentes\", \"Construcci\\u00f3n de obras de urbanizaci\\u00f3n\", \"Consultorios dentales\", \"Consultorios m\\u00e9dicos\", \"Consultor\\u00edas en administraci\\u00f3n\", \"Despachos contables\", \"Despachos jur\\u00eddicos\", \"Edificaci\\u00f3n de inmuebles comerciales\", \"Edificaci\\u00f3n de naves industriales\", \"Edificaci\\u00f3n de vivienda unifamiliar\", \"Elaboraci\\u00f3n de alimentos para animales\", \"Elaboraci\\u00f3n de botanas\", \"Elaboraci\\u00f3n de dulces\", \"Elaboraci\\u00f3n de helados y paletas\", \"Elaboraci\\u00f3n de piezas para maquinaria\", \"Elaboraci\\u00f3n de tortillas\", \"Equipo y material el\\u00e9ctrico\", \"Escuelas\", \"Est\\u00e9ticas, salones de belleza y peluquer\\u00edas\", \"Fabricaci\\u00f3n de bolsas de pl\\u00e1stico\", \"Fabricaci\\u00f3n de calzado\", \"Fabricaci\\u00f3n de envases de cart\\u00f3n\", \"Fabricaci\\u00f3n de envases de pl\\u00e1stico para embalaje\", \"Fabricaci\\u00f3n de jabones, limpiadores y dent\\u00edfricos\", \"Fabricaci\\u00f3n de muebles\", \"Fabricaci\\u00f3n de preparaciones farmac\\u00e9uticas\", \"Fabricaci\\u00f3n de productos de madera\", \"Farmacias\", \"Ferreter\\u00edas y tlapaler\\u00edas\", \"Fertilizantes, plaguicidas y semillas\", \"Gasolineras\", \"Herrer\\u00eda y estructuras met\\u00e1licas\", \"Hoteles\", \"Impresi\\u00f3n\", \"Inmobiliarias y agentes de bienes ra\\u00edces\", \"Instalaciones el\\u00e9ctricas\", \"Joyer\\u00edas y tiendas de relojes\", \"Laboratorios m\\u00e9dicos y de diagn\\u00f3stico\", \"Minisupers\", \"Muebler\\u00edas\", \"No especificado\", \"Otro\", \"Panificaci\\u00f3n\", \"Papeler\\u00edas\", \"Purificaci\\u00f3n de agua\", \"Refacciones para autom\\u00f3viles\", \"Reparaci\\u00f3n de electr\\u00f3nicos\", \"Reparaci\\u00f3n de maquinaria y equipo\", \"Restaurantes\", \"Servicios de acceso a computadoras (cibers)\", \"Talleres Mec\\u00e1nicos\", \"Taquer\\u00edas y Tortas\", \"Tiendas de Lentes\", \"Tiendas de abarrotes\", \"Tiendas de celulares\", \"Tiendas de frutas y verduras\", \"Tiendas de perfumer\\u00eda y cosm\\u00e9ticos\", \"Tiendas de pintura\", \"Tiendas de ropa\", \"Venta de materiales para la construcci\\u00f3n\", \"Veterinarias\", \"Zapater\\u00edas\"], [0.0, 3.0, 3.0, 0.0, 3.0, 3.0, 0.0, 3.0, 3.0, 0.0, 0.0, 0.0, 3.0, 3.0, 3.0, 0.0, 3.0, 3.0, 3.0, 3.0, 3.0, 3.0, 0.0, 0.0, 3.0, 3.0, 3.0, 1.5, 1.5, 3.0, 3.0, 0.0, 3.0, 3.0, 3.0, 0.0, 3.0, 0.0, 3.0, 0.0, 3.0, 3.0, 0.0, 1.5, 3.0, 1.5, 3.0, 3.0, 3.0, 0.0, 3.0, 3.0, 3.0, 3.0, 3.0, 3.0, 1.5, 0.0, 3.0, 3.0, 3.0, 0.0, 3.0, 3.0, 0.0, 3.0, 3.0], [0.0, 0.0, 0.0, 0.0, 0.0, 3.0, 0.0, 0.0, 0.0, 0.0, 0.0, 0.0, 0.0, 0.0, 0.0, 0.0, 0.0, 3.0, 0.0, 0.0, 0.0, 0.0, 0.0, 0.0, 0.0, 0.0, 0.0, 0.0, 0.0, 0.0, 0.0, 0.0, 0.0, 3.0, 0.0, 0.0, 0.0, 0.0, 0.0, 0.0, 3.0, 0.0, 0.0, 0.0, 0.0, 0.0, 0.0, 0.0, 0.0, 0.0, 3.0, 0.0, 0.0, 0.0, 0.0, 0.0, 0.0, 0.0, 1.5, 0.0, 0.0, 0.0, 0.0, 0.0, 0.0, 0.0, 0.0], [4, 0, 2, 4, 4, 4, 0, 4, 4, 4, 4, 0, 4, 4, 4, 0, 4, 4, 4, 4, 4, 4, 4, 4, 4, 4, 4, 4, 2, 4, 4, 4, 4, 4, 4, 0, 4, 0, 4, 4, 4, 4, 2, 0, 4, 4, 4, 4, 4, 0, 4, 4, 4, 4, 4, 4, 2, 2, 4, 4, 4, 4, 4, 4, 4, 4, 4], [1.0, 2.0, 2.5, 3.0, 1.0, 2.0, 3.0, 1.0, 2.0, 1.0, 3.0, 1.0, 1.5, 2.0, 1.5, 4.0, 3.0, 4.0, 2.0, 1.5, 3.0, 2.0, 1.0, 0.0, 2.0, 0.0, 1.5, 4.0, 1.5, 1.0, 3.0, 2.0, 2.0, 2.0, 3.0, 2.0, 1.0, 1.0, 1.0, 2.0, 3.0, 0.0, 2.0, 3.5, 0.5, 0.5, 1.0, 2.5, 1.0, 1.0, 2.0, 1.0, 2.0, 1.0, 0.0, 2.0, 2.0, 2.0, 2.0, 1.0, 2.0, 0.0, 2.5, 1.0, 2.0, 2.0, 0.5], [2.0, 2.0, 1.5, 2.0, 2.0, 0.0, 2.0, 2.0, 2.0, 2.0, 1.0, 2.0, 2.0, 2.0, 2.0, 1.0, 1.0, 2.0, 1.0, 2.0, 2.0, 2.0, 2.0, 2.0, 2.0, 2.0, 1.5, 1.5, 1.5, 2.0, 1.5, 2.0, 2.0, 2.0, 2.0, 2.0, 2.0, 2.0, 2.0, 1.0, 2.0, 2.0, 2.0, 1.5, 2.0, 2.0, 2.0, 2.0, 2.0, 2.0, 2.0, 2.0, 2.0, 2.0, 2.0, 2.0, 2.0, 2.0, 2.0, 2.0, 2.0, 2.0, 1.0, 2.0, 2.0, 2.0, 2.0], [0, 0, 0, 0, 0, 2, 0, 0, 0, 0, 0, 0, 0, 0, 0, 0, 0, 0, 0, 1, 1, 0, 0, 2, 2, 2, 0, 0, 1, 0, 0, 0, 0, 0, 0, 0, 0, 0, 0, 0, 2, 0, 0, 1, 0, 1, 0, 0, 0, 2, 0, 0, 0, 0, 0, 0, 0, 1, 0, 2, 0, 0, 1, 1, 0, 0, 2], [0, 0, 0, 2, 0, 2, 2, 2, 1, 2, 2, 0, 0, 2, 1, 2, 2, 2, 0, 2, 2, 0, 0, 0, 2, 2, 2, 2, 1, 2, 2, 2, 1, 2, 0, 0, 0, 0, 2, 0, 2, 2, 1, 1, 0, 0, 2, 1, 0, 0, 2, 0, 2, 0, 2, 0, 0, 0, 2, 2, 2, 0, 1, 0, 2, 0, 2], [2, 2, 2, 0, 2, 2, 0, 0, 2, 2, 2, 2, 2, 2, 2, 0, 1, 2, 0, 2, 2, 2, 2, 2, 2, 2, 1, 1, 1, 2, 1, 2, 0, 2, 2, 0, 0, 0, 2, 2, 2, 2, 2, 1, 2, 2, 2, 1, 0, 0, 2, 2, 2, 2, 2, 2, 0, 1, 2, 2, 0, 2, 2, 2, 2, 0, 2], [1.0, 1.0, 1.0, 1.0, 1.0, 1.0, 1.0, 1.0, 1.0, 1.0, 1.0, 1.0, 1.0, 1.0, 1.0, 0.0, 1.0, 1.0, 1.0, 1.0, 0.0, 1.0, 1.0, 1.0, 1.0, 1.0, 1.0, 1.0, 1.0, 1.0, 0.5, 1.0, 1.0, 1.0, 1.0, 1.0, 1.0, 0.0, 1.0, 1.0, 1.0, 1.0, 1.0, 0.5, 1.0, 1.0, 1.0, 1.0, 1.0, 1.0, 1.0, 1.0, 1.0, 1.0, 1.0, 1.0, 1.0, 1.0, 1.0, 1.0, 1.0, 1.0, 1.0, 1.0, 1.0, 1.0, 0.5], [3.0, 1.5, 3.0, 3.0, 3.0, 3.0, 0.0, 3.0, 3.0, 0.0, 0.0, 0.0, 3.0, 3.0, 3.0, 0.0, 1.5, 0.0, 3.0, 3.0, 1.5, 3.0, 0.0, 3.0, 0.0, 3.0, 1.5, 3.0, 1.5, 3.0, 3.0, 3.0, 3.0, 3.0, 3.0, 0.0, 3.0, 0.0, 3.0, 3.0, 3.0, 3.0, 1.5, 1.5, 3.0, 1.5, 3.0, 3.0, 3.0, 0.0, 3.0, 3.0, 3.0, 0.0, 3.0, 3.0, 0.0, 3.0, 3.0, 3.0, 0.0, 3.0, 3.0, 3.0, 3.0, 3.0, 1.5], [1.0, 1.0, 1.0, 1.0, 1.0, 1.0, 0.0, 1.0, 1.0, 1.0, 1.0, 1.0, 1.0, 1.0, 1.0, 0.0, 1.0, 0.0, 1.0, 1.0, 0.5, 1.0, 1.0, 1.0, 1.0, 1.0, 1.0, 0.5, 1.5, 1.0, 2.0, 1.0, 1.0, 1.0, 1.0, 2.0, 1.0, 1.0, 1.0, 1.0, 1.0, 1.0, 1.0, 2.5, 1.0, 0.0, 1.0, 0.0, 1.0, 0.0, 1.0, 1.0, 1.0, 1.0, 1.0, 1.0, 0.5, 1.0, 1.0, 1.0, 1.0, 1.0, 1.0, 1.0, 1.0, 1.0, 1.0], [1.0, 0.5, 0.0, 0.0, 0.0, 1.0, 1.0, 0.5, 1.0, 1.0, 1.0, 1.0, 1.0, 1.0, 1.0, 0.0, 1.0, 1.0, 0.0, 1.0, 0.0, 1.0, 0.0, 1.0, 1.0, 1.0, 1.0, 0.5, 1.0, 1.0, 2.5, 1.0, 0.0, 1.0, 1.0, 0.0, 1.0, 0.0, 1.0, 1.0, 1.0, 0.0, 1.0, 0.5, 0.5, 0.5, 1.0, 0.5, 1.0, 0.0, 0.0, 0.0, 1.0, 0.0, 0.0, 0.0, 0.5, 1.0, 1.0, 1.0, 1.0, 1.0, 1.0, 1.0, 1.0, 1.0, 0.0], [0.0, 0.0, 0.0, 1.0, 1.0, 0.0, 0.0, 0.0, 0.0, 0.0, 1.0, 0.5, 0.0, 1.0, 0.0, 0.0, 0.5, 0.0, 1.0, 1.0, 0.0, 0.0, 0.0, 1.0, 1.0, 0.0, 0.0, 0.0, 1.0, 0.5, 2.0, 1.0, 0.0, 0.0, 1.0, 0.0, 1.0, 0.0, 1.0, 0.0, 0.0, 0.0, 0.0, 0.0, 0.0, 0.0, 0.0, 0.5, 0.0, 0.0, 1.0, 0.0, 0.0, 1.0, 0.5, 0.0, 1.0, 0.0, 1.0, 0.0, 0.0, 1.0, 0.5, 1.0, 0.0, 1.0, 0.0], [1.0, 1.0, 1.0, 1.0, 1.0, 1.0, 1.0, 1.0, 1.0, 1.0, 1.0, 1.0, 1.0, 1.0, 1.0, 0.0, 1.0, 1.0, 1.0, 1.0, 0.0, 1.0, 1.0, 1.0, 1.0, 1.0, 1.0, 0.5, 1.5, 1.0, 2.5, 1.0, 1.0, 1.0, 1.0, 1.0, 1.0, 1.0, 1.0, 1.0, 1.0, 1.0, 1.0, 1.0, 1.0, 0.5, 1.0, 0.5, 1.0, 0.0, 1.0, 1.0, 1.0, 1.0, 1.0, 1.0, 0.5, 1.0, 1.0, 1.0, 1.0, 1.0, 1.0, 1.0, 1.0, 1.0, 0.0], [1.0, 1.0, 1.0, 1.0, 1.0, 1.0, 4.0, 1.0, 1.0, 1.0, 1.0, 1.0, 1.0, 1.0, 1.0, 0.0, 1.0, 0.0, 1.0, 1.0, 0.5, 1.0, 1.0, 1.0, 1.0, 1.0, 1.0, 0.5, 1.5, 1.0, 2.5, 1.0, 1.0, 1.0, 1.0, 2.0, 1.0, 0.0, 1.0, 1.0, 1.0, 1.0, 1.0, 2.5, 1.0, 1.0, 1.0, 0.5, 1.0, 1.0, 1.0, 1.0, 1.0, 1.0, 1.0, 1.0, 0.5, 1.0, 1.0, 1.0, 1.0, 1.0, 1.0, 1.0, 1.0, 1.0, 1.0], [1.0, 1.0, 1.5, 1.0, 1.0, 1.0, 4.0, 1.0, 1.0, 1.0, 1.0, 1.0, 1.0, 1.0, 1.0, 0.0, 1.0, 0.0, 1.0, 1.0, 0.0, 1.0, 1.0, 1.0, 1.0, 1.0, 1.0, 0.5, 1.5, 1.0, 2.5, 1.0, 1.0, 1.0, 1.0, 2.0, 1.0, 0.0, 1.0, 1.0, 1.0, 1.0, 1.0, 1.0, 1.0, 0.5, 1.0, 0.5, 1.0, 0.0, 1.0, 1.0, 1.0, 1.0, 1.0, 1.0, 0.0, 1.0, 1.0, 1.0, 1.0, 1.0, 1.0, 1.0, 1.0, 1.0, 1.0], [1.0, 1.0, 0.5, 1.0, 0.0, 1.0, 1.0, 1.0, 1.0, 1.0, 1.0, 1.0, 1.0, 1.0, 1.0, 0.0, 0.5, 0.0, 1.0, 1.0, 0.5, 1.0, 1.0, 1.0, 0.0, 1.0, 1.0, 0.5, 1.5, 1.0, 2.5, 1.0, 1.0, 1.0, 1.0, 1.0, 1.0, 0.0, 1.0, 1.0, 0.0, 1.0, 1.0, 1.0, 1.0, 0.5, 1.0, 0.5, 1.0, 0.0, 1.0, 1.0, 0.5, 1.0, 1.0, 1.0, 0.0, 1.0, 1.0, 1.0, 1.0, 1.0, 1.0, 1.0, 0.0, 1.0, 1.0], [1.0, 1.0, 1.0, 1.0, 1.0, 1.0, 1.0, 1.0, 1.0, 1.0, 1.0, 1.0, 1.0, 1.0, 1.0, 0.0, 1.0, 1.0, 1.0, 1.0, 0.0, 1.0, 1.0, 1.0, 1.0, 1.0, 1.0, 1.0, 1.5, 1.0, 2.5, 1.0, 0.5, 1.0, 1.0, 1.0, 1.0, 0.0, 1.0, 1.0, 1.0, 1.0, 1.0, 1.0, 1.0, 0.5, 1.0, 1.0, 1.0, 1.0, 1.0, 1.0, 1.0, 1.0, 1.0, 1.0, 1.0, 1.0, 1.0, 1.0, 1.0, 1.0, 1.0, 1.0, 1.0, 1.0, 1.0], [4.0, 3.5, 2.5, 2.0, 4.0, 3.0, 2.0, 3.0, 3.0, 2.0, 2.0, 2.0, 4.0, 2.0, 3.0, 1.0, 3.0, 2.0, 3.0, 3.5, 1.5, 2.0, 2.0, 4.0, 2.0, 3.0, 2.0, 1.0, 2.0, 2.0, 1.0, 3.0, 1.5, 2.0, 2.0, 2.0, 2.0, 4.0, 2.0, 2.0, 2.0, 4.0, 2.5, 1.5, 2.0, 1.0, 2.0, 2.0, 3.0, 4.0, 3.0, 3.0, 3.0, 3.0, 3.0, 3.0, 2.0, 3.0, 2.0, 2.5, 2.0, 2.0, 2.0, 3.0, 2.0, 2.0, 4.0], [1.5, 1.5, 1.0, 1.0, 2.0, 2.0, 1.0, 1.0, 1.0, 1.0, 1.0, 1.5, 1.0, 1.0, 2.0, 1.0, 1.5, 2.0, 1.0, 2.0, 1.0, 1.0, 1.0, 2.0, 2.0, 2.0, 1.0, 1.0, 2.5, 2.0, 1.0, 1.0, 1.0, 1.0, 2.0, 1.0, 1.0, 1.0, 1.5, 2.0, 1.0, 2.0, 1.0, 1.0, 2.0, 1.5, 1.0, 1.5, 1.0, 1.0, 1.0, 2.0, 2.0, 2.0, 1.0, 2.0, 1.0, 1.5, 1.5, 1.0, 1.0, 2.0, 1.5, 2.0, 2.0, 1.0, 2.0], [4.0, 3.0, 2.5, 2.0, 4.0, 4.0, 2.0, 4.0, 3.0, 3.0, 1.0, 3.5, 4.0, 3.0, 3.0, 1.0, 3.0, 3.0, 3.0, 3.0, 2.0, 2.0, 2.0, 4.0, 3.0, 4.0, 2.5, 1.0, 2.5, 3.0, 1.0, 2.0, 2.0, 3.0, 3.0, 3.0, 3.0, 4.0, 3.0, 3.0, 2.0, 4.0, 3.0, 1.5, 4.0, 1.5, 3.0, 2.5, 4.0, 4.0, 3.0, 3.0, 3.0, 3.0, 4.0, 3.0, 2.5, 3.5, 2.0, 3.5, 3.0, 3.0, 2.0, 4.0, 3.0, 2.0, 3.5], [29.5, 26.0, 27.0, 27.0, 32.0, 38.0, 25.0, 30.5, 32.0, 25.0, 25.0, 20.5, 32.5, 33.0, 32.5, 10.0, 31.0, 31.0, 28.0, 36.0, 24.5, 29.0, 21.0, 32.0, 32.0, 35.0, 28.0, 25.0, 30.0, 32.5, 40.0, 30.0, 26.0, 35.0, 33.0, 20.0, 28.0, 14.0, 32.5, 27.0, 36.0, 33.0, 25.0, 25.0, 30.0, 21.0, 31.0, 27.5, 29.0, 17.0, 36.0, 30.0, 33.5, 28.0, 31.5, 31.0, 18.0, 27.0, 34.0, 34.0, 27.0, 27.0, 31.5, 34.0, 29.0, 28.0, 32.0]]}, \"header\": {\"align\": \"center\", \"fill\": {\"color\": \"crimson\"}, \"font\": {\"color\": \"White\", \"size\": 11}, \"values\": [\"Giro\", \"Ventas en Porcentaje\", \"Perdidas en Porcentaje\", \"Capacidad\", \"Cerrar\", \"Despidos\", \"Plantilla en Porcentaje\", \"Pago de Salarios\", \"Pago de Impuestos\", \"Pago de Cr\\u00e9dito\", \"Pago de Renta\", \"Pago de Internet\", \"Pago de Agua\", \"Pago de Luz\", \"Pago de Gas\", \"Duraci\\u00f3n\", \"Capacidad de Pago\", \"Cr\\u00e9dito\", \"Aumento de Insumos\", \"Aumento de Precios\", \"Escasez de Insumos\", \"Aumento por Tipo de Cambio\", \"Estr\\u00e9s\"]}, \"name\": \"Estr\\u00e9s\", \"type\": \"table\"}],\n",
       "                        {\"template\": {\"data\": {\"bar\": [{\"error_x\": {\"color\": \"#2a3f5f\"}, \"error_y\": {\"color\": \"#2a3f5f\"}, \"marker\": {\"line\": {\"color\": \"#E5ECF6\", \"width\": 0.5}}, \"type\": \"bar\"}], \"barpolar\": [{\"marker\": {\"line\": {\"color\": \"#E5ECF6\", \"width\": 0.5}}, \"type\": \"barpolar\"}], \"carpet\": [{\"aaxis\": {\"endlinecolor\": \"#2a3f5f\", \"gridcolor\": \"white\", \"linecolor\": \"white\", \"minorgridcolor\": \"white\", \"startlinecolor\": \"#2a3f5f\"}, \"baxis\": {\"endlinecolor\": \"#2a3f5f\", \"gridcolor\": \"white\", \"linecolor\": \"white\", \"minorgridcolor\": \"white\", \"startlinecolor\": \"#2a3f5f\"}, \"type\": \"carpet\"}], \"choropleth\": [{\"colorbar\": {\"outlinewidth\": 0, \"ticks\": \"\"}, \"type\": \"choropleth\"}], \"contour\": [{\"colorbar\": {\"outlinewidth\": 0, \"ticks\": \"\"}, \"colorscale\": [[0.0, \"#0d0887\"], [0.1111111111111111, \"#46039f\"], [0.2222222222222222, \"#7201a8\"], [0.3333333333333333, \"#9c179e\"], [0.4444444444444444, \"#bd3786\"], [0.5555555555555556, \"#d8576b\"], [0.6666666666666666, \"#ed7953\"], [0.7777777777777778, \"#fb9f3a\"], [0.8888888888888888, \"#fdca26\"], [1.0, \"#f0f921\"]], \"type\": \"contour\"}], \"contourcarpet\": [{\"colorbar\": {\"outlinewidth\": 0, \"ticks\": \"\"}, \"type\": \"contourcarpet\"}], \"heatmap\": [{\"colorbar\": {\"outlinewidth\": 0, \"ticks\": \"\"}, \"colorscale\": [[0.0, \"#0d0887\"], [0.1111111111111111, \"#46039f\"], [0.2222222222222222, \"#7201a8\"], [0.3333333333333333, \"#9c179e\"], [0.4444444444444444, \"#bd3786\"], [0.5555555555555556, \"#d8576b\"], [0.6666666666666666, \"#ed7953\"], [0.7777777777777778, \"#fb9f3a\"], [0.8888888888888888, \"#fdca26\"], [1.0, \"#f0f921\"]], \"type\": \"heatmap\"}], \"heatmapgl\": [{\"colorbar\": {\"outlinewidth\": 0, \"ticks\": \"\"}, \"colorscale\": [[0.0, \"#0d0887\"], [0.1111111111111111, \"#46039f\"], [0.2222222222222222, \"#7201a8\"], [0.3333333333333333, \"#9c179e\"], [0.4444444444444444, \"#bd3786\"], [0.5555555555555556, \"#d8576b\"], [0.6666666666666666, \"#ed7953\"], [0.7777777777777778, \"#fb9f3a\"], [0.8888888888888888, \"#fdca26\"], [1.0, \"#f0f921\"]], \"type\": \"heatmapgl\"}], \"histogram\": [{\"marker\": {\"colorbar\": {\"outlinewidth\": 0, \"ticks\": \"\"}}, \"type\": \"histogram\"}], \"histogram2d\": [{\"colorbar\": {\"outlinewidth\": 0, \"ticks\": \"\"}, \"colorscale\": [[0.0, \"#0d0887\"], [0.1111111111111111, \"#46039f\"], [0.2222222222222222, \"#7201a8\"], [0.3333333333333333, \"#9c179e\"], [0.4444444444444444, \"#bd3786\"], [0.5555555555555556, \"#d8576b\"], [0.6666666666666666, \"#ed7953\"], [0.7777777777777778, \"#fb9f3a\"], [0.8888888888888888, \"#fdca26\"], [1.0, \"#f0f921\"]], \"type\": \"histogram2d\"}], \"histogram2dcontour\": [{\"colorbar\": {\"outlinewidth\": 0, \"ticks\": \"\"}, \"colorscale\": [[0.0, \"#0d0887\"], [0.1111111111111111, \"#46039f\"], [0.2222222222222222, \"#7201a8\"], [0.3333333333333333, \"#9c179e\"], [0.4444444444444444, \"#bd3786\"], [0.5555555555555556, \"#d8576b\"], [0.6666666666666666, \"#ed7953\"], [0.7777777777777778, \"#fb9f3a\"], [0.8888888888888888, \"#fdca26\"], [1.0, \"#f0f921\"]], \"type\": \"histogram2dcontour\"}], \"mesh3d\": [{\"colorbar\": {\"outlinewidth\": 0, \"ticks\": \"\"}, \"type\": \"mesh3d\"}], \"parcoords\": [{\"line\": {\"colorbar\": {\"outlinewidth\": 0, \"ticks\": \"\"}}, \"type\": \"parcoords\"}], \"pie\": [{\"automargin\": true, \"type\": \"pie\"}], \"scatter\": [{\"marker\": {\"colorbar\": {\"outlinewidth\": 0, \"ticks\": \"\"}}, \"type\": \"scatter\"}], \"scatter3d\": [{\"line\": {\"colorbar\": {\"outlinewidth\": 0, \"ticks\": \"\"}}, \"marker\": {\"colorbar\": {\"outlinewidth\": 0, \"ticks\": \"\"}}, \"type\": \"scatter3d\"}], \"scattercarpet\": [{\"marker\": {\"colorbar\": {\"outlinewidth\": 0, \"ticks\": \"\"}}, \"type\": \"scattercarpet\"}], \"scattergeo\": [{\"marker\": {\"colorbar\": {\"outlinewidth\": 0, \"ticks\": \"\"}}, \"type\": \"scattergeo\"}], \"scattergl\": [{\"marker\": {\"colorbar\": {\"outlinewidth\": 0, \"ticks\": \"\"}}, \"type\": \"scattergl\"}], \"scattermapbox\": [{\"marker\": {\"colorbar\": {\"outlinewidth\": 0, \"ticks\": \"\"}}, \"type\": \"scattermapbox\"}], \"scatterpolar\": [{\"marker\": {\"colorbar\": {\"outlinewidth\": 0, \"ticks\": \"\"}}, \"type\": \"scatterpolar\"}], \"scatterpolargl\": [{\"marker\": {\"colorbar\": {\"outlinewidth\": 0, \"ticks\": \"\"}}, \"type\": \"scatterpolargl\"}], \"scatterternary\": [{\"marker\": {\"colorbar\": {\"outlinewidth\": 0, \"ticks\": \"\"}}, \"type\": \"scatterternary\"}], \"surface\": [{\"colorbar\": {\"outlinewidth\": 0, \"ticks\": \"\"}, \"colorscale\": [[0.0, \"#0d0887\"], [0.1111111111111111, \"#46039f\"], [0.2222222222222222, \"#7201a8\"], [0.3333333333333333, \"#9c179e\"], [0.4444444444444444, \"#bd3786\"], [0.5555555555555556, \"#d8576b\"], [0.6666666666666666, \"#ed7953\"], [0.7777777777777778, \"#fb9f3a\"], [0.8888888888888888, \"#fdca26\"], [1.0, \"#f0f921\"]], \"type\": \"surface\"}], \"table\": [{\"cells\": {\"fill\": {\"color\": \"#EBF0F8\"}, \"line\": {\"color\": \"white\"}}, \"header\": {\"fill\": {\"color\": \"#C8D4E3\"}, \"line\": {\"color\": \"white\"}}, \"type\": \"table\"}]}, \"layout\": {\"annotationdefaults\": {\"arrowcolor\": \"#2a3f5f\", \"arrowhead\": 0, \"arrowwidth\": 1}, \"coloraxis\": {\"colorbar\": {\"outlinewidth\": 0, \"ticks\": \"\"}}, \"colorscale\": {\"diverging\": [[0, \"#8e0152\"], [0.1, \"#c51b7d\"], [0.2, \"#de77ae\"], [0.3, \"#f1b6da\"], [0.4, \"#fde0ef\"], [0.5, \"#f7f7f7\"], [0.6, \"#e6f5d0\"], [0.7, \"#b8e186\"], [0.8, \"#7fbc41\"], [0.9, \"#4d9221\"], [1, \"#276419\"]], \"sequential\": [[0.0, \"#0d0887\"], [0.1111111111111111, \"#46039f\"], [0.2222222222222222, \"#7201a8\"], [0.3333333333333333, \"#9c179e\"], [0.4444444444444444, \"#bd3786\"], [0.5555555555555556, \"#d8576b\"], [0.6666666666666666, \"#ed7953\"], [0.7777777777777778, \"#fb9f3a\"], [0.8888888888888888, \"#fdca26\"], [1.0, \"#f0f921\"]], \"sequentialminus\": [[0.0, \"#0d0887\"], [0.1111111111111111, \"#46039f\"], [0.2222222222222222, \"#7201a8\"], [0.3333333333333333, \"#9c179e\"], [0.4444444444444444, \"#bd3786\"], [0.5555555555555556, \"#d8576b\"], [0.6666666666666666, \"#ed7953\"], [0.7777777777777778, \"#fb9f3a\"], [0.8888888888888888, \"#fdca26\"], [1.0, \"#f0f921\"]]}, \"colorway\": [\"#636efa\", \"#EF553B\", \"#00cc96\", \"#ab63fa\", \"#FFA15A\", \"#19d3f3\", \"#FF6692\", \"#B6E880\", \"#FF97FF\", \"#FECB52\"], \"font\": {\"color\": \"#2a3f5f\"}, \"geo\": {\"bgcolor\": \"white\", \"lakecolor\": \"white\", \"landcolor\": \"#E5ECF6\", \"showlakes\": true, \"showland\": true, \"subunitcolor\": \"white\"}, \"hoverlabel\": {\"align\": \"left\"}, \"hovermode\": \"closest\", \"mapbox\": {\"style\": \"light\"}, \"paper_bgcolor\": \"white\", \"plot_bgcolor\": \"#E5ECF6\", \"polar\": {\"angularaxis\": {\"gridcolor\": \"white\", \"linecolor\": \"white\", \"ticks\": \"\"}, \"bgcolor\": \"#E5ECF6\", \"radialaxis\": {\"gridcolor\": \"white\", \"linecolor\": \"white\", \"ticks\": \"\"}}, \"scene\": {\"xaxis\": {\"backgroundcolor\": \"#E5ECF6\", \"gridcolor\": \"white\", \"gridwidth\": 2, \"linecolor\": \"white\", \"showbackground\": true, \"ticks\": \"\", \"zerolinecolor\": \"white\"}, \"yaxis\": {\"backgroundcolor\": \"#E5ECF6\", \"gridcolor\": \"white\", \"gridwidth\": 2, \"linecolor\": \"white\", \"showbackground\": true, \"ticks\": \"\", \"zerolinecolor\": \"white\"}, \"zaxis\": {\"backgroundcolor\": \"#E5ECF6\", \"gridcolor\": \"white\", \"gridwidth\": 2, \"linecolor\": \"white\", \"showbackground\": true, \"ticks\": \"\", \"zerolinecolor\": \"white\"}}, \"shapedefaults\": {\"line\": {\"color\": \"#2a3f5f\"}}, \"ternary\": {\"aaxis\": {\"gridcolor\": \"white\", \"linecolor\": \"white\", \"ticks\": \"\"}, \"baxis\": {\"gridcolor\": \"white\", \"linecolor\": \"white\", \"ticks\": \"\"}, \"bgcolor\": \"#E5ECF6\", \"caxis\": {\"gridcolor\": \"white\", \"linecolor\": \"white\", \"ticks\": \"\"}}, \"title\": {\"x\": 0.05}, \"xaxis\": {\"automargin\": true, \"gridcolor\": \"white\", \"linecolor\": \"white\", \"ticks\": \"\", \"title\": {\"standoff\": 15}, \"zerolinecolor\": \"white\", \"zerolinewidth\": 2}, \"yaxis\": {\"automargin\": true, \"gridcolor\": \"white\", \"linecolor\": \"white\", \"ticks\": \"\", \"title\": {\"standoff\": 15}, \"zerolinecolor\": \"white\", \"zerolinewidth\": 2}}}},\n",
       "                        {\"responsive\": true}\n",
       "                    ).then(function(){\n",
       "                            \n",
       "var gd = document.getElementById('4d90a3de-3430-4100-97d8-46f6b9eca692');\n",
       "var x = new MutationObserver(function (mutations, observer) {{\n",
       "        var display = window.getComputedStyle(gd).display;\n",
       "        if (!display || display === 'none') {{\n",
       "            console.log([gd, 'removed!']);\n",
       "            Plotly.purge(gd);\n",
       "            observer.disconnect();\n",
       "        }}\n",
       "}});\n",
       "\n",
       "// Listen for the removal of the full notebook cells\n",
       "var notebookContainer = gd.closest('#notebook-container');\n",
       "if (notebookContainer) {{\n",
       "    x.observe(notebookContainer, {childList: true});\n",
       "}}\n",
       "\n",
       "// Listen for the clearing of the current output cell\n",
       "var outputEl = gd.closest('.output');\n",
       "if (outputEl) {{\n",
       "    x.observe(outputEl, {childList: true});\n",
       "}}\n",
       "\n",
       "                        })\n",
       "                };\n",
       "                });\n",
       "            </script>\n",
       "        </div>"
      ]
     },
     "metadata": {},
     "output_type": "display_data"
    }
   ],
   "source": [
    "fig3 = stress_table(\"datos_estres_1.xlsx\")\n",
    "fig3.show()"
   ]
  },
  {
   "cell_type": "code",
   "execution_count": null,
   "metadata": {},
   "outputs": [],
   "source": []
  },
  {
   "cell_type": "code",
   "execution_count": null,
   "metadata": {},
   "outputs": [],
   "source": []
  },
  {
   "cell_type": "code",
   "execution_count": null,
   "metadata": {},
   "outputs": [],
   "source": []
  }
 ],
 "metadata": {
  "kernelspec": {
   "display_name": "Python 3",
   "language": "python",
   "name": "python3"
  },
  "language_info": {
   "codemirror_mode": {
    "name": "ipython",
    "version": 3
   },
   "file_extension": ".py",
   "mimetype": "text/x-python",
   "name": "python",
   "nbconvert_exporter": "python",
   "pygments_lexer": "ipython3",
   "version": "3.7.1"
  }
 },
 "nbformat": 4,
 "nbformat_minor": 2
}
