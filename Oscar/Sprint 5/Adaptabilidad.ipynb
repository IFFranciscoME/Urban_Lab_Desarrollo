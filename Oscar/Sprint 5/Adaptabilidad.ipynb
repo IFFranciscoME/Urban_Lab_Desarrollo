{
 "cells": [
  {
   "cell_type": "markdown",
   "metadata": {},
   "source": [
    "## Adaptabilidad.\n",
    "\n",
    "Es importante tomar en cuenta la adaptabilidad en el trabajo a realizar debido a que es una capacidad en la que debería terminar el estrés, es decir, la reacción de estrés a los estímulos externos muchas veces demanda una adaptación. Además la naturalidad de esta pandemia nos ha puesto a todos en una situación de nueva normalidad a la que es necesario adaptarse.\n",
    "\n",
    "Se decidió utilizar la frecuencia del 0 al 2 ya que se consideró que con ese rango se nos permite de manera más sencilla poder agrupar y categorizar las variables y de esta forma se puede obtener un resultado mucho más acertado y exacto. \n",
    "\n",
    "\n",
    "| 0  | 1  | 2  |\n",
    "|---|---|---|\n",
    "| Nada  |  Bajo |  Adecuado  |\n",
    "\n"
   ]
  },
  {
   "cell_type": "code",
   "execution_count": 1,
   "metadata": {
    "ExecuteTime": {
     "end_time": "2020-06-23T01:40:41.933349Z",
     "start_time": "2020-06-23T01:40:41.139210Z"
    }
   },
   "outputs": [],
   "source": [
    "import pandas as pd\n",
    "import numpy as np\n",
    "import plotly.graph_objects as go\n",
    "import plotly.express as px"
   ]
  },
  {
   "cell_type": "code",
   "execution_count": 2,
   "metadata": {
    "ExecuteTime": {
     "end_time": "2020-06-23T01:40:43.023385Z",
     "start_time": "2020-06-23T01:40:41.935717Z"
    },
    "scrolled": true
   },
   "outputs": [
    {
     "data": {
      "text/html": [
       "<div>\n",
       "<style scoped>\n",
       "    .dataframe tbody tr th:only-of-type {\n",
       "        vertical-align: middle;\n",
       "    }\n",
       "\n",
       "    .dataframe tbody tr th {\n",
       "        vertical-align: top;\n",
       "    }\n",
       "\n",
       "    .dataframe thead th {\n",
       "        text-align: right;\n",
       "    }\n",
       "</style>\n",
       "<table border=\"1\" class=\"dataframe\">\n",
       "  <thead>\n",
       "    <tr style=\"text-align: right;\">\n",
       "      <th></th>\n",
       "      <th>Unnamed: 0</th>\n",
       "      <th>Folio</th>\n",
       "      <th>ID</th>\n",
       "      <th>Levantada por</th>\n",
       "      <th>Municipio</th>\n",
       "      <th>CP</th>\n",
       "      <th>Sector</th>\n",
       "      <th>Giro</th>\n",
       "      <th>rango_empleados</th>\n",
       "      <th>Tamaño</th>\n",
       "      <th>...</th>\n",
       "      <th>aumento_insumos</th>\n",
       "      <th>aumento_precios</th>\n",
       "      <th>escasez_insumos</th>\n",
       "      <th>aumento_tipocambio</th>\n",
       "      <th>informado</th>\n",
       "      <th>lineamientos</th>\n",
       "      <th>acciones</th>\n",
       "      <th>plan</th>\n",
       "      <th>oportunidades</th>\n",
       "      <th>Adaptabilidad</th>\n",
       "    </tr>\n",
       "  </thead>\n",
       "  <tbody>\n",
       "    <tr>\n",
       "      <td>0</td>\n",
       "      <td>0</td>\n",
       "      <td>1</td>\n",
       "      <td>208841844</td>\n",
       "      <td>IIEG</td>\n",
       "      <td>Tlaquepaque</td>\n",
       "      <td>45608.0</td>\n",
       "      <td>Comercio</td>\n",
       "      <td>Otro</td>\n",
       "      <td>0 a 5</td>\n",
       "      <td>Micro</td>\n",
       "      <td>...</td>\n",
       "      <td>No</td>\n",
       "      <td>100</td>\n",
       "      <td>Sí</td>\n",
       "      <td>102</td>\n",
       "      <td>Sí</td>\n",
       "      <td>No</td>\n",
       "      <td>Forzar a los gobernadores a seguir las indicac...</td>\n",
       "      <td>no es necesario</td>\n",
       "      <td>si, menos competencia si otros cierran por fal...</td>\n",
       "      <td>8</td>\n",
       "    </tr>\n",
       "    <tr>\n",
       "      <td>1</td>\n",
       "      <td>1</td>\n",
       "      <td>2</td>\n",
       "      <td>208843594</td>\n",
       "      <td>IIEG</td>\n",
       "      <td>Guadalajara</td>\n",
       "      <td>44630.0</td>\n",
       "      <td>Construcción</td>\n",
       "      <td>Edificación de naves industriales</td>\n",
       "      <td>0 a 5</td>\n",
       "      <td>Micro</td>\n",
       "      <td>...</td>\n",
       "      <td>No</td>\n",
       "      <td>100</td>\n",
       "      <td>Sí</td>\n",
       "      <td>Sí</td>\n",
       "      <td>Sí</td>\n",
       "      <td>Sí</td>\n",
       "      <td>informacion clara y precisa para accesar a apo...</td>\n",
       "      <td>Tratar de mantener la Calidad y eficiencia en ...</td>\n",
       "      <td>el escenario es dificil puesto que en lo econó...</td>\n",
       "      <td>8</td>\n",
       "    </tr>\n",
       "    <tr>\n",
       "      <td>2</td>\n",
       "      <td>2</td>\n",
       "      <td>3</td>\n",
       "      <td>208844050</td>\n",
       "      <td>IIEG</td>\n",
       "      <td>Puerto Vallarta</td>\n",
       "      <td>48333.0</td>\n",
       "      <td>Manufactura</td>\n",
       "      <td>Impresión</td>\n",
       "      <td>0 a 5</td>\n",
       "      <td>Micro</td>\n",
       "      <td>...</td>\n",
       "      <td>Sí</td>\n",
       "      <td>No, pero lo estoy considerando</td>\n",
       "      <td>No</td>\n",
       "      <td>Sí</td>\n",
       "      <td>Sí</td>\n",
       "      <td>No</td>\n",
       "      <td>apoyos empresariales para cubrir sueldos duran...</td>\n",
       "      <td>alentar al turismo a que nos visite para que m...</td>\n",
       "      <td>no</td>\n",
       "      <td>5</td>\n",
       "    </tr>\n",
       "    <tr>\n",
       "      <td>3</td>\n",
       "      <td>3</td>\n",
       "      <td>5</td>\n",
       "      <td>208844264</td>\n",
       "      <td>IIEG</td>\n",
       "      <td>Guadalajara</td>\n",
       "      <td>44890.0</td>\n",
       "      <td>Comercio</td>\n",
       "      <td>Tiendas de celulares</td>\n",
       "      <td>0 a 5</td>\n",
       "      <td>Micro</td>\n",
       "      <td>...</td>\n",
       "      <td>Sí</td>\n",
       "      <td>Sí</td>\n",
       "      <td>No</td>\n",
       "      <td>Sí</td>\n",
       "      <td>Sí</td>\n",
       "      <td>Sí</td>\n",
       "      <td>Apoyos directos a la economía de la empresa, c...</td>\n",
       "      <td>Evaluar primero si siguen operando, los riesgo...</td>\n",
       "      <td>Si, enfocar los esfuerzos en la comercializaci...</td>\n",
       "      <td>7</td>\n",
       "    </tr>\n",
       "    <tr>\n",
       "      <td>4</td>\n",
       "      <td>4</td>\n",
       "      <td>7</td>\n",
       "      <td>208845188</td>\n",
       "      <td>IIEG</td>\n",
       "      <td>Lagos de Moreno</td>\n",
       "      <td>47420.0</td>\n",
       "      <td>Servicios</td>\n",
       "      <td>Reparación de electrónicos</td>\n",
       "      <td>0 a 5</td>\n",
       "      <td>Micro</td>\n",
       "      <td>...</td>\n",
       "      <td>Sí</td>\n",
       "      <td>Sí</td>\n",
       "      <td>Sí</td>\n",
       "      <td>Sí</td>\n",
       "      <td>Sí</td>\n",
       "      <td>Sí</td>\n",
       "      <td>NaN</td>\n",
       "      <td>NaN</td>\n",
       "      <td>NaN</td>\n",
       "      <td>8</td>\n",
       "    </tr>\n",
       "    <tr>\n",
       "      <td>...</td>\n",
       "      <td>...</td>\n",
       "      <td>...</td>\n",
       "      <td>...</td>\n",
       "      <td>...</td>\n",
       "      <td>...</td>\n",
       "      <td>...</td>\n",
       "      <td>...</td>\n",
       "      <td>...</td>\n",
       "      <td>...</td>\n",
       "      <td>...</td>\n",
       "      <td>...</td>\n",
       "      <td>...</td>\n",
       "      <td>...</td>\n",
       "      <td>...</td>\n",
       "      <td>...</td>\n",
       "      <td>...</td>\n",
       "      <td>...</td>\n",
       "      <td>...</td>\n",
       "      <td>...</td>\n",
       "      <td>...</td>\n",
       "      <td>...</td>\n",
       "    </tr>\n",
       "    <tr>\n",
       "      <td>1987</td>\n",
       "      <td>1987</td>\n",
       "      <td>1951</td>\n",
       "      <td>209032456</td>\n",
       "      <td>CUCEA</td>\n",
       "      <td>Lagos de Moreno</td>\n",
       "      <td>48460.0</td>\n",
       "      <td>Comercio</td>\n",
       "      <td>No especificado</td>\n",
       "      <td>6 a 10</td>\n",
       "      <td>Micro</td>\n",
       "      <td>...</td>\n",
       "      <td>No</td>\n",
       "      <td>100</td>\n",
       "      <td>No</td>\n",
       "      <td>No</td>\n",
       "      <td>Sí</td>\n",
       "      <td>Sí</td>\n",
       "      <td>Necesitamos apoyo para pago de sueldos a emple...</td>\n",
       "      <td>Hacer visitas personalizadas</td>\n",
       "      <td>No, primero necesitamos recuperarnos, luego pe...</td>\n",
       "      <td>6</td>\n",
       "    </tr>\n",
       "    <tr>\n",
       "      <td>1988</td>\n",
       "      <td>1988</td>\n",
       "      <td>1955</td>\n",
       "      <td>209032595</td>\n",
       "      <td>CUCEA</td>\n",
       "      <td>Lagos de Moreno</td>\n",
       "      <td>47480.0</td>\n",
       "      <td>Construcción</td>\n",
       "      <td>Fabricación de productos de madera</td>\n",
       "      <td>6 a 10</td>\n",
       "      <td>Micro</td>\n",
       "      <td>...</td>\n",
       "      <td>Sí</td>\n",
       "      <td>Sí</td>\n",
       "      <td>Sí</td>\n",
       "      <td>Sí</td>\n",
       "      <td>Sí</td>\n",
       "      <td>No</td>\n",
       "      <td>Apoyar más el trabajo informal</td>\n",
       "      <td>Sinhemosnoptadl por poner en marcha varias for...</td>\n",
       "      <td>No</td>\n",
       "      <td>8</td>\n",
       "    </tr>\n",
       "    <tr>\n",
       "      <td>1989</td>\n",
       "      <td>1989</td>\n",
       "      <td>1961</td>\n",
       "      <td>209032863</td>\n",
       "      <td>IIEG</td>\n",
       "      <td>Guadalajara</td>\n",
       "      <td>44360.0</td>\n",
       "      <td>Comercio</td>\n",
       "      <td>Joyerías y tiendas de relojes</td>\n",
       "      <td>6 a 10</td>\n",
       "      <td>Micro</td>\n",
       "      <td>...</td>\n",
       "      <td>Sí</td>\n",
       "      <td>No, pero lo estoy considerando</td>\n",
       "      <td>Sí</td>\n",
       "      <td>Sí</td>\n",
       "      <td>Sí</td>\n",
       "      <td>Sí</td>\n",
       "      <td>Dinero a fondo perdido</td>\n",
       "      <td>Si publicidad</td>\n",
       "      <td>No</td>\n",
       "      <td>4</td>\n",
       "    </tr>\n",
       "    <tr>\n",
       "      <td>1990</td>\n",
       "      <td>1990</td>\n",
       "      <td>1963</td>\n",
       "      <td>209032983</td>\n",
       "      <td>CUCEA</td>\n",
       "      <td>Lagos de Moreno</td>\n",
       "      <td>47470.0</td>\n",
       "      <td>Servicios</td>\n",
       "      <td>Escuelas</td>\n",
       "      <td>6 a 10</td>\n",
       "      <td>Micro</td>\n",
       "      <td>...</td>\n",
       "      <td>No</td>\n",
       "      <td>100</td>\n",
       "      <td>No</td>\n",
       "      <td>No</td>\n",
       "      <td>No</td>\n",
       "      <td>No</td>\n",
       "      <td>No se</td>\n",
       "      <td>La promoción de los grupos q se puedan abrir</td>\n",
       "      <td>No, trabajamos sector salud y está siendo muy ...</td>\n",
       "      <td>2</td>\n",
       "    </tr>\n",
       "    <tr>\n",
       "      <td>1991</td>\n",
       "      <td>1991</td>\n",
       "      <td>1987</td>\n",
       "      <td>209045096</td>\n",
       "      <td>IIEG</td>\n",
       "      <td>Guadalajara</td>\n",
       "      <td>44160.0</td>\n",
       "      <td>Servicios</td>\n",
       "      <td>Inmobiliarias y agentes de bienes raíces</td>\n",
       "      <td>6 a 10</td>\n",
       "      <td>Micro</td>\n",
       "      <td>...</td>\n",
       "      <td>102</td>\n",
       "      <td>100</td>\n",
       "      <td>No</td>\n",
       "      <td>102</td>\n",
       "      <td>Sí</td>\n",
       "      <td>No</td>\n",
       "      <td>Prórroga en pago de impuestos, energía y apoyo...</td>\n",
       "      <td>Identificar nuevas necesidades del mercado y m...</td>\n",
       "      <td>Posiblemente haya mucha oferta de créditos hip...</td>\n",
       "      <td>10</td>\n",
       "    </tr>\n",
       "  </tbody>\n",
       "</table>\n",
       "<p>1992 rows × 51 columns</p>\n",
       "</div>"
      ],
      "text/plain": [
       "      Unnamed: 0  Folio         ID Levantada por        Municipio       CP  \\\n",
       "0              0      1  208841844          IIEG      Tlaquepaque  45608.0   \n",
       "1              1      2  208843594          IIEG      Guadalajara  44630.0   \n",
       "2              2      3  208844050          IIEG  Puerto Vallarta  48333.0   \n",
       "3              3      5  208844264          IIEG      Guadalajara  44890.0   \n",
       "4              4      7  208845188          IIEG  Lagos de Moreno  47420.0   \n",
       "...          ...    ...        ...           ...              ...      ...   \n",
       "1987        1987   1951  209032456         CUCEA  Lagos de Moreno  48460.0   \n",
       "1988        1988   1955  209032595         CUCEA  Lagos de Moreno  47480.0   \n",
       "1989        1989   1961  209032863          IIEG      Guadalajara  44360.0   \n",
       "1990        1990   1963  209032983         CUCEA  Lagos de Moreno  47470.0   \n",
       "1991        1991   1987  209045096          IIEG      Guadalajara  44160.0   \n",
       "\n",
       "            Sector                                      Giro rango_empleados  \\\n",
       "0         Comercio                                      Otro           0 a 5   \n",
       "1     Construcción         Edificación de naves industriales           0 a 5   \n",
       "2      Manufactura                                 Impresión           0 a 5   \n",
       "3         Comercio                      Tiendas de celulares           0 a 5   \n",
       "4        Servicios                Reparación de electrónicos           0 a 5   \n",
       "...            ...                                       ...             ...   \n",
       "1987      Comercio                           No especificado          6 a 10   \n",
       "1988  Construcción        Fabricación de productos de madera          6 a 10   \n",
       "1989      Comercio             Joyerías y tiendas de relojes          6 a 10   \n",
       "1990     Servicios                                  Escuelas          6 a 10   \n",
       "1991     Servicios  Inmobiliarias y agentes de bienes raíces          6 a 10   \n",
       "\n",
       "     Tamaño  ...  aumento_insumos                 aumento_precios  \\\n",
       "0     Micro  ...               No                             100   \n",
       "1     Micro  ...               No                             100   \n",
       "2     Micro  ...               Sí  No, pero lo estoy considerando   \n",
       "3     Micro  ...               Sí                              Sí   \n",
       "4     Micro  ...               Sí                              Sí   \n",
       "...     ...  ...              ...                             ...   \n",
       "1987  Micro  ...               No                             100   \n",
       "1988  Micro  ...               Sí                              Sí   \n",
       "1989  Micro  ...               Sí  No, pero lo estoy considerando   \n",
       "1990  Micro  ...               No                             100   \n",
       "1991  Micro  ...              102                             100   \n",
       "\n",
       "     escasez_insumos  aumento_tipocambio informado  lineamientos  \\\n",
       "0                 Sí                 102        Sí            No   \n",
       "1                 Sí                  Sí        Sí            Sí   \n",
       "2                 No                  Sí        Sí            No   \n",
       "3                 No                  Sí        Sí            Sí   \n",
       "4                 Sí                  Sí        Sí            Sí   \n",
       "...              ...                 ...       ...           ...   \n",
       "1987              No                  No        Sí            Sí   \n",
       "1988              Sí                  Sí        Sí            No   \n",
       "1989              Sí                  Sí        Sí            Sí   \n",
       "1990              No                  No        No            No   \n",
       "1991              No                 102        Sí            No   \n",
       "\n",
       "                                               acciones  \\\n",
       "0     Forzar a los gobernadores a seguir las indicac...   \n",
       "1     informacion clara y precisa para accesar a apo...   \n",
       "2     apoyos empresariales para cubrir sueldos duran...   \n",
       "3     Apoyos directos a la economía de la empresa, c...   \n",
       "4                                                   NaN   \n",
       "...                                                 ...   \n",
       "1987  Necesitamos apoyo para pago de sueldos a emple...   \n",
       "1988                    Apoyar más el trabajo informal    \n",
       "1989                             Dinero a fondo perdido   \n",
       "1990                                              No se   \n",
       "1991  Prórroga en pago de impuestos, energía y apoyo...   \n",
       "\n",
       "                                                   plan  \\\n",
       "0                                       no es necesario   \n",
       "1     Tratar de mantener la Calidad y eficiencia en ...   \n",
       "2     alentar al turismo a que nos visite para que m...   \n",
       "3     Evaluar primero si siguen operando, los riesgo...   \n",
       "4                                                   NaN   \n",
       "...                                                 ...   \n",
       "1987                       Hacer visitas personalizadas   \n",
       "1988  Sinhemosnoptadl por poner en marcha varias for...   \n",
       "1989                                     Si publicidad    \n",
       "1990      La promoción de los grupos q se puedan abrir    \n",
       "1991  Identificar nuevas necesidades del mercado y m...   \n",
       "\n",
       "                                          oportunidades Adaptabilidad  \n",
       "0     si, menos competencia si otros cierran por fal...             8  \n",
       "1     el escenario es dificil puesto que en lo econó...             8  \n",
       "2                                                    no             5  \n",
       "3     Si, enfocar los esfuerzos en la comercializaci...             7  \n",
       "4                                                   NaN             8  \n",
       "...                                                 ...           ...  \n",
       "1987  No, primero necesitamos recuperarnos, luego pe...             6  \n",
       "1988                                                 No             8  \n",
       "1989                                                 No             4  \n",
       "1990  No, trabajamos sector salud y está siendo muy ...             2  \n",
       "1991  Posiblemente haya mucha oferta de créditos hip...            10  \n",
       "\n",
       "[1992 rows x 51 columns]"
      ]
     },
     "execution_count": 2,
     "metadata": {},
     "output_type": "execute_result"
    }
   ],
   "source": [
    "Adapt = pd.read_excel(\"Adaptabilidad.xlsx\")\n",
    "Adapt"
   ]
  },
  {
   "cell_type": "code",
   "execution_count": 3,
   "metadata": {
    "ExecuteTime": {
     "end_time": "2020-06-23T01:40:43.091273Z",
     "start_time": "2020-06-23T01:40:43.027497Z"
    },
    "scrolled": true
   },
   "outputs": [
    {
     "data": {
      "text/html": [
       "<div>\n",
       "<style scoped>\n",
       "    .dataframe tbody tr th:only-of-type {\n",
       "        vertical-align: middle;\n",
       "    }\n",
       "\n",
       "    .dataframe tbody tr th {\n",
       "        vertical-align: top;\n",
       "    }\n",
       "\n",
       "    .dataframe thead th {\n",
       "        text-align: right;\n",
       "    }\n",
       "</style>\n",
       "<table border=\"1\" class=\"dataframe\">\n",
       "  <thead>\n",
       "    <tr style=\"text-align: right;\">\n",
       "      <th></th>\n",
       "      <th>Unnamed: 0</th>\n",
       "      <th>Folio</th>\n",
       "      <th>ID</th>\n",
       "      <th>Levantada por</th>\n",
       "      <th>Municipio</th>\n",
       "      <th>CP</th>\n",
       "      <th>Sector</th>\n",
       "      <th>Giro</th>\n",
       "      <th>rango_empleados</th>\n",
       "      <th>Tamaño</th>\n",
       "      <th>...</th>\n",
       "      <th>aumento_insumos</th>\n",
       "      <th>aumento_precios</th>\n",
       "      <th>escasez_insumos</th>\n",
       "      <th>aumento_tipocambio</th>\n",
       "      <th>informado</th>\n",
       "      <th>lineamientos</th>\n",
       "      <th>acciones</th>\n",
       "      <th>plan</th>\n",
       "      <th>oportunidades</th>\n",
       "      <th>Adaptabilidad</th>\n",
       "    </tr>\n",
       "  </thead>\n",
       "  <tbody>\n",
       "    <tr>\n",
       "      <td>0</td>\n",
       "      <td>0</td>\n",
       "      <td>1</td>\n",
       "      <td>208841844</td>\n",
       "      <td>IIEG</td>\n",
       "      <td>Tlaquepaque</td>\n",
       "      <td>45608.0</td>\n",
       "      <td>Comercio</td>\n",
       "      <td>Otro</td>\n",
       "      <td>0 a 5</td>\n",
       "      <td>Micro</td>\n",
       "      <td>...</td>\n",
       "      <td>No</td>\n",
       "      <td>100</td>\n",
       "      <td>Sí</td>\n",
       "      <td>102</td>\n",
       "      <td>Sí</td>\n",
       "      <td>No</td>\n",
       "      <td>Forzar a los gobernadores a seguir las indicac...</td>\n",
       "      <td>no es necesario</td>\n",
       "      <td>si, menos competencia si otros cierran por fal...</td>\n",
       "      <td>8</td>\n",
       "    </tr>\n",
       "    <tr>\n",
       "      <td>1</td>\n",
       "      <td>1</td>\n",
       "      <td>2</td>\n",
       "      <td>208843594</td>\n",
       "      <td>IIEG</td>\n",
       "      <td>Guadalajara</td>\n",
       "      <td>44630.0</td>\n",
       "      <td>Construcción</td>\n",
       "      <td>Edificación de naves industriales</td>\n",
       "      <td>0 a 5</td>\n",
       "      <td>Micro</td>\n",
       "      <td>...</td>\n",
       "      <td>No</td>\n",
       "      <td>100</td>\n",
       "      <td>Sí</td>\n",
       "      <td>Sí</td>\n",
       "      <td>Sí</td>\n",
       "      <td>Sí</td>\n",
       "      <td>informacion clara y precisa para accesar a apo...</td>\n",
       "      <td>Tratar de mantener la Calidad y eficiencia en ...</td>\n",
       "      <td>el escenario es dificil puesto que en lo econó...</td>\n",
       "      <td>8</td>\n",
       "    </tr>\n",
       "    <tr>\n",
       "      <td>2</td>\n",
       "      <td>3</td>\n",
       "      <td>5</td>\n",
       "      <td>208844264</td>\n",
       "      <td>IIEG</td>\n",
       "      <td>Guadalajara</td>\n",
       "      <td>44890.0</td>\n",
       "      <td>Comercio</td>\n",
       "      <td>Tiendas de celulares</td>\n",
       "      <td>0 a 5</td>\n",
       "      <td>Micro</td>\n",
       "      <td>...</td>\n",
       "      <td>Sí</td>\n",
       "      <td>Sí</td>\n",
       "      <td>No</td>\n",
       "      <td>Sí</td>\n",
       "      <td>Sí</td>\n",
       "      <td>Sí</td>\n",
       "      <td>Apoyos directos a la economía de la empresa, c...</td>\n",
       "      <td>Evaluar primero si siguen operando, los riesgo...</td>\n",
       "      <td>Si, enfocar los esfuerzos en la comercializaci...</td>\n",
       "      <td>7</td>\n",
       "    </tr>\n",
       "    <tr>\n",
       "      <td>3</td>\n",
       "      <td>6</td>\n",
       "      <td>10</td>\n",
       "      <td>208845450</td>\n",
       "      <td>IIEG</td>\n",
       "      <td>Guadalajara</td>\n",
       "      <td>44600.0</td>\n",
       "      <td>Servicios</td>\n",
       "      <td>Consultorios médicos</td>\n",
       "      <td>0 a 5</td>\n",
       "      <td>Micro</td>\n",
       "      <td>...</td>\n",
       "      <td>No</td>\n",
       "      <td>100</td>\n",
       "      <td>Sí</td>\n",
       "      <td>Sí</td>\n",
       "      <td>Sí</td>\n",
       "      <td>No</td>\n",
       "      <td>1. Identificación de los focos infecciosos y c...</td>\n",
       "      <td>Promociones publicitarias...</td>\n",
       "      <td>NO</td>\n",
       "      <td>7</td>\n",
       "    </tr>\n",
       "    <tr>\n",
       "      <td>4</td>\n",
       "      <td>7</td>\n",
       "      <td>11</td>\n",
       "      <td>208845488</td>\n",
       "      <td>IIEG</td>\n",
       "      <td>Guadalajara</td>\n",
       "      <td>44100.0</td>\n",
       "      <td>Comercio</td>\n",
       "      <td>Tiendas de celulares</td>\n",
       "      <td>0 a 5</td>\n",
       "      <td>Micro</td>\n",
       "      <td>...</td>\n",
       "      <td>102</td>\n",
       "      <td>100</td>\n",
       "      <td>No</td>\n",
       "      <td>Sí</td>\n",
       "      <td>Sí</td>\n",
       "      <td>No</td>\n",
       "      <td>Encontrar soluciones o apoyos para trabajar o ...</td>\n",
       "      <td>No solo esperar a que qbran</td>\n",
       "      <td>No</td>\n",
       "      <td>1</td>\n",
       "    </tr>\n",
       "    <tr>\n",
       "      <td>...</td>\n",
       "      <td>...</td>\n",
       "      <td>...</td>\n",
       "      <td>...</td>\n",
       "      <td>...</td>\n",
       "      <td>...</td>\n",
       "      <td>...</td>\n",
       "      <td>...</td>\n",
       "      <td>...</td>\n",
       "      <td>...</td>\n",
       "      <td>...</td>\n",
       "      <td>...</td>\n",
       "      <td>...</td>\n",
       "      <td>...</td>\n",
       "      <td>...</td>\n",
       "      <td>...</td>\n",
       "      <td>...</td>\n",
       "      <td>...</td>\n",
       "      <td>...</td>\n",
       "      <td>...</td>\n",
       "      <td>...</td>\n",
       "      <td>...</td>\n",
       "    </tr>\n",
       "    <tr>\n",
       "      <td>1463</td>\n",
       "      <td>1984</td>\n",
       "      <td>1937</td>\n",
       "      <td>209031688</td>\n",
       "      <td>IIEG</td>\n",
       "      <td>Guadalajara</td>\n",
       "      <td>44370.0</td>\n",
       "      <td>Comercio</td>\n",
       "      <td>Otro</td>\n",
       "      <td>6 a 10</td>\n",
       "      <td>Micro</td>\n",
       "      <td>...</td>\n",
       "      <td>No</td>\n",
       "      <td>100</td>\n",
       "      <td>No</td>\n",
       "      <td>No</td>\n",
       "      <td>Sí</td>\n",
       "      <td>Sí</td>\n",
       "      <td>NaN</td>\n",
       "      <td>Reforzar  publicidad en Facebook, mayor atenci...</td>\n",
       "      <td>Afiliarme a más aplicaciones de alimento</td>\n",
       "      <td>6</td>\n",
       "    </tr>\n",
       "    <tr>\n",
       "      <td>1464</td>\n",
       "      <td>1985</td>\n",
       "      <td>1942</td>\n",
       "      <td>209031856</td>\n",
       "      <td>IIEG</td>\n",
       "      <td>Zapopan</td>\n",
       "      <td>45134.0</td>\n",
       "      <td>Comercio</td>\n",
       "      <td>Otro</td>\n",
       "      <td>6 a 10</td>\n",
       "      <td>Micro</td>\n",
       "      <td>...</td>\n",
       "      <td>No</td>\n",
       "      <td>100</td>\n",
       "      <td>Sí</td>\n",
       "      <td>Sí</td>\n",
       "      <td>Sí</td>\n",
       "      <td>Sí</td>\n",
       "      <td>Apoyos economicos</td>\n",
       "      <td>Será difícil pues la economía está sin flujo</td>\n",
       "      <td>No los veo a corto okazo</td>\n",
       "      <td>6</td>\n",
       "    </tr>\n",
       "    <tr>\n",
       "      <td>1465</td>\n",
       "      <td>1986</td>\n",
       "      <td>1949</td>\n",
       "      <td>209032401</td>\n",
       "      <td>IIEG</td>\n",
       "      <td>Guadalajara</td>\n",
       "      <td>44360.0</td>\n",
       "      <td>Comercio</td>\n",
       "      <td>Joyerías y tiendas de relojes</td>\n",
       "      <td>6 a 10</td>\n",
       "      <td>Micro</td>\n",
       "      <td>...</td>\n",
       "      <td>102</td>\n",
       "      <td>100</td>\n",
       "      <td>102</td>\n",
       "      <td>102</td>\n",
       "      <td>Sí</td>\n",
       "      <td>No</td>\n",
       "      <td>apoyo económico para poder pagar sueldos</td>\n",
       "      <td>tengo mercancía , tengo producción , solo es c...</td>\n",
       "      <td>no lo sé</td>\n",
       "      <td>3</td>\n",
       "    </tr>\n",
       "    <tr>\n",
       "      <td>1466</td>\n",
       "      <td>1989</td>\n",
       "      <td>1961</td>\n",
       "      <td>209032863</td>\n",
       "      <td>IIEG</td>\n",
       "      <td>Guadalajara</td>\n",
       "      <td>44360.0</td>\n",
       "      <td>Comercio</td>\n",
       "      <td>Joyerías y tiendas de relojes</td>\n",
       "      <td>6 a 10</td>\n",
       "      <td>Micro</td>\n",
       "      <td>...</td>\n",
       "      <td>Sí</td>\n",
       "      <td>No, pero lo estoy considerando</td>\n",
       "      <td>Sí</td>\n",
       "      <td>Sí</td>\n",
       "      <td>Sí</td>\n",
       "      <td>Sí</td>\n",
       "      <td>Dinero a fondo perdido</td>\n",
       "      <td>Si publicidad</td>\n",
       "      <td>No</td>\n",
       "      <td>4</td>\n",
       "    </tr>\n",
       "    <tr>\n",
       "      <td>1467</td>\n",
       "      <td>1991</td>\n",
       "      <td>1987</td>\n",
       "      <td>209045096</td>\n",
       "      <td>IIEG</td>\n",
       "      <td>Guadalajara</td>\n",
       "      <td>44160.0</td>\n",
       "      <td>Servicios</td>\n",
       "      <td>Inmobiliarias y agentes de bienes raíces</td>\n",
       "      <td>6 a 10</td>\n",
       "      <td>Micro</td>\n",
       "      <td>...</td>\n",
       "      <td>102</td>\n",
       "      <td>100</td>\n",
       "      <td>No</td>\n",
       "      <td>102</td>\n",
       "      <td>Sí</td>\n",
       "      <td>No</td>\n",
       "      <td>Prórroga en pago de impuestos, energía y apoyo...</td>\n",
       "      <td>Identificar nuevas necesidades del mercado y m...</td>\n",
       "      <td>Posiblemente haya mucha oferta de créditos hip...</td>\n",
       "      <td>10</td>\n",
       "    </tr>\n",
       "  </tbody>\n",
       "</table>\n",
       "<p>1468 rows × 51 columns</p>\n",
       "</div>"
      ],
      "text/plain": [
       "      Unnamed: 0  Folio         ID Levantada por    Municipio       CP  \\\n",
       "0              0      1  208841844          IIEG  Tlaquepaque  45608.0   \n",
       "1              1      2  208843594          IIEG  Guadalajara  44630.0   \n",
       "2              3      5  208844264          IIEG  Guadalajara  44890.0   \n",
       "3              6     10  208845450          IIEG  Guadalajara  44600.0   \n",
       "4              7     11  208845488          IIEG  Guadalajara  44100.0   \n",
       "...          ...    ...        ...           ...          ...      ...   \n",
       "1463        1984   1937  209031688          IIEG  Guadalajara  44370.0   \n",
       "1464        1985   1942  209031856          IIEG      Zapopan  45134.0   \n",
       "1465        1986   1949  209032401          IIEG  Guadalajara  44360.0   \n",
       "1466        1989   1961  209032863          IIEG  Guadalajara  44360.0   \n",
       "1467        1991   1987  209045096          IIEG  Guadalajara  44160.0   \n",
       "\n",
       "            Sector                                      Giro rango_empleados  \\\n",
       "0         Comercio                                      Otro           0 a 5   \n",
       "1     Construcción         Edificación de naves industriales           0 a 5   \n",
       "2         Comercio                      Tiendas de celulares           0 a 5   \n",
       "3        Servicios                      Consultorios médicos           0 a 5   \n",
       "4         Comercio                      Tiendas de celulares           0 a 5   \n",
       "...            ...                                       ...             ...   \n",
       "1463      Comercio                                      Otro          6 a 10   \n",
       "1464      Comercio                                      Otro          6 a 10   \n",
       "1465      Comercio             Joyerías y tiendas de relojes          6 a 10   \n",
       "1466      Comercio             Joyerías y tiendas de relojes          6 a 10   \n",
       "1467     Servicios  Inmobiliarias y agentes de bienes raíces          6 a 10   \n",
       "\n",
       "     Tamaño  ...  aumento_insumos                 aumento_precios  \\\n",
       "0     Micro  ...               No                             100   \n",
       "1     Micro  ...               No                             100   \n",
       "2     Micro  ...               Sí                              Sí   \n",
       "3     Micro  ...               No                             100   \n",
       "4     Micro  ...              102                             100   \n",
       "...     ...  ...              ...                             ...   \n",
       "1463  Micro  ...               No                             100   \n",
       "1464  Micro  ...               No                             100   \n",
       "1465  Micro  ...              102                             100   \n",
       "1466  Micro  ...               Sí  No, pero lo estoy considerando   \n",
       "1467  Micro  ...              102                             100   \n",
       "\n",
       "     escasez_insumos  aumento_tipocambio informado  lineamientos  \\\n",
       "0                 Sí                 102        Sí            No   \n",
       "1                 Sí                  Sí        Sí            Sí   \n",
       "2                 No                  Sí        Sí            Sí   \n",
       "3                 Sí                  Sí        Sí            No   \n",
       "4                 No                  Sí        Sí            No   \n",
       "...              ...                 ...       ...           ...   \n",
       "1463              No                  No        Sí            Sí   \n",
       "1464              Sí                  Sí        Sí            Sí   \n",
       "1465             102                 102        Sí            No   \n",
       "1466              Sí                  Sí        Sí            Sí   \n",
       "1467              No                 102        Sí            No   \n",
       "\n",
       "                                               acciones  \\\n",
       "0     Forzar a los gobernadores a seguir las indicac...   \n",
       "1     informacion clara y precisa para accesar a apo...   \n",
       "2     Apoyos directos a la economía de la empresa, c...   \n",
       "3     1. Identificación de los focos infecciosos y c...   \n",
       "4     Encontrar soluciones o apoyos para trabajar o ...   \n",
       "...                                                 ...   \n",
       "1463                                                NaN   \n",
       "1464                                  Apoyos economicos   \n",
       "1465          apoyo económico para poder pagar sueldos    \n",
       "1466                             Dinero a fondo perdido   \n",
       "1467  Prórroga en pago de impuestos, energía y apoyo...   \n",
       "\n",
       "                                                   plan  \\\n",
       "0                                       no es necesario   \n",
       "1     Tratar de mantener la Calidad y eficiencia en ...   \n",
       "2     Evaluar primero si siguen operando, los riesgo...   \n",
       "3                          Promociones publicitarias...   \n",
       "4                           No solo esperar a que qbran   \n",
       "...                                                 ...   \n",
       "1463  Reforzar  publicidad en Facebook, mayor atenci...   \n",
       "1464       Será difícil pues la economía está sin flujo   \n",
       "1465  tengo mercancía , tengo producción , solo es c...   \n",
       "1466                                     Si publicidad    \n",
       "1467  Identificar nuevas necesidades del mercado y m...   \n",
       "\n",
       "                                          oportunidades Adaptabilidad  \n",
       "0     si, menos competencia si otros cierran por fal...             8  \n",
       "1     el escenario es dificil puesto que en lo econó...             8  \n",
       "2     Si, enfocar los esfuerzos en la comercializaci...             7  \n",
       "3                                                    NO             7  \n",
       "4                                                    No             1  \n",
       "...                                                 ...           ...  \n",
       "1463           Afiliarme a más aplicaciones de alimento             6  \n",
       "1464                           No los veo a corto okazo             6  \n",
       "1465                                          no lo sé              3  \n",
       "1466                                                 No             4  \n",
       "1467  Posiblemente haya mucha oferta de créditos hip...            10  \n",
       "\n",
       "[1468 rows x 51 columns]"
      ]
     },
     "execution_count": 3,
     "metadata": {},
     "output_type": "execute_result"
    }
   ],
   "source": [
    "Adapt = Adapt.loc[Adapt['Municipio'].isin(['Zapopan','Tonalá',\n",
    "                                           'Tlaquepaque','Tlajomulco de Zúñiga','El Salto','Guadalajara'])]\n",
    "Adapt = Adapt.reset_index(drop=True)\n",
    "Adapt"
   ]
  },
  {
   "cell_type": "code",
   "execution_count": null,
   "metadata": {
    "ExecuteTime": {
     "end_time": "2020-06-23T01:40:43.101055Z",
     "start_time": "2020-06-23T01:40:43.094761Z"
    }
   },
   "outputs": [],
   "source": [
    "# Capacidad ; Cerrar razón ; Despidos ; Pago Salarios ; Capacidad de Pago ; \n",
    "# Acuerdo Laboral ; Trabajo en casa ; Trabajo en casa motivo ; Aumento de precios"
   ]
  },
  {
   "cell_type": "markdown",
   "metadata": {},
   "source": [
    "# Crear variable"
   ]
  },
  {
   "cell_type": "code",
   "execution_count": 37,
   "metadata": {
    "ExecuteTime": {
     "end_time": "2020-06-23T01:58:44.929579Z",
     "start_time": "2020-06-23T01:58:42.593002Z"
    }
   },
   "outputs": [
    {
     "name": "stderr",
     "output_type": "stream",
     "text": [
      "/Users/oscaralfonso/opt/anaconda3/lib/python3.7/site-packages/ipykernel_launcher.py:15: SettingWithCopyWarning: \n",
      "A value is trying to be set on a copy of a slice from a DataFrame\n",
      "\n",
      "See the caveats in the documentation: http://pandas.pydata.org/pandas-docs/stable/user_guide/indexing.html#returning-a-view-versus-a-copy\n",
      "  from ipykernel import kernelapp as app\n",
      "/Users/oscaralfonso/opt/anaconda3/lib/python3.7/site-packages/ipykernel_launcher.py:13: SettingWithCopyWarning: \n",
      "A value is trying to be set on a copy of a slice from a DataFrame\n",
      "\n",
      "See the caveats in the documentation: http://pandas.pydata.org/pandas-docs/stable/user_guide/indexing.html#returning-a-view-versus-a-copy\n",
      "  del sys.path[0]\n",
      "/Users/oscaralfonso/opt/anaconda3/lib/python3.7/site-packages/ipykernel_launcher.py:19: SettingWithCopyWarning: \n",
      "A value is trying to be set on a copy of a slice from a DataFrame\n",
      "\n",
      "See the caveats in the documentation: http://pandas.pydata.org/pandas-docs/stable/user_guide/indexing.html#returning-a-view-versus-a-copy\n",
      "/Users/oscaralfonso/opt/anaconda3/lib/python3.7/site-packages/ipykernel_launcher.py:11: SettingWithCopyWarning: \n",
      "A value is trying to be set on a copy of a slice from a DataFrame\n",
      "\n",
      "See the caveats in the documentation: http://pandas.pydata.org/pandas-docs/stable/user_guide/indexing.html#returning-a-view-versus-a-copy\n",
      "  # This is added back by InteractiveShellApp.init_path()\n",
      "/Users/oscaralfonso/opt/anaconda3/lib/python3.7/site-packages/ipykernel_launcher.py:17: SettingWithCopyWarning: \n",
      "A value is trying to be set on a copy of a slice from a DataFrame\n",
      "\n",
      "See the caveats in the documentation: http://pandas.pydata.org/pandas-docs/stable/user_guide/indexing.html#returning-a-view-versus-a-copy\n",
      "/Users/oscaralfonso/opt/anaconda3/lib/python3.7/site-packages/ipykernel_launcher.py:26: SettingWithCopyWarning: \n",
      "A value is trying to be set on a copy of a slice from a DataFrame\n",
      "\n",
      "See the caveats in the documentation: http://pandas.pydata.org/pandas-docs/stable/user_guide/indexing.html#returning-a-view-versus-a-copy\n",
      "/Users/oscaralfonso/opt/anaconda3/lib/python3.7/site-packages/ipykernel_launcher.py:24: SettingWithCopyWarning: \n",
      "A value is trying to be set on a copy of a slice from a DataFrame\n",
      "\n",
      "See the caveats in the documentation: http://pandas.pydata.org/pandas-docs/stable/user_guide/indexing.html#returning-a-view-versus-a-copy\n",
      "/Users/oscaralfonso/opt/anaconda3/lib/python3.7/site-packages/ipykernel_launcher.py:33: SettingWithCopyWarning: \n",
      "A value is trying to be set on a copy of a slice from a DataFrame\n",
      "\n",
      "See the caveats in the documentation: http://pandas.pydata.org/pandas-docs/stable/user_guide/indexing.html#returning-a-view-versus-a-copy\n",
      "/Users/oscaralfonso/opt/anaconda3/lib/python3.7/site-packages/ipykernel_launcher.py:31: SettingWithCopyWarning: \n",
      "A value is trying to be set on a copy of a slice from a DataFrame\n",
      "\n",
      "See the caveats in the documentation: http://pandas.pydata.org/pandas-docs/stable/user_guide/indexing.html#returning-a-view-versus-a-copy\n",
      "/Users/oscaralfonso/opt/anaconda3/lib/python3.7/site-packages/ipykernel_launcher.py:35: SettingWithCopyWarning: \n",
      "A value is trying to be set on a copy of a slice from a DataFrame\n",
      "\n",
      "See the caveats in the documentation: http://pandas.pydata.org/pandas-docs/stable/user_guide/indexing.html#returning-a-view-versus-a-copy\n",
      "/Users/oscaralfonso/opt/anaconda3/lib/python3.7/site-packages/ipykernel_launcher.py:42: SettingWithCopyWarning: \n",
      "A value is trying to be set on a copy of a slice from a DataFrame\n",
      "\n",
      "See the caveats in the documentation: http://pandas.pydata.org/pandas-docs/stable/user_guide/indexing.html#returning-a-view-versus-a-copy\n",
      "/Users/oscaralfonso/opt/anaconda3/lib/python3.7/site-packages/ipykernel_launcher.py:44: SettingWithCopyWarning: \n",
      "A value is trying to be set on a copy of a slice from a DataFrame\n",
      "\n",
      "See the caveats in the documentation: http://pandas.pydata.org/pandas-docs/stable/user_guide/indexing.html#returning-a-view-versus-a-copy\n",
      "/Users/oscaralfonso/opt/anaconda3/lib/python3.7/site-packages/ipykernel_launcher.py:40: SettingWithCopyWarning: \n",
      "A value is trying to be set on a copy of a slice from a DataFrame\n",
      "\n",
      "See the caveats in the documentation: http://pandas.pydata.org/pandas-docs/stable/user_guide/indexing.html#returning-a-view-versus-a-copy\n",
      "/Users/oscaralfonso/opt/anaconda3/lib/python3.7/site-packages/ipykernel_launcher.py:50: SettingWithCopyWarning: \n",
      "A value is trying to be set on a copy of a slice from a DataFrame\n",
      "\n",
      "See the caveats in the documentation: http://pandas.pydata.org/pandas-docs/stable/user_guide/indexing.html#returning-a-view-versus-a-copy\n",
      "/Users/oscaralfonso/opt/anaconda3/lib/python3.7/site-packages/ipykernel_launcher.py:48: SettingWithCopyWarning: \n",
      "A value is trying to be set on a copy of a slice from a DataFrame\n",
      "\n",
      "See the caveats in the documentation: http://pandas.pydata.org/pandas-docs/stable/user_guide/indexing.html#returning-a-view-versus-a-copy\n",
      "/Users/oscaralfonso/opt/anaconda3/lib/python3.7/site-packages/ipykernel_launcher.py:46: SettingWithCopyWarning: \n",
      "A value is trying to be set on a copy of a slice from a DataFrame\n",
      "\n",
      "See the caveats in the documentation: http://pandas.pydata.org/pandas-docs/stable/user_guide/indexing.html#returning-a-view-versus-a-copy\n",
      "/Users/oscaralfonso/opt/anaconda3/lib/python3.7/site-packages/ipykernel_launcher.py:56: SettingWithCopyWarning: \n",
      "A value is trying to be set on a copy of a slice from a DataFrame\n",
      "\n",
      "See the caveats in the documentation: http://pandas.pydata.org/pandas-docs/stable/user_guide/indexing.html#returning-a-view-versus-a-copy\n",
      "/Users/oscaralfonso/opt/anaconda3/lib/python3.7/site-packages/ipykernel_launcher.py:58: SettingWithCopyWarning: \n",
      "A value is trying to be set on a copy of a slice from a DataFrame\n",
      "\n",
      "See the caveats in the documentation: http://pandas.pydata.org/pandas-docs/stable/user_guide/indexing.html#returning-a-view-versus-a-copy\n",
      "/Users/oscaralfonso/opt/anaconda3/lib/python3.7/site-packages/ipykernel_launcher.py:62: SettingWithCopyWarning: \n",
      "A value is trying to be set on a copy of a slice from a DataFrame\n",
      "\n",
      "See the caveats in the documentation: http://pandas.pydata.org/pandas-docs/stable/user_guide/indexing.html#returning-a-view-versus-a-copy\n",
      "/Users/oscaralfonso/opt/anaconda3/lib/python3.7/site-packages/ipykernel_launcher.py:71: SettingWithCopyWarning: \n",
      "A value is trying to be set on a copy of a slice from a DataFrame\n",
      "\n",
      "See the caveats in the documentation: http://pandas.pydata.org/pandas-docs/stable/user_guide/indexing.html#returning-a-view-versus-a-copy\n",
      "/Users/oscaralfonso/opt/anaconda3/lib/python3.7/site-packages/ipykernel_launcher.py:67: SettingWithCopyWarning: \n",
      "A value is trying to be set on a copy of a slice from a DataFrame\n",
      "\n",
      "See the caveats in the documentation: http://pandas.pydata.org/pandas-docs/stable/user_guide/indexing.html#returning-a-view-versus-a-copy\n",
      "/Users/oscaralfonso/opt/anaconda3/lib/python3.7/site-packages/ipykernel_launcher.py:69: SettingWithCopyWarning: \n",
      "A value is trying to be set on a copy of a slice from a DataFrame\n",
      "\n",
      "See the caveats in the documentation: http://pandas.pydata.org/pandas-docs/stable/user_guide/indexing.html#returning-a-view-versus-a-copy\n",
      "/Users/oscaralfonso/opt/anaconda3/lib/python3.7/site-packages/ipykernel_launcher.py:78: SettingWithCopyWarning: \n",
      "A value is trying to be set on a copy of a slice from a DataFrame\n",
      "\n",
      "See the caveats in the documentation: http://pandas.pydata.org/pandas-docs/stable/user_guide/indexing.html#returning-a-view-versus-a-copy\n",
      "/Users/oscaralfonso/opt/anaconda3/lib/python3.7/site-packages/ipykernel_launcher.py:76: SettingWithCopyWarning: \n",
      "A value is trying to be set on a copy of a slice from a DataFrame\n",
      "\n",
      "See the caveats in the documentation: http://pandas.pydata.org/pandas-docs/stable/user_guide/indexing.html#returning-a-view-versus-a-copy\n",
      "/Users/oscaralfonso/opt/anaconda3/lib/python3.7/site-packages/ipykernel_launcher.py:80: SettingWithCopyWarning: \n",
      "A value is trying to be set on a copy of a slice from a DataFrame\n",
      "\n",
      "See the caveats in the documentation: http://pandas.pydata.org/pandas-docs/stable/user_guide/indexing.html#returning-a-view-versus-a-copy\n",
      "/Users/oscaralfonso/opt/anaconda3/lib/python3.7/site-packages/ipykernel_launcher.py:88: SettingWithCopyWarning: \n",
      "A value is trying to be set on a copy of a slice from a DataFrame\n",
      "\n",
      "See the caveats in the documentation: http://pandas.pydata.org/pandas-docs/stable/user_guide/indexing.html#returning-a-view-versus-a-copy\n",
      "/Users/oscaralfonso/opt/anaconda3/lib/python3.7/site-packages/ipykernel_launcher.py:86: SettingWithCopyWarning: \n",
      "A value is trying to be set on a copy of a slice from a DataFrame\n",
      "\n",
      "See the caveats in the documentation: http://pandas.pydata.org/pandas-docs/stable/user_guide/indexing.html#returning-a-view-versus-a-copy\n",
      "/Users/oscaralfonso/opt/anaconda3/lib/python3.7/site-packages/ipykernel_launcher.py:97: SettingWithCopyWarning: \n",
      "A value is trying to be set on a copy of a slice from a DataFrame\n",
      "\n",
      "See the caveats in the documentation: http://pandas.pydata.org/pandas-docs/stable/user_guide/indexing.html#returning-a-view-versus-a-copy\n",
      "/Users/oscaralfonso/opt/anaconda3/lib/python3.7/site-packages/ipykernel_launcher.py:93: SettingWithCopyWarning: \n",
      "A value is trying to be set on a copy of a slice from a DataFrame\n",
      "\n",
      "See the caveats in the documentation: http://pandas.pydata.org/pandas-docs/stable/user_guide/indexing.html#returning-a-view-versus-a-copy\n",
      "/Users/oscaralfonso/opt/anaconda3/lib/python3.7/site-packages/ipykernel_launcher.py:101: SettingWithCopyWarning: \n",
      "A value is trying to be set on a copy of a slice from a DataFrame\n",
      "\n",
      "See the caveats in the documentation: http://pandas.pydata.org/pandas-docs/stable/user_guide/indexing.html#returning-a-view-versus-a-copy\n",
      "/Users/oscaralfonso/opt/anaconda3/lib/python3.7/site-packages/ipykernel_launcher.py:95: SettingWithCopyWarning: \n",
      "A value is trying to be set on a copy of a slice from a DataFrame\n",
      "\n",
      "See the caveats in the documentation: http://pandas.pydata.org/pandas-docs/stable/user_guide/indexing.html#returning-a-view-versus-a-copy\n",
      "/Users/oscaralfonso/opt/anaconda3/lib/python3.7/site-packages/ipykernel_launcher.py:99: SettingWithCopyWarning: \n",
      "A value is trying to be set on a copy of a slice from a DataFrame\n",
      "\n",
      "See the caveats in the documentation: http://pandas.pydata.org/pandas-docs/stable/user_guide/indexing.html#returning-a-view-versus-a-copy\n"
     ]
    }
   ],
   "source": [
    "#Acomodo de datos\n",
    "data = Adapt\n",
    "data = data.replace({\"Más de 52\": 52, \"De 26 a 52\": 26, \"No aplica\": 100, \"No contesto\": 101, \"No sé\":102, \"Más de un año\":12})\n",
    "#Variable a predecir \n",
    "adaptabilidad = np.zeros(len(data))\n",
    "\n",
    "\n",
    "#capacidad\n",
    "for i in range(0, len(data)):\n",
    "    if data['capacidad'][i] == 999:\n",
    "        data['capacidad'][i] = 1\n",
    "    if data['capacidad'][i]>0 and data['capacidad'][i]<=25:\n",
    "        data['capacidad'][i] = 1\n",
    "    if data['capacidad'][i]>25 and data['capacidad'][i]<=50:\n",
    "        data['capacidad'][i] = 1\n",
    "    if data['capacidad'][i]>50 and data['capacidad'][i]<=75:\n",
    "        data['capacidad'][i] = 2\n",
    "    if data['capacidad'][i]>75 and data['capacidad'][i]<=100:\n",
    "        data['capacidad'][i] = 2\n",
    "        \n",
    "#cerrar_razon\n",
    "for i in range(0, len(data)):\n",
    "    if data['cerrar_razon'][i] == 'Falta de fondos o liquidez' or data['cerrar_razon'][i] == 'Gastos elevados' or data['cerrar_razon'][i] == 'Problemas con importación' or data['cerrar_razon'][i] == 'Problemas de cobranza':\n",
    "        data['cerrar_razon'][i] = 1\n",
    "    else:\n",
    "        data['cerrar_razon'][i] = 0\n",
    "\n",
    "#despidos\n",
    "for i in range(0, len(data)):\n",
    "    if data['despidos'][i] == 'Sí' or data['despidos'][i] == 'No cuenta con personal' or data['despidos'][i] == 'No, pero lo hará en los próximos días' or data['despidos'][i] == 'No, pero lo va a hacer en los próximos días':\n",
    "        data['despidos'][i] = 0\n",
    "    if data['despidos'][i] == 'No':\n",
    "        data['despidos'][i] = 2\n",
    "    if data['despidos'][i] == 'No, pero lo está considerando':\n",
    "        data['despidos'][i] = 1\n",
    "\n",
    "#pago_salarios\n",
    "for i in range(0, len(data)):\n",
    "    if data['pago_salarios'][i] == 100 or data['pago_salarios'][i] == 101 or data['pago_salarios'][i] == 102:\n",
    "        data['pago_salarios'][i] = 0\n",
    "    if data['pago_salarios'][i]>0 and data['pago_salarios'][i]<=6:\n",
    "        data['pago_salarios'][i] = 1\n",
    "    if data['pago_salarios'][i]>6 and data['pago_salarios'][i]<=12:\n",
    "        data['pago_salarios'][i] = 1\n",
    "    if data['pago_salarios'][i]>12 and data['pago_salarios'][i]<=18:\n",
    "        data['pago_salarios'][i] = 2\n",
    "    if data['pago_salarios'][i]>18 and data['pago_salarios'][i]<=24:\n",
    "        data['pago_salarios'][i] = 2\n",
    "    if data['pago_salarios'][i]>24:\n",
    "        data['pago_salarios'][i] = 2\n",
    "\n",
    "\n",
    "#capacidad_pago\n",
    "for i in range(0, len(data)):\n",
    "    if data['capacidad_pago'][i] == 'Sí':\n",
    "        data['capacidad_pago'][i] = 2\n",
    "    if data['capacidad_pago'][i] == 'No':\n",
    "        data['capacidad_pago'][i] = 0\n",
    "    if data['capacidad_pago'][i] == 'No sé':\n",
    "        data['capacidad_pago'][i] = 1\n",
    "    if data['capacidad_pago'][i] == 102:\n",
    "        data['capacidad_pago'][i] = 1\n",
    "        \n",
    "#acuerdo_laboral\n",
    "for i in range(0, len(data)):\n",
    "    if data['acuerdo_laboral'][i] == 'No, pero lo está considerando' or data['despidos'][i] == 'No, pero lo hará en los próximos días' or data['acuerdo_laboral'][i] == 'No, pero lo va a hacer en los próximos días':\n",
    "        data['acuerdo_laboral'][i] = 1\n",
    "    if data['acuerdo_laboral'][i] == 'Sí':\n",
    "        data['acuerdo_laboral'][i] = 2\n",
    "    if data['acuerdo_laboral'][i] == 'No':\n",
    "        data['acuerdo_laboral'][i] = 0\n",
    "        \n",
    "#trabajo_casa\n",
    "for i in range(0, len(data)):\n",
    "    if data['trabajo_casa'][i] == 'No, pero lo está considerando' or data['trabajo_casa'][i] == 'No, pero lo hará en los próximos días' or data['trabajo_casa'][i] ==  'No, pero lo va a hacer en los próximos días': \n",
    "        data['trabajo_casa'][i] = 1\n",
    "    if data['trabajo_casa'][i] == 'Sí':\n",
    "        data['trabajo_casa'][i] = 2\n",
    "    if data['trabajo_casa'][i] == 'No':\n",
    "        data['trabajo_casa'][i] = 0\n",
    "        \n",
    "\n",
    "#trabajo_casa_motivo\n",
    "for i in range(0, len(data)):\n",
    "    if data['trabajo_casa_motivo'][i] == 'La naturaleza de mi negocio no lo permite' or data['trabajo_casa_motivo'][i] == 'Porque se considera una actividad esencial para la emergencia':\n",
    "        data['trabajo_casa_motivo'][i] = 1\n",
    "    else:\n",
    "        data['trabajo_casa_motivo'][i] = 0\n",
    "\n",
    "#aumento_precios\n",
    "for i in range(0, len(data)):\n",
    "    if data['aumento_precios'][i] == 'Sí':\n",
    "        data['aumento_precios'][i] = 2\n",
    "    if data['aumento_precios'][i] == 'No':\n",
    "        data['aumento_precios'][i] = 2\n",
    "    if data['aumento_precios'][i] == 100:\n",
    "        data['aumento_precios'][i] = 0\n",
    "    if data['aumento_precios'][i] == 101:\n",
    "        data['aumento_precios'][i] = 0\n",
    "    if data['aumento_precios'][i] == 'No, pero lo estoy considerando':\n",
    "        data['aumento_precios'][i] = 0\n",
    "        "
   ]
  },
  {
   "cell_type": "code",
   "execution_count": 61,
   "metadata": {
    "ExecuteTime": {
     "end_time": "2020-06-23T02:20:23.570315Z",
     "start_time": "2020-06-23T02:20:21.396939Z"
    }
   },
   "outputs": [
    {
     "data": {
      "text/html": [
       "<div>\n",
       "<style scoped>\n",
       "    .dataframe tbody tr th:only-of-type {\n",
       "        vertical-align: middle;\n",
       "    }\n",
       "\n",
       "    .dataframe tbody tr th {\n",
       "        vertical-align: top;\n",
       "    }\n",
       "\n",
       "    .dataframe thead th {\n",
       "        text-align: right;\n",
       "    }\n",
       "</style>\n",
       "<table border=\"1\" class=\"dataframe\">\n",
       "  <thead>\n",
       "    <tr style=\"text-align: right;\">\n",
       "      <th></th>\n",
       "      <th>Municipio</th>\n",
       "      <th>Sector</th>\n",
       "      <th>Giro</th>\n",
       "      <th>Tamaño</th>\n",
       "      <th>capacidad</th>\n",
       "      <th>cerrar_razon</th>\n",
       "      <th>despidos</th>\n",
       "      <th>pago_salarios</th>\n",
       "      <th>capacidad_pago</th>\n",
       "      <th>acuerdo_laboral</th>\n",
       "      <th>trabajo_casa</th>\n",
       "      <th>trabajo_casa_motivo</th>\n",
       "      <th>aumento_precios</th>\n",
       "      <th>Total</th>\n",
       "    </tr>\n",
       "  </thead>\n",
       "  <tbody>\n",
       "    <tr>\n",
       "      <td>0</td>\n",
       "      <td>Tlaquepaque</td>\n",
       "      <td>Comercio</td>\n",
       "      <td>Otro</td>\n",
       "      <td>Micro</td>\n",
       "      <td>1</td>\n",
       "      <td>0</td>\n",
       "      <td>2</td>\n",
       "      <td>1</td>\n",
       "      <td>2</td>\n",
       "      <td>0</td>\n",
       "      <td>2</td>\n",
       "      <td>0</td>\n",
       "      <td>0</td>\n",
       "      <td>8</td>\n",
       "    </tr>\n",
       "    <tr>\n",
       "      <td>1</td>\n",
       "      <td>Guadalajara</td>\n",
       "      <td>Construcción</td>\n",
       "      <td>Edificación de naves industriales</td>\n",
       "      <td>Micro</td>\n",
       "      <td>1</td>\n",
       "      <td>0</td>\n",
       "      <td>2</td>\n",
       "      <td>1</td>\n",
       "      <td>2</td>\n",
       "      <td>1</td>\n",
       "      <td>2</td>\n",
       "      <td>0</td>\n",
       "      <td>0</td>\n",
       "      <td>9</td>\n",
       "    </tr>\n",
       "    <tr>\n",
       "      <td>2</td>\n",
       "      <td>Guadalajara</td>\n",
       "      <td>Comercio</td>\n",
       "      <td>Tiendas de celulares</td>\n",
       "      <td>Micro</td>\n",
       "      <td>1</td>\n",
       "      <td>0</td>\n",
       "      <td>0</td>\n",
       "      <td>1</td>\n",
       "      <td>0</td>\n",
       "      <td>1</td>\n",
       "      <td>2</td>\n",
       "      <td>0</td>\n",
       "      <td>2</td>\n",
       "      <td>7</td>\n",
       "    </tr>\n",
       "    <tr>\n",
       "      <td>3</td>\n",
       "      <td>Guadalajara</td>\n",
       "      <td>Servicios</td>\n",
       "      <td>Consultorios médicos</td>\n",
       "      <td>Micro</td>\n",
       "      <td>2</td>\n",
       "      <td>0</td>\n",
       "      <td>1</td>\n",
       "      <td>1</td>\n",
       "      <td>0</td>\n",
       "      <td>2</td>\n",
       "      <td>1</td>\n",
       "      <td>0</td>\n",
       "      <td>0</td>\n",
       "      <td>7</td>\n",
       "    </tr>\n",
       "    <tr>\n",
       "      <td>4</td>\n",
       "      <td>Guadalajara</td>\n",
       "      <td>Comercio</td>\n",
       "      <td>Tiendas de celulares</td>\n",
       "      <td>Micro</td>\n",
       "      <td>1</td>\n",
       "      <td>1</td>\n",
       "      <td>0</td>\n",
       "      <td>0</td>\n",
       "      <td>0</td>\n",
       "      <td>0</td>\n",
       "      <td>0</td>\n",
       "      <td>0</td>\n",
       "      <td>0</td>\n",
       "      <td>2</td>\n",
       "    </tr>\n",
       "    <tr>\n",
       "      <td>...</td>\n",
       "      <td>...</td>\n",
       "      <td>...</td>\n",
       "      <td>...</td>\n",
       "      <td>...</td>\n",
       "      <td>...</td>\n",
       "      <td>...</td>\n",
       "      <td>...</td>\n",
       "      <td>...</td>\n",
       "      <td>...</td>\n",
       "      <td>...</td>\n",
       "      <td>...</td>\n",
       "      <td>...</td>\n",
       "      <td>...</td>\n",
       "      <td>...</td>\n",
       "    </tr>\n",
       "    <tr>\n",
       "      <td>1463</td>\n",
       "      <td>Guadalajara</td>\n",
       "      <td>Comercio</td>\n",
       "      <td>Otro</td>\n",
       "      <td>Micro</td>\n",
       "      <td>1</td>\n",
       "      <td>0</td>\n",
       "      <td>2</td>\n",
       "      <td>1</td>\n",
       "      <td>0</td>\n",
       "      <td>1</td>\n",
       "      <td>0</td>\n",
       "      <td>1</td>\n",
       "      <td>0</td>\n",
       "      <td>6</td>\n",
       "    </tr>\n",
       "    <tr>\n",
       "      <td>1464</td>\n",
       "      <td>Zapopan</td>\n",
       "      <td>Comercio</td>\n",
       "      <td>Otro</td>\n",
       "      <td>Micro</td>\n",
       "      <td>1</td>\n",
       "      <td>1</td>\n",
       "      <td>1</td>\n",
       "      <td>1</td>\n",
       "      <td>0</td>\n",
       "      <td>1</td>\n",
       "      <td>2</td>\n",
       "      <td>0</td>\n",
       "      <td>0</td>\n",
       "      <td>7</td>\n",
       "    </tr>\n",
       "    <tr>\n",
       "      <td>1465</td>\n",
       "      <td>Guadalajara</td>\n",
       "      <td>Comercio</td>\n",
       "      <td>Joyerías y tiendas de relojes</td>\n",
       "      <td>Micro</td>\n",
       "      <td>0</td>\n",
       "      <td>0</td>\n",
       "      <td>1</td>\n",
       "      <td>0</td>\n",
       "      <td>0</td>\n",
       "      <td>1</td>\n",
       "      <td>0</td>\n",
       "      <td>1</td>\n",
       "      <td>0</td>\n",
       "      <td>3</td>\n",
       "    </tr>\n",
       "    <tr>\n",
       "      <td>1466</td>\n",
       "      <td>Guadalajara</td>\n",
       "      <td>Comercio</td>\n",
       "      <td>Joyerías y tiendas de relojes</td>\n",
       "      <td>Micro</td>\n",
       "      <td>0</td>\n",
       "      <td>0</td>\n",
       "      <td>1</td>\n",
       "      <td>0</td>\n",
       "      <td>0</td>\n",
       "      <td>2</td>\n",
       "      <td>1</td>\n",
       "      <td>0</td>\n",
       "      <td>0</td>\n",
       "      <td>4</td>\n",
       "    </tr>\n",
       "    <tr>\n",
       "      <td>1467</td>\n",
       "      <td>Guadalajara</td>\n",
       "      <td>Servicios</td>\n",
       "      <td>Inmobiliarias y agentes de bienes raíces</td>\n",
       "      <td>Micro</td>\n",
       "      <td>1</td>\n",
       "      <td>1</td>\n",
       "      <td>1</td>\n",
       "      <td>1</td>\n",
       "      <td>2</td>\n",
       "      <td>2</td>\n",
       "      <td>2</td>\n",
       "      <td>0</td>\n",
       "      <td>0</td>\n",
       "      <td>10</td>\n",
       "    </tr>\n",
       "  </tbody>\n",
       "</table>\n",
       "<p>1468 rows × 14 columns</p>\n",
       "</div>"
      ],
      "text/plain": [
       "        Municipio        Sector                                      Giro  \\\n",
       "0     Tlaquepaque      Comercio                                      Otro   \n",
       "1     Guadalajara  Construcción         Edificación de naves industriales   \n",
       "2     Guadalajara      Comercio                      Tiendas de celulares   \n",
       "3     Guadalajara     Servicios                      Consultorios médicos   \n",
       "4     Guadalajara      Comercio                      Tiendas de celulares   \n",
       "...           ...           ...                                       ...   \n",
       "1463  Guadalajara      Comercio                                      Otro   \n",
       "1464      Zapopan      Comercio                                      Otro   \n",
       "1465  Guadalajara      Comercio             Joyerías y tiendas de relojes   \n",
       "1466  Guadalajara      Comercio             Joyerías y tiendas de relojes   \n",
       "1467  Guadalajara     Servicios  Inmobiliarias y agentes de bienes raíces   \n",
       "\n",
       "     Tamaño  capacidad  cerrar_razon  despidos  pago_salarios  capacidad_pago  \\\n",
       "0     Micro          1             0         2              1               2   \n",
       "1     Micro          1             0         2              1               2   \n",
       "2     Micro          1             0         0              1               0   \n",
       "3     Micro          2             0         1              1               0   \n",
       "4     Micro          1             1         0              0               0   \n",
       "...     ...        ...           ...       ...            ...             ...   \n",
       "1463  Micro          1             0         2              1               0   \n",
       "1464  Micro          1             1         1              1               0   \n",
       "1465  Micro          0             0         1              0               0   \n",
       "1466  Micro          0             0         1              0               0   \n",
       "1467  Micro          1             1         1              1               2   \n",
       "\n",
       "      acuerdo_laboral  trabajo_casa  trabajo_casa_motivo  aumento_precios  \\\n",
       "0                   0             2                    0                0   \n",
       "1                   1             2                    0                0   \n",
       "2                   1             2                    0                2   \n",
       "3                   2             1                    0                0   \n",
       "4                   0             0                    0                0   \n",
       "...               ...           ...                  ...              ...   \n",
       "1463                1             0                    1                0   \n",
       "1464                1             2                    0                0   \n",
       "1465                1             0                    1                0   \n",
       "1466                2             1                    0                0   \n",
       "1467                2             2                    0                0   \n",
       "\n",
       "      Total  \n",
       "0         8  \n",
       "1         9  \n",
       "2         7  \n",
       "3         7  \n",
       "4         2  \n",
       "...     ...  \n",
       "1463      6  \n",
       "1464      7  \n",
       "1465      3  \n",
       "1466      4  \n",
       "1467     10  \n",
       "\n",
       "[1468 rows x 14 columns]"
      ]
     },
     "execution_count": 61,
     "metadata": {},
     "output_type": "execute_result"
    }
   ],
   "source": [
    "column = data[['Municipio', 'Sector', 'Giro', 'Tamaño','capacidad','cerrar_razon', 'despidos','pago_salarios','capacidad_pago',\n",
    "      'acuerdo_laboral', 'trabajo_casa', 'trabajo_casa_motivo', 'aumento_precios']]\n",
    "column = column.astype({'capacidad': int,'cerrar_razon': int, 'despidos': int,'pago_salarios': int\n",
    "                        ,'capacidad_pago': int, 'acuerdo_laboral': int, 'trabajo_casa': int\n",
    "                        , 'trabajo_casa_motivo': int, 'aumento_precios': int})\n",
    "\n",
    "column['Total'] = column['capacidad']+column['cerrar_razon']+column['despidos']+column['pago_salarios']+\\\n",
    "                         column['capacidad_pago']+column['acuerdo_laboral']+column['trabajo_casa']+\\\n",
    "                         column['trabajo_casa_motivo']+ column['aumento_precios']\n",
    "column"
   ]
  },
  {
   "cell_type": "code",
   "execution_count": 42,
   "metadata": {
    "ExecuteTime": {
     "end_time": "2020-06-23T02:00:03.403448Z",
     "start_time": "2020-06-23T02:00:03.372091Z"
    }
   },
   "outputs": [
    {
     "data": {
      "text/html": [
       "<div>\n",
       "<style scoped>\n",
       "    .dataframe tbody tr th:only-of-type {\n",
       "        vertical-align: middle;\n",
       "    }\n",
       "\n",
       "    .dataframe tbody tr th {\n",
       "        vertical-align: top;\n",
       "    }\n",
       "\n",
       "    .dataframe thead th {\n",
       "        text-align: right;\n",
       "    }\n",
       "</style>\n",
       "<table border=\"1\" class=\"dataframe\">\n",
       "  <thead>\n",
       "    <tr style=\"text-align: right;\">\n",
       "      <th></th>\n",
       "      <th>capacidad</th>\n",
       "      <th>cerrar_razon</th>\n",
       "      <th>despidos</th>\n",
       "      <th>pago_salarios</th>\n",
       "      <th>capacidad_pago</th>\n",
       "      <th>acuerdo_laboral</th>\n",
       "      <th>trabajo_casa</th>\n",
       "      <th>trabajo_casa_motivo</th>\n",
       "      <th>aumento_precios</th>\n",
       "    </tr>\n",
       "  </thead>\n",
       "  <tbody>\n",
       "    <tr>\n",
       "      <td>0</td>\n",
       "      <td>1</td>\n",
       "      <td>0</td>\n",
       "      <td>2</td>\n",
       "      <td>1</td>\n",
       "      <td>2</td>\n",
       "      <td>0</td>\n",
       "      <td>2</td>\n",
       "      <td>0</td>\n",
       "      <td>0</td>\n",
       "    </tr>\n",
       "    <tr>\n",
       "      <td>1</td>\n",
       "      <td>1</td>\n",
       "      <td>0</td>\n",
       "      <td>2</td>\n",
       "      <td>1</td>\n",
       "      <td>2</td>\n",
       "      <td>1</td>\n",
       "      <td>2</td>\n",
       "      <td>0</td>\n",
       "      <td>0</td>\n",
       "    </tr>\n",
       "    <tr>\n",
       "      <td>2</td>\n",
       "      <td>1</td>\n",
       "      <td>0</td>\n",
       "      <td>0</td>\n",
       "      <td>1</td>\n",
       "      <td>0</td>\n",
       "      <td>1</td>\n",
       "      <td>2</td>\n",
       "      <td>0</td>\n",
       "      <td>2</td>\n",
       "    </tr>\n",
       "    <tr>\n",
       "      <td>3</td>\n",
       "      <td>2</td>\n",
       "      <td>0</td>\n",
       "      <td>1</td>\n",
       "      <td>1</td>\n",
       "      <td>0</td>\n",
       "      <td>2</td>\n",
       "      <td>1</td>\n",
       "      <td>0</td>\n",
       "      <td>0</td>\n",
       "    </tr>\n",
       "    <tr>\n",
       "      <td>4</td>\n",
       "      <td>1</td>\n",
       "      <td>1</td>\n",
       "      <td>0</td>\n",
       "      <td>0</td>\n",
       "      <td>0</td>\n",
       "      <td>0</td>\n",
       "      <td>0</td>\n",
       "      <td>0</td>\n",
       "      <td>0</td>\n",
       "    </tr>\n",
       "    <tr>\n",
       "      <td>...</td>\n",
       "      <td>...</td>\n",
       "      <td>...</td>\n",
       "      <td>...</td>\n",
       "      <td>...</td>\n",
       "      <td>...</td>\n",
       "      <td>...</td>\n",
       "      <td>...</td>\n",
       "      <td>...</td>\n",
       "      <td>...</td>\n",
       "    </tr>\n",
       "    <tr>\n",
       "      <td>1463</td>\n",
       "      <td>1</td>\n",
       "      <td>0</td>\n",
       "      <td>2</td>\n",
       "      <td>1</td>\n",
       "      <td>0</td>\n",
       "      <td>1</td>\n",
       "      <td>0</td>\n",
       "      <td>1</td>\n",
       "      <td>0</td>\n",
       "    </tr>\n",
       "    <tr>\n",
       "      <td>1464</td>\n",
       "      <td>1</td>\n",
       "      <td>1</td>\n",
       "      <td>1</td>\n",
       "      <td>1</td>\n",
       "      <td>0</td>\n",
       "      <td>1</td>\n",
       "      <td>2</td>\n",
       "      <td>0</td>\n",
       "      <td>0</td>\n",
       "    </tr>\n",
       "    <tr>\n",
       "      <td>1465</td>\n",
       "      <td>0</td>\n",
       "      <td>0</td>\n",
       "      <td>1</td>\n",
       "      <td>0</td>\n",
       "      <td>0</td>\n",
       "      <td>1</td>\n",
       "      <td>0</td>\n",
       "      <td>1</td>\n",
       "      <td>0</td>\n",
       "    </tr>\n",
       "    <tr>\n",
       "      <td>1466</td>\n",
       "      <td>0</td>\n",
       "      <td>0</td>\n",
       "      <td>1</td>\n",
       "      <td>0</td>\n",
       "      <td>0</td>\n",
       "      <td>2</td>\n",
       "      <td>1</td>\n",
       "      <td>0</td>\n",
       "      <td>0</td>\n",
       "    </tr>\n",
       "    <tr>\n",
       "      <td>1467</td>\n",
       "      <td>1</td>\n",
       "      <td>1</td>\n",
       "      <td>1</td>\n",
       "      <td>1</td>\n",
       "      <td>2</td>\n",
       "      <td>2</td>\n",
       "      <td>2</td>\n",
       "      <td>0</td>\n",
       "      <td>0</td>\n",
       "    </tr>\n",
       "  </tbody>\n",
       "</table>\n",
       "<p>1468 rows × 9 columns</p>\n",
       "</div>"
      ],
      "text/plain": [
       "      capacidad  cerrar_razon  despidos  pago_salarios  capacidad_pago  \\\n",
       "0             1             0         2              1               2   \n",
       "1             1             0         2              1               2   \n",
       "2             1             0         0              1               0   \n",
       "3             2             0         1              1               0   \n",
       "4             1             1         0              0               0   \n",
       "...         ...           ...       ...            ...             ...   \n",
       "1463          1             0         2              1               0   \n",
       "1464          1             1         1              1               0   \n",
       "1465          0             0         1              0               0   \n",
       "1466          0             0         1              0               0   \n",
       "1467          1             1         1              1               2   \n",
       "\n",
       "      acuerdo_laboral  trabajo_casa  trabajo_casa_motivo  aumento_precios  \n",
       "0                   0             2                    0                0  \n",
       "1                   1             2                    0                0  \n",
       "2                   1             2                    0                2  \n",
       "3                   2             1                    0                0  \n",
       "4                   0             0                    0                0  \n",
       "...               ...           ...                  ...              ...  \n",
       "1463                1             0                    1                0  \n",
       "1464                1             2                    0                0  \n",
       "1465                1             0                    1                0  \n",
       "1466                2             1                    0                0  \n",
       "1467                2             2                    0                0  \n",
       "\n",
       "[1468 rows x 9 columns]"
      ]
     },
     "execution_count": 42,
     "metadata": {},
     "output_type": "execute_result"
    }
   ],
   "source": [
    "column[['capacidad','cerrar_razon', 'despidos','pago_salarios','capacidad_pago',\n",
    "      'acuerdo_laboral', 'trabajo_casa', 'trabajo_casa_motivo', 'aumento_precios']]"
   ]
  },
  {
   "cell_type": "markdown",
   "metadata": {},
   "source": [
    "# Tablas Resumen"
   ]
  },
  {
   "cell_type": "code",
   "execution_count": 64,
   "metadata": {
    "ExecuteTime": {
     "end_time": "2020-06-23T02:22:27.005286Z",
     "start_time": "2020-06-23T02:22:26.934480Z"
    }
   },
   "outputs": [
    {
     "data": {
      "text/html": [
       "<div>\n",
       "<style scoped>\n",
       "    .dataframe tbody tr th:only-of-type {\n",
       "        vertical-align: middle;\n",
       "    }\n",
       "\n",
       "    .dataframe tbody tr th {\n",
       "        vertical-align: top;\n",
       "    }\n",
       "\n",
       "    .dataframe thead th {\n",
       "        text-align: right;\n",
       "    }\n",
       "</style>\n",
       "<table border=\"1\" class=\"dataframe\">\n",
       "  <thead>\n",
       "    <tr style=\"text-align: right;\">\n",
       "      <th></th>\n",
       "      <th>acuerdo_laboral</th>\n",
       "      <th>aumento_precios</th>\n",
       "      <th>capacidad</th>\n",
       "      <th>capacidad_pago</th>\n",
       "      <th>cerrar_razon</th>\n",
       "      <th>despidos</th>\n",
       "      <th>pago_salarios</th>\n",
       "      <th>trabajo_casa</th>\n",
       "      <th>trabajo_casa_motivo</th>\n",
       "      <th>Total</th>\n",
       "    </tr>\n",
       "    <tr>\n",
       "      <th>Municipio</th>\n",
       "      <th></th>\n",
       "      <th></th>\n",
       "      <th></th>\n",
       "      <th></th>\n",
       "      <th></th>\n",
       "      <th></th>\n",
       "      <th></th>\n",
       "      <th></th>\n",
       "      <th></th>\n",
       "      <th></th>\n",
       "    </tr>\n",
       "  </thead>\n",
       "  <tbody>\n",
       "    <tr>\n",
       "      <td>El Salto</td>\n",
       "      <td>1</td>\n",
       "      <td>0</td>\n",
       "      <td>1</td>\n",
       "      <td>0</td>\n",
       "      <td>0</td>\n",
       "      <td>1</td>\n",
       "      <td>1</td>\n",
       "      <td>2</td>\n",
       "      <td>0</td>\n",
       "      <td>6</td>\n",
       "    </tr>\n",
       "    <tr>\n",
       "      <td>Guadalajara</td>\n",
       "      <td>1</td>\n",
       "      <td>0</td>\n",
       "      <td>1</td>\n",
       "      <td>0</td>\n",
       "      <td>0</td>\n",
       "      <td>1</td>\n",
       "      <td>1</td>\n",
       "      <td>1</td>\n",
       "      <td>0</td>\n",
       "      <td>5</td>\n",
       "    </tr>\n",
       "    <tr>\n",
       "      <td>Tlajomulco de Zúñiga</td>\n",
       "      <td>1</td>\n",
       "      <td>0</td>\n",
       "      <td>1</td>\n",
       "      <td>0</td>\n",
       "      <td>0</td>\n",
       "      <td>1</td>\n",
       "      <td>1</td>\n",
       "      <td>1</td>\n",
       "      <td>0</td>\n",
       "      <td>5</td>\n",
       "    </tr>\n",
       "    <tr>\n",
       "      <td>Tlaquepaque</td>\n",
       "      <td>1</td>\n",
       "      <td>0</td>\n",
       "      <td>1</td>\n",
       "      <td>0</td>\n",
       "      <td>0</td>\n",
       "      <td>1</td>\n",
       "      <td>1</td>\n",
       "      <td>0</td>\n",
       "      <td>0</td>\n",
       "      <td>4</td>\n",
       "    </tr>\n",
       "    <tr>\n",
       "      <td>Tonalá</td>\n",
       "      <td>1</td>\n",
       "      <td>0</td>\n",
       "      <td>1</td>\n",
       "      <td>0</td>\n",
       "      <td>0</td>\n",
       "      <td>0</td>\n",
       "      <td>1</td>\n",
       "      <td>0</td>\n",
       "      <td>1</td>\n",
       "      <td>4</td>\n",
       "    </tr>\n",
       "    <tr>\n",
       "      <td>Zapopan</td>\n",
       "      <td>1</td>\n",
       "      <td>0</td>\n",
       "      <td>1</td>\n",
       "      <td>0</td>\n",
       "      <td>0</td>\n",
       "      <td>1</td>\n",
       "      <td>1</td>\n",
       "      <td>1</td>\n",
       "      <td>0</td>\n",
       "      <td>5</td>\n",
       "    </tr>\n",
       "  </tbody>\n",
       "</table>\n",
       "</div>"
      ],
      "text/plain": [
       "                      acuerdo_laboral  aumento_precios  capacidad  \\\n",
       "Municipio                                                           \n",
       "El Salto                            1                0          1   \n",
       "Guadalajara                         1                0          1   \n",
       "Tlajomulco de Zúñiga                1                0          1   \n",
       "Tlaquepaque                         1                0          1   \n",
       "Tonalá                              1                0          1   \n",
       "Zapopan                             1                0          1   \n",
       "\n",
       "                      capacidad_pago  cerrar_razon  despidos  pago_salarios  \\\n",
       "Municipio                                                                     \n",
       "El Salto                           0             0         1              1   \n",
       "Guadalajara                        0             0         1              1   \n",
       "Tlajomulco de Zúñiga               0             0         1              1   \n",
       "Tlaquepaque                        0             0         1              1   \n",
       "Tonalá                             0             0         0              1   \n",
       "Zapopan                            0             0         1              1   \n",
       "\n",
       "                      trabajo_casa  trabajo_casa_motivo  Total  \n",
       "Municipio                                                       \n",
       "El Salto                         2                    0      6  \n",
       "Guadalajara                      1                    0      5  \n",
       "Tlajomulco de Zúñiga             1                    0      5  \n",
       "Tlaquepaque                      0                    0      4  \n",
       "Tonalá                           0                    1      4  \n",
       "Zapopan                          1                    0      5  "
      ]
     },
     "execution_count": 64,
     "metadata": {},
     "output_type": "execute_result"
    }
   ],
   "source": [
    "pivot_mun = pd.pivot_table(column, index = ['Municipio'], values = ['capacidad','cerrar_razon', 'despidos','pago_salarios','capacidad_pago',\n",
    "      'acuerdo_laboral', 'trabajo_casa', 'trabajo_casa_motivo', 'aumento_precios'], aggfunc=np.median) # aggfunc=np.median\n",
    "\n",
    "pivot_mun['Total'] = pivot_mun['capacidad']+pivot_mun['cerrar_razon']+pivot_mun['despidos']+pivot_mun['pago_salarios']+\\\n",
    "                         pivot_mun['capacidad_pago']+pivot_mun['acuerdo_laboral']+pivot_mun['trabajo_casa']+\\\n",
    "                         pivot_mun['trabajo_casa_motivo']+ pivot_mun['aumento_precios']\n",
    "\n",
    "pivot_mun"
   ]
  },
  {
   "cell_type": "code",
   "execution_count": 51,
   "metadata": {
    "ExecuteTime": {
     "end_time": "2020-06-23T02:05:17.915948Z",
     "start_time": "2020-06-23T02:05:17.881694Z"
    }
   },
   "outputs": [
    {
     "data": {
      "text/html": [
       "<div>\n",
       "<style scoped>\n",
       "    .dataframe tbody tr th:only-of-type {\n",
       "        vertical-align: middle;\n",
       "    }\n",
       "\n",
       "    .dataframe tbody tr th {\n",
       "        vertical-align: top;\n",
       "    }\n",
       "\n",
       "    .dataframe thead th {\n",
       "        text-align: right;\n",
       "    }\n",
       "</style>\n",
       "<table border=\"1\" class=\"dataframe\">\n",
       "  <thead>\n",
       "    <tr style=\"text-align: right;\">\n",
       "      <th></th>\n",
       "      <th>acuerdo_laboral</th>\n",
       "      <th>aumento_precios</th>\n",
       "      <th>capacidad</th>\n",
       "      <th>capacidad_pago</th>\n",
       "      <th>cerrar_razon</th>\n",
       "      <th>despidos</th>\n",
       "      <th>pago_salarios</th>\n",
       "      <th>trabajo_casa</th>\n",
       "      <th>trabajo_casa_motivo</th>\n",
       "    </tr>\n",
       "    <tr>\n",
       "      <th>Sector</th>\n",
       "      <th></th>\n",
       "      <th></th>\n",
       "      <th></th>\n",
       "      <th></th>\n",
       "      <th></th>\n",
       "      <th></th>\n",
       "      <th></th>\n",
       "      <th></th>\n",
       "      <th></th>\n",
       "    </tr>\n",
       "  </thead>\n",
       "  <tbody>\n",
       "    <tr>\n",
       "      <td>Comercio</td>\n",
       "      <td>1</td>\n",
       "      <td>0</td>\n",
       "      <td>1</td>\n",
       "      <td>0</td>\n",
       "      <td>0</td>\n",
       "      <td>1</td>\n",
       "      <td>1</td>\n",
       "      <td>0</td>\n",
       "      <td>0</td>\n",
       "    </tr>\n",
       "    <tr>\n",
       "      <td>Construcción</td>\n",
       "      <td>1</td>\n",
       "      <td>0</td>\n",
       "      <td>1</td>\n",
       "      <td>0</td>\n",
       "      <td>0</td>\n",
       "      <td>1</td>\n",
       "      <td>1</td>\n",
       "      <td>1</td>\n",
       "      <td>0</td>\n",
       "    </tr>\n",
       "    <tr>\n",
       "      <td>Manufactura</td>\n",
       "      <td>1</td>\n",
       "      <td>0</td>\n",
       "      <td>1</td>\n",
       "      <td>0</td>\n",
       "      <td>0</td>\n",
       "      <td>1</td>\n",
       "      <td>1</td>\n",
       "      <td>0</td>\n",
       "      <td>0</td>\n",
       "    </tr>\n",
       "    <tr>\n",
       "      <td>Servicios</td>\n",
       "      <td>1</td>\n",
       "      <td>0</td>\n",
       "      <td>1</td>\n",
       "      <td>0</td>\n",
       "      <td>0</td>\n",
       "      <td>1</td>\n",
       "      <td>1</td>\n",
       "      <td>1</td>\n",
       "      <td>0</td>\n",
       "    </tr>\n",
       "  </tbody>\n",
       "</table>\n",
       "</div>"
      ],
      "text/plain": [
       "              acuerdo_laboral  aumento_precios  capacidad  capacidad_pago  \\\n",
       "Sector                                                                      \n",
       "Comercio                    1                0          1               0   \n",
       "Construcción                1                0          1               0   \n",
       "Manufactura                 1                0          1               0   \n",
       "Servicios                   1                0          1               0   \n",
       "\n",
       "              cerrar_razon  despidos  pago_salarios  trabajo_casa  \\\n",
       "Sector                                                              \n",
       "Comercio                 0         1              1             0   \n",
       "Construcción             0         1              1             1   \n",
       "Manufactura              0         1              1             0   \n",
       "Servicios                0         1              1             1   \n",
       "\n",
       "              trabajo_casa_motivo  \n",
       "Sector                             \n",
       "Comercio                        0  \n",
       "Construcción                    0  \n",
       "Manufactura                     0  \n",
       "Servicios                       0  "
      ]
     },
     "execution_count": 51,
     "metadata": {},
     "output_type": "execute_result"
    }
   ],
   "source": [
    "pivot_sec = pd.pivot_table(column, index = ['Sector'], values = ['capacidad','cerrar_razon', 'despidos','pago_salarios','capacidad_pago',\n",
    "      'acuerdo_laboral', 'trabajo_casa', 'trabajo_casa_motivo', 'aumento_precios'], aggfunc=np.median) # aggfunc=np.median\n",
    "pivot_sec['Total'] = pivot_sec['capacidad']+pivot_sec['cerrar_razon']+pivot_sec['despidos']+pivot_sec['pago_salarios']+\\\n",
    "                         pivot_sec['capacidad_pago']+pivot_sec['acuerdo_laboral']+pivot_sec['trabajo_casa']+\\\n",
    "                         pivot_sec['trabajo_casa_motivo']+ pivot_sec['aumento_precios']\n",
    "pivot_sec"
   ]
  },
  {
   "cell_type": "code",
   "execution_count": 69,
   "metadata": {
    "ExecuteTime": {
     "end_time": "2020-06-23T02:23:40.738456Z",
     "start_time": "2020-06-23T02:23:40.687538Z"
    }
   },
   "outputs": [
    {
     "data": {
      "text/html": [
       "<div>\n",
       "<style scoped>\n",
       "    .dataframe tbody tr th:only-of-type {\n",
       "        vertical-align: middle;\n",
       "    }\n",
       "\n",
       "    .dataframe tbody tr th {\n",
       "        vertical-align: top;\n",
       "    }\n",
       "\n",
       "    .dataframe thead th {\n",
       "        text-align: right;\n",
       "    }\n",
       "</style>\n",
       "<table border=\"1\" class=\"dataframe\">\n",
       "  <thead>\n",
       "    <tr style=\"text-align: right;\">\n",
       "      <th></th>\n",
       "      <th>acuerdo_laboral</th>\n",
       "      <th>aumento_precios</th>\n",
       "      <th>capacidad</th>\n",
       "      <th>capacidad_pago</th>\n",
       "      <th>cerrar_razon</th>\n",
       "      <th>despidos</th>\n",
       "      <th>pago_salarios</th>\n",
       "      <th>trabajo_casa</th>\n",
       "      <th>trabajo_casa_motivo</th>\n",
       "      <th>Total</th>\n",
       "    </tr>\n",
       "    <tr>\n",
       "      <th>Giro</th>\n",
       "      <th></th>\n",
       "      <th></th>\n",
       "      <th></th>\n",
       "      <th></th>\n",
       "      <th></th>\n",
       "      <th></th>\n",
       "      <th></th>\n",
       "      <th></th>\n",
       "      <th></th>\n",
       "      <th></th>\n",
       "    </tr>\n",
       "  </thead>\n",
       "  <tbody>\n",
       "    <tr>\n",
       "      <td>Agencias de viajes</td>\n",
       "      <td>1.0</td>\n",
       "      <td>0</td>\n",
       "      <td>1.0</td>\n",
       "      <td>0.0</td>\n",
       "      <td>0.0</td>\n",
       "      <td>1.0</td>\n",
       "      <td>1.0</td>\n",
       "      <td>2.0</td>\n",
       "      <td>0.0</td>\n",
       "      <td>6.0</td>\n",
       "    </tr>\n",
       "    <tr>\n",
       "      <td>Cafeterías y neverías</td>\n",
       "      <td>1.0</td>\n",
       "      <td>0</td>\n",
       "      <td>1.0</td>\n",
       "      <td>0.0</td>\n",
       "      <td>0.0</td>\n",
       "      <td>1.0</td>\n",
       "      <td>1.0</td>\n",
       "      <td>0.0</td>\n",
       "      <td>1.0</td>\n",
       "      <td>5.0</td>\n",
       "    </tr>\n",
       "    <tr>\n",
       "      <td>Cajas de ahorro popular</td>\n",
       "      <td>0.0</td>\n",
       "      <td>1</td>\n",
       "      <td>2.0</td>\n",
       "      <td>1.0</td>\n",
       "      <td>0.0</td>\n",
       "      <td>1.0</td>\n",
       "      <td>1.0</td>\n",
       "      <td>2.0</td>\n",
       "      <td>0.0</td>\n",
       "      <td>8.0</td>\n",
       "    </tr>\n",
       "    <tr>\n",
       "      <td>Carnicerías</td>\n",
       "      <td>0.0</td>\n",
       "      <td>0</td>\n",
       "      <td>2.0</td>\n",
       "      <td>0.0</td>\n",
       "      <td>0.0</td>\n",
       "      <td>2.0</td>\n",
       "      <td>1.0</td>\n",
       "      <td>0.0</td>\n",
       "      <td>1.0</td>\n",
       "      <td>6.0</td>\n",
       "    </tr>\n",
       "    <tr>\n",
       "      <td>Confección de productos textiles</td>\n",
       "      <td>1.0</td>\n",
       "      <td>0</td>\n",
       "      <td>1.0</td>\n",
       "      <td>0.0</td>\n",
       "      <td>0.0</td>\n",
       "      <td>1.0</td>\n",
       "      <td>1.0</td>\n",
       "      <td>0.0</td>\n",
       "      <td>0.0</td>\n",
       "      <td>4.0</td>\n",
       "    </tr>\n",
       "    <tr>\n",
       "      <td>...</td>\n",
       "      <td>...</td>\n",
       "      <td>...</td>\n",
       "      <td>...</td>\n",
       "      <td>...</td>\n",
       "      <td>...</td>\n",
       "      <td>...</td>\n",
       "      <td>...</td>\n",
       "      <td>...</td>\n",
       "      <td>...</td>\n",
       "      <td>...</td>\n",
       "    </tr>\n",
       "    <tr>\n",
       "      <td>Tiendas de pintura</td>\n",
       "      <td>2.0</td>\n",
       "      <td>0</td>\n",
       "      <td>2.0</td>\n",
       "      <td>0.0</td>\n",
       "      <td>0.0</td>\n",
       "      <td>0.0</td>\n",
       "      <td>1.0</td>\n",
       "      <td>0.0</td>\n",
       "      <td>0.0</td>\n",
       "      <td>6.0</td>\n",
       "    </tr>\n",
       "    <tr>\n",
       "      <td>Tiendas de ropa</td>\n",
       "      <td>0.0</td>\n",
       "      <td>0</td>\n",
       "      <td>1.0</td>\n",
       "      <td>0.0</td>\n",
       "      <td>0.0</td>\n",
       "      <td>0.0</td>\n",
       "      <td>1.0</td>\n",
       "      <td>0.0</td>\n",
       "      <td>0.0</td>\n",
       "      <td>3.0</td>\n",
       "    </tr>\n",
       "    <tr>\n",
       "      <td>Venta de materiales para la construcción</td>\n",
       "      <td>1.0</td>\n",
       "      <td>0</td>\n",
       "      <td>1.0</td>\n",
       "      <td>0.0</td>\n",
       "      <td>0.0</td>\n",
       "      <td>1.0</td>\n",
       "      <td>1.0</td>\n",
       "      <td>2.0</td>\n",
       "      <td>0.0</td>\n",
       "      <td>6.0</td>\n",
       "    </tr>\n",
       "    <tr>\n",
       "      <td>Veterinarias</td>\n",
       "      <td>1.0</td>\n",
       "      <td>0</td>\n",
       "      <td>1.0</td>\n",
       "      <td>0.0</td>\n",
       "      <td>0.0</td>\n",
       "      <td>1.0</td>\n",
       "      <td>1.0</td>\n",
       "      <td>0.0</td>\n",
       "      <td>1.0</td>\n",
       "      <td>5.0</td>\n",
       "    </tr>\n",
       "    <tr>\n",
       "      <td>Zapaterías</td>\n",
       "      <td>2.0</td>\n",
       "      <td>0</td>\n",
       "      <td>0.0</td>\n",
       "      <td>0.0</td>\n",
       "      <td>0.0</td>\n",
       "      <td>0.0</td>\n",
       "      <td>1.0</td>\n",
       "      <td>2.0</td>\n",
       "      <td>0.0</td>\n",
       "      <td>6.0</td>\n",
       "    </tr>\n",
       "  </tbody>\n",
       "</table>\n",
       "<p>67 rows × 10 columns</p>\n",
       "</div>"
      ],
      "text/plain": [
       "                                          acuerdo_laboral  aumento_precios  \\\n",
       "Giro                                                                         \n",
       "Agencias de viajes                                    1.0                0   \n",
       "Cafeterías y neverías                                 1.0                0   \n",
       "Cajas de ahorro popular                               0.0                1   \n",
       "Carnicerías                                           0.0                0   \n",
       "Confección de productos textiles                      1.0                0   \n",
       "...                                                   ...              ...   \n",
       "Tiendas de pintura                                    2.0                0   \n",
       "Tiendas de ropa                                       0.0                0   \n",
       "Venta de materiales para la construcción              1.0                0   \n",
       "Veterinarias                                          1.0                0   \n",
       "Zapaterías                                            2.0                0   \n",
       "\n",
       "                                          capacidad  capacidad_pago  \\\n",
       "Giro                                                                  \n",
       "Agencias de viajes                              1.0             0.0   \n",
       "Cafeterías y neverías                           1.0             0.0   \n",
       "Cajas de ahorro popular                         2.0             1.0   \n",
       "Carnicerías                                     2.0             0.0   \n",
       "Confección de productos textiles                1.0             0.0   \n",
       "...                                             ...             ...   \n",
       "Tiendas de pintura                              2.0             0.0   \n",
       "Tiendas de ropa                                 1.0             0.0   \n",
       "Venta de materiales para la construcción        1.0             0.0   \n",
       "Veterinarias                                    1.0             0.0   \n",
       "Zapaterías                                      0.0             0.0   \n",
       "\n",
       "                                          cerrar_razon  despidos  \\\n",
       "Giro                                                               \n",
       "Agencias de viajes                                 0.0       1.0   \n",
       "Cafeterías y neverías                              0.0       1.0   \n",
       "Cajas de ahorro popular                            0.0       1.0   \n",
       "Carnicerías                                        0.0       2.0   \n",
       "Confección de productos textiles                   0.0       1.0   \n",
       "...                                                ...       ...   \n",
       "Tiendas de pintura                                 0.0       0.0   \n",
       "Tiendas de ropa                                    0.0       0.0   \n",
       "Venta de materiales para la construcción           0.0       1.0   \n",
       "Veterinarias                                       0.0       1.0   \n",
       "Zapaterías                                         0.0       0.0   \n",
       "\n",
       "                                          pago_salarios  trabajo_casa  \\\n",
       "Giro                                                                    \n",
       "Agencias de viajes                                  1.0           2.0   \n",
       "Cafeterías y neverías                               1.0           0.0   \n",
       "Cajas de ahorro popular                             1.0           2.0   \n",
       "Carnicerías                                         1.0           0.0   \n",
       "Confección de productos textiles                    1.0           0.0   \n",
       "...                                                 ...           ...   \n",
       "Tiendas de pintura                                  1.0           0.0   \n",
       "Tiendas de ropa                                     1.0           0.0   \n",
       "Venta de materiales para la construcción            1.0           2.0   \n",
       "Veterinarias                                        1.0           0.0   \n",
       "Zapaterías                                          1.0           2.0   \n",
       "\n",
       "                                          trabajo_casa_motivo  Total  \n",
       "Giro                                                                  \n",
       "Agencias de viajes                                        0.0    6.0  \n",
       "Cafeterías y neverías                                     1.0    5.0  \n",
       "Cajas de ahorro popular                                   0.0    8.0  \n",
       "Carnicerías                                               1.0    6.0  \n",
       "Confección de productos textiles                          0.0    4.0  \n",
       "...                                                       ...    ...  \n",
       "Tiendas de pintura                                        0.0    6.0  \n",
       "Tiendas de ropa                                           0.0    3.0  \n",
       "Venta de materiales para la construcción                  0.0    6.0  \n",
       "Veterinarias                                              1.0    5.0  \n",
       "Zapaterías                                                0.0    6.0  \n",
       "\n",
       "[67 rows x 10 columns]"
      ]
     },
     "execution_count": 69,
     "metadata": {},
     "output_type": "execute_result"
    }
   ],
   "source": [
    "pivot_giro = pd.pivot_table(column, index = ['Giro'], values = ['capacidad','cerrar_razon', 'despidos','pago_salarios','capacidad_pago',\n",
    "      'acuerdo_laboral', 'trabajo_casa', 'trabajo_casa_motivo', 'aumento_precios'], aggfunc=np.median) # aggfunc=np.median\n",
    "\n",
    "pivot_giro['Total'] = pivot_giro['capacidad']+pivot_giro['cerrar_razon']+pivot_giro['despidos']+pivot_giro['pago_salarios']+\\\n",
    "                         pivot_giro['capacidad_pago']+pivot_giro['acuerdo_laboral']+pivot_giro['trabajo_casa']+\\\n",
    "                         pivot_giro['trabajo_casa_motivo']+ pivot_giro['aumento_precios']\n",
    "\n",
    "pivot_giro = round(pivot_giro,0)\n",
    "pivot_giro"
   ]
  },
  {
   "cell_type": "code",
   "execution_count": 254,
   "metadata": {
    "ExecuteTime": {
     "end_time": "2020-06-23T03:24:13.940986Z",
     "start_time": "2020-06-23T03:24:13.903395Z"
    }
   },
   "outputs": [
    {
     "data": {
      "text/html": [
       "<div>\n",
       "<style scoped>\n",
       "    .dataframe tbody tr th:only-of-type {\n",
       "        vertical-align: middle;\n",
       "    }\n",
       "\n",
       "    .dataframe tbody tr th {\n",
       "        vertical-align: top;\n",
       "    }\n",
       "\n",
       "    .dataframe thead th {\n",
       "        text-align: right;\n",
       "    }\n",
       "</style>\n",
       "<table border=\"1\" class=\"dataframe\">\n",
       "  <thead>\n",
       "    <tr style=\"text-align: right;\">\n",
       "      <th></th>\n",
       "      <th>Acuerdo Laboral</th>\n",
       "      <th>Aumento de precios</th>\n",
       "      <th>Capacidad</th>\n",
       "      <th>Capacidad de Pago</th>\n",
       "      <th>Razón de cierre</th>\n",
       "      <th>Despidos</th>\n",
       "      <th>Pago de Salarios</th>\n",
       "      <th>Home Office</th>\n",
       "      <th>Motivo Home Office</th>\n",
       "      <th>Total</th>\n",
       "    </tr>\n",
       "    <tr>\n",
       "      <th>Tamaño</th>\n",
       "      <th></th>\n",
       "      <th></th>\n",
       "      <th></th>\n",
       "      <th></th>\n",
       "      <th></th>\n",
       "      <th></th>\n",
       "      <th></th>\n",
       "      <th></th>\n",
       "      <th></th>\n",
       "      <th></th>\n",
       "    </tr>\n",
       "  </thead>\n",
       "  <tbody>\n",
       "    <tr>\n",
       "      <td>Grande</td>\n",
       "      <td>1</td>\n",
       "      <td>0</td>\n",
       "      <td>1</td>\n",
       "      <td>0</td>\n",
       "      <td>0</td>\n",
       "      <td>1</td>\n",
       "      <td>1</td>\n",
       "      <td>2</td>\n",
       "      <td>0</td>\n",
       "      <td>6</td>\n",
       "    </tr>\n",
       "    <tr>\n",
       "      <td>Mediana</td>\n",
       "      <td>1</td>\n",
       "      <td>0</td>\n",
       "      <td>1</td>\n",
       "      <td>0</td>\n",
       "      <td>0</td>\n",
       "      <td>1</td>\n",
       "      <td>1</td>\n",
       "      <td>2</td>\n",
       "      <td>0</td>\n",
       "      <td>6</td>\n",
       "    </tr>\n",
       "    <tr>\n",
       "      <td>Micro</td>\n",
       "      <td>1</td>\n",
       "      <td>0</td>\n",
       "      <td>1</td>\n",
       "      <td>0</td>\n",
       "      <td>0</td>\n",
       "      <td>1</td>\n",
       "      <td>1</td>\n",
       "      <td>0</td>\n",
       "      <td>0</td>\n",
       "      <td>4</td>\n",
       "    </tr>\n",
       "    <tr>\n",
       "      <td>Pequeña</td>\n",
       "      <td>1</td>\n",
       "      <td>0</td>\n",
       "      <td>1</td>\n",
       "      <td>0</td>\n",
       "      <td>0</td>\n",
       "      <td>1</td>\n",
       "      <td>1</td>\n",
       "      <td>2</td>\n",
       "      <td>0</td>\n",
       "      <td>6</td>\n",
       "    </tr>\n",
       "  </tbody>\n",
       "</table>\n",
       "</div>"
      ],
      "text/plain": [
       "         Acuerdo Laboral  Aumento de precios  Capacidad  Capacidad de Pago  \\\n",
       "Tamaño                                                                       \n",
       "Grande                 1                   0          1                  0   \n",
       "Mediana                1                   0          1                  0   \n",
       "Micro                  1                   0          1                  0   \n",
       "Pequeña                1                   0          1                  0   \n",
       "\n",
       "         Razón de cierre  Despidos  Pago de Salarios  Home Office  \\\n",
       "Tamaño                                                              \n",
       "Grande                 0         1                 1            2   \n",
       "Mediana                0         1                 1            2   \n",
       "Micro                  0         1                 1            0   \n",
       "Pequeña                0         1                 1            2   \n",
       "\n",
       "         Motivo Home Office  Total  \n",
       "Tamaño                              \n",
       "Grande                    0      6  \n",
       "Mediana                   0      6  \n",
       "Micro                     0      4  \n",
       "Pequeña                   0      6  "
      ]
     },
     "execution_count": 254,
     "metadata": {},
     "output_type": "execute_result"
    }
   ],
   "source": [
    "pivot_size = pd.pivot_table(column, index = ['Tamaño'], values = ['capacidad','cerrar_razon', 'despidos','pago_salarios','capacidad_pago',\n",
    "      'acuerdo_laboral', 'trabajo_casa', 'trabajo_casa_motivo', 'aumento_precios'], aggfunc=np.median) # aggfunc=np.median\n",
    "\n",
    "pivot_size['Total'] = pivot_size['capacidad']+pivot_size['cerrar_razon']+pivot_size['despidos']+pivot_size['pago_salarios']+\\\n",
    "                         pivot_size['capacidad_pago']+pivot_size['acuerdo_laboral']+pivot_size['trabajo_casa']+\\\n",
    "                         pivot_size['trabajo_casa_motivo']+ pivot_size['aumento_precios']\n",
    "\n",
    "pivot_size.columns = ['Acuerdo Laboral', 'Aumento de precios','Capacidad','Capacidad de Pago','Razón de cierre', 'Despidos','Pago de Salarios','Home Office','Motivo Home Office', 'Total']\n",
    "\n",
    "\n",
    "pivot_size"
   ]
  },
  {
   "cell_type": "code",
   "execution_count": 266,
   "metadata": {
    "ExecuteTime": {
     "end_time": "2020-06-23T03:29:24.070293Z",
     "start_time": "2020-06-23T03:29:23.982072Z"
    }
   },
   "outputs": [
    {
     "data": {
      "text/html": [
       "<div>\n",
       "<style scoped>\n",
       "    .dataframe tbody tr th:only-of-type {\n",
       "        vertical-align: middle;\n",
       "    }\n",
       "\n",
       "    .dataframe tbody tr th {\n",
       "        vertical-align: top;\n",
       "    }\n",
       "\n",
       "    .dataframe thead th {\n",
       "        text-align: right;\n",
       "    }\n",
       "</style>\n",
       "<table border=\"1\" class=\"dataframe\">\n",
       "  <thead>\n",
       "    <tr style=\"text-align: right;\">\n",
       "      <th></th>\n",
       "      <th></th>\n",
       "      <th>Acuerdo Laboral</th>\n",
       "      <th>Aumento de precios</th>\n",
       "      <th>Capacidad</th>\n",
       "      <th>Capacidad de Pago</th>\n",
       "      <th>Razón de cierre</th>\n",
       "      <th>Despidos</th>\n",
       "      <th>Pago de Salarios</th>\n",
       "      <th>Home Office</th>\n",
       "      <th>Motivo Home Office</th>\n",
       "      <th>Total</th>\n",
       "    </tr>\n",
       "    <tr>\n",
       "      <th>Sector</th>\n",
       "      <th>Giro</th>\n",
       "      <th></th>\n",
       "      <th></th>\n",
       "      <th></th>\n",
       "      <th></th>\n",
       "      <th></th>\n",
       "      <th></th>\n",
       "      <th></th>\n",
       "      <th></th>\n",
       "      <th></th>\n",
       "      <th></th>\n",
       "    </tr>\n",
       "  </thead>\n",
       "  <tbody>\n",
       "    <tr>\n",
       "      <td rowspan=\"5\" valign=\"top\">Comercio</td>\n",
       "      <td>Carnicerías</td>\n",
       "      <td>0.0</td>\n",
       "      <td>0</td>\n",
       "      <td>2.0</td>\n",
       "      <td>0.0</td>\n",
       "      <td>0.0</td>\n",
       "      <td>2.0</td>\n",
       "      <td>1.0</td>\n",
       "      <td>0.0</td>\n",
       "      <td>1.0</td>\n",
       "      <td>6.0</td>\n",
       "    </tr>\n",
       "    <tr>\n",
       "      <td>Equipo y material eléctrico</td>\n",
       "      <td>0.0</td>\n",
       "      <td>0</td>\n",
       "      <td>1.0</td>\n",
       "      <td>0.0</td>\n",
       "      <td>0.0</td>\n",
       "      <td>1.0</td>\n",
       "      <td>1.0</td>\n",
       "      <td>0.0</td>\n",
       "      <td>0.0</td>\n",
       "      <td>3.0</td>\n",
       "    </tr>\n",
       "    <tr>\n",
       "      <td>Farmacias</td>\n",
       "      <td>1.0</td>\n",
       "      <td>0</td>\n",
       "      <td>1.0</td>\n",
       "      <td>0.0</td>\n",
       "      <td>0.0</td>\n",
       "      <td>1.5</td>\n",
       "      <td>0.5</td>\n",
       "      <td>0.0</td>\n",
       "      <td>0.0</td>\n",
       "      <td>4.0</td>\n",
       "    </tr>\n",
       "    <tr>\n",
       "      <td>Ferreterías y tlapalerías</td>\n",
       "      <td>1.0</td>\n",
       "      <td>2</td>\n",
       "      <td>1.0</td>\n",
       "      <td>0.0</td>\n",
       "      <td>0.0</td>\n",
       "      <td>1.0</td>\n",
       "      <td>1.0</td>\n",
       "      <td>0.0</td>\n",
       "      <td>1.0</td>\n",
       "      <td>7.0</td>\n",
       "    </tr>\n",
       "    <tr>\n",
       "      <td>Fertilizantes, plaguicidas y semillas</td>\n",
       "      <td>1.0</td>\n",
       "      <td>0</td>\n",
       "      <td>2.0</td>\n",
       "      <td>0.0</td>\n",
       "      <td>0.0</td>\n",
       "      <td>1.0</td>\n",
       "      <td>1.0</td>\n",
       "      <td>2.0</td>\n",
       "      <td>0.0</td>\n",
       "      <td>7.0</td>\n",
       "    </tr>\n",
       "    <tr>\n",
       "      <td>...</td>\n",
       "      <td>...</td>\n",
       "      <td>...</td>\n",
       "      <td>...</td>\n",
       "      <td>...</td>\n",
       "      <td>...</td>\n",
       "      <td>...</td>\n",
       "      <td>...</td>\n",
       "      <td>...</td>\n",
       "      <td>...</td>\n",
       "      <td>...</td>\n",
       "      <td>...</td>\n",
       "    </tr>\n",
       "    <tr>\n",
       "      <td rowspan=\"5\" valign=\"top\">Servicios</td>\n",
       "      <td>Restaurantes</td>\n",
       "      <td>1.0</td>\n",
       "      <td>0</td>\n",
       "      <td>1.0</td>\n",
       "      <td>0.0</td>\n",
       "      <td>0.0</td>\n",
       "      <td>1.0</td>\n",
       "      <td>1.0</td>\n",
       "      <td>0.0</td>\n",
       "      <td>1.0</td>\n",
       "      <td>5.0</td>\n",
       "    </tr>\n",
       "    <tr>\n",
       "      <td>Servicios de acceso a computadoras (cibers)</td>\n",
       "      <td>1.0</td>\n",
       "      <td>0</td>\n",
       "      <td>0.0</td>\n",
       "      <td>0.0</td>\n",
       "      <td>0.0</td>\n",
       "      <td>0.0</td>\n",
       "      <td>1.0</td>\n",
       "      <td>1.0</td>\n",
       "      <td>0.0</td>\n",
       "      <td>3.0</td>\n",
       "    </tr>\n",
       "    <tr>\n",
       "      <td>Talleres Mecánicos</td>\n",
       "      <td>1.0</td>\n",
       "      <td>0</td>\n",
       "      <td>1.0</td>\n",
       "      <td>0.0</td>\n",
       "      <td>0.0</td>\n",
       "      <td>1.0</td>\n",
       "      <td>1.0</td>\n",
       "      <td>0.0</td>\n",
       "      <td>1.0</td>\n",
       "      <td>5.0</td>\n",
       "    </tr>\n",
       "    <tr>\n",
       "      <td>Taquerías y Tortas</td>\n",
       "      <td>1.0</td>\n",
       "      <td>0</td>\n",
       "      <td>1.0</td>\n",
       "      <td>0.0</td>\n",
       "      <td>0.0</td>\n",
       "      <td>1.5</td>\n",
       "      <td>1.0</td>\n",
       "      <td>0.0</td>\n",
       "      <td>1.0</td>\n",
       "      <td>5.5</td>\n",
       "    </tr>\n",
       "    <tr>\n",
       "      <td>Veterinarias</td>\n",
       "      <td>1.0</td>\n",
       "      <td>0</td>\n",
       "      <td>1.0</td>\n",
       "      <td>0.0</td>\n",
       "      <td>0.0</td>\n",
       "      <td>1.0</td>\n",
       "      <td>1.0</td>\n",
       "      <td>0.0</td>\n",
       "      <td>1.0</td>\n",
       "      <td>5.0</td>\n",
       "    </tr>\n",
       "  </tbody>\n",
       "</table>\n",
       "<p>72 rows × 10 columns</p>\n",
       "</div>"
      ],
      "text/plain": [
       "                                                       Acuerdo Laboral  \\\n",
       "Sector    Giro                                                           \n",
       "Comercio  Carnicerías                                              0.0   \n",
       "          Equipo y material eléctrico                              0.0   \n",
       "          Farmacias                                                1.0   \n",
       "          Ferreterías y tlapalerías                                1.0   \n",
       "          Fertilizantes, plaguicidas y semillas                    1.0   \n",
       "...                                                                ...   \n",
       "Servicios Restaurantes                                             1.0   \n",
       "          Servicios de acceso a computadoras (cibers)              1.0   \n",
       "          Talleres Mecánicos                                       1.0   \n",
       "          Taquerías y Tortas                                       1.0   \n",
       "          Veterinarias                                             1.0   \n",
       "\n",
       "                                                       Aumento de precios  \\\n",
       "Sector    Giro                                                              \n",
       "Comercio  Carnicerías                                                   0   \n",
       "          Equipo y material eléctrico                                   0   \n",
       "          Farmacias                                                     0   \n",
       "          Ferreterías y tlapalerías                                     2   \n",
       "          Fertilizantes, plaguicidas y semillas                         0   \n",
       "...                                                                   ...   \n",
       "Servicios Restaurantes                                                  0   \n",
       "          Servicios de acceso a computadoras (cibers)                   0   \n",
       "          Talleres Mecánicos                                            0   \n",
       "          Taquerías y Tortas                                            0   \n",
       "          Veterinarias                                                  0   \n",
       "\n",
       "                                                       Capacidad  \\\n",
       "Sector    Giro                                                     \n",
       "Comercio  Carnicerías                                        2.0   \n",
       "          Equipo y material eléctrico                        1.0   \n",
       "          Farmacias                                          1.0   \n",
       "          Ferreterías y tlapalerías                          1.0   \n",
       "          Fertilizantes, plaguicidas y semillas              2.0   \n",
       "...                                                          ...   \n",
       "Servicios Restaurantes                                       1.0   \n",
       "          Servicios de acceso a computadoras (cibers)        0.0   \n",
       "          Talleres Mecánicos                                 1.0   \n",
       "          Taquerías y Tortas                                 1.0   \n",
       "          Veterinarias                                       1.0   \n",
       "\n",
       "                                                       Capacidad de Pago  \\\n",
       "Sector    Giro                                                             \n",
       "Comercio  Carnicerías                                                0.0   \n",
       "          Equipo y material eléctrico                                0.0   \n",
       "          Farmacias                                                  0.0   \n",
       "          Ferreterías y tlapalerías                                  0.0   \n",
       "          Fertilizantes, plaguicidas y semillas                      0.0   \n",
       "...                                                                  ...   \n",
       "Servicios Restaurantes                                               0.0   \n",
       "          Servicios de acceso a computadoras (cibers)                0.0   \n",
       "          Talleres Mecánicos                                         0.0   \n",
       "          Taquerías y Tortas                                         0.0   \n",
       "          Veterinarias                                               0.0   \n",
       "\n",
       "                                                       Razón de cierre  \\\n",
       "Sector    Giro                                                           \n",
       "Comercio  Carnicerías                                              0.0   \n",
       "          Equipo y material eléctrico                              0.0   \n",
       "          Farmacias                                                0.0   \n",
       "          Ferreterías y tlapalerías                                0.0   \n",
       "          Fertilizantes, plaguicidas y semillas                    0.0   \n",
       "...                                                                ...   \n",
       "Servicios Restaurantes                                             0.0   \n",
       "          Servicios de acceso a computadoras (cibers)              0.0   \n",
       "          Talleres Mecánicos                                       0.0   \n",
       "          Taquerías y Tortas                                       0.0   \n",
       "          Veterinarias                                             0.0   \n",
       "\n",
       "                                                       Despidos  \\\n",
       "Sector    Giro                                                    \n",
       "Comercio  Carnicerías                                       2.0   \n",
       "          Equipo y material eléctrico                       1.0   \n",
       "          Farmacias                                         1.5   \n",
       "          Ferreterías y tlapalerías                         1.0   \n",
       "          Fertilizantes, plaguicidas y semillas             1.0   \n",
       "...                                                         ...   \n",
       "Servicios Restaurantes                                      1.0   \n",
       "          Servicios de acceso a computadoras (cibers)       0.0   \n",
       "          Talleres Mecánicos                                1.0   \n",
       "          Taquerías y Tortas                                1.5   \n",
       "          Veterinarias                                      1.0   \n",
       "\n",
       "                                                       Pago de Salarios  \\\n",
       "Sector    Giro                                                            \n",
       "Comercio  Carnicerías                                               1.0   \n",
       "          Equipo y material eléctrico                               1.0   \n",
       "          Farmacias                                                 0.5   \n",
       "          Ferreterías y tlapalerías                                 1.0   \n",
       "          Fertilizantes, plaguicidas y semillas                     1.0   \n",
       "...                                                                 ...   \n",
       "Servicios Restaurantes                                              1.0   \n",
       "          Servicios de acceso a computadoras (cibers)               1.0   \n",
       "          Talleres Mecánicos                                        1.0   \n",
       "          Taquerías y Tortas                                        1.0   \n",
       "          Veterinarias                                              1.0   \n",
       "\n",
       "                                                       Home Office  \\\n",
       "Sector    Giro                                                       \n",
       "Comercio  Carnicerías                                          0.0   \n",
       "          Equipo y material eléctrico                          0.0   \n",
       "          Farmacias                                            0.0   \n",
       "          Ferreterías y tlapalerías                            0.0   \n",
       "          Fertilizantes, plaguicidas y semillas                2.0   \n",
       "...                                                            ...   \n",
       "Servicios Restaurantes                                         0.0   \n",
       "          Servicios de acceso a computadoras (cibers)          1.0   \n",
       "          Talleres Mecánicos                                   0.0   \n",
       "          Taquerías y Tortas                                   0.0   \n",
       "          Veterinarias                                         0.0   \n",
       "\n",
       "                                                       Motivo Home Office  \\\n",
       "Sector    Giro                                                              \n",
       "Comercio  Carnicerías                                                 1.0   \n",
       "          Equipo y material eléctrico                                 0.0   \n",
       "          Farmacias                                                   0.0   \n",
       "          Ferreterías y tlapalerías                                   1.0   \n",
       "          Fertilizantes, plaguicidas y semillas                       0.0   \n",
       "...                                                                   ...   \n",
       "Servicios Restaurantes                                                1.0   \n",
       "          Servicios de acceso a computadoras (cibers)                 0.0   \n",
       "          Talleres Mecánicos                                          1.0   \n",
       "          Taquerías y Tortas                                          1.0   \n",
       "          Veterinarias                                                1.0   \n",
       "\n",
       "                                                       Total  \n",
       "Sector    Giro                                                \n",
       "Comercio  Carnicerías                                    6.0  \n",
       "          Equipo y material eléctrico                    3.0  \n",
       "          Farmacias                                      4.0  \n",
       "          Ferreterías y tlapalerías                      7.0  \n",
       "          Fertilizantes, plaguicidas y semillas          7.0  \n",
       "...                                                      ...  \n",
       "Servicios Restaurantes                                   5.0  \n",
       "          Servicios de acceso a computadoras (cibers)    3.0  \n",
       "          Talleres Mecánicos                             5.0  \n",
       "          Taquerías y Tortas                             5.5  \n",
       "          Veterinarias                                   5.0  \n",
       "\n",
       "[72 rows x 10 columns]"
      ]
     },
     "execution_count": 266,
     "metadata": {},
     "output_type": "execute_result"
    }
   ],
   "source": [
    "pivot_sector_giro = pd.pivot_table(column, index = ['Sector','Giro'], values = ['capacidad','cerrar_razon', 'despidos','pago_salarios','capacidad_pago',\n",
    "      'acuerdo_laboral', 'trabajo_casa', 'trabajo_casa_motivo', 'aumento_precios'], aggfunc=np.median) # aggfunc=np.median\n",
    "\n",
    "pivot_sector_giro['Total'] = pivot_sector_giro['capacidad']+pivot_sector_giro['cerrar_razon']+pivot_sector_giro['despidos']+pivot_sector_giro['pago_salarios']+\\\n",
    "                         pivot_sector_giro['capacidad_pago']+pivot_sector_giro['acuerdo_laboral']+pivot_sector_giro['trabajo_casa']+\\\n",
    "                         pivot_sector_giro['trabajo_casa_motivo']+ pivot_sector_giro['aumento_precios']\n",
    "\n",
    "pivot_sector_giro.columns = ['Acuerdo Laboral', 'Aumento de precios','Capacidad','Capacidad de Pago','Razón de cierre', 'Despidos','Pago de Salarios','Home Office','Motivo Home Office', 'Total']\n",
    "\n",
    "\n",
    "pivot_sector_giro"
   ]
  },
  {
   "cell_type": "markdown",
   "metadata": {},
   "source": [
    "# Tablas Plotly"
   ]
  },
  {
   "cell_type": "code",
   "execution_count": 262,
   "metadata": {
    "ExecuteTime": {
     "end_time": "2020-06-23T03:26:44.583902Z",
     "start_time": "2020-06-23T03:26:44.561880Z"
    }
   },
   "outputs": [
    {
     "data": {
      "application/vnd.plotly.v1+json": {
       "config": {
        "plotlyServerURL": "https://plot.ly"
       },
       "data": [
        {
         "cells": {
          "align": "center",
          "fill": {
           "color": "lavender"
          },
          "values": [
           [
            "Grande",
            "Mediana",
            "Micro",
            "Pequeña"
           ],
           [
            1,
            1,
            1,
            1
           ],
           [
            0,
            0,
            0,
            0
           ],
           [
            1,
            1,
            1,
            1
           ],
           [
            0,
            0,
            0,
            0
           ],
           [
            0,
            0,
            0,
            0
           ],
           [
            1,
            1,
            1,
            1
           ],
           [
            1,
            1,
            1,
            1
           ],
           [
            2,
            2,
            0,
            2
           ],
           [
            0,
            0,
            0,
            0
           ],
           [
            6,
            6,
            4,
            6
           ]
          ]
         },
         "header": {
          "align": "center",
          "fill": {
           "color": "paleturquoise"
          },
          "values": [
           "Tamaño",
           "Acuerdo Laboral",
           "Aumento de precios",
           "Capacidad",
           "Capacidad de Pago",
           "Razón de cierre",
           "Despidos",
           "Pago de Salarios",
           "Home Office",
           "Motivo Home Office",
           "Total"
          ]
         },
         "type": "table"
        }
       ],
       "layout": {
        "template": {
         "data": {
          "bar": [
           {
            "error_x": {
             "color": "#2a3f5f"
            },
            "error_y": {
             "color": "#2a3f5f"
            },
            "marker": {
             "line": {
              "color": "#E5ECF6",
              "width": 0.5
             }
            },
            "type": "bar"
           }
          ],
          "barpolar": [
           {
            "marker": {
             "line": {
              "color": "#E5ECF6",
              "width": 0.5
             }
            },
            "type": "barpolar"
           }
          ],
          "carpet": [
           {
            "aaxis": {
             "endlinecolor": "#2a3f5f",
             "gridcolor": "white",
             "linecolor": "white",
             "minorgridcolor": "white",
             "startlinecolor": "#2a3f5f"
            },
            "baxis": {
             "endlinecolor": "#2a3f5f",
             "gridcolor": "white",
             "linecolor": "white",
             "minorgridcolor": "white",
             "startlinecolor": "#2a3f5f"
            },
            "type": "carpet"
           }
          ],
          "choropleth": [
           {
            "colorbar": {
             "outlinewidth": 0,
             "ticks": ""
            },
            "type": "choropleth"
           }
          ],
          "contour": [
           {
            "colorbar": {
             "outlinewidth": 0,
             "ticks": ""
            },
            "colorscale": [
             [
              0,
              "#0d0887"
             ],
             [
              0.1111111111111111,
              "#46039f"
             ],
             [
              0.2222222222222222,
              "#7201a8"
             ],
             [
              0.3333333333333333,
              "#9c179e"
             ],
             [
              0.4444444444444444,
              "#bd3786"
             ],
             [
              0.5555555555555556,
              "#d8576b"
             ],
             [
              0.6666666666666666,
              "#ed7953"
             ],
             [
              0.7777777777777778,
              "#fb9f3a"
             ],
             [
              0.8888888888888888,
              "#fdca26"
             ],
             [
              1,
              "#f0f921"
             ]
            ],
            "type": "contour"
           }
          ],
          "contourcarpet": [
           {
            "colorbar": {
             "outlinewidth": 0,
             "ticks": ""
            },
            "type": "contourcarpet"
           }
          ],
          "heatmap": [
           {
            "colorbar": {
             "outlinewidth": 0,
             "ticks": ""
            },
            "colorscale": [
             [
              0,
              "#0d0887"
             ],
             [
              0.1111111111111111,
              "#46039f"
             ],
             [
              0.2222222222222222,
              "#7201a8"
             ],
             [
              0.3333333333333333,
              "#9c179e"
             ],
             [
              0.4444444444444444,
              "#bd3786"
             ],
             [
              0.5555555555555556,
              "#d8576b"
             ],
             [
              0.6666666666666666,
              "#ed7953"
             ],
             [
              0.7777777777777778,
              "#fb9f3a"
             ],
             [
              0.8888888888888888,
              "#fdca26"
             ],
             [
              1,
              "#f0f921"
             ]
            ],
            "type": "heatmap"
           }
          ],
          "heatmapgl": [
           {
            "colorbar": {
             "outlinewidth": 0,
             "ticks": ""
            },
            "colorscale": [
             [
              0,
              "#0d0887"
             ],
             [
              0.1111111111111111,
              "#46039f"
             ],
             [
              0.2222222222222222,
              "#7201a8"
             ],
             [
              0.3333333333333333,
              "#9c179e"
             ],
             [
              0.4444444444444444,
              "#bd3786"
             ],
             [
              0.5555555555555556,
              "#d8576b"
             ],
             [
              0.6666666666666666,
              "#ed7953"
             ],
             [
              0.7777777777777778,
              "#fb9f3a"
             ],
             [
              0.8888888888888888,
              "#fdca26"
             ],
             [
              1,
              "#f0f921"
             ]
            ],
            "type": "heatmapgl"
           }
          ],
          "histogram": [
           {
            "marker": {
             "colorbar": {
              "outlinewidth": 0,
              "ticks": ""
             }
            },
            "type": "histogram"
           }
          ],
          "histogram2d": [
           {
            "colorbar": {
             "outlinewidth": 0,
             "ticks": ""
            },
            "colorscale": [
             [
              0,
              "#0d0887"
             ],
             [
              0.1111111111111111,
              "#46039f"
             ],
             [
              0.2222222222222222,
              "#7201a8"
             ],
             [
              0.3333333333333333,
              "#9c179e"
             ],
             [
              0.4444444444444444,
              "#bd3786"
             ],
             [
              0.5555555555555556,
              "#d8576b"
             ],
             [
              0.6666666666666666,
              "#ed7953"
             ],
             [
              0.7777777777777778,
              "#fb9f3a"
             ],
             [
              0.8888888888888888,
              "#fdca26"
             ],
             [
              1,
              "#f0f921"
             ]
            ],
            "type": "histogram2d"
           }
          ],
          "histogram2dcontour": [
           {
            "colorbar": {
             "outlinewidth": 0,
             "ticks": ""
            },
            "colorscale": [
             [
              0,
              "#0d0887"
             ],
             [
              0.1111111111111111,
              "#46039f"
             ],
             [
              0.2222222222222222,
              "#7201a8"
             ],
             [
              0.3333333333333333,
              "#9c179e"
             ],
             [
              0.4444444444444444,
              "#bd3786"
             ],
             [
              0.5555555555555556,
              "#d8576b"
             ],
             [
              0.6666666666666666,
              "#ed7953"
             ],
             [
              0.7777777777777778,
              "#fb9f3a"
             ],
             [
              0.8888888888888888,
              "#fdca26"
             ],
             [
              1,
              "#f0f921"
             ]
            ],
            "type": "histogram2dcontour"
           }
          ],
          "mesh3d": [
           {
            "colorbar": {
             "outlinewidth": 0,
             "ticks": ""
            },
            "type": "mesh3d"
           }
          ],
          "parcoords": [
           {
            "line": {
             "colorbar": {
              "outlinewidth": 0,
              "ticks": ""
             }
            },
            "type": "parcoords"
           }
          ],
          "pie": [
           {
            "automargin": true,
            "type": "pie"
           }
          ],
          "scatter": [
           {
            "marker": {
             "colorbar": {
              "outlinewidth": 0,
              "ticks": ""
             }
            },
            "type": "scatter"
           }
          ],
          "scatter3d": [
           {
            "line": {
             "colorbar": {
              "outlinewidth": 0,
              "ticks": ""
             }
            },
            "marker": {
             "colorbar": {
              "outlinewidth": 0,
              "ticks": ""
             }
            },
            "type": "scatter3d"
           }
          ],
          "scattercarpet": [
           {
            "marker": {
             "colorbar": {
              "outlinewidth": 0,
              "ticks": ""
             }
            },
            "type": "scattercarpet"
           }
          ],
          "scattergeo": [
           {
            "marker": {
             "colorbar": {
              "outlinewidth": 0,
              "ticks": ""
             }
            },
            "type": "scattergeo"
           }
          ],
          "scattergl": [
           {
            "marker": {
             "colorbar": {
              "outlinewidth": 0,
              "ticks": ""
             }
            },
            "type": "scattergl"
           }
          ],
          "scattermapbox": [
           {
            "marker": {
             "colorbar": {
              "outlinewidth": 0,
              "ticks": ""
             }
            },
            "type": "scattermapbox"
           }
          ],
          "scatterpolar": [
           {
            "marker": {
             "colorbar": {
              "outlinewidth": 0,
              "ticks": ""
             }
            },
            "type": "scatterpolar"
           }
          ],
          "scatterpolargl": [
           {
            "marker": {
             "colorbar": {
              "outlinewidth": 0,
              "ticks": ""
             }
            },
            "type": "scatterpolargl"
           }
          ],
          "scatterternary": [
           {
            "marker": {
             "colorbar": {
              "outlinewidth": 0,
              "ticks": ""
             }
            },
            "type": "scatterternary"
           }
          ],
          "surface": [
           {
            "colorbar": {
             "outlinewidth": 0,
             "ticks": ""
            },
            "colorscale": [
             [
              0,
              "#0d0887"
             ],
             [
              0.1111111111111111,
              "#46039f"
             ],
             [
              0.2222222222222222,
              "#7201a8"
             ],
             [
              0.3333333333333333,
              "#9c179e"
             ],
             [
              0.4444444444444444,
              "#bd3786"
             ],
             [
              0.5555555555555556,
              "#d8576b"
             ],
             [
              0.6666666666666666,
              "#ed7953"
             ],
             [
              0.7777777777777778,
              "#fb9f3a"
             ],
             [
              0.8888888888888888,
              "#fdca26"
             ],
             [
              1,
              "#f0f921"
             ]
            ],
            "type": "surface"
           }
          ],
          "table": [
           {
            "cells": {
             "fill": {
              "color": "#EBF0F8"
             },
             "line": {
              "color": "white"
             }
            },
            "header": {
             "fill": {
              "color": "#C8D4E3"
             },
             "line": {
              "color": "white"
             }
            },
            "type": "table"
           }
          ]
         },
         "layout": {
          "annotationdefaults": {
           "arrowcolor": "#2a3f5f",
           "arrowhead": 0,
           "arrowwidth": 1
          },
          "coloraxis": {
           "colorbar": {
            "outlinewidth": 0,
            "ticks": ""
           }
          },
          "colorscale": {
           "diverging": [
            [
             0,
             "#8e0152"
            ],
            [
             0.1,
             "#c51b7d"
            ],
            [
             0.2,
             "#de77ae"
            ],
            [
             0.3,
             "#f1b6da"
            ],
            [
             0.4,
             "#fde0ef"
            ],
            [
             0.5,
             "#f7f7f7"
            ],
            [
             0.6,
             "#e6f5d0"
            ],
            [
             0.7,
             "#b8e186"
            ],
            [
             0.8,
             "#7fbc41"
            ],
            [
             0.9,
             "#4d9221"
            ],
            [
             1,
             "#276419"
            ]
           ],
           "sequential": [
            [
             0,
             "#0d0887"
            ],
            [
             0.1111111111111111,
             "#46039f"
            ],
            [
             0.2222222222222222,
             "#7201a8"
            ],
            [
             0.3333333333333333,
             "#9c179e"
            ],
            [
             0.4444444444444444,
             "#bd3786"
            ],
            [
             0.5555555555555556,
             "#d8576b"
            ],
            [
             0.6666666666666666,
             "#ed7953"
            ],
            [
             0.7777777777777778,
             "#fb9f3a"
            ],
            [
             0.8888888888888888,
             "#fdca26"
            ],
            [
             1,
             "#f0f921"
            ]
           ],
           "sequentialminus": [
            [
             0,
             "#0d0887"
            ],
            [
             0.1111111111111111,
             "#46039f"
            ],
            [
             0.2222222222222222,
             "#7201a8"
            ],
            [
             0.3333333333333333,
             "#9c179e"
            ],
            [
             0.4444444444444444,
             "#bd3786"
            ],
            [
             0.5555555555555556,
             "#d8576b"
            ],
            [
             0.6666666666666666,
             "#ed7953"
            ],
            [
             0.7777777777777778,
             "#fb9f3a"
            ],
            [
             0.8888888888888888,
             "#fdca26"
            ],
            [
             1,
             "#f0f921"
            ]
           ]
          },
          "colorway": [
           "#636efa",
           "#EF553B",
           "#00cc96",
           "#ab63fa",
           "#FFA15A",
           "#19d3f3",
           "#FF6692",
           "#B6E880",
           "#FF97FF",
           "#FECB52"
          ],
          "font": {
           "color": "#2a3f5f"
          },
          "geo": {
           "bgcolor": "white",
           "lakecolor": "white",
           "landcolor": "#E5ECF6",
           "showlakes": true,
           "showland": true,
           "subunitcolor": "white"
          },
          "hoverlabel": {
           "align": "left"
          },
          "hovermode": "closest",
          "mapbox": {
           "style": "light"
          },
          "paper_bgcolor": "white",
          "plot_bgcolor": "#E5ECF6",
          "polar": {
           "angularaxis": {
            "gridcolor": "white",
            "linecolor": "white",
            "ticks": ""
           },
           "bgcolor": "#E5ECF6",
           "radialaxis": {
            "gridcolor": "white",
            "linecolor": "white",
            "ticks": ""
           }
          },
          "scene": {
           "xaxis": {
            "backgroundcolor": "#E5ECF6",
            "gridcolor": "white",
            "gridwidth": 2,
            "linecolor": "white",
            "showbackground": true,
            "ticks": "",
            "zerolinecolor": "white"
           },
           "yaxis": {
            "backgroundcolor": "#E5ECF6",
            "gridcolor": "white",
            "gridwidth": 2,
            "linecolor": "white",
            "showbackground": true,
            "ticks": "",
            "zerolinecolor": "white"
           },
           "zaxis": {
            "backgroundcolor": "#E5ECF6",
            "gridcolor": "white",
            "gridwidth": 2,
            "linecolor": "white",
            "showbackground": true,
            "ticks": "",
            "zerolinecolor": "white"
           }
          },
          "shapedefaults": {
           "line": {
            "color": "#2a3f5f"
           }
          },
          "ternary": {
           "aaxis": {
            "gridcolor": "white",
            "linecolor": "white",
            "ticks": ""
           },
           "baxis": {
            "gridcolor": "white",
            "linecolor": "white",
            "ticks": ""
           },
           "bgcolor": "#E5ECF6",
           "caxis": {
            "gridcolor": "white",
            "linecolor": "white",
            "ticks": ""
           }
          },
          "title": {
           "x": 0.05
          },
          "xaxis": {
           "automargin": true,
           "gridcolor": "white",
           "linecolor": "white",
           "ticks": "",
           "title": {
            "standoff": 15
           },
           "zerolinecolor": "white",
           "zerolinewidth": 2
          },
          "yaxis": {
           "automargin": true,
           "gridcolor": "white",
           "linecolor": "white",
           "ticks": "",
           "title": {
            "standoff": 15
           },
           "zerolinecolor": "white",
           "zerolinewidth": 2
          }
         }
        }
       }
      },
      "text/html": [
       "<div>\n",
       "        \n",
       "        \n",
       "            <div id=\"54834901-b08c-4176-8bc1-1c5f4d464a85\" class=\"plotly-graph-div\" style=\"height:525px; width:100%;\"></div>\n",
       "            <script type=\"text/javascript\">\n",
       "                require([\"plotly\"], function(Plotly) {\n",
       "                    window.PLOTLYENV=window.PLOTLYENV || {};\n",
       "                    \n",
       "                if (document.getElementById(\"54834901-b08c-4176-8bc1-1c5f4d464a85\")) {\n",
       "                    Plotly.newPlot(\n",
       "                        '54834901-b08c-4176-8bc1-1c5f4d464a85',\n",
       "                        [{\"cells\": {\"align\": \"center\", \"fill\": {\"color\": \"lavender\"}, \"values\": [[\"Grande\", \"Mediana\", \"Micro\", \"Peque\\u00f1a\"], [1, 1, 1, 1], [0, 0, 0, 0], [1, 1, 1, 1], [0, 0, 0, 0], [0, 0, 0, 0], [1, 1, 1, 1], [1, 1, 1, 1], [2, 2, 0, 2], [0, 0, 0, 0], [6, 6, 4, 6]]}, \"header\": {\"align\": \"center\", \"fill\": {\"color\": \"paleturquoise\"}, \"values\": [\"Tama\\u00f1o\", \"Acuerdo Laboral\", \"Aumento de precios\", \"Capacidad\", \"Capacidad de Pago\", \"Raz\\u00f3n de cierre\", \"Despidos\", \"Pago de Salarios\", \"Home Office\", \"Motivo Home Office\", \"Total\"]}, \"type\": \"table\"}],\n",
       "                        {\"template\": {\"data\": {\"bar\": [{\"error_x\": {\"color\": \"#2a3f5f\"}, \"error_y\": {\"color\": \"#2a3f5f\"}, \"marker\": {\"line\": {\"color\": \"#E5ECF6\", \"width\": 0.5}}, \"type\": \"bar\"}], \"barpolar\": [{\"marker\": {\"line\": {\"color\": \"#E5ECF6\", \"width\": 0.5}}, \"type\": \"barpolar\"}], \"carpet\": [{\"aaxis\": {\"endlinecolor\": \"#2a3f5f\", \"gridcolor\": \"white\", \"linecolor\": \"white\", \"minorgridcolor\": \"white\", \"startlinecolor\": \"#2a3f5f\"}, \"baxis\": {\"endlinecolor\": \"#2a3f5f\", \"gridcolor\": \"white\", \"linecolor\": \"white\", \"minorgridcolor\": \"white\", \"startlinecolor\": \"#2a3f5f\"}, \"type\": \"carpet\"}], \"choropleth\": [{\"colorbar\": {\"outlinewidth\": 0, \"ticks\": \"\"}, \"type\": \"choropleth\"}], \"contour\": [{\"colorbar\": {\"outlinewidth\": 0, \"ticks\": \"\"}, \"colorscale\": [[0.0, \"#0d0887\"], [0.1111111111111111, \"#46039f\"], [0.2222222222222222, \"#7201a8\"], [0.3333333333333333, \"#9c179e\"], [0.4444444444444444, \"#bd3786\"], [0.5555555555555556, \"#d8576b\"], [0.6666666666666666, \"#ed7953\"], [0.7777777777777778, \"#fb9f3a\"], [0.8888888888888888, \"#fdca26\"], [1.0, \"#f0f921\"]], \"type\": \"contour\"}], \"contourcarpet\": [{\"colorbar\": {\"outlinewidth\": 0, \"ticks\": \"\"}, \"type\": \"contourcarpet\"}], \"heatmap\": [{\"colorbar\": {\"outlinewidth\": 0, \"ticks\": \"\"}, \"colorscale\": [[0.0, \"#0d0887\"], [0.1111111111111111, \"#46039f\"], [0.2222222222222222, \"#7201a8\"], [0.3333333333333333, \"#9c179e\"], [0.4444444444444444, \"#bd3786\"], [0.5555555555555556, \"#d8576b\"], [0.6666666666666666, \"#ed7953\"], [0.7777777777777778, \"#fb9f3a\"], [0.8888888888888888, \"#fdca26\"], [1.0, \"#f0f921\"]], \"type\": \"heatmap\"}], \"heatmapgl\": [{\"colorbar\": {\"outlinewidth\": 0, \"ticks\": \"\"}, \"colorscale\": [[0.0, \"#0d0887\"], [0.1111111111111111, \"#46039f\"], [0.2222222222222222, \"#7201a8\"], [0.3333333333333333, \"#9c179e\"], [0.4444444444444444, \"#bd3786\"], [0.5555555555555556, \"#d8576b\"], [0.6666666666666666, \"#ed7953\"], [0.7777777777777778, \"#fb9f3a\"], [0.8888888888888888, \"#fdca26\"], [1.0, \"#f0f921\"]], \"type\": \"heatmapgl\"}], \"histogram\": [{\"marker\": {\"colorbar\": {\"outlinewidth\": 0, \"ticks\": \"\"}}, \"type\": \"histogram\"}], \"histogram2d\": [{\"colorbar\": {\"outlinewidth\": 0, \"ticks\": \"\"}, \"colorscale\": [[0.0, \"#0d0887\"], [0.1111111111111111, \"#46039f\"], [0.2222222222222222, \"#7201a8\"], [0.3333333333333333, \"#9c179e\"], [0.4444444444444444, \"#bd3786\"], [0.5555555555555556, \"#d8576b\"], [0.6666666666666666, \"#ed7953\"], [0.7777777777777778, \"#fb9f3a\"], [0.8888888888888888, \"#fdca26\"], [1.0, \"#f0f921\"]], \"type\": \"histogram2d\"}], \"histogram2dcontour\": [{\"colorbar\": {\"outlinewidth\": 0, \"ticks\": \"\"}, \"colorscale\": [[0.0, \"#0d0887\"], [0.1111111111111111, \"#46039f\"], [0.2222222222222222, \"#7201a8\"], [0.3333333333333333, \"#9c179e\"], [0.4444444444444444, \"#bd3786\"], [0.5555555555555556, \"#d8576b\"], [0.6666666666666666, \"#ed7953\"], [0.7777777777777778, \"#fb9f3a\"], [0.8888888888888888, \"#fdca26\"], [1.0, \"#f0f921\"]], \"type\": \"histogram2dcontour\"}], \"mesh3d\": [{\"colorbar\": {\"outlinewidth\": 0, \"ticks\": \"\"}, \"type\": \"mesh3d\"}], \"parcoords\": [{\"line\": {\"colorbar\": {\"outlinewidth\": 0, \"ticks\": \"\"}}, \"type\": \"parcoords\"}], \"pie\": [{\"automargin\": true, \"type\": \"pie\"}], \"scatter\": [{\"marker\": {\"colorbar\": {\"outlinewidth\": 0, \"ticks\": \"\"}}, \"type\": \"scatter\"}], \"scatter3d\": [{\"line\": {\"colorbar\": {\"outlinewidth\": 0, \"ticks\": \"\"}}, \"marker\": {\"colorbar\": {\"outlinewidth\": 0, \"ticks\": \"\"}}, \"type\": \"scatter3d\"}], \"scattercarpet\": [{\"marker\": {\"colorbar\": {\"outlinewidth\": 0, \"ticks\": \"\"}}, \"type\": \"scattercarpet\"}], \"scattergeo\": [{\"marker\": {\"colorbar\": {\"outlinewidth\": 0, \"ticks\": \"\"}}, \"type\": \"scattergeo\"}], \"scattergl\": [{\"marker\": {\"colorbar\": {\"outlinewidth\": 0, \"ticks\": \"\"}}, \"type\": \"scattergl\"}], \"scattermapbox\": [{\"marker\": {\"colorbar\": {\"outlinewidth\": 0, \"ticks\": \"\"}}, \"type\": \"scattermapbox\"}], \"scatterpolar\": [{\"marker\": {\"colorbar\": {\"outlinewidth\": 0, \"ticks\": \"\"}}, \"type\": \"scatterpolar\"}], \"scatterpolargl\": [{\"marker\": {\"colorbar\": {\"outlinewidth\": 0, \"ticks\": \"\"}}, \"type\": \"scatterpolargl\"}], \"scatterternary\": [{\"marker\": {\"colorbar\": {\"outlinewidth\": 0, \"ticks\": \"\"}}, \"type\": \"scatterternary\"}], \"surface\": [{\"colorbar\": {\"outlinewidth\": 0, \"ticks\": \"\"}, \"colorscale\": [[0.0, \"#0d0887\"], [0.1111111111111111, \"#46039f\"], [0.2222222222222222, \"#7201a8\"], [0.3333333333333333, \"#9c179e\"], [0.4444444444444444, \"#bd3786\"], [0.5555555555555556, \"#d8576b\"], [0.6666666666666666, \"#ed7953\"], [0.7777777777777778, \"#fb9f3a\"], [0.8888888888888888, \"#fdca26\"], [1.0, \"#f0f921\"]], \"type\": \"surface\"}], \"table\": [{\"cells\": {\"fill\": {\"color\": \"#EBF0F8\"}, \"line\": {\"color\": \"white\"}}, \"header\": {\"fill\": {\"color\": \"#C8D4E3\"}, \"line\": {\"color\": \"white\"}}, \"type\": \"table\"}]}, \"layout\": {\"annotationdefaults\": {\"arrowcolor\": \"#2a3f5f\", \"arrowhead\": 0, \"arrowwidth\": 1}, \"coloraxis\": {\"colorbar\": {\"outlinewidth\": 0, \"ticks\": \"\"}}, \"colorscale\": {\"diverging\": [[0, \"#8e0152\"], [0.1, \"#c51b7d\"], [0.2, \"#de77ae\"], [0.3, \"#f1b6da\"], [0.4, \"#fde0ef\"], [0.5, \"#f7f7f7\"], [0.6, \"#e6f5d0\"], [0.7, \"#b8e186\"], [0.8, \"#7fbc41\"], [0.9, \"#4d9221\"], [1, \"#276419\"]], \"sequential\": [[0.0, \"#0d0887\"], [0.1111111111111111, \"#46039f\"], [0.2222222222222222, \"#7201a8\"], [0.3333333333333333, \"#9c179e\"], [0.4444444444444444, \"#bd3786\"], [0.5555555555555556, \"#d8576b\"], [0.6666666666666666, \"#ed7953\"], [0.7777777777777778, \"#fb9f3a\"], [0.8888888888888888, \"#fdca26\"], [1.0, \"#f0f921\"]], \"sequentialminus\": [[0.0, \"#0d0887\"], [0.1111111111111111, \"#46039f\"], [0.2222222222222222, \"#7201a8\"], [0.3333333333333333, \"#9c179e\"], [0.4444444444444444, \"#bd3786\"], [0.5555555555555556, \"#d8576b\"], [0.6666666666666666, \"#ed7953\"], [0.7777777777777778, \"#fb9f3a\"], [0.8888888888888888, \"#fdca26\"], [1.0, \"#f0f921\"]]}, \"colorway\": [\"#636efa\", \"#EF553B\", \"#00cc96\", \"#ab63fa\", \"#FFA15A\", \"#19d3f3\", \"#FF6692\", \"#B6E880\", \"#FF97FF\", \"#FECB52\"], \"font\": {\"color\": \"#2a3f5f\"}, \"geo\": {\"bgcolor\": \"white\", \"lakecolor\": \"white\", \"landcolor\": \"#E5ECF6\", \"showlakes\": true, \"showland\": true, \"subunitcolor\": \"white\"}, \"hoverlabel\": {\"align\": \"left\"}, \"hovermode\": \"closest\", \"mapbox\": {\"style\": \"light\"}, \"paper_bgcolor\": \"white\", \"plot_bgcolor\": \"#E5ECF6\", \"polar\": {\"angularaxis\": {\"gridcolor\": \"white\", \"linecolor\": \"white\", \"ticks\": \"\"}, \"bgcolor\": \"#E5ECF6\", \"radialaxis\": {\"gridcolor\": \"white\", \"linecolor\": \"white\", \"ticks\": \"\"}}, \"scene\": {\"xaxis\": {\"backgroundcolor\": \"#E5ECF6\", \"gridcolor\": \"white\", \"gridwidth\": 2, \"linecolor\": \"white\", \"showbackground\": true, \"ticks\": \"\", \"zerolinecolor\": \"white\"}, \"yaxis\": {\"backgroundcolor\": \"#E5ECF6\", \"gridcolor\": \"white\", \"gridwidth\": 2, \"linecolor\": \"white\", \"showbackground\": true, \"ticks\": \"\", \"zerolinecolor\": \"white\"}, \"zaxis\": {\"backgroundcolor\": \"#E5ECF6\", \"gridcolor\": \"white\", \"gridwidth\": 2, \"linecolor\": \"white\", \"showbackground\": true, \"ticks\": \"\", \"zerolinecolor\": \"white\"}}, \"shapedefaults\": {\"line\": {\"color\": \"#2a3f5f\"}}, \"ternary\": {\"aaxis\": {\"gridcolor\": \"white\", \"linecolor\": \"white\", \"ticks\": \"\"}, \"baxis\": {\"gridcolor\": \"white\", \"linecolor\": \"white\", \"ticks\": \"\"}, \"bgcolor\": \"#E5ECF6\", \"caxis\": {\"gridcolor\": \"white\", \"linecolor\": \"white\", \"ticks\": \"\"}}, \"title\": {\"x\": 0.05}, \"xaxis\": {\"automargin\": true, \"gridcolor\": \"white\", \"linecolor\": \"white\", \"ticks\": \"\", \"title\": {\"standoff\": 15}, \"zerolinecolor\": \"white\", \"zerolinewidth\": 2}, \"yaxis\": {\"automargin\": true, \"gridcolor\": \"white\", \"linecolor\": \"white\", \"ticks\": \"\", \"title\": {\"standoff\": 15}, \"zerolinecolor\": \"white\", \"zerolinewidth\": 2}}}},\n",
       "                        {\"responsive\": true}\n",
       "                    ).then(function(){\n",
       "                            \n",
       "var gd = document.getElementById('54834901-b08c-4176-8bc1-1c5f4d464a85');\n",
       "var x = new MutationObserver(function (mutations, observer) {{\n",
       "        var display = window.getComputedStyle(gd).display;\n",
       "        if (!display || display === 'none') {{\n",
       "            console.log([gd, 'removed!']);\n",
       "            Plotly.purge(gd);\n",
       "            observer.disconnect();\n",
       "        }}\n",
       "}});\n",
       "\n",
       "// Listen for the removal of the full notebook cells\n",
       "var notebookContainer = gd.closest('#notebook-container');\n",
       "if (notebookContainer) {{\n",
       "    x.observe(notebookContainer, {childList: true});\n",
       "}}\n",
       "\n",
       "// Listen for the clearing of the current output cell\n",
       "var outputEl = gd.closest('.output');\n",
       "if (outputEl) {{\n",
       "    x.observe(outputEl, {childList: true});\n",
       "}}\n",
       "\n",
       "                        })\n",
       "                };\n",
       "                });\n",
       "            </script>\n",
       "        </div>"
      ]
     },
     "metadata": {},
     "output_type": "display_data"
    }
   ],
   "source": [
    "fig = go.Figure(data=[go.Table(\n",
    "    header=dict(values= [\"Tamaño\"]+pivot_size.columns.tolist(),\n",
    "                fill_color='paleturquoise',\n",
    "                align='center'),\n",
    "    cells=dict(values=[pivot_size.index,pivot_size['Acuerdo Laboral'],pivot_size['Aumento de precios'],\n",
    "                       pivot_size['Capacidad'],pivot_size['Capacidad de Pago'],pivot_size['Razón de cierre'],\n",
    "                       pivot_size['Despidos'],pivot_size['Pago de Salarios'],pivot_size['Home Office'],\n",
    "                       pivot_size['Motivo Home Office'],pivot_size.Total],\n",
    "               fill_color='lavender',\n",
    "               align='center'))\n",
    "])\n",
    "\n",
    "fig.show()"
   ]
  },
  {
   "cell_type": "markdown",
   "metadata": {},
   "source": [
    "# Gráficas"
   ]
  },
  {
   "cell_type": "code",
   "execution_count": 98,
   "metadata": {
    "ExecuteTime": {
     "end_time": "2020-06-23T02:35:43.302656Z",
     "start_time": "2020-06-23T02:35:43.273610Z"
    }
   },
   "outputs": [
    {
     "data": {
      "application/vnd.plotly.v1+json": {
       "config": {
        "plotlyServerURL": "https://plot.ly"
       },
       "data": [
        {
         "hole": 0.4,
         "hoverinfo": "label+value",
         "labels": [
          "El Salto",
          "Guadalajara",
          "Tlajomulco de Zúñiga",
          "Tlaquepaque",
          "Tonalá",
          "Zapopan"
         ],
         "marker": {
          "colors": [
           "rgb(146, 123, 21)",
           "rgb(177, 180, 34)",
           "rgb(206, 206, 40)",
           "rgb(175, 51, 21)",
           "rgb(35, 36, 21)"
          ]
         },
         "textfont": {
          "size": 16
         },
         "textinfo": "value",
         "type": "pie",
         "values": [
          6,
          5,
          5,
          4,
          4,
          5
         ]
        }
       ],
       "layout": {
        "template": {
         "data": {
          "bar": [
           {
            "error_x": {
             "color": "#2a3f5f"
            },
            "error_y": {
             "color": "#2a3f5f"
            },
            "marker": {
             "line": {
              "color": "#E5ECF6",
              "width": 0.5
             }
            },
            "type": "bar"
           }
          ],
          "barpolar": [
           {
            "marker": {
             "line": {
              "color": "#E5ECF6",
              "width": 0.5
             }
            },
            "type": "barpolar"
           }
          ],
          "carpet": [
           {
            "aaxis": {
             "endlinecolor": "#2a3f5f",
             "gridcolor": "white",
             "linecolor": "white",
             "minorgridcolor": "white",
             "startlinecolor": "#2a3f5f"
            },
            "baxis": {
             "endlinecolor": "#2a3f5f",
             "gridcolor": "white",
             "linecolor": "white",
             "minorgridcolor": "white",
             "startlinecolor": "#2a3f5f"
            },
            "type": "carpet"
           }
          ],
          "choropleth": [
           {
            "colorbar": {
             "outlinewidth": 0,
             "ticks": ""
            },
            "type": "choropleth"
           }
          ],
          "contour": [
           {
            "colorbar": {
             "outlinewidth": 0,
             "ticks": ""
            },
            "colorscale": [
             [
              0,
              "#0d0887"
             ],
             [
              0.1111111111111111,
              "#46039f"
             ],
             [
              0.2222222222222222,
              "#7201a8"
             ],
             [
              0.3333333333333333,
              "#9c179e"
             ],
             [
              0.4444444444444444,
              "#bd3786"
             ],
             [
              0.5555555555555556,
              "#d8576b"
             ],
             [
              0.6666666666666666,
              "#ed7953"
             ],
             [
              0.7777777777777778,
              "#fb9f3a"
             ],
             [
              0.8888888888888888,
              "#fdca26"
             ],
             [
              1,
              "#f0f921"
             ]
            ],
            "type": "contour"
           }
          ],
          "contourcarpet": [
           {
            "colorbar": {
             "outlinewidth": 0,
             "ticks": ""
            },
            "type": "contourcarpet"
           }
          ],
          "heatmap": [
           {
            "colorbar": {
             "outlinewidth": 0,
             "ticks": ""
            },
            "colorscale": [
             [
              0,
              "#0d0887"
             ],
             [
              0.1111111111111111,
              "#46039f"
             ],
             [
              0.2222222222222222,
              "#7201a8"
             ],
             [
              0.3333333333333333,
              "#9c179e"
             ],
             [
              0.4444444444444444,
              "#bd3786"
             ],
             [
              0.5555555555555556,
              "#d8576b"
             ],
             [
              0.6666666666666666,
              "#ed7953"
             ],
             [
              0.7777777777777778,
              "#fb9f3a"
             ],
             [
              0.8888888888888888,
              "#fdca26"
             ],
             [
              1,
              "#f0f921"
             ]
            ],
            "type": "heatmap"
           }
          ],
          "heatmapgl": [
           {
            "colorbar": {
             "outlinewidth": 0,
             "ticks": ""
            },
            "colorscale": [
             [
              0,
              "#0d0887"
             ],
             [
              0.1111111111111111,
              "#46039f"
             ],
             [
              0.2222222222222222,
              "#7201a8"
             ],
             [
              0.3333333333333333,
              "#9c179e"
             ],
             [
              0.4444444444444444,
              "#bd3786"
             ],
             [
              0.5555555555555556,
              "#d8576b"
             ],
             [
              0.6666666666666666,
              "#ed7953"
             ],
             [
              0.7777777777777778,
              "#fb9f3a"
             ],
             [
              0.8888888888888888,
              "#fdca26"
             ],
             [
              1,
              "#f0f921"
             ]
            ],
            "type": "heatmapgl"
           }
          ],
          "histogram": [
           {
            "marker": {
             "colorbar": {
              "outlinewidth": 0,
              "ticks": ""
             }
            },
            "type": "histogram"
           }
          ],
          "histogram2d": [
           {
            "colorbar": {
             "outlinewidth": 0,
             "ticks": ""
            },
            "colorscale": [
             [
              0,
              "#0d0887"
             ],
             [
              0.1111111111111111,
              "#46039f"
             ],
             [
              0.2222222222222222,
              "#7201a8"
             ],
             [
              0.3333333333333333,
              "#9c179e"
             ],
             [
              0.4444444444444444,
              "#bd3786"
             ],
             [
              0.5555555555555556,
              "#d8576b"
             ],
             [
              0.6666666666666666,
              "#ed7953"
             ],
             [
              0.7777777777777778,
              "#fb9f3a"
             ],
             [
              0.8888888888888888,
              "#fdca26"
             ],
             [
              1,
              "#f0f921"
             ]
            ],
            "type": "histogram2d"
           }
          ],
          "histogram2dcontour": [
           {
            "colorbar": {
             "outlinewidth": 0,
             "ticks": ""
            },
            "colorscale": [
             [
              0,
              "#0d0887"
             ],
             [
              0.1111111111111111,
              "#46039f"
             ],
             [
              0.2222222222222222,
              "#7201a8"
             ],
             [
              0.3333333333333333,
              "#9c179e"
             ],
             [
              0.4444444444444444,
              "#bd3786"
             ],
             [
              0.5555555555555556,
              "#d8576b"
             ],
             [
              0.6666666666666666,
              "#ed7953"
             ],
             [
              0.7777777777777778,
              "#fb9f3a"
             ],
             [
              0.8888888888888888,
              "#fdca26"
             ],
             [
              1,
              "#f0f921"
             ]
            ],
            "type": "histogram2dcontour"
           }
          ],
          "mesh3d": [
           {
            "colorbar": {
             "outlinewidth": 0,
             "ticks": ""
            },
            "type": "mesh3d"
           }
          ],
          "parcoords": [
           {
            "line": {
             "colorbar": {
              "outlinewidth": 0,
              "ticks": ""
             }
            },
            "type": "parcoords"
           }
          ],
          "pie": [
           {
            "automargin": true,
            "type": "pie"
           }
          ],
          "scatter": [
           {
            "marker": {
             "colorbar": {
              "outlinewidth": 0,
              "ticks": ""
             }
            },
            "type": "scatter"
           }
          ],
          "scatter3d": [
           {
            "line": {
             "colorbar": {
              "outlinewidth": 0,
              "ticks": ""
             }
            },
            "marker": {
             "colorbar": {
              "outlinewidth": 0,
              "ticks": ""
             }
            },
            "type": "scatter3d"
           }
          ],
          "scattercarpet": [
           {
            "marker": {
             "colorbar": {
              "outlinewidth": 0,
              "ticks": ""
             }
            },
            "type": "scattercarpet"
           }
          ],
          "scattergeo": [
           {
            "marker": {
             "colorbar": {
              "outlinewidth": 0,
              "ticks": ""
             }
            },
            "type": "scattergeo"
           }
          ],
          "scattergl": [
           {
            "marker": {
             "colorbar": {
              "outlinewidth": 0,
              "ticks": ""
             }
            },
            "type": "scattergl"
           }
          ],
          "scattermapbox": [
           {
            "marker": {
             "colorbar": {
              "outlinewidth": 0,
              "ticks": ""
             }
            },
            "type": "scattermapbox"
           }
          ],
          "scatterpolar": [
           {
            "marker": {
             "colorbar": {
              "outlinewidth": 0,
              "ticks": ""
             }
            },
            "type": "scatterpolar"
           }
          ],
          "scatterpolargl": [
           {
            "marker": {
             "colorbar": {
              "outlinewidth": 0,
              "ticks": ""
             }
            },
            "type": "scatterpolargl"
           }
          ],
          "scatterternary": [
           {
            "marker": {
             "colorbar": {
              "outlinewidth": 0,
              "ticks": ""
             }
            },
            "type": "scatterternary"
           }
          ],
          "surface": [
           {
            "colorbar": {
             "outlinewidth": 0,
             "ticks": ""
            },
            "colorscale": [
             [
              0,
              "#0d0887"
             ],
             [
              0.1111111111111111,
              "#46039f"
             ],
             [
              0.2222222222222222,
              "#7201a8"
             ],
             [
              0.3333333333333333,
              "#9c179e"
             ],
             [
              0.4444444444444444,
              "#bd3786"
             ],
             [
              0.5555555555555556,
              "#d8576b"
             ],
             [
              0.6666666666666666,
              "#ed7953"
             ],
             [
              0.7777777777777778,
              "#fb9f3a"
             ],
             [
              0.8888888888888888,
              "#fdca26"
             ],
             [
              1,
              "#f0f921"
             ]
            ],
            "type": "surface"
           }
          ],
          "table": [
           {
            "cells": {
             "fill": {
              "color": "#EBF0F8"
             },
             "line": {
              "color": "white"
             }
            },
            "header": {
             "fill": {
              "color": "#C8D4E3"
             },
             "line": {
              "color": "white"
             }
            },
            "type": "table"
           }
          ]
         },
         "layout": {
          "annotationdefaults": {
           "arrowcolor": "#2a3f5f",
           "arrowhead": 0,
           "arrowwidth": 1
          },
          "coloraxis": {
           "colorbar": {
            "outlinewidth": 0,
            "ticks": ""
           }
          },
          "colorscale": {
           "diverging": [
            [
             0,
             "#8e0152"
            ],
            [
             0.1,
             "#c51b7d"
            ],
            [
             0.2,
             "#de77ae"
            ],
            [
             0.3,
             "#f1b6da"
            ],
            [
             0.4,
             "#fde0ef"
            ],
            [
             0.5,
             "#f7f7f7"
            ],
            [
             0.6,
             "#e6f5d0"
            ],
            [
             0.7,
             "#b8e186"
            ],
            [
             0.8,
             "#7fbc41"
            ],
            [
             0.9,
             "#4d9221"
            ],
            [
             1,
             "#276419"
            ]
           ],
           "sequential": [
            [
             0,
             "#0d0887"
            ],
            [
             0.1111111111111111,
             "#46039f"
            ],
            [
             0.2222222222222222,
             "#7201a8"
            ],
            [
             0.3333333333333333,
             "#9c179e"
            ],
            [
             0.4444444444444444,
             "#bd3786"
            ],
            [
             0.5555555555555556,
             "#d8576b"
            ],
            [
             0.6666666666666666,
             "#ed7953"
            ],
            [
             0.7777777777777778,
             "#fb9f3a"
            ],
            [
             0.8888888888888888,
             "#fdca26"
            ],
            [
             1,
             "#f0f921"
            ]
           ],
           "sequentialminus": [
            [
             0,
             "#0d0887"
            ],
            [
             0.1111111111111111,
             "#46039f"
            ],
            [
             0.2222222222222222,
             "#7201a8"
            ],
            [
             0.3333333333333333,
             "#9c179e"
            ],
            [
             0.4444444444444444,
             "#bd3786"
            ],
            [
             0.5555555555555556,
             "#d8576b"
            ],
            [
             0.6666666666666666,
             "#ed7953"
            ],
            [
             0.7777777777777778,
             "#fb9f3a"
            ],
            [
             0.8888888888888888,
             "#fdca26"
            ],
            [
             1,
             "#f0f921"
            ]
           ]
          },
          "colorway": [
           "#636efa",
           "#EF553B",
           "#00cc96",
           "#ab63fa",
           "#FFA15A",
           "#19d3f3",
           "#FF6692",
           "#B6E880",
           "#FF97FF",
           "#FECB52"
          ],
          "font": {
           "color": "#2a3f5f"
          },
          "geo": {
           "bgcolor": "white",
           "lakecolor": "white",
           "landcolor": "#E5ECF6",
           "showlakes": true,
           "showland": true,
           "subunitcolor": "white"
          },
          "hoverlabel": {
           "align": "left"
          },
          "hovermode": "closest",
          "mapbox": {
           "style": "light"
          },
          "paper_bgcolor": "white",
          "plot_bgcolor": "#E5ECF6",
          "polar": {
           "angularaxis": {
            "gridcolor": "white",
            "linecolor": "white",
            "ticks": ""
           },
           "bgcolor": "#E5ECF6",
           "radialaxis": {
            "gridcolor": "white",
            "linecolor": "white",
            "ticks": ""
           }
          },
          "scene": {
           "xaxis": {
            "backgroundcolor": "#E5ECF6",
            "gridcolor": "white",
            "gridwidth": 2,
            "linecolor": "white",
            "showbackground": true,
            "ticks": "",
            "zerolinecolor": "white"
           },
           "yaxis": {
            "backgroundcolor": "#E5ECF6",
            "gridcolor": "white",
            "gridwidth": 2,
            "linecolor": "white",
            "showbackground": true,
            "ticks": "",
            "zerolinecolor": "white"
           },
           "zaxis": {
            "backgroundcolor": "#E5ECF6",
            "gridcolor": "white",
            "gridwidth": 2,
            "linecolor": "white",
            "showbackground": true,
            "ticks": "",
            "zerolinecolor": "white"
           }
          },
          "shapedefaults": {
           "line": {
            "color": "#2a3f5f"
           }
          },
          "ternary": {
           "aaxis": {
            "gridcolor": "white",
            "linecolor": "white",
            "ticks": ""
           },
           "baxis": {
            "gridcolor": "white",
            "linecolor": "white",
            "ticks": ""
           },
           "bgcolor": "#E5ECF6",
           "caxis": {
            "gridcolor": "white",
            "linecolor": "white",
            "ticks": ""
           }
          },
          "title": {
           "x": 0.05
          },
          "xaxis": {
           "automargin": true,
           "gridcolor": "white",
           "linecolor": "white",
           "ticks": "",
           "title": {
            "standoff": 15
           },
           "zerolinecolor": "white",
           "zerolinewidth": 2
          },
          "yaxis": {
           "automargin": true,
           "gridcolor": "white",
           "linecolor": "white",
           "ticks": "",
           "title": {
            "standoff": 15
           },
           "zerolinecolor": "white",
           "zerolinewidth": 2
          }
         }
        }
       }
      },
      "text/html": [
       "<div>\n",
       "        \n",
       "        \n",
       "            <div id=\"bbf6e410-769c-46ce-97ab-56d481181e56\" class=\"plotly-graph-div\" style=\"height:525px; width:100%;\"></div>\n",
       "            <script type=\"text/javascript\">\n",
       "                require([\"plotly\"], function(Plotly) {\n",
       "                    window.PLOTLYENV=window.PLOTLYENV || {};\n",
       "                    \n",
       "                if (document.getElementById(\"bbf6e410-769c-46ce-97ab-56d481181e56\")) {\n",
       "                    Plotly.newPlot(\n",
       "                        'bbf6e410-769c-46ce-97ab-56d481181e56',\n",
       "                        [{\"hole\": 0.4, \"hoverinfo\": \"label+value\", \"labels\": [\"El Salto\", \"Guadalajara\", \"Tlajomulco de Z\\u00fa\\u00f1iga\", \"Tlaquepaque\", \"Tonal\\u00e1\", \"Zapopan\"], \"marker\": {\"colors\": [\"rgb(146, 123, 21)\", \"rgb(177, 180, 34)\", \"rgb(206, 206, 40)\", \"rgb(175, 51, 21)\", \"rgb(35, 36, 21)\"]}, \"textfont\": {\"size\": 16}, \"textinfo\": \"value\", \"type\": \"pie\", \"values\": [6, 5, 5, 4, 4, 5]}],\n",
       "                        {\"template\": {\"data\": {\"bar\": [{\"error_x\": {\"color\": \"#2a3f5f\"}, \"error_y\": {\"color\": \"#2a3f5f\"}, \"marker\": {\"line\": {\"color\": \"#E5ECF6\", \"width\": 0.5}}, \"type\": \"bar\"}], \"barpolar\": [{\"marker\": {\"line\": {\"color\": \"#E5ECF6\", \"width\": 0.5}}, \"type\": \"barpolar\"}], \"carpet\": [{\"aaxis\": {\"endlinecolor\": \"#2a3f5f\", \"gridcolor\": \"white\", \"linecolor\": \"white\", \"minorgridcolor\": \"white\", \"startlinecolor\": \"#2a3f5f\"}, \"baxis\": {\"endlinecolor\": \"#2a3f5f\", \"gridcolor\": \"white\", \"linecolor\": \"white\", \"minorgridcolor\": \"white\", \"startlinecolor\": \"#2a3f5f\"}, \"type\": \"carpet\"}], \"choropleth\": [{\"colorbar\": {\"outlinewidth\": 0, \"ticks\": \"\"}, \"type\": \"choropleth\"}], \"contour\": [{\"colorbar\": {\"outlinewidth\": 0, \"ticks\": \"\"}, \"colorscale\": [[0.0, \"#0d0887\"], [0.1111111111111111, \"#46039f\"], [0.2222222222222222, \"#7201a8\"], [0.3333333333333333, \"#9c179e\"], [0.4444444444444444, \"#bd3786\"], [0.5555555555555556, \"#d8576b\"], [0.6666666666666666, \"#ed7953\"], [0.7777777777777778, \"#fb9f3a\"], [0.8888888888888888, \"#fdca26\"], [1.0, \"#f0f921\"]], \"type\": \"contour\"}], \"contourcarpet\": [{\"colorbar\": {\"outlinewidth\": 0, \"ticks\": \"\"}, \"type\": \"contourcarpet\"}], \"heatmap\": [{\"colorbar\": {\"outlinewidth\": 0, \"ticks\": \"\"}, \"colorscale\": [[0.0, \"#0d0887\"], [0.1111111111111111, \"#46039f\"], [0.2222222222222222, \"#7201a8\"], [0.3333333333333333, \"#9c179e\"], [0.4444444444444444, \"#bd3786\"], [0.5555555555555556, \"#d8576b\"], [0.6666666666666666, \"#ed7953\"], [0.7777777777777778, \"#fb9f3a\"], [0.8888888888888888, \"#fdca26\"], [1.0, \"#f0f921\"]], \"type\": \"heatmap\"}], \"heatmapgl\": [{\"colorbar\": {\"outlinewidth\": 0, \"ticks\": \"\"}, \"colorscale\": [[0.0, \"#0d0887\"], [0.1111111111111111, \"#46039f\"], [0.2222222222222222, \"#7201a8\"], [0.3333333333333333, \"#9c179e\"], [0.4444444444444444, \"#bd3786\"], [0.5555555555555556, \"#d8576b\"], [0.6666666666666666, \"#ed7953\"], [0.7777777777777778, \"#fb9f3a\"], [0.8888888888888888, \"#fdca26\"], [1.0, \"#f0f921\"]], \"type\": \"heatmapgl\"}], \"histogram\": [{\"marker\": {\"colorbar\": {\"outlinewidth\": 0, \"ticks\": \"\"}}, \"type\": \"histogram\"}], \"histogram2d\": [{\"colorbar\": {\"outlinewidth\": 0, \"ticks\": \"\"}, \"colorscale\": [[0.0, \"#0d0887\"], [0.1111111111111111, \"#46039f\"], [0.2222222222222222, \"#7201a8\"], [0.3333333333333333, \"#9c179e\"], [0.4444444444444444, \"#bd3786\"], [0.5555555555555556, \"#d8576b\"], [0.6666666666666666, \"#ed7953\"], [0.7777777777777778, \"#fb9f3a\"], [0.8888888888888888, \"#fdca26\"], [1.0, \"#f0f921\"]], \"type\": \"histogram2d\"}], \"histogram2dcontour\": [{\"colorbar\": {\"outlinewidth\": 0, \"ticks\": \"\"}, \"colorscale\": [[0.0, \"#0d0887\"], [0.1111111111111111, \"#46039f\"], [0.2222222222222222, \"#7201a8\"], [0.3333333333333333, \"#9c179e\"], [0.4444444444444444, \"#bd3786\"], [0.5555555555555556, \"#d8576b\"], [0.6666666666666666, \"#ed7953\"], [0.7777777777777778, \"#fb9f3a\"], [0.8888888888888888, \"#fdca26\"], [1.0, \"#f0f921\"]], \"type\": \"histogram2dcontour\"}], \"mesh3d\": [{\"colorbar\": {\"outlinewidth\": 0, \"ticks\": \"\"}, \"type\": \"mesh3d\"}], \"parcoords\": [{\"line\": {\"colorbar\": {\"outlinewidth\": 0, \"ticks\": \"\"}}, \"type\": \"parcoords\"}], \"pie\": [{\"automargin\": true, \"type\": \"pie\"}], \"scatter\": [{\"marker\": {\"colorbar\": {\"outlinewidth\": 0, \"ticks\": \"\"}}, \"type\": \"scatter\"}], \"scatter3d\": [{\"line\": {\"colorbar\": {\"outlinewidth\": 0, \"ticks\": \"\"}}, \"marker\": {\"colorbar\": {\"outlinewidth\": 0, \"ticks\": \"\"}}, \"type\": \"scatter3d\"}], \"scattercarpet\": [{\"marker\": {\"colorbar\": {\"outlinewidth\": 0, \"ticks\": \"\"}}, \"type\": \"scattercarpet\"}], \"scattergeo\": [{\"marker\": {\"colorbar\": {\"outlinewidth\": 0, \"ticks\": \"\"}}, \"type\": \"scattergeo\"}], \"scattergl\": [{\"marker\": {\"colorbar\": {\"outlinewidth\": 0, \"ticks\": \"\"}}, \"type\": \"scattergl\"}], \"scattermapbox\": [{\"marker\": {\"colorbar\": {\"outlinewidth\": 0, \"ticks\": \"\"}}, \"type\": \"scattermapbox\"}], \"scatterpolar\": [{\"marker\": {\"colorbar\": {\"outlinewidth\": 0, \"ticks\": \"\"}}, \"type\": \"scatterpolar\"}], \"scatterpolargl\": [{\"marker\": {\"colorbar\": {\"outlinewidth\": 0, \"ticks\": \"\"}}, \"type\": \"scatterpolargl\"}], \"scatterternary\": [{\"marker\": {\"colorbar\": {\"outlinewidth\": 0, \"ticks\": \"\"}}, \"type\": \"scatterternary\"}], \"surface\": [{\"colorbar\": {\"outlinewidth\": 0, \"ticks\": \"\"}, \"colorscale\": [[0.0, \"#0d0887\"], [0.1111111111111111, \"#46039f\"], [0.2222222222222222, \"#7201a8\"], [0.3333333333333333, \"#9c179e\"], [0.4444444444444444, \"#bd3786\"], [0.5555555555555556, \"#d8576b\"], [0.6666666666666666, \"#ed7953\"], [0.7777777777777778, \"#fb9f3a\"], [0.8888888888888888, \"#fdca26\"], [1.0, \"#f0f921\"]], \"type\": \"surface\"}], \"table\": [{\"cells\": {\"fill\": {\"color\": \"#EBF0F8\"}, \"line\": {\"color\": \"white\"}}, \"header\": {\"fill\": {\"color\": \"#C8D4E3\"}, \"line\": {\"color\": \"white\"}}, \"type\": \"table\"}]}, \"layout\": {\"annotationdefaults\": {\"arrowcolor\": \"#2a3f5f\", \"arrowhead\": 0, \"arrowwidth\": 1}, \"coloraxis\": {\"colorbar\": {\"outlinewidth\": 0, \"ticks\": \"\"}}, \"colorscale\": {\"diverging\": [[0, \"#8e0152\"], [0.1, \"#c51b7d\"], [0.2, \"#de77ae\"], [0.3, \"#f1b6da\"], [0.4, \"#fde0ef\"], [0.5, \"#f7f7f7\"], [0.6, \"#e6f5d0\"], [0.7, \"#b8e186\"], [0.8, \"#7fbc41\"], [0.9, \"#4d9221\"], [1, \"#276419\"]], \"sequential\": [[0.0, \"#0d0887\"], [0.1111111111111111, \"#46039f\"], [0.2222222222222222, \"#7201a8\"], [0.3333333333333333, \"#9c179e\"], [0.4444444444444444, \"#bd3786\"], [0.5555555555555556, \"#d8576b\"], [0.6666666666666666, \"#ed7953\"], [0.7777777777777778, \"#fb9f3a\"], [0.8888888888888888, \"#fdca26\"], [1.0, \"#f0f921\"]], \"sequentialminus\": [[0.0, \"#0d0887\"], [0.1111111111111111, \"#46039f\"], [0.2222222222222222, \"#7201a8\"], [0.3333333333333333, \"#9c179e\"], [0.4444444444444444, \"#bd3786\"], [0.5555555555555556, \"#d8576b\"], [0.6666666666666666, \"#ed7953\"], [0.7777777777777778, \"#fb9f3a\"], [0.8888888888888888, \"#fdca26\"], [1.0, \"#f0f921\"]]}, \"colorway\": [\"#636efa\", \"#EF553B\", \"#00cc96\", \"#ab63fa\", \"#FFA15A\", \"#19d3f3\", \"#FF6692\", \"#B6E880\", \"#FF97FF\", \"#FECB52\"], \"font\": {\"color\": \"#2a3f5f\"}, \"geo\": {\"bgcolor\": \"white\", \"lakecolor\": \"white\", \"landcolor\": \"#E5ECF6\", \"showlakes\": true, \"showland\": true, \"subunitcolor\": \"white\"}, \"hoverlabel\": {\"align\": \"left\"}, \"hovermode\": \"closest\", \"mapbox\": {\"style\": \"light\"}, \"paper_bgcolor\": \"white\", \"plot_bgcolor\": \"#E5ECF6\", \"polar\": {\"angularaxis\": {\"gridcolor\": \"white\", \"linecolor\": \"white\", \"ticks\": \"\"}, \"bgcolor\": \"#E5ECF6\", \"radialaxis\": {\"gridcolor\": \"white\", \"linecolor\": \"white\", \"ticks\": \"\"}}, \"scene\": {\"xaxis\": {\"backgroundcolor\": \"#E5ECF6\", \"gridcolor\": \"white\", \"gridwidth\": 2, \"linecolor\": \"white\", \"showbackground\": true, \"ticks\": \"\", \"zerolinecolor\": \"white\"}, \"yaxis\": {\"backgroundcolor\": \"#E5ECF6\", \"gridcolor\": \"white\", \"gridwidth\": 2, \"linecolor\": \"white\", \"showbackground\": true, \"ticks\": \"\", \"zerolinecolor\": \"white\"}, \"zaxis\": {\"backgroundcolor\": \"#E5ECF6\", \"gridcolor\": \"white\", \"gridwidth\": 2, \"linecolor\": \"white\", \"showbackground\": true, \"ticks\": \"\", \"zerolinecolor\": \"white\"}}, \"shapedefaults\": {\"line\": {\"color\": \"#2a3f5f\"}}, \"ternary\": {\"aaxis\": {\"gridcolor\": \"white\", \"linecolor\": \"white\", \"ticks\": \"\"}, \"baxis\": {\"gridcolor\": \"white\", \"linecolor\": \"white\", \"ticks\": \"\"}, \"bgcolor\": \"#E5ECF6\", \"caxis\": {\"gridcolor\": \"white\", \"linecolor\": \"white\", \"ticks\": \"\"}}, \"title\": {\"x\": 0.05}, \"xaxis\": {\"automargin\": true, \"gridcolor\": \"white\", \"linecolor\": \"white\", \"ticks\": \"\", \"title\": {\"standoff\": 15}, \"zerolinecolor\": \"white\", \"zerolinewidth\": 2}, \"yaxis\": {\"automargin\": true, \"gridcolor\": \"white\", \"linecolor\": \"white\", \"ticks\": \"\", \"title\": {\"standoff\": 15}, \"zerolinecolor\": \"white\", \"zerolinewidth\": 2}}}},\n",
       "                        {\"responsive\": true}\n",
       "                    ).then(function(){\n",
       "                            \n",
       "var gd = document.getElementById('bbf6e410-769c-46ce-97ab-56d481181e56');\n",
       "var x = new MutationObserver(function (mutations, observer) {{\n",
       "        var display = window.getComputedStyle(gd).display;\n",
       "        if (!display || display === 'none') {{\n",
       "            console.log([gd, 'removed!']);\n",
       "            Plotly.purge(gd);\n",
       "            observer.disconnect();\n",
       "        }}\n",
       "}});\n",
       "\n",
       "// Listen for the removal of the full notebook cells\n",
       "var notebookContainer = gd.closest('#notebook-container');\n",
       "if (notebookContainer) {{\n",
       "    x.observe(notebookContainer, {childList: true});\n",
       "}}\n",
       "\n",
       "// Listen for the clearing of the current output cell\n",
       "var outputEl = gd.closest('.output');\n",
       "if (outputEl) {{\n",
       "    x.observe(outputEl, {childList: true});\n",
       "}}\n",
       "\n",
       "                        })\n",
       "                };\n",
       "                });\n",
       "            </script>\n",
       "        </div>"
      ]
     },
     "metadata": {},
     "output_type": "display_data"
    }
   ],
   "source": [
    "cafe_colors =  ['rgb(146, 123, 21)', 'rgb(177, 180, 34)', 'rgb(206, 206, 40)',\n",
    "                'rgb(175, 51, 21)', 'rgb(35, 36, 21)']\n",
    "\n",
    "fig = go.Figure(data=[go.Pie(labels=pivot_mun.index, values=pivot_mun['Total'], hole=.4)])\n",
    "fig.update_traces(hoverinfo='label+value', textinfo='value', textfont_size=16, marker_colors = cafe_colors)\n",
    "fig.show()"
   ]
  },
  {
   "cell_type": "code",
   "execution_count": 92,
   "metadata": {
    "ExecuteTime": {
     "end_time": "2020-06-23T02:32:29.175567Z",
     "start_time": "2020-06-23T02:32:29.150422Z"
    }
   },
   "outputs": [
    {
     "data": {
      "application/vnd.plotly.v1+json": {
       "config": {
        "plotlyServerURL": "https://plot.ly"
       },
       "data": [
        {
         "marker": {
          "color": "indianred"
         },
         "type": "bar",
         "x": [
          "El Salto",
          "Guadalajara",
          "Tlajomulco de Zúñiga",
          "Tlaquepaque",
          "Tonalá",
          "Zapopan"
         ],
         "y": [
          6,
          5,
          5,
          4,
          4,
          5
         ]
        }
       ],
       "layout": {
        "template": {
         "data": {
          "bar": [
           {
            "error_x": {
             "color": "#2a3f5f"
            },
            "error_y": {
             "color": "#2a3f5f"
            },
            "marker": {
             "line": {
              "color": "#E5ECF6",
              "width": 0.5
             }
            },
            "type": "bar"
           }
          ],
          "barpolar": [
           {
            "marker": {
             "line": {
              "color": "#E5ECF6",
              "width": 0.5
             }
            },
            "type": "barpolar"
           }
          ],
          "carpet": [
           {
            "aaxis": {
             "endlinecolor": "#2a3f5f",
             "gridcolor": "white",
             "linecolor": "white",
             "minorgridcolor": "white",
             "startlinecolor": "#2a3f5f"
            },
            "baxis": {
             "endlinecolor": "#2a3f5f",
             "gridcolor": "white",
             "linecolor": "white",
             "minorgridcolor": "white",
             "startlinecolor": "#2a3f5f"
            },
            "type": "carpet"
           }
          ],
          "choropleth": [
           {
            "colorbar": {
             "outlinewidth": 0,
             "ticks": ""
            },
            "type": "choropleth"
           }
          ],
          "contour": [
           {
            "colorbar": {
             "outlinewidth": 0,
             "ticks": ""
            },
            "colorscale": [
             [
              0,
              "#0d0887"
             ],
             [
              0.1111111111111111,
              "#46039f"
             ],
             [
              0.2222222222222222,
              "#7201a8"
             ],
             [
              0.3333333333333333,
              "#9c179e"
             ],
             [
              0.4444444444444444,
              "#bd3786"
             ],
             [
              0.5555555555555556,
              "#d8576b"
             ],
             [
              0.6666666666666666,
              "#ed7953"
             ],
             [
              0.7777777777777778,
              "#fb9f3a"
             ],
             [
              0.8888888888888888,
              "#fdca26"
             ],
             [
              1,
              "#f0f921"
             ]
            ],
            "type": "contour"
           }
          ],
          "contourcarpet": [
           {
            "colorbar": {
             "outlinewidth": 0,
             "ticks": ""
            },
            "type": "contourcarpet"
           }
          ],
          "heatmap": [
           {
            "colorbar": {
             "outlinewidth": 0,
             "ticks": ""
            },
            "colorscale": [
             [
              0,
              "#0d0887"
             ],
             [
              0.1111111111111111,
              "#46039f"
             ],
             [
              0.2222222222222222,
              "#7201a8"
             ],
             [
              0.3333333333333333,
              "#9c179e"
             ],
             [
              0.4444444444444444,
              "#bd3786"
             ],
             [
              0.5555555555555556,
              "#d8576b"
             ],
             [
              0.6666666666666666,
              "#ed7953"
             ],
             [
              0.7777777777777778,
              "#fb9f3a"
             ],
             [
              0.8888888888888888,
              "#fdca26"
             ],
             [
              1,
              "#f0f921"
             ]
            ],
            "type": "heatmap"
           }
          ],
          "heatmapgl": [
           {
            "colorbar": {
             "outlinewidth": 0,
             "ticks": ""
            },
            "colorscale": [
             [
              0,
              "#0d0887"
             ],
             [
              0.1111111111111111,
              "#46039f"
             ],
             [
              0.2222222222222222,
              "#7201a8"
             ],
             [
              0.3333333333333333,
              "#9c179e"
             ],
             [
              0.4444444444444444,
              "#bd3786"
             ],
             [
              0.5555555555555556,
              "#d8576b"
             ],
             [
              0.6666666666666666,
              "#ed7953"
             ],
             [
              0.7777777777777778,
              "#fb9f3a"
             ],
             [
              0.8888888888888888,
              "#fdca26"
             ],
             [
              1,
              "#f0f921"
             ]
            ],
            "type": "heatmapgl"
           }
          ],
          "histogram": [
           {
            "marker": {
             "colorbar": {
              "outlinewidth": 0,
              "ticks": ""
             }
            },
            "type": "histogram"
           }
          ],
          "histogram2d": [
           {
            "colorbar": {
             "outlinewidth": 0,
             "ticks": ""
            },
            "colorscale": [
             [
              0,
              "#0d0887"
             ],
             [
              0.1111111111111111,
              "#46039f"
             ],
             [
              0.2222222222222222,
              "#7201a8"
             ],
             [
              0.3333333333333333,
              "#9c179e"
             ],
             [
              0.4444444444444444,
              "#bd3786"
             ],
             [
              0.5555555555555556,
              "#d8576b"
             ],
             [
              0.6666666666666666,
              "#ed7953"
             ],
             [
              0.7777777777777778,
              "#fb9f3a"
             ],
             [
              0.8888888888888888,
              "#fdca26"
             ],
             [
              1,
              "#f0f921"
             ]
            ],
            "type": "histogram2d"
           }
          ],
          "histogram2dcontour": [
           {
            "colorbar": {
             "outlinewidth": 0,
             "ticks": ""
            },
            "colorscale": [
             [
              0,
              "#0d0887"
             ],
             [
              0.1111111111111111,
              "#46039f"
             ],
             [
              0.2222222222222222,
              "#7201a8"
             ],
             [
              0.3333333333333333,
              "#9c179e"
             ],
             [
              0.4444444444444444,
              "#bd3786"
             ],
             [
              0.5555555555555556,
              "#d8576b"
             ],
             [
              0.6666666666666666,
              "#ed7953"
             ],
             [
              0.7777777777777778,
              "#fb9f3a"
             ],
             [
              0.8888888888888888,
              "#fdca26"
             ],
             [
              1,
              "#f0f921"
             ]
            ],
            "type": "histogram2dcontour"
           }
          ],
          "mesh3d": [
           {
            "colorbar": {
             "outlinewidth": 0,
             "ticks": ""
            },
            "type": "mesh3d"
           }
          ],
          "parcoords": [
           {
            "line": {
             "colorbar": {
              "outlinewidth": 0,
              "ticks": ""
             }
            },
            "type": "parcoords"
           }
          ],
          "pie": [
           {
            "automargin": true,
            "type": "pie"
           }
          ],
          "scatter": [
           {
            "marker": {
             "colorbar": {
              "outlinewidth": 0,
              "ticks": ""
             }
            },
            "type": "scatter"
           }
          ],
          "scatter3d": [
           {
            "line": {
             "colorbar": {
              "outlinewidth": 0,
              "ticks": ""
             }
            },
            "marker": {
             "colorbar": {
              "outlinewidth": 0,
              "ticks": ""
             }
            },
            "type": "scatter3d"
           }
          ],
          "scattercarpet": [
           {
            "marker": {
             "colorbar": {
              "outlinewidth": 0,
              "ticks": ""
             }
            },
            "type": "scattercarpet"
           }
          ],
          "scattergeo": [
           {
            "marker": {
             "colorbar": {
              "outlinewidth": 0,
              "ticks": ""
             }
            },
            "type": "scattergeo"
           }
          ],
          "scattergl": [
           {
            "marker": {
             "colorbar": {
              "outlinewidth": 0,
              "ticks": ""
             }
            },
            "type": "scattergl"
           }
          ],
          "scattermapbox": [
           {
            "marker": {
             "colorbar": {
              "outlinewidth": 0,
              "ticks": ""
             }
            },
            "type": "scattermapbox"
           }
          ],
          "scatterpolar": [
           {
            "marker": {
             "colorbar": {
              "outlinewidth": 0,
              "ticks": ""
             }
            },
            "type": "scatterpolar"
           }
          ],
          "scatterpolargl": [
           {
            "marker": {
             "colorbar": {
              "outlinewidth": 0,
              "ticks": ""
             }
            },
            "type": "scatterpolargl"
           }
          ],
          "scatterternary": [
           {
            "marker": {
             "colorbar": {
              "outlinewidth": 0,
              "ticks": ""
             }
            },
            "type": "scatterternary"
           }
          ],
          "surface": [
           {
            "colorbar": {
             "outlinewidth": 0,
             "ticks": ""
            },
            "colorscale": [
             [
              0,
              "#0d0887"
             ],
             [
              0.1111111111111111,
              "#46039f"
             ],
             [
              0.2222222222222222,
              "#7201a8"
             ],
             [
              0.3333333333333333,
              "#9c179e"
             ],
             [
              0.4444444444444444,
              "#bd3786"
             ],
             [
              0.5555555555555556,
              "#d8576b"
             ],
             [
              0.6666666666666666,
              "#ed7953"
             ],
             [
              0.7777777777777778,
              "#fb9f3a"
             ],
             [
              0.8888888888888888,
              "#fdca26"
             ],
             [
              1,
              "#f0f921"
             ]
            ],
            "type": "surface"
           }
          ],
          "table": [
           {
            "cells": {
             "fill": {
              "color": "#EBF0F8"
             },
             "line": {
              "color": "white"
             }
            },
            "header": {
             "fill": {
              "color": "#C8D4E3"
             },
             "line": {
              "color": "white"
             }
            },
            "type": "table"
           }
          ]
         },
         "layout": {
          "annotationdefaults": {
           "arrowcolor": "#2a3f5f",
           "arrowhead": 0,
           "arrowwidth": 1
          },
          "coloraxis": {
           "colorbar": {
            "outlinewidth": 0,
            "ticks": ""
           }
          },
          "colorscale": {
           "diverging": [
            [
             0,
             "#8e0152"
            ],
            [
             0.1,
             "#c51b7d"
            ],
            [
             0.2,
             "#de77ae"
            ],
            [
             0.3,
             "#f1b6da"
            ],
            [
             0.4,
             "#fde0ef"
            ],
            [
             0.5,
             "#f7f7f7"
            ],
            [
             0.6,
             "#e6f5d0"
            ],
            [
             0.7,
             "#b8e186"
            ],
            [
             0.8,
             "#7fbc41"
            ],
            [
             0.9,
             "#4d9221"
            ],
            [
             1,
             "#276419"
            ]
           ],
           "sequential": [
            [
             0,
             "#0d0887"
            ],
            [
             0.1111111111111111,
             "#46039f"
            ],
            [
             0.2222222222222222,
             "#7201a8"
            ],
            [
             0.3333333333333333,
             "#9c179e"
            ],
            [
             0.4444444444444444,
             "#bd3786"
            ],
            [
             0.5555555555555556,
             "#d8576b"
            ],
            [
             0.6666666666666666,
             "#ed7953"
            ],
            [
             0.7777777777777778,
             "#fb9f3a"
            ],
            [
             0.8888888888888888,
             "#fdca26"
            ],
            [
             1,
             "#f0f921"
            ]
           ],
           "sequentialminus": [
            [
             0,
             "#0d0887"
            ],
            [
             0.1111111111111111,
             "#46039f"
            ],
            [
             0.2222222222222222,
             "#7201a8"
            ],
            [
             0.3333333333333333,
             "#9c179e"
            ],
            [
             0.4444444444444444,
             "#bd3786"
            ],
            [
             0.5555555555555556,
             "#d8576b"
            ],
            [
             0.6666666666666666,
             "#ed7953"
            ],
            [
             0.7777777777777778,
             "#fb9f3a"
            ],
            [
             0.8888888888888888,
             "#fdca26"
            ],
            [
             1,
             "#f0f921"
            ]
           ]
          },
          "colorway": [
           "#636efa",
           "#EF553B",
           "#00cc96",
           "#ab63fa",
           "#FFA15A",
           "#19d3f3",
           "#FF6692",
           "#B6E880",
           "#FF97FF",
           "#FECB52"
          ],
          "font": {
           "color": "#2a3f5f"
          },
          "geo": {
           "bgcolor": "white",
           "lakecolor": "white",
           "landcolor": "#E5ECF6",
           "showlakes": true,
           "showland": true,
           "subunitcolor": "white"
          },
          "hoverlabel": {
           "align": "left"
          },
          "hovermode": "closest",
          "mapbox": {
           "style": "light"
          },
          "paper_bgcolor": "white",
          "plot_bgcolor": "#E5ECF6",
          "polar": {
           "angularaxis": {
            "gridcolor": "white",
            "linecolor": "white",
            "ticks": ""
           },
           "bgcolor": "#E5ECF6",
           "radialaxis": {
            "gridcolor": "white",
            "linecolor": "white",
            "ticks": ""
           }
          },
          "scene": {
           "xaxis": {
            "backgroundcolor": "#E5ECF6",
            "gridcolor": "white",
            "gridwidth": 2,
            "linecolor": "white",
            "showbackground": true,
            "ticks": "",
            "zerolinecolor": "white"
           },
           "yaxis": {
            "backgroundcolor": "#E5ECF6",
            "gridcolor": "white",
            "gridwidth": 2,
            "linecolor": "white",
            "showbackground": true,
            "ticks": "",
            "zerolinecolor": "white"
           },
           "zaxis": {
            "backgroundcolor": "#E5ECF6",
            "gridcolor": "white",
            "gridwidth": 2,
            "linecolor": "white",
            "showbackground": true,
            "ticks": "",
            "zerolinecolor": "white"
           }
          },
          "shapedefaults": {
           "line": {
            "color": "#2a3f5f"
           }
          },
          "ternary": {
           "aaxis": {
            "gridcolor": "white",
            "linecolor": "white",
            "ticks": ""
           },
           "baxis": {
            "gridcolor": "white",
            "linecolor": "white",
            "ticks": ""
           },
           "bgcolor": "#E5ECF6",
           "caxis": {
            "gridcolor": "white",
            "linecolor": "white",
            "ticks": ""
           }
          },
          "title": {
           "x": 0.05
          },
          "xaxis": {
           "automargin": true,
           "gridcolor": "white",
           "linecolor": "white",
           "ticks": "",
           "title": {
            "standoff": 15
           },
           "zerolinecolor": "white",
           "zerolinewidth": 2
          },
          "yaxis": {
           "automargin": true,
           "gridcolor": "white",
           "linecolor": "white",
           "ticks": "",
           "title": {
            "standoff": 15
           },
           "zerolinecolor": "white",
           "zerolinewidth": 2
          }
         }
        }
       }
      },
      "text/html": [
       "<div>\n",
       "        \n",
       "        \n",
       "            <div id=\"3f83029b-c607-4ccf-a933-96306340061b\" class=\"plotly-graph-div\" style=\"height:525px; width:100%;\"></div>\n",
       "            <script type=\"text/javascript\">\n",
       "                require([\"plotly\"], function(Plotly) {\n",
       "                    window.PLOTLYENV=window.PLOTLYENV || {};\n",
       "                    \n",
       "                if (document.getElementById(\"3f83029b-c607-4ccf-a933-96306340061b\")) {\n",
       "                    Plotly.newPlot(\n",
       "                        '3f83029b-c607-4ccf-a933-96306340061b',\n",
       "                        [{\"marker\": {\"color\": \"indianred\"}, \"type\": \"bar\", \"x\": [\"El Salto\", \"Guadalajara\", \"Tlajomulco de Z\\u00fa\\u00f1iga\", \"Tlaquepaque\", \"Tonal\\u00e1\", \"Zapopan\"], \"y\": [6, 5, 5, 4, 4, 5]}],\n",
       "                        {\"template\": {\"data\": {\"bar\": [{\"error_x\": {\"color\": \"#2a3f5f\"}, \"error_y\": {\"color\": \"#2a3f5f\"}, \"marker\": {\"line\": {\"color\": \"#E5ECF6\", \"width\": 0.5}}, \"type\": \"bar\"}], \"barpolar\": [{\"marker\": {\"line\": {\"color\": \"#E5ECF6\", \"width\": 0.5}}, \"type\": \"barpolar\"}], \"carpet\": [{\"aaxis\": {\"endlinecolor\": \"#2a3f5f\", \"gridcolor\": \"white\", \"linecolor\": \"white\", \"minorgridcolor\": \"white\", \"startlinecolor\": \"#2a3f5f\"}, \"baxis\": {\"endlinecolor\": \"#2a3f5f\", \"gridcolor\": \"white\", \"linecolor\": \"white\", \"minorgridcolor\": \"white\", \"startlinecolor\": \"#2a3f5f\"}, \"type\": \"carpet\"}], \"choropleth\": [{\"colorbar\": {\"outlinewidth\": 0, \"ticks\": \"\"}, \"type\": \"choropleth\"}], \"contour\": [{\"colorbar\": {\"outlinewidth\": 0, \"ticks\": \"\"}, \"colorscale\": [[0.0, \"#0d0887\"], [0.1111111111111111, \"#46039f\"], [0.2222222222222222, \"#7201a8\"], [0.3333333333333333, \"#9c179e\"], [0.4444444444444444, \"#bd3786\"], [0.5555555555555556, \"#d8576b\"], [0.6666666666666666, \"#ed7953\"], [0.7777777777777778, \"#fb9f3a\"], [0.8888888888888888, \"#fdca26\"], [1.0, \"#f0f921\"]], \"type\": \"contour\"}], \"contourcarpet\": [{\"colorbar\": {\"outlinewidth\": 0, \"ticks\": \"\"}, \"type\": \"contourcarpet\"}], \"heatmap\": [{\"colorbar\": {\"outlinewidth\": 0, \"ticks\": \"\"}, \"colorscale\": [[0.0, \"#0d0887\"], [0.1111111111111111, \"#46039f\"], [0.2222222222222222, \"#7201a8\"], [0.3333333333333333, \"#9c179e\"], [0.4444444444444444, \"#bd3786\"], [0.5555555555555556, \"#d8576b\"], [0.6666666666666666, \"#ed7953\"], [0.7777777777777778, \"#fb9f3a\"], [0.8888888888888888, \"#fdca26\"], [1.0, \"#f0f921\"]], \"type\": \"heatmap\"}], \"heatmapgl\": [{\"colorbar\": {\"outlinewidth\": 0, \"ticks\": \"\"}, \"colorscale\": [[0.0, \"#0d0887\"], [0.1111111111111111, \"#46039f\"], [0.2222222222222222, \"#7201a8\"], [0.3333333333333333, \"#9c179e\"], [0.4444444444444444, \"#bd3786\"], [0.5555555555555556, \"#d8576b\"], [0.6666666666666666, \"#ed7953\"], [0.7777777777777778, \"#fb9f3a\"], [0.8888888888888888, \"#fdca26\"], [1.0, \"#f0f921\"]], \"type\": \"heatmapgl\"}], \"histogram\": [{\"marker\": {\"colorbar\": {\"outlinewidth\": 0, \"ticks\": \"\"}}, \"type\": \"histogram\"}], \"histogram2d\": [{\"colorbar\": {\"outlinewidth\": 0, \"ticks\": \"\"}, \"colorscale\": [[0.0, \"#0d0887\"], [0.1111111111111111, \"#46039f\"], [0.2222222222222222, \"#7201a8\"], [0.3333333333333333, \"#9c179e\"], [0.4444444444444444, \"#bd3786\"], [0.5555555555555556, \"#d8576b\"], [0.6666666666666666, \"#ed7953\"], [0.7777777777777778, \"#fb9f3a\"], [0.8888888888888888, \"#fdca26\"], [1.0, \"#f0f921\"]], \"type\": \"histogram2d\"}], \"histogram2dcontour\": [{\"colorbar\": {\"outlinewidth\": 0, \"ticks\": \"\"}, \"colorscale\": [[0.0, \"#0d0887\"], [0.1111111111111111, \"#46039f\"], [0.2222222222222222, \"#7201a8\"], [0.3333333333333333, \"#9c179e\"], [0.4444444444444444, \"#bd3786\"], [0.5555555555555556, \"#d8576b\"], [0.6666666666666666, \"#ed7953\"], [0.7777777777777778, \"#fb9f3a\"], [0.8888888888888888, \"#fdca26\"], [1.0, \"#f0f921\"]], \"type\": \"histogram2dcontour\"}], \"mesh3d\": [{\"colorbar\": {\"outlinewidth\": 0, \"ticks\": \"\"}, \"type\": \"mesh3d\"}], \"parcoords\": [{\"line\": {\"colorbar\": {\"outlinewidth\": 0, \"ticks\": \"\"}}, \"type\": \"parcoords\"}], \"pie\": [{\"automargin\": true, \"type\": \"pie\"}], \"scatter\": [{\"marker\": {\"colorbar\": {\"outlinewidth\": 0, \"ticks\": \"\"}}, \"type\": \"scatter\"}], \"scatter3d\": [{\"line\": {\"colorbar\": {\"outlinewidth\": 0, \"ticks\": \"\"}}, \"marker\": {\"colorbar\": {\"outlinewidth\": 0, \"ticks\": \"\"}}, \"type\": \"scatter3d\"}], \"scattercarpet\": [{\"marker\": {\"colorbar\": {\"outlinewidth\": 0, \"ticks\": \"\"}}, \"type\": \"scattercarpet\"}], \"scattergeo\": [{\"marker\": {\"colorbar\": {\"outlinewidth\": 0, \"ticks\": \"\"}}, \"type\": \"scattergeo\"}], \"scattergl\": [{\"marker\": {\"colorbar\": {\"outlinewidth\": 0, \"ticks\": \"\"}}, \"type\": \"scattergl\"}], \"scattermapbox\": [{\"marker\": {\"colorbar\": {\"outlinewidth\": 0, \"ticks\": \"\"}}, \"type\": \"scattermapbox\"}], \"scatterpolar\": [{\"marker\": {\"colorbar\": {\"outlinewidth\": 0, \"ticks\": \"\"}}, \"type\": \"scatterpolar\"}], \"scatterpolargl\": [{\"marker\": {\"colorbar\": {\"outlinewidth\": 0, \"ticks\": \"\"}}, \"type\": \"scatterpolargl\"}], \"scatterternary\": [{\"marker\": {\"colorbar\": {\"outlinewidth\": 0, \"ticks\": \"\"}}, \"type\": \"scatterternary\"}], \"surface\": [{\"colorbar\": {\"outlinewidth\": 0, \"ticks\": \"\"}, \"colorscale\": [[0.0, \"#0d0887\"], [0.1111111111111111, \"#46039f\"], [0.2222222222222222, \"#7201a8\"], [0.3333333333333333, \"#9c179e\"], [0.4444444444444444, \"#bd3786\"], [0.5555555555555556, \"#d8576b\"], [0.6666666666666666, \"#ed7953\"], [0.7777777777777778, \"#fb9f3a\"], [0.8888888888888888, \"#fdca26\"], [1.0, \"#f0f921\"]], \"type\": \"surface\"}], \"table\": [{\"cells\": {\"fill\": {\"color\": \"#EBF0F8\"}, \"line\": {\"color\": \"white\"}}, \"header\": {\"fill\": {\"color\": \"#C8D4E3\"}, \"line\": {\"color\": \"white\"}}, \"type\": \"table\"}]}, \"layout\": {\"annotationdefaults\": {\"arrowcolor\": \"#2a3f5f\", \"arrowhead\": 0, \"arrowwidth\": 1}, \"coloraxis\": {\"colorbar\": {\"outlinewidth\": 0, \"ticks\": \"\"}}, \"colorscale\": {\"diverging\": [[0, \"#8e0152\"], [0.1, \"#c51b7d\"], [0.2, \"#de77ae\"], [0.3, \"#f1b6da\"], [0.4, \"#fde0ef\"], [0.5, \"#f7f7f7\"], [0.6, \"#e6f5d0\"], [0.7, \"#b8e186\"], [0.8, \"#7fbc41\"], [0.9, \"#4d9221\"], [1, \"#276419\"]], \"sequential\": [[0.0, \"#0d0887\"], [0.1111111111111111, \"#46039f\"], [0.2222222222222222, \"#7201a8\"], [0.3333333333333333, \"#9c179e\"], [0.4444444444444444, \"#bd3786\"], [0.5555555555555556, \"#d8576b\"], [0.6666666666666666, \"#ed7953\"], [0.7777777777777778, \"#fb9f3a\"], [0.8888888888888888, \"#fdca26\"], [1.0, \"#f0f921\"]], \"sequentialminus\": [[0.0, \"#0d0887\"], [0.1111111111111111, \"#46039f\"], [0.2222222222222222, \"#7201a8\"], [0.3333333333333333, \"#9c179e\"], [0.4444444444444444, \"#bd3786\"], [0.5555555555555556, \"#d8576b\"], [0.6666666666666666, \"#ed7953\"], [0.7777777777777778, \"#fb9f3a\"], [0.8888888888888888, \"#fdca26\"], [1.0, \"#f0f921\"]]}, \"colorway\": [\"#636efa\", \"#EF553B\", \"#00cc96\", \"#ab63fa\", \"#FFA15A\", \"#19d3f3\", \"#FF6692\", \"#B6E880\", \"#FF97FF\", \"#FECB52\"], \"font\": {\"color\": \"#2a3f5f\"}, \"geo\": {\"bgcolor\": \"white\", \"lakecolor\": \"white\", \"landcolor\": \"#E5ECF6\", \"showlakes\": true, \"showland\": true, \"subunitcolor\": \"white\"}, \"hoverlabel\": {\"align\": \"left\"}, \"hovermode\": \"closest\", \"mapbox\": {\"style\": \"light\"}, \"paper_bgcolor\": \"white\", \"plot_bgcolor\": \"#E5ECF6\", \"polar\": {\"angularaxis\": {\"gridcolor\": \"white\", \"linecolor\": \"white\", \"ticks\": \"\"}, \"bgcolor\": \"#E5ECF6\", \"radialaxis\": {\"gridcolor\": \"white\", \"linecolor\": \"white\", \"ticks\": \"\"}}, \"scene\": {\"xaxis\": {\"backgroundcolor\": \"#E5ECF6\", \"gridcolor\": \"white\", \"gridwidth\": 2, \"linecolor\": \"white\", \"showbackground\": true, \"ticks\": \"\", \"zerolinecolor\": \"white\"}, \"yaxis\": {\"backgroundcolor\": \"#E5ECF6\", \"gridcolor\": \"white\", \"gridwidth\": 2, \"linecolor\": \"white\", \"showbackground\": true, \"ticks\": \"\", \"zerolinecolor\": \"white\"}, \"zaxis\": {\"backgroundcolor\": \"#E5ECF6\", \"gridcolor\": \"white\", \"gridwidth\": 2, \"linecolor\": \"white\", \"showbackground\": true, \"ticks\": \"\", \"zerolinecolor\": \"white\"}}, \"shapedefaults\": {\"line\": {\"color\": \"#2a3f5f\"}}, \"ternary\": {\"aaxis\": {\"gridcolor\": \"white\", \"linecolor\": \"white\", \"ticks\": \"\"}, \"baxis\": {\"gridcolor\": \"white\", \"linecolor\": \"white\", \"ticks\": \"\"}, \"bgcolor\": \"#E5ECF6\", \"caxis\": {\"gridcolor\": \"white\", \"linecolor\": \"white\", \"ticks\": \"\"}}, \"title\": {\"x\": 0.05}, \"xaxis\": {\"automargin\": true, \"gridcolor\": \"white\", \"linecolor\": \"white\", \"ticks\": \"\", \"title\": {\"standoff\": 15}, \"zerolinecolor\": \"white\", \"zerolinewidth\": 2}, \"yaxis\": {\"automargin\": true, \"gridcolor\": \"white\", \"linecolor\": \"white\", \"ticks\": \"\", \"title\": {\"standoff\": 15}, \"zerolinecolor\": \"white\", \"zerolinewidth\": 2}}}},\n",
       "                        {\"responsive\": true}\n",
       "                    ).then(function(){\n",
       "                            \n",
       "var gd = document.getElementById('3f83029b-c607-4ccf-a933-96306340061b');\n",
       "var x = new MutationObserver(function (mutations, observer) {{\n",
       "        var display = window.getComputedStyle(gd).display;\n",
       "        if (!display || display === 'none') {{\n",
       "            console.log([gd, 'removed!']);\n",
       "            Plotly.purge(gd);\n",
       "            observer.disconnect();\n",
       "        }}\n",
       "}});\n",
       "\n",
       "// Listen for the removal of the full notebook cells\n",
       "var notebookContainer = gd.closest('#notebook-container');\n",
       "if (notebookContainer) {{\n",
       "    x.observe(notebookContainer, {childList: true});\n",
       "}}\n",
       "\n",
       "// Listen for the clearing of the current output cell\n",
       "var outputEl = gd.closest('.output');\n",
       "if (outputEl) {{\n",
       "    x.observe(outputEl, {childList: true});\n",
       "}}\n",
       "\n",
       "                        })\n",
       "                };\n",
       "                });\n",
       "            </script>\n",
       "        </div>"
      ]
     },
     "metadata": {},
     "output_type": "display_data"
    }
   ],
   "source": [
    "fig = go.Figure(data=[go.Bar(x=pivot_mun.index, y=pivot_mun['Total'],marker_color='indianred')])\n",
    "fig.show()"
   ]
  },
  {
   "cell_type": "code",
   "execution_count": 278,
   "metadata": {
    "ExecuteTime": {
     "end_time": "2020-06-23T03:35:22.347545Z",
     "start_time": "2020-06-23T03:35:22.315697Z"
    }
   },
   "outputs": [
    {
     "data": {
      "text/html": [
       "<div>\n",
       "<style scoped>\n",
       "    .dataframe tbody tr th:only-of-type {\n",
       "        vertical-align: middle;\n",
       "    }\n",
       "\n",
       "    .dataframe tbody tr th {\n",
       "        vertical-align: top;\n",
       "    }\n",
       "\n",
       "    .dataframe thead th {\n",
       "        text-align: right;\n",
       "    }\n",
       "</style>\n",
       "<table border=\"1\" class=\"dataframe\">\n",
       "  <thead>\n",
       "    <tr style=\"text-align: right;\">\n",
       "      <th></th>\n",
       "      <th>index</th>\n",
       "      <th>Sector</th>\n",
       "      <th>Giro</th>\n",
       "      <th>Acuerdo Laboral</th>\n",
       "      <th>Aumento de precios</th>\n",
       "      <th>Capacidad</th>\n",
       "      <th>Capacidad de Pago</th>\n",
       "      <th>Razón de cierre</th>\n",
       "      <th>Despidos</th>\n",
       "      <th>Pago de Salarios</th>\n",
       "      <th>Home Office</th>\n",
       "      <th>Motivo Home Office</th>\n",
       "      <th>Total</th>\n",
       "    </tr>\n",
       "  </thead>\n",
       "  <tbody>\n",
       "    <tr>\n",
       "      <td>0</td>\n",
       "      <td>0</td>\n",
       "      <td>Comercio</td>\n",
       "      <td>Carnicerías</td>\n",
       "      <td>0.0</td>\n",
       "      <td>0</td>\n",
       "      <td>2.0</td>\n",
       "      <td>0.0</td>\n",
       "      <td>0.0</td>\n",
       "      <td>2.0</td>\n",
       "      <td>1.0</td>\n",
       "      <td>0.0</td>\n",
       "      <td>1.0</td>\n",
       "      <td>6.0</td>\n",
       "    </tr>\n",
       "    <tr>\n",
       "      <td>1</td>\n",
       "      <td>1</td>\n",
       "      <td>Comercio</td>\n",
       "      <td>Equipo y material eléctrico</td>\n",
       "      <td>0.0</td>\n",
       "      <td>0</td>\n",
       "      <td>1.0</td>\n",
       "      <td>0.0</td>\n",
       "      <td>0.0</td>\n",
       "      <td>1.0</td>\n",
       "      <td>1.0</td>\n",
       "      <td>0.0</td>\n",
       "      <td>0.0</td>\n",
       "      <td>3.0</td>\n",
       "    </tr>\n",
       "    <tr>\n",
       "      <td>2</td>\n",
       "      <td>2</td>\n",
       "      <td>Comercio</td>\n",
       "      <td>Farmacias</td>\n",
       "      <td>1.0</td>\n",
       "      <td>0</td>\n",
       "      <td>1.0</td>\n",
       "      <td>0.0</td>\n",
       "      <td>0.0</td>\n",
       "      <td>1.5</td>\n",
       "      <td>0.5</td>\n",
       "      <td>0.0</td>\n",
       "      <td>0.0</td>\n",
       "      <td>4.0</td>\n",
       "    </tr>\n",
       "    <tr>\n",
       "      <td>3</td>\n",
       "      <td>3</td>\n",
       "      <td>Comercio</td>\n",
       "      <td>Ferreterías y tlapalerías</td>\n",
       "      <td>1.0</td>\n",
       "      <td>2</td>\n",
       "      <td>1.0</td>\n",
       "      <td>0.0</td>\n",
       "      <td>0.0</td>\n",
       "      <td>1.0</td>\n",
       "      <td>1.0</td>\n",
       "      <td>0.0</td>\n",
       "      <td>1.0</td>\n",
       "      <td>7.0</td>\n",
       "    </tr>\n",
       "    <tr>\n",
       "      <td>4</td>\n",
       "      <td>4</td>\n",
       "      <td>Comercio</td>\n",
       "      <td>Fertilizantes, plaguicidas y semillas</td>\n",
       "      <td>1.0</td>\n",
       "      <td>0</td>\n",
       "      <td>2.0</td>\n",
       "      <td>0.0</td>\n",
       "      <td>0.0</td>\n",
       "      <td>1.0</td>\n",
       "      <td>1.0</td>\n",
       "      <td>2.0</td>\n",
       "      <td>0.0</td>\n",
       "      <td>7.0</td>\n",
       "    </tr>\n",
       "    <tr>\n",
       "      <td>...</td>\n",
       "      <td>...</td>\n",
       "      <td>...</td>\n",
       "      <td>...</td>\n",
       "      <td>...</td>\n",
       "      <td>...</td>\n",
       "      <td>...</td>\n",
       "      <td>...</td>\n",
       "      <td>...</td>\n",
       "      <td>...</td>\n",
       "      <td>...</td>\n",
       "      <td>...</td>\n",
       "      <td>...</td>\n",
       "      <td>...</td>\n",
       "    </tr>\n",
       "    <tr>\n",
       "      <td>67</td>\n",
       "      <td>67</td>\n",
       "      <td>Servicios</td>\n",
       "      <td>Restaurantes</td>\n",
       "      <td>1.0</td>\n",
       "      <td>0</td>\n",
       "      <td>1.0</td>\n",
       "      <td>0.0</td>\n",
       "      <td>0.0</td>\n",
       "      <td>1.0</td>\n",
       "      <td>1.0</td>\n",
       "      <td>0.0</td>\n",
       "      <td>1.0</td>\n",
       "      <td>5.0</td>\n",
       "    </tr>\n",
       "    <tr>\n",
       "      <td>68</td>\n",
       "      <td>68</td>\n",
       "      <td>Servicios</td>\n",
       "      <td>Servicios de acceso a computadoras (cibers)</td>\n",
       "      <td>1.0</td>\n",
       "      <td>0</td>\n",
       "      <td>0.0</td>\n",
       "      <td>0.0</td>\n",
       "      <td>0.0</td>\n",
       "      <td>0.0</td>\n",
       "      <td>1.0</td>\n",
       "      <td>1.0</td>\n",
       "      <td>0.0</td>\n",
       "      <td>3.0</td>\n",
       "    </tr>\n",
       "    <tr>\n",
       "      <td>69</td>\n",
       "      <td>69</td>\n",
       "      <td>Servicios</td>\n",
       "      <td>Talleres Mecánicos</td>\n",
       "      <td>1.0</td>\n",
       "      <td>0</td>\n",
       "      <td>1.0</td>\n",
       "      <td>0.0</td>\n",
       "      <td>0.0</td>\n",
       "      <td>1.0</td>\n",
       "      <td>1.0</td>\n",
       "      <td>0.0</td>\n",
       "      <td>1.0</td>\n",
       "      <td>5.0</td>\n",
       "    </tr>\n",
       "    <tr>\n",
       "      <td>70</td>\n",
       "      <td>70</td>\n",
       "      <td>Servicios</td>\n",
       "      <td>Taquerías y Tortas</td>\n",
       "      <td>1.0</td>\n",
       "      <td>0</td>\n",
       "      <td>1.0</td>\n",
       "      <td>0.0</td>\n",
       "      <td>0.0</td>\n",
       "      <td>1.5</td>\n",
       "      <td>1.0</td>\n",
       "      <td>0.0</td>\n",
       "      <td>1.0</td>\n",
       "      <td>5.5</td>\n",
       "    </tr>\n",
       "    <tr>\n",
       "      <td>71</td>\n",
       "      <td>71</td>\n",
       "      <td>Servicios</td>\n",
       "      <td>Veterinarias</td>\n",
       "      <td>1.0</td>\n",
       "      <td>0</td>\n",
       "      <td>1.0</td>\n",
       "      <td>0.0</td>\n",
       "      <td>0.0</td>\n",
       "      <td>1.0</td>\n",
       "      <td>1.0</td>\n",
       "      <td>0.0</td>\n",
       "      <td>1.0</td>\n",
       "      <td>5.0</td>\n",
       "    </tr>\n",
       "  </tbody>\n",
       "</table>\n",
       "<p>72 rows × 13 columns</p>\n",
       "</div>"
      ],
      "text/plain": [
       "    index     Sector                                         Giro  \\\n",
       "0       0   Comercio                                  Carnicerías   \n",
       "1       1   Comercio                  Equipo y material eléctrico   \n",
       "2       2   Comercio                                    Farmacias   \n",
       "3       3   Comercio                    Ferreterías y tlapalerías   \n",
       "4       4   Comercio        Fertilizantes, plaguicidas y semillas   \n",
       "..    ...        ...                                          ...   \n",
       "67     67  Servicios                                 Restaurantes   \n",
       "68     68  Servicios  Servicios de acceso a computadoras (cibers)   \n",
       "69     69  Servicios                           Talleres Mecánicos   \n",
       "70     70  Servicios                           Taquerías y Tortas   \n",
       "71     71  Servicios                                 Veterinarias   \n",
       "\n",
       "    Acuerdo Laboral  Aumento de precios  Capacidad  Capacidad de Pago  \\\n",
       "0               0.0                   0        2.0                0.0   \n",
       "1               0.0                   0        1.0                0.0   \n",
       "2               1.0                   0        1.0                0.0   \n",
       "3               1.0                   2        1.0                0.0   \n",
       "4               1.0                   0        2.0                0.0   \n",
       "..              ...                 ...        ...                ...   \n",
       "67              1.0                   0        1.0                0.0   \n",
       "68              1.0                   0        0.0                0.0   \n",
       "69              1.0                   0        1.0                0.0   \n",
       "70              1.0                   0        1.0                0.0   \n",
       "71              1.0                   0        1.0                0.0   \n",
       "\n",
       "    Razón de cierre  Despidos  Pago de Salarios  Home Office  \\\n",
       "0               0.0       2.0               1.0          0.0   \n",
       "1               0.0       1.0               1.0          0.0   \n",
       "2               0.0       1.5               0.5          0.0   \n",
       "3               0.0       1.0               1.0          0.0   \n",
       "4               0.0       1.0               1.0          2.0   \n",
       "..              ...       ...               ...          ...   \n",
       "67              0.0       1.0               1.0          0.0   \n",
       "68              0.0       0.0               1.0          1.0   \n",
       "69              0.0       1.0               1.0          0.0   \n",
       "70              0.0       1.5               1.0          0.0   \n",
       "71              0.0       1.0               1.0          0.0   \n",
       "\n",
       "    Motivo Home Office  Total  \n",
       "0                  1.0    6.0  \n",
       "1                  0.0    3.0  \n",
       "2                  0.0    4.0  \n",
       "3                  1.0    7.0  \n",
       "4                  0.0    7.0  \n",
       "..                 ...    ...  \n",
       "67                 1.0    5.0  \n",
       "68                 0.0    3.0  \n",
       "69                 1.0    5.0  \n",
       "70                 1.0    5.5  \n",
       "71                 1.0    5.0  \n",
       "\n",
       "[72 rows x 13 columns]"
      ]
     },
     "execution_count": 278,
     "metadata": {},
     "output_type": "execute_result"
    }
   ],
   "source": [
    "pivot_sector_giro = pivot_sector_giro.reset_index()\n",
    "pivot_sector_giro"
   ]
  },
  {
   "cell_type": "code",
   "execution_count": 283,
   "metadata": {
    "ExecuteTime": {
     "end_time": "2020-06-23T03:36:42.049244Z",
     "start_time": "2020-06-23T03:36:41.952932Z"
    }
   },
   "outputs": [
    {
     "data": {
      "application/vnd.plotly.v1+json": {
       "config": {
        "plotlyServerURL": "https://plot.ly"
       },
       "data": [
        {
         "branchvalues": "total",
         "domain": {
          "x": [
           0,
           1
          ],
          "y": [
           0,
           1
          ]
         },
         "hovertemplate": "labels=%{label}<br>Total=%{value}<br>parent=%{parent}<br>id=%{id}<extra></extra>",
         "ids": [
          "Servicios/Agencias de viajes",
          "Servicios/Cafeterías y neverías",
          "Servicios/Cajas de ahorro popular",
          "Comercio/Carnicerías",
          "Manufactura/Confección de productos textiles",
          "Construcción/Construcción de carreteras y puentes",
          "Construcción/Construcción de obras de urbanización",
          "Servicios/Consultorios dentales",
          "Servicios/Consultorios médicos",
          "Servicios/Consultorías en administración",
          "Servicios/Despachos contables",
          "Servicios/Despachos jurídicos",
          "Construcción/Edificación de inmuebles comerciales",
          "Construcción/Edificación de naves industriales",
          "Construcción/Edificación de vivienda unifamiliar",
          "Manufactura/Elaboración de alimentos para animales",
          "Manufactura/Elaboración de botanas",
          "Manufactura/Elaboración de dulces",
          "Manufactura/Elaboración de helados y paletas",
          "Manufactura/Elaboración de piezas para maquinaria",
          "Manufactura/Elaboración de tortillas",
          "Comercio/Equipo y material eléctrico",
          "Servicios/Escuelas",
          "Servicios/Estéticas, salones de belleza y peluquerías",
          "Manufactura/Fabricación de bolsas de plástico",
          "Manufactura/Fabricación de calzado",
          "Manufactura/Fabricación de envases de cartón",
          "Manufactura/Fabricación de envases de plástico para embalaje",
          "Manufactura/Fabricación de jabones, limpiadores y dentífricos",
          "Manufactura/Fabricación de muebles",
          "Manufactura/Fabricación de preparaciones farmacéuticas",
          "Construcción/Fabricación de productos de madera",
          "Comercio/Farmacias",
          "Comercio/Ferreterías y tlapalerías",
          "Comercio/Fertilizantes, plaguicidas y semillas",
          "Comercio/Gasolineras",
          "Manufactura/Herrería y estructuras metálicas",
          "Servicios/Hoteles",
          "Manufactura/Impresión",
          "Servicios/Inmobiliarias y agentes de bienes raíces",
          "Construcción/Instalaciones eléctricas",
          "Comercio/Joyerías y tiendas de relojes",
          "Servicios/Laboratorios médicos y de diagnóstico",
          "Comercio/Minisupers",
          "Comercio/Mueblerías",
          "Comercio/No especificado",
          "Manufactura/No especificado",
          "Servicios/No especificado",
          "Comercio/Otro",
          "Construcción/Otro",
          "Manufactura/Otro",
          "Servicios/Otro",
          "Manufactura/Panificación",
          "Comercio/Papelerías",
          "Manufactura/Purificación de agua",
          "Comercio/Refacciones para automóviles",
          "Servicios/Reparación de electrónicos",
          "Servicios/Reparación de maquinaria y equipo",
          "Servicios/Restaurantes",
          "Servicios/Servicios de acceso a computadoras (cibers)",
          "Servicios/Talleres Mecánicos",
          "Servicios/Taquerías y Tortas",
          "Comercio/Tiendas de Lentes",
          "Comercio/Tiendas de abarrotes",
          "Comercio/Tiendas de celulares",
          "Comercio/Tiendas de frutas y verduras",
          "Comercio/Tiendas de perfumería y cosméticos",
          "Comercio/Tiendas de pintura",
          "Comercio/Tiendas de ropa",
          "Comercio/Venta de materiales para la construcción",
          "Servicios/Veterinarias",
          "Comercio/Zapaterías",
          "Comercio",
          "Construcción",
          "Manufactura",
          "Servicios"
         ],
         "labels": [
          "Agencias de viajes",
          "Cafeterías y neverías",
          "Cajas de ahorro popular",
          "Carnicerías",
          "Confección de productos textiles",
          "Construcción de carreteras y puentes",
          "Construcción de obras de urbanización",
          "Consultorios dentales",
          "Consultorios médicos",
          "Consultorías en administración",
          "Despachos contables",
          "Despachos jurídicos",
          "Edificación de inmuebles comerciales",
          "Edificación de naves industriales",
          "Edificación de vivienda unifamiliar",
          "Elaboración de alimentos para animales",
          "Elaboración de botanas",
          "Elaboración de dulces",
          "Elaboración de helados y paletas",
          "Elaboración de piezas para maquinaria",
          "Elaboración de tortillas",
          "Equipo y material eléctrico",
          "Escuelas",
          "Estéticas, salones de belleza y peluquerías",
          "Fabricación de bolsas de plástico",
          "Fabricación de calzado",
          "Fabricación de envases de cartón",
          "Fabricación de envases de plástico para embalaje",
          "Fabricación de jabones, limpiadores y dentífricos",
          "Fabricación de muebles",
          "Fabricación de preparaciones farmacéuticas",
          "Fabricación de productos de madera",
          "Farmacias",
          "Ferreterías y tlapalerías",
          "Fertilizantes, plaguicidas y semillas",
          "Gasolineras",
          "Herrería y estructuras metálicas",
          "Hoteles",
          "Impresión",
          "Inmobiliarias y agentes de bienes raíces",
          "Instalaciones eléctricas",
          "Joyerías y tiendas de relojes",
          "Laboratorios médicos y de diagnóstico",
          "Minisupers",
          "Mueblerías",
          "No especificado",
          "No especificado",
          "No especificado",
          "Otro",
          "Otro",
          "Otro",
          "Otro",
          "Panificación",
          "Papelerías",
          "Purificación de agua",
          "Refacciones para automóviles",
          "Reparación de electrónicos",
          "Reparación de maquinaria y equipo",
          "Restaurantes",
          "Servicios de acceso a computadoras (cibers)",
          "Talleres Mecánicos",
          "Taquerías y Tortas",
          "Tiendas de Lentes",
          "Tiendas de abarrotes",
          "Tiendas de celulares",
          "Tiendas de frutas y verduras",
          "Tiendas de perfumería y cosméticos",
          "Tiendas de pintura",
          "Tiendas de ropa",
          "Venta de materiales para la construcción",
          "Veterinarias",
          "Zapaterías",
          "Comercio",
          "Construcción",
          "Manufactura",
          "Servicios"
         ],
         "name": "",
         "parents": [
          "Servicios",
          "Servicios",
          "Servicios",
          "Comercio",
          "Manufactura",
          "Construcción",
          "Construcción",
          "Servicios",
          "Servicios",
          "Servicios",
          "Servicios",
          "Servicios",
          "Construcción",
          "Construcción",
          "Construcción",
          "Manufactura",
          "Manufactura",
          "Manufactura",
          "Manufactura",
          "Manufactura",
          "Manufactura",
          "Comercio",
          "Servicios",
          "Servicios",
          "Manufactura",
          "Manufactura",
          "Manufactura",
          "Manufactura",
          "Manufactura",
          "Manufactura",
          "Manufactura",
          "Construcción",
          "Comercio",
          "Comercio",
          "Comercio",
          "Comercio",
          "Manufactura",
          "Servicios",
          "Manufactura",
          "Servicios",
          "Construcción",
          "Comercio",
          "Servicios",
          "Comercio",
          "Comercio",
          "Comercio",
          "Manufactura",
          "Servicios",
          "Comercio",
          "Construcción",
          "Manufactura",
          "Servicios",
          "Manufactura",
          "Comercio",
          "Manufactura",
          "Comercio",
          "Servicios",
          "Servicios",
          "Servicios",
          "Servicios",
          "Servicios",
          "Servicios",
          "Comercio",
          "Comercio",
          "Comercio",
          "Comercio",
          "Comercio",
          "Comercio",
          "Comercio",
          "Comercio",
          "Servicios",
          "Comercio",
          "",
          "",
          "",
          ""
         ],
         "type": "sunburst",
         "values": [
          6,
          5,
          7.5,
          6,
          4,
          8,
          6,
          4.5,
          4,
          6,
          9,
          6,
          5.5,
          8,
          4,
          8,
          7,
          8,
          9,
          5.5,
          5,
          3,
          6,
          3,
          6,
          4.5,
          7.5,
          7.5,
          6.5,
          5,
          8.5,
          5,
          4,
          7,
          7,
          5,
          6,
          4,
          4,
          7,
          10,
          4,
          5,
          7,
          5.5,
          2,
          3,
          8,
          5,
          5,
          5,
          6,
          7.5,
          3,
          5,
          7,
          4,
          5,
          5,
          3,
          5,
          5.5,
          5,
          5,
          4.5,
          6,
          5,
          6,
          3,
          6,
          5,
          6,
          112,
          51.5,
          122.5,
          119.5
         ]
        }
       ],
       "layout": {
        "legend": {
         "tracegroupgap": 0
        },
        "margin": {
         "t": 60
        },
        "template": {
         "data": {
          "bar": [
           {
            "error_x": {
             "color": "#2a3f5f"
            },
            "error_y": {
             "color": "#2a3f5f"
            },
            "marker": {
             "line": {
              "color": "#E5ECF6",
              "width": 0.5
             }
            },
            "type": "bar"
           }
          ],
          "barpolar": [
           {
            "marker": {
             "line": {
              "color": "#E5ECF6",
              "width": 0.5
             }
            },
            "type": "barpolar"
           }
          ],
          "carpet": [
           {
            "aaxis": {
             "endlinecolor": "#2a3f5f",
             "gridcolor": "white",
             "linecolor": "white",
             "minorgridcolor": "white",
             "startlinecolor": "#2a3f5f"
            },
            "baxis": {
             "endlinecolor": "#2a3f5f",
             "gridcolor": "white",
             "linecolor": "white",
             "minorgridcolor": "white",
             "startlinecolor": "#2a3f5f"
            },
            "type": "carpet"
           }
          ],
          "choropleth": [
           {
            "colorbar": {
             "outlinewidth": 0,
             "ticks": ""
            },
            "type": "choropleth"
           }
          ],
          "contour": [
           {
            "colorbar": {
             "outlinewidth": 0,
             "ticks": ""
            },
            "colorscale": [
             [
              0,
              "#0d0887"
             ],
             [
              0.1111111111111111,
              "#46039f"
             ],
             [
              0.2222222222222222,
              "#7201a8"
             ],
             [
              0.3333333333333333,
              "#9c179e"
             ],
             [
              0.4444444444444444,
              "#bd3786"
             ],
             [
              0.5555555555555556,
              "#d8576b"
             ],
             [
              0.6666666666666666,
              "#ed7953"
             ],
             [
              0.7777777777777778,
              "#fb9f3a"
             ],
             [
              0.8888888888888888,
              "#fdca26"
             ],
             [
              1,
              "#f0f921"
             ]
            ],
            "type": "contour"
           }
          ],
          "contourcarpet": [
           {
            "colorbar": {
             "outlinewidth": 0,
             "ticks": ""
            },
            "type": "contourcarpet"
           }
          ],
          "heatmap": [
           {
            "colorbar": {
             "outlinewidth": 0,
             "ticks": ""
            },
            "colorscale": [
             [
              0,
              "#0d0887"
             ],
             [
              0.1111111111111111,
              "#46039f"
             ],
             [
              0.2222222222222222,
              "#7201a8"
             ],
             [
              0.3333333333333333,
              "#9c179e"
             ],
             [
              0.4444444444444444,
              "#bd3786"
             ],
             [
              0.5555555555555556,
              "#d8576b"
             ],
             [
              0.6666666666666666,
              "#ed7953"
             ],
             [
              0.7777777777777778,
              "#fb9f3a"
             ],
             [
              0.8888888888888888,
              "#fdca26"
             ],
             [
              1,
              "#f0f921"
             ]
            ],
            "type": "heatmap"
           }
          ],
          "heatmapgl": [
           {
            "colorbar": {
             "outlinewidth": 0,
             "ticks": ""
            },
            "colorscale": [
             [
              0,
              "#0d0887"
             ],
             [
              0.1111111111111111,
              "#46039f"
             ],
             [
              0.2222222222222222,
              "#7201a8"
             ],
             [
              0.3333333333333333,
              "#9c179e"
             ],
             [
              0.4444444444444444,
              "#bd3786"
             ],
             [
              0.5555555555555556,
              "#d8576b"
             ],
             [
              0.6666666666666666,
              "#ed7953"
             ],
             [
              0.7777777777777778,
              "#fb9f3a"
             ],
             [
              0.8888888888888888,
              "#fdca26"
             ],
             [
              1,
              "#f0f921"
             ]
            ],
            "type": "heatmapgl"
           }
          ],
          "histogram": [
           {
            "marker": {
             "colorbar": {
              "outlinewidth": 0,
              "ticks": ""
             }
            },
            "type": "histogram"
           }
          ],
          "histogram2d": [
           {
            "colorbar": {
             "outlinewidth": 0,
             "ticks": ""
            },
            "colorscale": [
             [
              0,
              "#0d0887"
             ],
             [
              0.1111111111111111,
              "#46039f"
             ],
             [
              0.2222222222222222,
              "#7201a8"
             ],
             [
              0.3333333333333333,
              "#9c179e"
             ],
             [
              0.4444444444444444,
              "#bd3786"
             ],
             [
              0.5555555555555556,
              "#d8576b"
             ],
             [
              0.6666666666666666,
              "#ed7953"
             ],
             [
              0.7777777777777778,
              "#fb9f3a"
             ],
             [
              0.8888888888888888,
              "#fdca26"
             ],
             [
              1,
              "#f0f921"
             ]
            ],
            "type": "histogram2d"
           }
          ],
          "histogram2dcontour": [
           {
            "colorbar": {
             "outlinewidth": 0,
             "ticks": ""
            },
            "colorscale": [
             [
              0,
              "#0d0887"
             ],
             [
              0.1111111111111111,
              "#46039f"
             ],
             [
              0.2222222222222222,
              "#7201a8"
             ],
             [
              0.3333333333333333,
              "#9c179e"
             ],
             [
              0.4444444444444444,
              "#bd3786"
             ],
             [
              0.5555555555555556,
              "#d8576b"
             ],
             [
              0.6666666666666666,
              "#ed7953"
             ],
             [
              0.7777777777777778,
              "#fb9f3a"
             ],
             [
              0.8888888888888888,
              "#fdca26"
             ],
             [
              1,
              "#f0f921"
             ]
            ],
            "type": "histogram2dcontour"
           }
          ],
          "mesh3d": [
           {
            "colorbar": {
             "outlinewidth": 0,
             "ticks": ""
            },
            "type": "mesh3d"
           }
          ],
          "parcoords": [
           {
            "line": {
             "colorbar": {
              "outlinewidth": 0,
              "ticks": ""
             }
            },
            "type": "parcoords"
           }
          ],
          "pie": [
           {
            "automargin": true,
            "type": "pie"
           }
          ],
          "scatter": [
           {
            "marker": {
             "colorbar": {
              "outlinewidth": 0,
              "ticks": ""
             }
            },
            "type": "scatter"
           }
          ],
          "scatter3d": [
           {
            "line": {
             "colorbar": {
              "outlinewidth": 0,
              "ticks": ""
             }
            },
            "marker": {
             "colorbar": {
              "outlinewidth": 0,
              "ticks": ""
             }
            },
            "type": "scatter3d"
           }
          ],
          "scattercarpet": [
           {
            "marker": {
             "colorbar": {
              "outlinewidth": 0,
              "ticks": ""
             }
            },
            "type": "scattercarpet"
           }
          ],
          "scattergeo": [
           {
            "marker": {
             "colorbar": {
              "outlinewidth": 0,
              "ticks": ""
             }
            },
            "type": "scattergeo"
           }
          ],
          "scattergl": [
           {
            "marker": {
             "colorbar": {
              "outlinewidth": 0,
              "ticks": ""
             }
            },
            "type": "scattergl"
           }
          ],
          "scattermapbox": [
           {
            "marker": {
             "colorbar": {
              "outlinewidth": 0,
              "ticks": ""
             }
            },
            "type": "scattermapbox"
           }
          ],
          "scatterpolar": [
           {
            "marker": {
             "colorbar": {
              "outlinewidth": 0,
              "ticks": ""
             }
            },
            "type": "scatterpolar"
           }
          ],
          "scatterpolargl": [
           {
            "marker": {
             "colorbar": {
              "outlinewidth": 0,
              "ticks": ""
             }
            },
            "type": "scatterpolargl"
           }
          ],
          "scatterternary": [
           {
            "marker": {
             "colorbar": {
              "outlinewidth": 0,
              "ticks": ""
             }
            },
            "type": "scatterternary"
           }
          ],
          "surface": [
           {
            "colorbar": {
             "outlinewidth": 0,
             "ticks": ""
            },
            "colorscale": [
             [
              0,
              "#0d0887"
             ],
             [
              0.1111111111111111,
              "#46039f"
             ],
             [
              0.2222222222222222,
              "#7201a8"
             ],
             [
              0.3333333333333333,
              "#9c179e"
             ],
             [
              0.4444444444444444,
              "#bd3786"
             ],
             [
              0.5555555555555556,
              "#d8576b"
             ],
             [
              0.6666666666666666,
              "#ed7953"
             ],
             [
              0.7777777777777778,
              "#fb9f3a"
             ],
             [
              0.8888888888888888,
              "#fdca26"
             ],
             [
              1,
              "#f0f921"
             ]
            ],
            "type": "surface"
           }
          ],
          "table": [
           {
            "cells": {
             "fill": {
              "color": "#EBF0F8"
             },
             "line": {
              "color": "white"
             }
            },
            "header": {
             "fill": {
              "color": "#C8D4E3"
             },
             "line": {
              "color": "white"
             }
            },
            "type": "table"
           }
          ]
         },
         "layout": {
          "annotationdefaults": {
           "arrowcolor": "#2a3f5f",
           "arrowhead": 0,
           "arrowwidth": 1
          },
          "coloraxis": {
           "colorbar": {
            "outlinewidth": 0,
            "ticks": ""
           }
          },
          "colorscale": {
           "diverging": [
            [
             0,
             "#8e0152"
            ],
            [
             0.1,
             "#c51b7d"
            ],
            [
             0.2,
             "#de77ae"
            ],
            [
             0.3,
             "#f1b6da"
            ],
            [
             0.4,
             "#fde0ef"
            ],
            [
             0.5,
             "#f7f7f7"
            ],
            [
             0.6,
             "#e6f5d0"
            ],
            [
             0.7,
             "#b8e186"
            ],
            [
             0.8,
             "#7fbc41"
            ],
            [
             0.9,
             "#4d9221"
            ],
            [
             1,
             "#276419"
            ]
           ],
           "sequential": [
            [
             0,
             "#0d0887"
            ],
            [
             0.1111111111111111,
             "#46039f"
            ],
            [
             0.2222222222222222,
             "#7201a8"
            ],
            [
             0.3333333333333333,
             "#9c179e"
            ],
            [
             0.4444444444444444,
             "#bd3786"
            ],
            [
             0.5555555555555556,
             "#d8576b"
            ],
            [
             0.6666666666666666,
             "#ed7953"
            ],
            [
             0.7777777777777778,
             "#fb9f3a"
            ],
            [
             0.8888888888888888,
             "#fdca26"
            ],
            [
             1,
             "#f0f921"
            ]
           ],
           "sequentialminus": [
            [
             0,
             "#0d0887"
            ],
            [
             0.1111111111111111,
             "#46039f"
            ],
            [
             0.2222222222222222,
             "#7201a8"
            ],
            [
             0.3333333333333333,
             "#9c179e"
            ],
            [
             0.4444444444444444,
             "#bd3786"
            ],
            [
             0.5555555555555556,
             "#d8576b"
            ],
            [
             0.6666666666666666,
             "#ed7953"
            ],
            [
             0.7777777777777778,
             "#fb9f3a"
            ],
            [
             0.8888888888888888,
             "#fdca26"
            ],
            [
             1,
             "#f0f921"
            ]
           ]
          },
          "colorway": [
           "#636efa",
           "#EF553B",
           "#00cc96",
           "#ab63fa",
           "#FFA15A",
           "#19d3f3",
           "#FF6692",
           "#B6E880",
           "#FF97FF",
           "#FECB52"
          ],
          "font": {
           "color": "#2a3f5f"
          },
          "geo": {
           "bgcolor": "white",
           "lakecolor": "white",
           "landcolor": "#E5ECF6",
           "showlakes": true,
           "showland": true,
           "subunitcolor": "white"
          },
          "hoverlabel": {
           "align": "left"
          },
          "hovermode": "closest",
          "mapbox": {
           "style": "light"
          },
          "paper_bgcolor": "white",
          "plot_bgcolor": "#E5ECF6",
          "polar": {
           "angularaxis": {
            "gridcolor": "white",
            "linecolor": "white",
            "ticks": ""
           },
           "bgcolor": "#E5ECF6",
           "radialaxis": {
            "gridcolor": "white",
            "linecolor": "white",
            "ticks": ""
           }
          },
          "scene": {
           "xaxis": {
            "backgroundcolor": "#E5ECF6",
            "gridcolor": "white",
            "gridwidth": 2,
            "linecolor": "white",
            "showbackground": true,
            "ticks": "",
            "zerolinecolor": "white"
           },
           "yaxis": {
            "backgroundcolor": "#E5ECF6",
            "gridcolor": "white",
            "gridwidth": 2,
            "linecolor": "white",
            "showbackground": true,
            "ticks": "",
            "zerolinecolor": "white"
           },
           "zaxis": {
            "backgroundcolor": "#E5ECF6",
            "gridcolor": "white",
            "gridwidth": 2,
            "linecolor": "white",
            "showbackground": true,
            "ticks": "",
            "zerolinecolor": "white"
           }
          },
          "shapedefaults": {
           "line": {
            "color": "#2a3f5f"
           }
          },
          "ternary": {
           "aaxis": {
            "gridcolor": "white",
            "linecolor": "white",
            "ticks": ""
           },
           "baxis": {
            "gridcolor": "white",
            "linecolor": "white",
            "ticks": ""
           },
           "bgcolor": "#E5ECF6",
           "caxis": {
            "gridcolor": "white",
            "linecolor": "white",
            "ticks": ""
           }
          },
          "title": {
           "x": 0.05
          },
          "xaxis": {
           "automargin": true,
           "gridcolor": "white",
           "linecolor": "white",
           "ticks": "",
           "title": {
            "standoff": 15
           },
           "zerolinecolor": "white",
           "zerolinewidth": 2
          },
          "yaxis": {
           "automargin": true,
           "gridcolor": "white",
           "linecolor": "white",
           "ticks": "",
           "title": {
            "standoff": 15
           },
           "zerolinecolor": "white",
           "zerolinewidth": 2
          }
         }
        }
       }
      },
      "text/html": [
       "<div>\n",
       "        \n",
       "        \n",
       "            <div id=\"32002392-933c-416e-aca7-0def2bff8f53\" class=\"plotly-graph-div\" style=\"height:525px; width:100%;\"></div>\n",
       "            <script type=\"text/javascript\">\n",
       "                require([\"plotly\"], function(Plotly) {\n",
       "                    window.PLOTLYENV=window.PLOTLYENV || {};\n",
       "                    \n",
       "                if (document.getElementById(\"32002392-933c-416e-aca7-0def2bff8f53\")) {\n",
       "                    Plotly.newPlot(\n",
       "                        '32002392-933c-416e-aca7-0def2bff8f53',\n",
       "                        [{\"branchvalues\": \"total\", \"domain\": {\"x\": [0.0, 1.0], \"y\": [0.0, 1.0]}, \"hovertemplate\": \"labels=%{label}<br>Total=%{value}<br>parent=%{parent}<br>id=%{id}<extra></extra>\", \"ids\": [\"Servicios/Agencias de viajes\", \"Servicios/Cafeter\\u00edas y never\\u00edas\", \"Servicios/Cajas de ahorro popular\", \"Comercio/Carnicer\\u00edas\", \"Manufactura/Confecci\\u00f3n de productos textiles\", \"Construcci\\u00f3n/Construcci\\u00f3n de carreteras y puentes\", \"Construcci\\u00f3n/Construcci\\u00f3n de obras de urbanizaci\\u00f3n\", \"Servicios/Consultorios dentales\", \"Servicios/Consultorios m\\u00e9dicos\", \"Servicios/Consultor\\u00edas en administraci\\u00f3n\", \"Servicios/Despachos contables\", \"Servicios/Despachos jur\\u00eddicos\", \"Construcci\\u00f3n/Edificaci\\u00f3n de inmuebles comerciales\", \"Construcci\\u00f3n/Edificaci\\u00f3n de naves industriales\", \"Construcci\\u00f3n/Edificaci\\u00f3n de vivienda unifamiliar\", \"Manufactura/Elaboraci\\u00f3n de alimentos para animales\", \"Manufactura/Elaboraci\\u00f3n de botanas\", \"Manufactura/Elaboraci\\u00f3n de dulces\", \"Manufactura/Elaboraci\\u00f3n de helados y paletas\", \"Manufactura/Elaboraci\\u00f3n de piezas para maquinaria\", \"Manufactura/Elaboraci\\u00f3n de tortillas\", \"Comercio/Equipo y material el\\u00e9ctrico\", \"Servicios/Escuelas\", \"Servicios/Est\\u00e9ticas, salones de belleza y peluquer\\u00edas\", \"Manufactura/Fabricaci\\u00f3n de bolsas de pl\\u00e1stico\", \"Manufactura/Fabricaci\\u00f3n de calzado\", \"Manufactura/Fabricaci\\u00f3n de envases de cart\\u00f3n\", \"Manufactura/Fabricaci\\u00f3n de envases de pl\\u00e1stico para embalaje\", \"Manufactura/Fabricaci\\u00f3n de jabones, limpiadores y dent\\u00edfricos\", \"Manufactura/Fabricaci\\u00f3n de muebles\", \"Manufactura/Fabricaci\\u00f3n de preparaciones farmac\\u00e9uticas\", \"Construcci\\u00f3n/Fabricaci\\u00f3n de productos de madera\", \"Comercio/Farmacias\", \"Comercio/Ferreter\\u00edas y tlapaler\\u00edas\", \"Comercio/Fertilizantes, plaguicidas y semillas\", \"Comercio/Gasolineras\", \"Manufactura/Herrer\\u00eda y estructuras met\\u00e1licas\", \"Servicios/Hoteles\", \"Manufactura/Impresi\\u00f3n\", \"Servicios/Inmobiliarias y agentes de bienes ra\\u00edces\", \"Construcci\\u00f3n/Instalaciones el\\u00e9ctricas\", \"Comercio/Joyer\\u00edas y tiendas de relojes\", \"Servicios/Laboratorios m\\u00e9dicos y de diagn\\u00f3stico\", \"Comercio/Minisupers\", \"Comercio/Muebler\\u00edas\", \"Comercio/No especificado\", \"Manufactura/No especificado\", \"Servicios/No especificado\", \"Comercio/Otro\", \"Construcci\\u00f3n/Otro\", \"Manufactura/Otro\", \"Servicios/Otro\", \"Manufactura/Panificaci\\u00f3n\", \"Comercio/Papeler\\u00edas\", \"Manufactura/Purificaci\\u00f3n de agua\", \"Comercio/Refacciones para autom\\u00f3viles\", \"Servicios/Reparaci\\u00f3n de electr\\u00f3nicos\", \"Servicios/Reparaci\\u00f3n de maquinaria y equipo\", \"Servicios/Restaurantes\", \"Servicios/Servicios de acceso a computadoras (cibers)\", \"Servicios/Talleres Mec\\u00e1nicos\", \"Servicios/Taquer\\u00edas y Tortas\", \"Comercio/Tiendas de Lentes\", \"Comercio/Tiendas de abarrotes\", \"Comercio/Tiendas de celulares\", \"Comercio/Tiendas de frutas y verduras\", \"Comercio/Tiendas de perfumer\\u00eda y cosm\\u00e9ticos\", \"Comercio/Tiendas de pintura\", \"Comercio/Tiendas de ropa\", \"Comercio/Venta de materiales para la construcci\\u00f3n\", \"Servicios/Veterinarias\", \"Comercio/Zapater\\u00edas\", \"Comercio\", \"Construcci\\u00f3n\", \"Manufactura\", \"Servicios\"], \"labels\": [\"Agencias de viajes\", \"Cafeter\\u00edas y never\\u00edas\", \"Cajas de ahorro popular\", \"Carnicer\\u00edas\", \"Confecci\\u00f3n de productos textiles\", \"Construcci\\u00f3n de carreteras y puentes\", \"Construcci\\u00f3n de obras de urbanizaci\\u00f3n\", \"Consultorios dentales\", \"Consultorios m\\u00e9dicos\", \"Consultor\\u00edas en administraci\\u00f3n\", \"Despachos contables\", \"Despachos jur\\u00eddicos\", \"Edificaci\\u00f3n de inmuebles comerciales\", \"Edificaci\\u00f3n de naves industriales\", \"Edificaci\\u00f3n de vivienda unifamiliar\", \"Elaboraci\\u00f3n de alimentos para animales\", \"Elaboraci\\u00f3n de botanas\", \"Elaboraci\\u00f3n de dulces\", \"Elaboraci\\u00f3n de helados y paletas\", \"Elaboraci\\u00f3n de piezas para maquinaria\", \"Elaboraci\\u00f3n de tortillas\", \"Equipo y material el\\u00e9ctrico\", \"Escuelas\", \"Est\\u00e9ticas, salones de belleza y peluquer\\u00edas\", \"Fabricaci\\u00f3n de bolsas de pl\\u00e1stico\", \"Fabricaci\\u00f3n de calzado\", \"Fabricaci\\u00f3n de envases de cart\\u00f3n\", \"Fabricaci\\u00f3n de envases de pl\\u00e1stico para embalaje\", \"Fabricaci\\u00f3n de jabones, limpiadores y dent\\u00edfricos\", \"Fabricaci\\u00f3n de muebles\", \"Fabricaci\\u00f3n de preparaciones farmac\\u00e9uticas\", \"Fabricaci\\u00f3n de productos de madera\", \"Farmacias\", \"Ferreter\\u00edas y tlapaler\\u00edas\", \"Fertilizantes, plaguicidas y semillas\", \"Gasolineras\", \"Herrer\\u00eda y estructuras met\\u00e1licas\", \"Hoteles\", \"Impresi\\u00f3n\", \"Inmobiliarias y agentes de bienes ra\\u00edces\", \"Instalaciones el\\u00e9ctricas\", \"Joyer\\u00edas y tiendas de relojes\", \"Laboratorios m\\u00e9dicos y de diagn\\u00f3stico\", \"Minisupers\", \"Muebler\\u00edas\", \"No especificado\", \"No especificado\", \"No especificado\", \"Otro\", \"Otro\", \"Otro\", \"Otro\", \"Panificaci\\u00f3n\", \"Papeler\\u00edas\", \"Purificaci\\u00f3n de agua\", \"Refacciones para autom\\u00f3viles\", \"Reparaci\\u00f3n de electr\\u00f3nicos\", \"Reparaci\\u00f3n de maquinaria y equipo\", \"Restaurantes\", \"Servicios de acceso a computadoras (cibers)\", \"Talleres Mec\\u00e1nicos\", \"Taquer\\u00edas y Tortas\", \"Tiendas de Lentes\", \"Tiendas de abarrotes\", \"Tiendas de celulares\", \"Tiendas de frutas y verduras\", \"Tiendas de perfumer\\u00eda y cosm\\u00e9ticos\", \"Tiendas de pintura\", \"Tiendas de ropa\", \"Venta de materiales para la construcci\\u00f3n\", \"Veterinarias\", \"Zapater\\u00edas\", \"Comercio\", \"Construcci\\u00f3n\", \"Manufactura\", \"Servicios\"], \"name\": \"\", \"parents\": [\"Servicios\", \"Servicios\", \"Servicios\", \"Comercio\", \"Manufactura\", \"Construcci\\u00f3n\", \"Construcci\\u00f3n\", \"Servicios\", \"Servicios\", \"Servicios\", \"Servicios\", \"Servicios\", \"Construcci\\u00f3n\", \"Construcci\\u00f3n\", \"Construcci\\u00f3n\", \"Manufactura\", \"Manufactura\", \"Manufactura\", \"Manufactura\", \"Manufactura\", \"Manufactura\", \"Comercio\", \"Servicios\", \"Servicios\", \"Manufactura\", \"Manufactura\", \"Manufactura\", \"Manufactura\", \"Manufactura\", \"Manufactura\", \"Manufactura\", \"Construcci\\u00f3n\", \"Comercio\", \"Comercio\", \"Comercio\", \"Comercio\", \"Manufactura\", \"Servicios\", \"Manufactura\", \"Servicios\", \"Construcci\\u00f3n\", \"Comercio\", \"Servicios\", \"Comercio\", \"Comercio\", \"Comercio\", \"Manufactura\", \"Servicios\", \"Comercio\", \"Construcci\\u00f3n\", \"Manufactura\", \"Servicios\", \"Manufactura\", \"Comercio\", \"Manufactura\", \"Comercio\", \"Servicios\", \"Servicios\", \"Servicios\", \"Servicios\", \"Servicios\", \"Servicios\", \"Comercio\", \"Comercio\", \"Comercio\", \"Comercio\", \"Comercio\", \"Comercio\", \"Comercio\", \"Comercio\", \"Servicios\", \"Comercio\", \"\", \"\", \"\", \"\"], \"type\": \"sunburst\", \"values\": [6.0, 5.0, 7.5, 6.0, 4.0, 8.0, 6.0, 4.5, 4.0, 6.0, 9.0, 6.0, 5.5, 8.0, 4.0, 8.0, 7.0, 8.0, 9.0, 5.5, 5.0, 3.0, 6.0, 3.0, 6.0, 4.5, 7.5, 7.5, 6.5, 5.0, 8.5, 5.0, 4.0, 7.0, 7.0, 5.0, 6.0, 4.0, 4.0, 7.0, 10.0, 4.0, 5.0, 7.0, 5.5, 2.0, 3.0, 8.0, 5.0, 5.0, 5.0, 6.0, 7.5, 3.0, 5.0, 7.0, 4.0, 5.0, 5.0, 3.0, 5.0, 5.5, 5.0, 5.0, 4.5, 6.0, 5.0, 6.0, 3.0, 6.0, 5.0, 6.0, 112.0, 51.5, 122.5, 119.5]}],\n",
       "                        {\"legend\": {\"tracegroupgap\": 0}, \"margin\": {\"t\": 60}, \"template\": {\"data\": {\"bar\": [{\"error_x\": {\"color\": \"#2a3f5f\"}, \"error_y\": {\"color\": \"#2a3f5f\"}, \"marker\": {\"line\": {\"color\": \"#E5ECF6\", \"width\": 0.5}}, \"type\": \"bar\"}], \"barpolar\": [{\"marker\": {\"line\": {\"color\": \"#E5ECF6\", \"width\": 0.5}}, \"type\": \"barpolar\"}], \"carpet\": [{\"aaxis\": {\"endlinecolor\": \"#2a3f5f\", \"gridcolor\": \"white\", \"linecolor\": \"white\", \"minorgridcolor\": \"white\", \"startlinecolor\": \"#2a3f5f\"}, \"baxis\": {\"endlinecolor\": \"#2a3f5f\", \"gridcolor\": \"white\", \"linecolor\": \"white\", \"minorgridcolor\": \"white\", \"startlinecolor\": \"#2a3f5f\"}, \"type\": \"carpet\"}], \"choropleth\": [{\"colorbar\": {\"outlinewidth\": 0, \"ticks\": \"\"}, \"type\": \"choropleth\"}], \"contour\": [{\"colorbar\": {\"outlinewidth\": 0, \"ticks\": \"\"}, \"colorscale\": [[0.0, \"#0d0887\"], [0.1111111111111111, \"#46039f\"], [0.2222222222222222, \"#7201a8\"], [0.3333333333333333, \"#9c179e\"], [0.4444444444444444, \"#bd3786\"], [0.5555555555555556, \"#d8576b\"], [0.6666666666666666, \"#ed7953\"], [0.7777777777777778, \"#fb9f3a\"], [0.8888888888888888, \"#fdca26\"], [1.0, \"#f0f921\"]], \"type\": \"contour\"}], \"contourcarpet\": [{\"colorbar\": {\"outlinewidth\": 0, \"ticks\": \"\"}, \"type\": \"contourcarpet\"}], \"heatmap\": [{\"colorbar\": {\"outlinewidth\": 0, \"ticks\": \"\"}, \"colorscale\": [[0.0, \"#0d0887\"], [0.1111111111111111, \"#46039f\"], [0.2222222222222222, \"#7201a8\"], [0.3333333333333333, \"#9c179e\"], [0.4444444444444444, \"#bd3786\"], [0.5555555555555556, \"#d8576b\"], [0.6666666666666666, \"#ed7953\"], [0.7777777777777778, \"#fb9f3a\"], [0.8888888888888888, \"#fdca26\"], [1.0, \"#f0f921\"]], \"type\": \"heatmap\"}], \"heatmapgl\": [{\"colorbar\": {\"outlinewidth\": 0, \"ticks\": \"\"}, \"colorscale\": [[0.0, \"#0d0887\"], [0.1111111111111111, \"#46039f\"], [0.2222222222222222, \"#7201a8\"], [0.3333333333333333, \"#9c179e\"], [0.4444444444444444, \"#bd3786\"], [0.5555555555555556, \"#d8576b\"], [0.6666666666666666, \"#ed7953\"], [0.7777777777777778, \"#fb9f3a\"], [0.8888888888888888, \"#fdca26\"], [1.0, \"#f0f921\"]], \"type\": \"heatmapgl\"}], \"histogram\": [{\"marker\": {\"colorbar\": {\"outlinewidth\": 0, \"ticks\": \"\"}}, \"type\": \"histogram\"}], \"histogram2d\": [{\"colorbar\": {\"outlinewidth\": 0, \"ticks\": \"\"}, \"colorscale\": [[0.0, \"#0d0887\"], [0.1111111111111111, \"#46039f\"], [0.2222222222222222, \"#7201a8\"], [0.3333333333333333, \"#9c179e\"], [0.4444444444444444, \"#bd3786\"], [0.5555555555555556, \"#d8576b\"], [0.6666666666666666, \"#ed7953\"], [0.7777777777777778, \"#fb9f3a\"], [0.8888888888888888, \"#fdca26\"], [1.0, \"#f0f921\"]], \"type\": \"histogram2d\"}], \"histogram2dcontour\": [{\"colorbar\": {\"outlinewidth\": 0, \"ticks\": \"\"}, \"colorscale\": [[0.0, \"#0d0887\"], [0.1111111111111111, \"#46039f\"], [0.2222222222222222, \"#7201a8\"], [0.3333333333333333, \"#9c179e\"], [0.4444444444444444, \"#bd3786\"], [0.5555555555555556, \"#d8576b\"], [0.6666666666666666, \"#ed7953\"], [0.7777777777777778, \"#fb9f3a\"], [0.8888888888888888, \"#fdca26\"], [1.0, \"#f0f921\"]], \"type\": \"histogram2dcontour\"}], \"mesh3d\": [{\"colorbar\": {\"outlinewidth\": 0, \"ticks\": \"\"}, \"type\": \"mesh3d\"}], \"parcoords\": [{\"line\": {\"colorbar\": {\"outlinewidth\": 0, \"ticks\": \"\"}}, \"type\": \"parcoords\"}], \"pie\": [{\"automargin\": true, \"type\": \"pie\"}], \"scatter\": [{\"marker\": {\"colorbar\": {\"outlinewidth\": 0, \"ticks\": \"\"}}, \"type\": \"scatter\"}], \"scatter3d\": [{\"line\": {\"colorbar\": {\"outlinewidth\": 0, \"ticks\": \"\"}}, \"marker\": {\"colorbar\": {\"outlinewidth\": 0, \"ticks\": \"\"}}, \"type\": \"scatter3d\"}], \"scattercarpet\": [{\"marker\": {\"colorbar\": {\"outlinewidth\": 0, \"ticks\": \"\"}}, \"type\": \"scattercarpet\"}], \"scattergeo\": [{\"marker\": {\"colorbar\": {\"outlinewidth\": 0, \"ticks\": \"\"}}, \"type\": \"scattergeo\"}], \"scattergl\": [{\"marker\": {\"colorbar\": {\"outlinewidth\": 0, \"ticks\": \"\"}}, \"type\": \"scattergl\"}], \"scattermapbox\": [{\"marker\": {\"colorbar\": {\"outlinewidth\": 0, \"ticks\": \"\"}}, \"type\": \"scattermapbox\"}], \"scatterpolar\": [{\"marker\": {\"colorbar\": {\"outlinewidth\": 0, \"ticks\": \"\"}}, \"type\": \"scatterpolar\"}], \"scatterpolargl\": [{\"marker\": {\"colorbar\": {\"outlinewidth\": 0, \"ticks\": \"\"}}, \"type\": \"scatterpolargl\"}], \"scatterternary\": [{\"marker\": {\"colorbar\": {\"outlinewidth\": 0, \"ticks\": \"\"}}, \"type\": \"scatterternary\"}], \"surface\": [{\"colorbar\": {\"outlinewidth\": 0, \"ticks\": \"\"}, \"colorscale\": [[0.0, \"#0d0887\"], [0.1111111111111111, \"#46039f\"], [0.2222222222222222, \"#7201a8\"], [0.3333333333333333, \"#9c179e\"], [0.4444444444444444, \"#bd3786\"], [0.5555555555555556, \"#d8576b\"], [0.6666666666666666, \"#ed7953\"], [0.7777777777777778, \"#fb9f3a\"], [0.8888888888888888, \"#fdca26\"], [1.0, \"#f0f921\"]], \"type\": \"surface\"}], \"table\": [{\"cells\": {\"fill\": {\"color\": \"#EBF0F8\"}, \"line\": {\"color\": \"white\"}}, \"header\": {\"fill\": {\"color\": \"#C8D4E3\"}, \"line\": {\"color\": \"white\"}}, \"type\": \"table\"}]}, \"layout\": {\"annotationdefaults\": {\"arrowcolor\": \"#2a3f5f\", \"arrowhead\": 0, \"arrowwidth\": 1}, \"coloraxis\": {\"colorbar\": {\"outlinewidth\": 0, \"ticks\": \"\"}}, \"colorscale\": {\"diverging\": [[0, \"#8e0152\"], [0.1, \"#c51b7d\"], [0.2, \"#de77ae\"], [0.3, \"#f1b6da\"], [0.4, \"#fde0ef\"], [0.5, \"#f7f7f7\"], [0.6, \"#e6f5d0\"], [0.7, \"#b8e186\"], [0.8, \"#7fbc41\"], [0.9, \"#4d9221\"], [1, \"#276419\"]], \"sequential\": [[0.0, \"#0d0887\"], [0.1111111111111111, \"#46039f\"], [0.2222222222222222, \"#7201a8\"], [0.3333333333333333, \"#9c179e\"], [0.4444444444444444, \"#bd3786\"], [0.5555555555555556, \"#d8576b\"], [0.6666666666666666, \"#ed7953\"], [0.7777777777777778, \"#fb9f3a\"], [0.8888888888888888, \"#fdca26\"], [1.0, \"#f0f921\"]], \"sequentialminus\": [[0.0, \"#0d0887\"], [0.1111111111111111, \"#46039f\"], [0.2222222222222222, \"#7201a8\"], [0.3333333333333333, \"#9c179e\"], [0.4444444444444444, \"#bd3786\"], [0.5555555555555556, \"#d8576b\"], [0.6666666666666666, \"#ed7953\"], [0.7777777777777778, \"#fb9f3a\"], [0.8888888888888888, \"#fdca26\"], [1.0, \"#f0f921\"]]}, \"colorway\": [\"#636efa\", \"#EF553B\", \"#00cc96\", \"#ab63fa\", \"#FFA15A\", \"#19d3f3\", \"#FF6692\", \"#B6E880\", \"#FF97FF\", \"#FECB52\"], \"font\": {\"color\": \"#2a3f5f\"}, \"geo\": {\"bgcolor\": \"white\", \"lakecolor\": \"white\", \"landcolor\": \"#E5ECF6\", \"showlakes\": true, \"showland\": true, \"subunitcolor\": \"white\"}, \"hoverlabel\": {\"align\": \"left\"}, \"hovermode\": \"closest\", \"mapbox\": {\"style\": \"light\"}, \"paper_bgcolor\": \"white\", \"plot_bgcolor\": \"#E5ECF6\", \"polar\": {\"angularaxis\": {\"gridcolor\": \"white\", \"linecolor\": \"white\", \"ticks\": \"\"}, \"bgcolor\": \"#E5ECF6\", \"radialaxis\": {\"gridcolor\": \"white\", \"linecolor\": \"white\", \"ticks\": \"\"}}, \"scene\": {\"xaxis\": {\"backgroundcolor\": \"#E5ECF6\", \"gridcolor\": \"white\", \"gridwidth\": 2, \"linecolor\": \"white\", \"showbackground\": true, \"ticks\": \"\", \"zerolinecolor\": \"white\"}, \"yaxis\": {\"backgroundcolor\": \"#E5ECF6\", \"gridcolor\": \"white\", \"gridwidth\": 2, \"linecolor\": \"white\", \"showbackground\": true, \"ticks\": \"\", \"zerolinecolor\": \"white\"}, \"zaxis\": {\"backgroundcolor\": \"#E5ECF6\", \"gridcolor\": \"white\", \"gridwidth\": 2, \"linecolor\": \"white\", \"showbackground\": true, \"ticks\": \"\", \"zerolinecolor\": \"white\"}}, \"shapedefaults\": {\"line\": {\"color\": \"#2a3f5f\"}}, \"ternary\": {\"aaxis\": {\"gridcolor\": \"white\", \"linecolor\": \"white\", \"ticks\": \"\"}, \"baxis\": {\"gridcolor\": \"white\", \"linecolor\": \"white\", \"ticks\": \"\"}, \"bgcolor\": \"#E5ECF6\", \"caxis\": {\"gridcolor\": \"white\", \"linecolor\": \"white\", \"ticks\": \"\"}}, \"title\": {\"x\": 0.05}, \"xaxis\": {\"automargin\": true, \"gridcolor\": \"white\", \"linecolor\": \"white\", \"ticks\": \"\", \"title\": {\"standoff\": 15}, \"zerolinecolor\": \"white\", \"zerolinewidth\": 2}, \"yaxis\": {\"automargin\": true, \"gridcolor\": \"white\", \"linecolor\": \"white\", \"ticks\": \"\", \"title\": {\"standoff\": 15}, \"zerolinecolor\": \"white\", \"zerolinewidth\": 2}}}},\n",
       "                        {\"responsive\": true}\n",
       "                    ).then(function(){\n",
       "                            \n",
       "var gd = document.getElementById('32002392-933c-416e-aca7-0def2bff8f53');\n",
       "var x = new MutationObserver(function (mutations, observer) {{\n",
       "        var display = window.getComputedStyle(gd).display;\n",
       "        if (!display || display === 'none') {{\n",
       "            console.log([gd, 'removed!']);\n",
       "            Plotly.purge(gd);\n",
       "            observer.disconnect();\n",
       "        }}\n",
       "}});\n",
       "\n",
       "// Listen for the removal of the full notebook cells\n",
       "var notebookContainer = gd.closest('#notebook-container');\n",
       "if (notebookContainer) {{\n",
       "    x.observe(notebookContainer, {childList: true});\n",
       "}}\n",
       "\n",
       "// Listen for the clearing of the current output cell\n",
       "var outputEl = gd.closest('.output');\n",
       "if (outputEl) {{\n",
       "    x.observe(outputEl, {childList: true});\n",
       "}}\n",
       "\n",
       "                        })\n",
       "                };\n",
       "                });\n",
       "            </script>\n",
       "        </div>"
      ]
     },
     "metadata": {},
     "output_type": "display_data"
    }
   ],
   "source": [
    "fig = px.sunburst(pivot_sector_giro, path=['Sector','Giro'], values='Total')\n",
    "fig.show()"
   ]
  },
  {
   "cell_type": "code",
   "execution_count": null,
   "metadata": {},
   "outputs": [],
   "source": []
  }
 ],
 "metadata": {
  "kernelspec": {
   "display_name": "Python 3",
   "language": "python",
   "name": "python3"
  },
  "language_info": {
   "codemirror_mode": {
    "name": "ipython",
    "version": 3
   },
   "file_extension": ".py",
   "mimetype": "text/x-python",
   "name": "python",
   "nbconvert_exporter": "python",
   "pygments_lexer": "ipython3",
   "version": "3.7.4"
  }
 },
 "nbformat": 4,
 "nbformat_minor": 2
}
