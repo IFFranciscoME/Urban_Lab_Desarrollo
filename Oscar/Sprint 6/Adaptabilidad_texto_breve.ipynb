{
 "cells": [
  {
   "cell_type": "markdown",
   "metadata": {},
   "source": [
    "# Texto breve"
   ]
  },
  {
   "cell_type": "code",
   "execution_count": 1,
   "metadata": {
    "ExecuteTime": {
     "end_time": "2020-06-29T14:56:50.370325Z",
     "start_time": "2020-06-29T14:56:50.354421Z"
    }
   },
   "outputs": [],
   "source": [
    "# .. ................................................................................... .. #\n",
    "# .. Proyecto: UrbanLab - Plataforma de ayuda para micro y pequeñas empresas             .. #\n",
    "# .. Archivo: adap_desc.py - descripción de la métrica de Adaptabilidad                  .. #\n",
    "# .. Licencia: Todos los derechos reservados                                             .. #\n",
    "# .. Repositorio: https://github.com/IFFranciscoME/Urban_Lab_App.git                     .. #\n",
    "# .. ................................................................................... .. #\n",
    "\n",
    "def adap_desc():\n",
    "    \"\"\"\n",
    "    \n",
    "    Esta funcion regresa una pequena descripcion de lo que es la metrica seleccionada, \\\n",
    "    en este caso, la metrica de Adaptabilidad.\n",
    "    \n",
    "    \n",
    "    Parametros\n",
    "    ---------\n",
    "        None\n",
    "        \n",
    "    Returns\n",
    "    ---------\n",
    "        texto: str : Descripción de la metrica Adaptabilidad\n",
    "        \n",
    "    Debugging\n",
    "    ---------\n",
    "        None\n",
    "    \"\"\"\n",
    "\n",
    "    texto = \"Es importante tomar en cuenta la adaptabilidad en el trabajo a realizar debido a que es una capacidad en la que debería terminar el estrés, es decir, la reacción de estrés a los estímulos externos muchas veces demanda una adaptación. Además la naturalidadde esta pandemia nos ha puesto a todos en una situación de nueva normalidad a la que es necesario adaptarse. Se decidió utilizar la frecuencia del 0 al 2 ya que se consideró que con ese rango se permite, de manera más sencilla, poder agrupar y categorizar las variables y de esta forma se puede obtener un resultado mucho más acertado y exacto.\"\n",
    "\n",
    "    return texto"
   ]
  },
  {
   "cell_type": "code",
   "execution_count": 2,
   "metadata": {
    "ExecuteTime": {
     "end_time": "2020-06-29T14:56:50.412504Z",
     "start_time": "2020-06-29T14:56:50.403877Z"
    }
   },
   "outputs": [
    {
     "name": "stdout",
     "output_type": "stream",
     "text": [
      "Es importante tomar en cuenta la adaptabilidad en el trabajo a realizar debido a que es una capacidad en la que debería terminar el estrés, es decir, la reacción de estrés a los estímulos externos muchas veces demanda una adaptación. Además la naturalidadde esta pandemia nos ha puesto a todos en una situación de nueva normalidad a la que es necesario adaptarse. Se decidió utilizar la frecuencia del 0 al 2 ya que se consideró que con ese rango se permite, de manera más sencilla, poder agrupar y categorizar las variables y de esta forma se puede obtener un resultado mucho más acertado y exacto.\n"
     ]
    }
   ],
   "source": [
    "desc = adap_desc()\n",
    "print(desc)"
   ]
  }
 ],
 "metadata": {
  "kernelspec": {
   "display_name": "Python 3",
   "language": "python",
   "name": "python3"
  },
  "language_info": {
   "codemirror_mode": {
    "name": "ipython",
    "version": 3
   },
   "file_extension": ".py",
   "mimetype": "text/x-python",
   "name": "python",
   "nbconvert_exporter": "python",
   "pygments_lexer": "ipython3",
   "version": "3.7.4"
  }
 },
 "nbformat": 4,
 "nbformat_minor": 2
}
