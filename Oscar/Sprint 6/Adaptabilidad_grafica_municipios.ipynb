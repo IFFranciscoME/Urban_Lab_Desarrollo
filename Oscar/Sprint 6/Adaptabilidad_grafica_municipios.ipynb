{
 "cells": [
  {
   "cell_type": "markdown",
   "metadata": {
    "ExecuteTime": {
     "end_time": "2020-06-26T00:11:21.152968Z",
     "start_time": "2020-06-26T00:11:20.514528Z"
    }
   },
   "source": [
    "# Gráfica según el municipio"
   ]
  },
  {
   "cell_type": "code",
   "execution_count": 5,
   "metadata": {
    "ExecuteTime": {
     "end_time": "2020-06-29T14:57:18.958410Z",
     "start_time": "2020-06-29T14:57:18.733467Z"
    },
    "code_folding": []
   },
   "outputs": [],
   "source": [
    "# .. ................................................................................... .. #\n",
    "# .. Proyecto: UrbanLab - Plataforma de ayuda para micro y pequeñas empresas             .. #\n",
    "# .. Archivo: adap_mun.py - gráfica Adaptabilidad por Municipios.                        .. #\n",
    "# .. Licencia: Todos los derechos reservados                                             .. #\n",
    "# .. Repositorio: https://github.com/IFFranciscoME/Urban_Lab_App.git                     .. #\n",
    "# .. ................................................................................... .. #\n",
    "\n",
    "import pandas as pd\n",
    "import numpy as np\n",
    "import plotly.graph_objects as go\n",
    "\n",
    "def adap_mun(ruta_db):\n",
    "    \"\"\"\n",
    "    \n",
    "    Esta funcion regresa como unica variable una figura creada a apartir de la metrica Adaptabilidad,\\\n",
    "    y en este caso, regresa una grafica de barras, donde cada barra mostrada es un municipio y\\\n",
    "    su calificacion obtenida en la metrica Adaptabilidad.\n",
    "    \n",
    "    \n",
    "    Parametros\n",
    "    ---------\n",
    "        ruta_db: str : Path a la base de datos\n",
    "        \n",
    "    Returns\n",
    "    ---------\n",
    "        fig: Plotly : Grafica de Plotly ( Usar fig.show() )\n",
    "        \n",
    "    Debugging\n",
    "    ---------\n",
    "        file_path = 'Base_de_datos.xlsx'\n",
    "    \"\"\"\n",
    "    \n",
    "    df_data = pd.read_excel(ruta_db) # Cambiar ruta para la base de datos\n",
    "    \n",
    "    df_data = df_data.loc[df_data['Municipio'].isin(['Zapopan','Tonalá',\n",
    "                                                     'Tlaquepaque','Tlajomulco de Zúñiga',\n",
    "                                                     'El Salto','Guadalajara'])]\n",
    "    df_data = df_data.reset_index(drop=True)\n",
    "    \n",
    "    \n",
    "    #Acomodo de datos\n",
    "    data = df_data\n",
    "    data = data.replace({\"Más de 52\": 52, \"De 26 a 52\": 26, \"No aplica\": 100, \"No contesto\": 101,\n",
    "                         \"No sé\":102, \"Más de un año\":12})\n",
    "\n",
    "    #capacidad\n",
    "    for i in range(0, len(data)):\n",
    "        if data['capacidad'][i] == 999:\n",
    "            data.loc[i, 'capacidad']  = 1\n",
    "        if data['capacidad'][i]>0 and data['capacidad'][i]<=25:\n",
    "            data.loc[i, 'capacidad']  = 1\n",
    "        if data['capacidad'][i]>25 and data['capacidad'][i]<=50:\n",
    "            data.loc[i, 'capacidad']  = 1\n",
    "        if data['capacidad'][i]>50 and data['capacidad'][i]<=75:\n",
    "            data.loc[i, 'capacidad']  = 2\n",
    "        if data['capacidad'][i]>75 and data['capacidad'][i]<=100:\n",
    "            data.loc[i, 'capacidad']  = 2\n",
    "\n",
    "    #cerrar_razon\n",
    "    for i in range(0, len(data)):\n",
    "        if data['cerrar_razon'][i] == 'Falta de fondos o liquidez' or\\\n",
    "        data['cerrar_razon'][i] == 'Gastos elevados' or\\\n",
    "        data['cerrar_razon'][i] == 'Problemas con importación' or\\\n",
    "        data['cerrar_razon'][i] == 'Problemas de cobranza':\n",
    "            data.loc[i,'cerrar_razon'] = 1\n",
    "        else:\n",
    "            data.loc[i,'cerrar_razon'] = 0\n",
    "\n",
    "    #despidos\n",
    "    for i in range(0, len(data)):\n",
    "        if data['despidos'][i] == 'Sí' or data['despidos'][i] == 'No cuenta con personal' or\\\n",
    "        data['despidos'][i] == 'No, pero lo hará en los próximos días' or\\\n",
    "        data['despidos'][i] == 'No, pero lo va a hacer en los próximos días':\n",
    "            data.loc[i, 'despidos'] = 0\n",
    "        if data['despidos'][i] == 'No':\n",
    "            data.loc[i, 'despidos'] = 2\n",
    "        if data['despidos'][i] == 'No, pero lo está considerando':\n",
    "            data.loc[i, 'despidos']= 1\n",
    "\n",
    "    #pago_salarios\n",
    "    for i in range(0, len(data)):\n",
    "        if data['pago_salarios'][i] == 100 or data['pago_salarios'][i] == 101 or\\\n",
    "        data['pago_salarios'][i] == 102:\n",
    "            data.loc[i, 'pago_salarios'] = 0\n",
    "        if data['pago_salarios'][i]>0 and data['pago_salarios'][i]<=6:\n",
    "            data.loc[i, 'pago_salarios'] = 1\n",
    "        if data['pago_salarios'][i]>6 and data['pago_salarios'][i]<=12:\n",
    "            data.loc[i, 'pago_salarios'] = 1\n",
    "        if data['pago_salarios'][i]>12 and data['pago_salarios'][i]<=18:\n",
    "            data.loc[i, 'pago_salarios'] = 2\n",
    "        if data['pago_salarios'][i]>18 and data['pago_salarios'][i]<=24:\n",
    "            data.loc[i, 'pago_salarios'] = 2\n",
    "        if data['pago_salarios'][i]>24:\n",
    "            data.loc[i, 'pago_salarios'] = 2\n",
    "\n",
    "\n",
    "    #capacidad_pago\n",
    "    for i in range(0, len(data)):\n",
    "        if data['capacidad_pago'][i] == 'Sí':\n",
    "            data.loc[i, 'capacidad_pago'] = 2\n",
    "        if data['capacidad_pago'][i] == 'No':\n",
    "            data.loc[i, 'capacidad_pago'] = 0\n",
    "        if data['capacidad_pago'][i] == 'No sé':\n",
    "            data.loc[i, 'capacidad_pago'] = 1\n",
    "        if data['capacidad_pago'][i] == 102:\n",
    "            data.loc[i, 'capacidad_pago'] = 1\n",
    "\n",
    "    #acuerdo_laboral\n",
    "    for i in range(0, len(data)):\n",
    "        if data['acuerdo_laboral'][i] == 'No, pero lo está considerando' or\\\n",
    "        data['despidos'][i] == 'No, pero lo hará en los próximos días' or\\\n",
    "        data['acuerdo_laboral'][i] == 'No, pero lo va a hacer en los próximos días':\n",
    "            data.loc[i, 'acuerdo_laboral'] = 1\n",
    "        if data['acuerdo_laboral'][i] == 'Sí':\n",
    "            data.loc[i, 'acuerdo_laboral'] = 2\n",
    "        if data['acuerdo_laboral'][i] == 'No':\n",
    "            data.loc[i, 'acuerdo_laboral'] = 0\n",
    "\n",
    "    #trabajo_casa\n",
    "    for i in range(0, len(data)):\n",
    "        if data['trabajo_casa'][i] == 'No, pero lo está considerando' or\\\n",
    "        data['trabajo_casa'][i] == 'No, pero lo hará en los próximos días' or\\\n",
    "        data['trabajo_casa'][i] ==  'No, pero lo va a hacer en los próximos días': \n",
    "            data.loc[i,'trabajo_casa'] = 1\n",
    "        if data['trabajo_casa'][i] == 'Sí':\n",
    "            data.loc[i,'trabajo_casa'] = 2\n",
    "        if data['trabajo_casa'][i] == 'No':\n",
    "            data.loc[i,'trabajo_casa'] = 0\n",
    "\n",
    "\n",
    "    #trabajo_casa_motivo\n",
    "    for i in range(0, len(data)):\n",
    "        if data['trabajo_casa_motivo'][i] == 'La naturaleza de mi negocio no lo permite' or\\\n",
    "        data['trabajo_casa_motivo'][i] == 'Porque se considera una actividad esencial para la emergencia':\n",
    "            data.loc[i, 'trabajo_casa_motivo'] = 1\n",
    "        else:\n",
    "            data.loc[i, 'trabajo_casa_motivo'] = 0\n",
    "\n",
    "    #aumento_precios\n",
    "    for i in range(0, len(data)):\n",
    "        if data['aumento_precios'][i] == 'Sí':\n",
    "            data.loc[i, 'aumento_precios'] = 2\n",
    "        if data['aumento_precios'][i] == 'No':\n",
    "            data.loc[i, 'aumento_precios'] = 2\n",
    "        if data['aumento_precios'][i] == 100:\n",
    "            data.loc[i, 'aumento_precios'] = 0\n",
    "        if data['aumento_precios'][i] == 101:\n",
    "            data.loc[i, 'aumento_precios'] = 0\n",
    "        if data['aumento_precios'][i] == 'No, pero lo estoy considerando':\n",
    "            data.loc[i, 'aumento_precios'] = 0\n",
    "     \n",
    "    \n",
    "    # Tabla de Adaptabilidad\n",
    "    column = data[['Municipio', 'Sector', 'Giro', 'Tamaño','capacidad','cerrar_razon',\n",
    "                   'despidos','pago_salarios','capacidad_pago',\n",
    "      'acuerdo_laboral', 'trabajo_casa', 'trabajo_casa_motivo', 'aumento_precios']]\n",
    "    column = column.astype({'capacidad': int,'cerrar_razon': int, 'despidos': int,'pago_salarios': int\n",
    "                        ,'capacidad_pago': int, 'acuerdo_laboral': int, 'trabajo_casa': int\n",
    "                        , 'trabajo_casa_motivo': int, 'aumento_precios': int})\n",
    "\n",
    "    column['Total'] = column['capacidad']+column['cerrar_razon']+column['despidos']+\\\n",
    "                         column['pago_salarios']+\\\n",
    "                         column['capacidad_pago']+column['acuerdo_laboral']+column['trabajo_casa']+\\\n",
    "                         column['trabajo_casa_motivo']+ column['aumento_precios']\n",
    "    \n",
    "    \n",
    "    # Creación de tabla resumen\n",
    "    pivot_mun = pd.pivot_table(column,index = ['Municipio'],\n",
    "                                values = ['capacidad','cerrar_razon',\n",
    "                                          'despidos','pago_salarios','capacidad_pago',\n",
    "                                          'acuerdo_laboral', 'trabajo_casa', 'trabajo_casa_motivo',\n",
    "                                          'aumento_precios'], aggfunc=np.median) # aggfunc=np.median\n",
    "\n",
    "    pivot_mun['Total'] = pivot_mun['capacidad']+pivot_mun['cerrar_razon']+\\\n",
    "                         pivot_mun['despidos']+pivot_mun['pago_salarios']+\\\n",
    "                         pivot_mun['capacidad_pago']+pivot_mun['acuerdo_laboral']+\\\n",
    "                         pivot_mun['trabajo_casa']+pivot_mun['trabajo_casa_motivo']+\\\n",
    "                        pivot_mun['aumento_precios']\n",
    "\n",
    "    pivot_mun.columns = ['Acuerdo Laboral', 'Aumento de precios','Capacidad',\n",
    "                          'Capacidad de Pago','Razón de cierre', 'Despidos',\n",
    "                          'Pago de Salarios','Home Office','Motivo Home Office', 'Total']\n",
    "\n",
    "\n",
    "    # Creacion de figura\n",
    "    fig = go.Figure()\n",
    "\n",
    "    colors = ['darkviolet', 'mediumpurple', 'mediumpurple', 'thistle', 'thistle','mediumpurple']\n",
    "\n",
    "    fig = go.Figure(data=[go.Bar(x=pivot_mun.index, y=pivot_mun['Total'],marker_color=colors)],\n",
    "               layout={'yaxis':{'range': [0, 18]}})\n",
    "    fig.update_layout(title=\"Adaptabilidad en los Municipios de la ZMG\",\n",
    "                  xaxis_title=\"Municipios\",\n",
    "                  yaxis_title=\"Adaptabilidad\",\n",
    "                  plot_bgcolor='white',hovermode='closest')\n",
    "\n",
    "    \n",
    "    return fig\n",
    "    \n",
    "    \n",
    "    "
   ]
  },
  {
   "cell_type": "code",
   "execution_count": 6,
   "metadata": {
    "ExecuteTime": {
     "end_time": "2020-06-29T14:57:57.501763Z",
     "start_time": "2020-06-29T14:57:18.975253Z"
    }
   },
   "outputs": [
    {
     "data": {
      "application/vnd.plotly.v1+json": {
       "config": {
        "plotlyServerURL": "https://plot.ly"
       },
       "data": [
        {
         "marker": {
          "color": [
           "darkviolet",
           "mediumpurple",
           "mediumpurple",
           "thistle",
           "thistle",
           "mediumpurple"
          ]
         },
         "type": "bar",
         "x": [
          "El Salto",
          "Guadalajara",
          "Tlajomulco de Zúñiga",
          "Tlaquepaque",
          "Tonalá",
          "Zapopan"
         ],
         "y": [
          6,
          5,
          5,
          4,
          4,
          5
         ]
        }
       ],
       "layout": {
        "hovermode": "closest",
        "plot_bgcolor": "white",
        "template": {
         "data": {
          "bar": [
           {
            "error_x": {
             "color": "#2a3f5f"
            },
            "error_y": {
             "color": "#2a3f5f"
            },
            "marker": {
             "line": {
              "color": "#E5ECF6",
              "width": 0.5
             }
            },
            "type": "bar"
           }
          ],
          "barpolar": [
           {
            "marker": {
             "line": {
              "color": "#E5ECF6",
              "width": 0.5
             }
            },
            "type": "barpolar"
           }
          ],
          "carpet": [
           {
            "aaxis": {
             "endlinecolor": "#2a3f5f",
             "gridcolor": "white",
             "linecolor": "white",
             "minorgridcolor": "white",
             "startlinecolor": "#2a3f5f"
            },
            "baxis": {
             "endlinecolor": "#2a3f5f",
             "gridcolor": "white",
             "linecolor": "white",
             "minorgridcolor": "white",
             "startlinecolor": "#2a3f5f"
            },
            "type": "carpet"
           }
          ],
          "choropleth": [
           {
            "colorbar": {
             "outlinewidth": 0,
             "ticks": ""
            },
            "type": "choropleth"
           }
          ],
          "contour": [
           {
            "colorbar": {
             "outlinewidth": 0,
             "ticks": ""
            },
            "colorscale": [
             [
              0,
              "#0d0887"
             ],
             [
              0.1111111111111111,
              "#46039f"
             ],
             [
              0.2222222222222222,
              "#7201a8"
             ],
             [
              0.3333333333333333,
              "#9c179e"
             ],
             [
              0.4444444444444444,
              "#bd3786"
             ],
             [
              0.5555555555555556,
              "#d8576b"
             ],
             [
              0.6666666666666666,
              "#ed7953"
             ],
             [
              0.7777777777777778,
              "#fb9f3a"
             ],
             [
              0.8888888888888888,
              "#fdca26"
             ],
             [
              1,
              "#f0f921"
             ]
            ],
            "type": "contour"
           }
          ],
          "contourcarpet": [
           {
            "colorbar": {
             "outlinewidth": 0,
             "ticks": ""
            },
            "type": "contourcarpet"
           }
          ],
          "heatmap": [
           {
            "colorbar": {
             "outlinewidth": 0,
             "ticks": ""
            },
            "colorscale": [
             [
              0,
              "#0d0887"
             ],
             [
              0.1111111111111111,
              "#46039f"
             ],
             [
              0.2222222222222222,
              "#7201a8"
             ],
             [
              0.3333333333333333,
              "#9c179e"
             ],
             [
              0.4444444444444444,
              "#bd3786"
             ],
             [
              0.5555555555555556,
              "#d8576b"
             ],
             [
              0.6666666666666666,
              "#ed7953"
             ],
             [
              0.7777777777777778,
              "#fb9f3a"
             ],
             [
              0.8888888888888888,
              "#fdca26"
             ],
             [
              1,
              "#f0f921"
             ]
            ],
            "type": "heatmap"
           }
          ],
          "heatmapgl": [
           {
            "colorbar": {
             "outlinewidth": 0,
             "ticks": ""
            },
            "colorscale": [
             [
              0,
              "#0d0887"
             ],
             [
              0.1111111111111111,
              "#46039f"
             ],
             [
              0.2222222222222222,
              "#7201a8"
             ],
             [
              0.3333333333333333,
              "#9c179e"
             ],
             [
              0.4444444444444444,
              "#bd3786"
             ],
             [
              0.5555555555555556,
              "#d8576b"
             ],
             [
              0.6666666666666666,
              "#ed7953"
             ],
             [
              0.7777777777777778,
              "#fb9f3a"
             ],
             [
              0.8888888888888888,
              "#fdca26"
             ],
             [
              1,
              "#f0f921"
             ]
            ],
            "type": "heatmapgl"
           }
          ],
          "histogram": [
           {
            "marker": {
             "colorbar": {
              "outlinewidth": 0,
              "ticks": ""
             }
            },
            "type": "histogram"
           }
          ],
          "histogram2d": [
           {
            "colorbar": {
             "outlinewidth": 0,
             "ticks": ""
            },
            "colorscale": [
             [
              0,
              "#0d0887"
             ],
             [
              0.1111111111111111,
              "#46039f"
             ],
             [
              0.2222222222222222,
              "#7201a8"
             ],
             [
              0.3333333333333333,
              "#9c179e"
             ],
             [
              0.4444444444444444,
              "#bd3786"
             ],
             [
              0.5555555555555556,
              "#d8576b"
             ],
             [
              0.6666666666666666,
              "#ed7953"
             ],
             [
              0.7777777777777778,
              "#fb9f3a"
             ],
             [
              0.8888888888888888,
              "#fdca26"
             ],
             [
              1,
              "#f0f921"
             ]
            ],
            "type": "histogram2d"
           }
          ],
          "histogram2dcontour": [
           {
            "colorbar": {
             "outlinewidth": 0,
             "ticks": ""
            },
            "colorscale": [
             [
              0,
              "#0d0887"
             ],
             [
              0.1111111111111111,
              "#46039f"
             ],
             [
              0.2222222222222222,
              "#7201a8"
             ],
             [
              0.3333333333333333,
              "#9c179e"
             ],
             [
              0.4444444444444444,
              "#bd3786"
             ],
             [
              0.5555555555555556,
              "#d8576b"
             ],
             [
              0.6666666666666666,
              "#ed7953"
             ],
             [
              0.7777777777777778,
              "#fb9f3a"
             ],
             [
              0.8888888888888888,
              "#fdca26"
             ],
             [
              1,
              "#f0f921"
             ]
            ],
            "type": "histogram2dcontour"
           }
          ],
          "mesh3d": [
           {
            "colorbar": {
             "outlinewidth": 0,
             "ticks": ""
            },
            "type": "mesh3d"
           }
          ],
          "parcoords": [
           {
            "line": {
             "colorbar": {
              "outlinewidth": 0,
              "ticks": ""
             }
            },
            "type": "parcoords"
           }
          ],
          "pie": [
           {
            "automargin": true,
            "type": "pie"
           }
          ],
          "scatter": [
           {
            "marker": {
             "colorbar": {
              "outlinewidth": 0,
              "ticks": ""
             }
            },
            "type": "scatter"
           }
          ],
          "scatter3d": [
           {
            "line": {
             "colorbar": {
              "outlinewidth": 0,
              "ticks": ""
             }
            },
            "marker": {
             "colorbar": {
              "outlinewidth": 0,
              "ticks": ""
             }
            },
            "type": "scatter3d"
           }
          ],
          "scattercarpet": [
           {
            "marker": {
             "colorbar": {
              "outlinewidth": 0,
              "ticks": ""
             }
            },
            "type": "scattercarpet"
           }
          ],
          "scattergeo": [
           {
            "marker": {
             "colorbar": {
              "outlinewidth": 0,
              "ticks": ""
             }
            },
            "type": "scattergeo"
           }
          ],
          "scattergl": [
           {
            "marker": {
             "colorbar": {
              "outlinewidth": 0,
              "ticks": ""
             }
            },
            "type": "scattergl"
           }
          ],
          "scattermapbox": [
           {
            "marker": {
             "colorbar": {
              "outlinewidth": 0,
              "ticks": ""
             }
            },
            "type": "scattermapbox"
           }
          ],
          "scatterpolar": [
           {
            "marker": {
             "colorbar": {
              "outlinewidth": 0,
              "ticks": ""
             }
            },
            "type": "scatterpolar"
           }
          ],
          "scatterpolargl": [
           {
            "marker": {
             "colorbar": {
              "outlinewidth": 0,
              "ticks": ""
             }
            },
            "type": "scatterpolargl"
           }
          ],
          "scatterternary": [
           {
            "marker": {
             "colorbar": {
              "outlinewidth": 0,
              "ticks": ""
             }
            },
            "type": "scatterternary"
           }
          ],
          "surface": [
           {
            "colorbar": {
             "outlinewidth": 0,
             "ticks": ""
            },
            "colorscale": [
             [
              0,
              "#0d0887"
             ],
             [
              0.1111111111111111,
              "#46039f"
             ],
             [
              0.2222222222222222,
              "#7201a8"
             ],
             [
              0.3333333333333333,
              "#9c179e"
             ],
             [
              0.4444444444444444,
              "#bd3786"
             ],
             [
              0.5555555555555556,
              "#d8576b"
             ],
             [
              0.6666666666666666,
              "#ed7953"
             ],
             [
              0.7777777777777778,
              "#fb9f3a"
             ],
             [
              0.8888888888888888,
              "#fdca26"
             ],
             [
              1,
              "#f0f921"
             ]
            ],
            "type": "surface"
           }
          ],
          "table": [
           {
            "cells": {
             "fill": {
              "color": "#EBF0F8"
             },
             "line": {
              "color": "white"
             }
            },
            "header": {
             "fill": {
              "color": "#C8D4E3"
             },
             "line": {
              "color": "white"
             }
            },
            "type": "table"
           }
          ]
         },
         "layout": {
          "annotationdefaults": {
           "arrowcolor": "#2a3f5f",
           "arrowhead": 0,
           "arrowwidth": 1
          },
          "coloraxis": {
           "colorbar": {
            "outlinewidth": 0,
            "ticks": ""
           }
          },
          "colorscale": {
           "diverging": [
            [
             0,
             "#8e0152"
            ],
            [
             0.1,
             "#c51b7d"
            ],
            [
             0.2,
             "#de77ae"
            ],
            [
             0.3,
             "#f1b6da"
            ],
            [
             0.4,
             "#fde0ef"
            ],
            [
             0.5,
             "#f7f7f7"
            ],
            [
             0.6,
             "#e6f5d0"
            ],
            [
             0.7,
             "#b8e186"
            ],
            [
             0.8,
             "#7fbc41"
            ],
            [
             0.9,
             "#4d9221"
            ],
            [
             1,
             "#276419"
            ]
           ],
           "sequential": [
            [
             0,
             "#0d0887"
            ],
            [
             0.1111111111111111,
             "#46039f"
            ],
            [
             0.2222222222222222,
             "#7201a8"
            ],
            [
             0.3333333333333333,
             "#9c179e"
            ],
            [
             0.4444444444444444,
             "#bd3786"
            ],
            [
             0.5555555555555556,
             "#d8576b"
            ],
            [
             0.6666666666666666,
             "#ed7953"
            ],
            [
             0.7777777777777778,
             "#fb9f3a"
            ],
            [
             0.8888888888888888,
             "#fdca26"
            ],
            [
             1,
             "#f0f921"
            ]
           ],
           "sequentialminus": [
            [
             0,
             "#0d0887"
            ],
            [
             0.1111111111111111,
             "#46039f"
            ],
            [
             0.2222222222222222,
             "#7201a8"
            ],
            [
             0.3333333333333333,
             "#9c179e"
            ],
            [
             0.4444444444444444,
             "#bd3786"
            ],
            [
             0.5555555555555556,
             "#d8576b"
            ],
            [
             0.6666666666666666,
             "#ed7953"
            ],
            [
             0.7777777777777778,
             "#fb9f3a"
            ],
            [
             0.8888888888888888,
             "#fdca26"
            ],
            [
             1,
             "#f0f921"
            ]
           ]
          },
          "colorway": [
           "#636efa",
           "#EF553B",
           "#00cc96",
           "#ab63fa",
           "#FFA15A",
           "#19d3f3",
           "#FF6692",
           "#B6E880",
           "#FF97FF",
           "#FECB52"
          ],
          "font": {
           "color": "#2a3f5f"
          },
          "geo": {
           "bgcolor": "white",
           "lakecolor": "white",
           "landcolor": "#E5ECF6",
           "showlakes": true,
           "showland": true,
           "subunitcolor": "white"
          },
          "hoverlabel": {
           "align": "left"
          },
          "hovermode": "closest",
          "mapbox": {
           "style": "light"
          },
          "paper_bgcolor": "white",
          "plot_bgcolor": "#E5ECF6",
          "polar": {
           "angularaxis": {
            "gridcolor": "white",
            "linecolor": "white",
            "ticks": ""
           },
           "bgcolor": "#E5ECF6",
           "radialaxis": {
            "gridcolor": "white",
            "linecolor": "white",
            "ticks": ""
           }
          },
          "scene": {
           "xaxis": {
            "backgroundcolor": "#E5ECF6",
            "gridcolor": "white",
            "gridwidth": 2,
            "linecolor": "white",
            "showbackground": true,
            "ticks": "",
            "zerolinecolor": "white"
           },
           "yaxis": {
            "backgroundcolor": "#E5ECF6",
            "gridcolor": "white",
            "gridwidth": 2,
            "linecolor": "white",
            "showbackground": true,
            "ticks": "",
            "zerolinecolor": "white"
           },
           "zaxis": {
            "backgroundcolor": "#E5ECF6",
            "gridcolor": "white",
            "gridwidth": 2,
            "linecolor": "white",
            "showbackground": true,
            "ticks": "",
            "zerolinecolor": "white"
           }
          },
          "shapedefaults": {
           "line": {
            "color": "#2a3f5f"
           }
          },
          "ternary": {
           "aaxis": {
            "gridcolor": "white",
            "linecolor": "white",
            "ticks": ""
           },
           "baxis": {
            "gridcolor": "white",
            "linecolor": "white",
            "ticks": ""
           },
           "bgcolor": "#E5ECF6",
           "caxis": {
            "gridcolor": "white",
            "linecolor": "white",
            "ticks": ""
           }
          },
          "title": {
           "x": 0.05
          },
          "xaxis": {
           "automargin": true,
           "gridcolor": "white",
           "linecolor": "white",
           "ticks": "",
           "title": {
            "standoff": 15
           },
           "zerolinecolor": "white",
           "zerolinewidth": 2
          },
          "yaxis": {
           "automargin": true,
           "gridcolor": "white",
           "linecolor": "white",
           "ticks": "",
           "title": {
            "standoff": 15
           },
           "zerolinecolor": "white",
           "zerolinewidth": 2
          }
         }
        },
        "title": {
         "text": "Adaptabilidad en los Municipios de la ZMG"
        },
        "xaxis": {
         "title": {
          "text": "Municipios"
         }
        },
        "yaxis": {
         "range": [
          0,
          18
         ],
         "title": {
          "text": "Adaptabilidad"
         }
        }
       }
      },
      "text/html": [
       "<div>\n",
       "        \n",
       "        \n",
       "            <div id=\"31086565-061a-4475-950f-2524ada6bc06\" class=\"plotly-graph-div\" style=\"height:525px; width:100%;\"></div>\n",
       "            <script type=\"text/javascript\">\n",
       "                require([\"plotly\"], function(Plotly) {\n",
       "                    window.PLOTLYENV=window.PLOTLYENV || {};\n",
       "                    \n",
       "                if (document.getElementById(\"31086565-061a-4475-950f-2524ada6bc06\")) {\n",
       "                    Plotly.newPlot(\n",
       "                        '31086565-061a-4475-950f-2524ada6bc06',\n",
       "                        [{\"marker\": {\"color\": [\"darkviolet\", \"mediumpurple\", \"mediumpurple\", \"thistle\", \"thistle\", \"mediumpurple\"]}, \"type\": \"bar\", \"x\": [\"El Salto\", \"Guadalajara\", \"Tlajomulco de Z\\u00fa\\u00f1iga\", \"Tlaquepaque\", \"Tonal\\u00e1\", \"Zapopan\"], \"y\": [6, 5, 5, 4, 4, 5]}],\n",
       "                        {\"hovermode\": \"closest\", \"plot_bgcolor\": \"white\", \"template\": {\"data\": {\"bar\": [{\"error_x\": {\"color\": \"#2a3f5f\"}, \"error_y\": {\"color\": \"#2a3f5f\"}, \"marker\": {\"line\": {\"color\": \"#E5ECF6\", \"width\": 0.5}}, \"type\": \"bar\"}], \"barpolar\": [{\"marker\": {\"line\": {\"color\": \"#E5ECF6\", \"width\": 0.5}}, \"type\": \"barpolar\"}], \"carpet\": [{\"aaxis\": {\"endlinecolor\": \"#2a3f5f\", \"gridcolor\": \"white\", \"linecolor\": \"white\", \"minorgridcolor\": \"white\", \"startlinecolor\": \"#2a3f5f\"}, \"baxis\": {\"endlinecolor\": \"#2a3f5f\", \"gridcolor\": \"white\", \"linecolor\": \"white\", \"minorgridcolor\": \"white\", \"startlinecolor\": \"#2a3f5f\"}, \"type\": \"carpet\"}], \"choropleth\": [{\"colorbar\": {\"outlinewidth\": 0, \"ticks\": \"\"}, \"type\": \"choropleth\"}], \"contour\": [{\"colorbar\": {\"outlinewidth\": 0, \"ticks\": \"\"}, \"colorscale\": [[0.0, \"#0d0887\"], [0.1111111111111111, \"#46039f\"], [0.2222222222222222, \"#7201a8\"], [0.3333333333333333, \"#9c179e\"], [0.4444444444444444, \"#bd3786\"], [0.5555555555555556, \"#d8576b\"], [0.6666666666666666, \"#ed7953\"], [0.7777777777777778, \"#fb9f3a\"], [0.8888888888888888, \"#fdca26\"], [1.0, \"#f0f921\"]], \"type\": \"contour\"}], \"contourcarpet\": [{\"colorbar\": {\"outlinewidth\": 0, \"ticks\": \"\"}, \"type\": \"contourcarpet\"}], \"heatmap\": [{\"colorbar\": {\"outlinewidth\": 0, \"ticks\": \"\"}, \"colorscale\": [[0.0, \"#0d0887\"], [0.1111111111111111, \"#46039f\"], [0.2222222222222222, \"#7201a8\"], [0.3333333333333333, \"#9c179e\"], [0.4444444444444444, \"#bd3786\"], [0.5555555555555556, \"#d8576b\"], [0.6666666666666666, \"#ed7953\"], [0.7777777777777778, \"#fb9f3a\"], [0.8888888888888888, \"#fdca26\"], [1.0, \"#f0f921\"]], \"type\": \"heatmap\"}], \"heatmapgl\": [{\"colorbar\": {\"outlinewidth\": 0, \"ticks\": \"\"}, \"colorscale\": [[0.0, \"#0d0887\"], [0.1111111111111111, \"#46039f\"], [0.2222222222222222, \"#7201a8\"], [0.3333333333333333, \"#9c179e\"], [0.4444444444444444, \"#bd3786\"], [0.5555555555555556, \"#d8576b\"], [0.6666666666666666, \"#ed7953\"], [0.7777777777777778, \"#fb9f3a\"], [0.8888888888888888, \"#fdca26\"], [1.0, \"#f0f921\"]], \"type\": \"heatmapgl\"}], \"histogram\": [{\"marker\": {\"colorbar\": {\"outlinewidth\": 0, \"ticks\": \"\"}}, \"type\": \"histogram\"}], \"histogram2d\": [{\"colorbar\": {\"outlinewidth\": 0, \"ticks\": \"\"}, \"colorscale\": [[0.0, \"#0d0887\"], [0.1111111111111111, \"#46039f\"], [0.2222222222222222, \"#7201a8\"], [0.3333333333333333, \"#9c179e\"], [0.4444444444444444, \"#bd3786\"], [0.5555555555555556, \"#d8576b\"], [0.6666666666666666, \"#ed7953\"], [0.7777777777777778, \"#fb9f3a\"], [0.8888888888888888, \"#fdca26\"], [1.0, \"#f0f921\"]], \"type\": \"histogram2d\"}], \"histogram2dcontour\": [{\"colorbar\": {\"outlinewidth\": 0, \"ticks\": \"\"}, \"colorscale\": [[0.0, \"#0d0887\"], [0.1111111111111111, \"#46039f\"], [0.2222222222222222, \"#7201a8\"], [0.3333333333333333, \"#9c179e\"], [0.4444444444444444, \"#bd3786\"], [0.5555555555555556, \"#d8576b\"], [0.6666666666666666, \"#ed7953\"], [0.7777777777777778, \"#fb9f3a\"], [0.8888888888888888, \"#fdca26\"], [1.0, \"#f0f921\"]], \"type\": \"histogram2dcontour\"}], \"mesh3d\": [{\"colorbar\": {\"outlinewidth\": 0, \"ticks\": \"\"}, \"type\": \"mesh3d\"}], \"parcoords\": [{\"line\": {\"colorbar\": {\"outlinewidth\": 0, \"ticks\": \"\"}}, \"type\": \"parcoords\"}], \"pie\": [{\"automargin\": true, \"type\": \"pie\"}], \"scatter\": [{\"marker\": {\"colorbar\": {\"outlinewidth\": 0, \"ticks\": \"\"}}, \"type\": \"scatter\"}], \"scatter3d\": [{\"line\": {\"colorbar\": {\"outlinewidth\": 0, \"ticks\": \"\"}}, \"marker\": {\"colorbar\": {\"outlinewidth\": 0, \"ticks\": \"\"}}, \"type\": \"scatter3d\"}], \"scattercarpet\": [{\"marker\": {\"colorbar\": {\"outlinewidth\": 0, \"ticks\": \"\"}}, \"type\": \"scattercarpet\"}], \"scattergeo\": [{\"marker\": {\"colorbar\": {\"outlinewidth\": 0, \"ticks\": \"\"}}, \"type\": \"scattergeo\"}], \"scattergl\": [{\"marker\": {\"colorbar\": {\"outlinewidth\": 0, \"ticks\": \"\"}}, \"type\": \"scattergl\"}], \"scattermapbox\": [{\"marker\": {\"colorbar\": {\"outlinewidth\": 0, \"ticks\": \"\"}}, \"type\": \"scattermapbox\"}], \"scatterpolar\": [{\"marker\": {\"colorbar\": {\"outlinewidth\": 0, \"ticks\": \"\"}}, \"type\": \"scatterpolar\"}], \"scatterpolargl\": [{\"marker\": {\"colorbar\": {\"outlinewidth\": 0, \"ticks\": \"\"}}, \"type\": \"scatterpolargl\"}], \"scatterternary\": [{\"marker\": {\"colorbar\": {\"outlinewidth\": 0, \"ticks\": \"\"}}, \"type\": \"scatterternary\"}], \"surface\": [{\"colorbar\": {\"outlinewidth\": 0, \"ticks\": \"\"}, \"colorscale\": [[0.0, \"#0d0887\"], [0.1111111111111111, \"#46039f\"], [0.2222222222222222, \"#7201a8\"], [0.3333333333333333, \"#9c179e\"], [0.4444444444444444, \"#bd3786\"], [0.5555555555555556, \"#d8576b\"], [0.6666666666666666, \"#ed7953\"], [0.7777777777777778, \"#fb9f3a\"], [0.8888888888888888, \"#fdca26\"], [1.0, \"#f0f921\"]], \"type\": \"surface\"}], \"table\": [{\"cells\": {\"fill\": {\"color\": \"#EBF0F8\"}, \"line\": {\"color\": \"white\"}}, \"header\": {\"fill\": {\"color\": \"#C8D4E3\"}, \"line\": {\"color\": \"white\"}}, \"type\": \"table\"}]}, \"layout\": {\"annotationdefaults\": {\"arrowcolor\": \"#2a3f5f\", \"arrowhead\": 0, \"arrowwidth\": 1}, \"coloraxis\": {\"colorbar\": {\"outlinewidth\": 0, \"ticks\": \"\"}}, \"colorscale\": {\"diverging\": [[0, \"#8e0152\"], [0.1, \"#c51b7d\"], [0.2, \"#de77ae\"], [0.3, \"#f1b6da\"], [0.4, \"#fde0ef\"], [0.5, \"#f7f7f7\"], [0.6, \"#e6f5d0\"], [0.7, \"#b8e186\"], [0.8, \"#7fbc41\"], [0.9, \"#4d9221\"], [1, \"#276419\"]], \"sequential\": [[0.0, \"#0d0887\"], [0.1111111111111111, \"#46039f\"], [0.2222222222222222, \"#7201a8\"], [0.3333333333333333, \"#9c179e\"], [0.4444444444444444, \"#bd3786\"], [0.5555555555555556, \"#d8576b\"], [0.6666666666666666, \"#ed7953\"], [0.7777777777777778, \"#fb9f3a\"], [0.8888888888888888, \"#fdca26\"], [1.0, \"#f0f921\"]], \"sequentialminus\": [[0.0, \"#0d0887\"], [0.1111111111111111, \"#46039f\"], [0.2222222222222222, \"#7201a8\"], [0.3333333333333333, \"#9c179e\"], [0.4444444444444444, \"#bd3786\"], [0.5555555555555556, \"#d8576b\"], [0.6666666666666666, \"#ed7953\"], [0.7777777777777778, \"#fb9f3a\"], [0.8888888888888888, \"#fdca26\"], [1.0, \"#f0f921\"]]}, \"colorway\": [\"#636efa\", \"#EF553B\", \"#00cc96\", \"#ab63fa\", \"#FFA15A\", \"#19d3f3\", \"#FF6692\", \"#B6E880\", \"#FF97FF\", \"#FECB52\"], \"font\": {\"color\": \"#2a3f5f\"}, \"geo\": {\"bgcolor\": \"white\", \"lakecolor\": \"white\", \"landcolor\": \"#E5ECF6\", \"showlakes\": true, \"showland\": true, \"subunitcolor\": \"white\"}, \"hoverlabel\": {\"align\": \"left\"}, \"hovermode\": \"closest\", \"mapbox\": {\"style\": \"light\"}, \"paper_bgcolor\": \"white\", \"plot_bgcolor\": \"#E5ECF6\", \"polar\": {\"angularaxis\": {\"gridcolor\": \"white\", \"linecolor\": \"white\", \"ticks\": \"\"}, \"bgcolor\": \"#E5ECF6\", \"radialaxis\": {\"gridcolor\": \"white\", \"linecolor\": \"white\", \"ticks\": \"\"}}, \"scene\": {\"xaxis\": {\"backgroundcolor\": \"#E5ECF6\", \"gridcolor\": \"white\", \"gridwidth\": 2, \"linecolor\": \"white\", \"showbackground\": true, \"ticks\": \"\", \"zerolinecolor\": \"white\"}, \"yaxis\": {\"backgroundcolor\": \"#E5ECF6\", \"gridcolor\": \"white\", \"gridwidth\": 2, \"linecolor\": \"white\", \"showbackground\": true, \"ticks\": \"\", \"zerolinecolor\": \"white\"}, \"zaxis\": {\"backgroundcolor\": \"#E5ECF6\", \"gridcolor\": \"white\", \"gridwidth\": 2, \"linecolor\": \"white\", \"showbackground\": true, \"ticks\": \"\", \"zerolinecolor\": \"white\"}}, \"shapedefaults\": {\"line\": {\"color\": \"#2a3f5f\"}}, \"ternary\": {\"aaxis\": {\"gridcolor\": \"white\", \"linecolor\": \"white\", \"ticks\": \"\"}, \"baxis\": {\"gridcolor\": \"white\", \"linecolor\": \"white\", \"ticks\": \"\"}, \"bgcolor\": \"#E5ECF6\", \"caxis\": {\"gridcolor\": \"white\", \"linecolor\": \"white\", \"ticks\": \"\"}}, \"title\": {\"x\": 0.05}, \"xaxis\": {\"automargin\": true, \"gridcolor\": \"white\", \"linecolor\": \"white\", \"ticks\": \"\", \"title\": {\"standoff\": 15}, \"zerolinecolor\": \"white\", \"zerolinewidth\": 2}, \"yaxis\": {\"automargin\": true, \"gridcolor\": \"white\", \"linecolor\": \"white\", \"ticks\": \"\", \"title\": {\"standoff\": 15}, \"zerolinecolor\": \"white\", \"zerolinewidth\": 2}}}, \"title\": {\"text\": \"Adaptabilidad en los Municipios de la ZMG\"}, \"xaxis\": {\"title\": {\"text\": \"Municipios\"}}, \"yaxis\": {\"range\": [0, 18], \"title\": {\"text\": \"Adaptabilidad\"}}},\n",
       "                        {\"responsive\": true}\n",
       "                    ).then(function(){\n",
       "                            \n",
       "var gd = document.getElementById('31086565-061a-4475-950f-2524ada6bc06');\n",
       "var x = new MutationObserver(function (mutations, observer) {{\n",
       "        var display = window.getComputedStyle(gd).display;\n",
       "        if (!display || display === 'none') {{\n",
       "            console.log([gd, 'removed!']);\n",
       "            Plotly.purge(gd);\n",
       "            observer.disconnect();\n",
       "        }}\n",
       "}});\n",
       "\n",
       "// Listen for the removal of the full notebook cells\n",
       "var notebookContainer = gd.closest('#notebook-container');\n",
       "if (notebookContainer) {{\n",
       "    x.observe(notebookContainer, {childList: true});\n",
       "}}\n",
       "\n",
       "// Listen for the clearing of the current output cell\n",
       "var outputEl = gd.closest('.output');\n",
       "if (outputEl) {{\n",
       "    x.observe(outputEl, {childList: true});\n",
       "}}\n",
       "\n",
       "                        })\n",
       "                };\n",
       "                });\n",
       "            </script>\n",
       "        </div>"
      ]
     },
     "metadata": {},
     "output_type": "display_data"
    }
   ],
   "source": [
    "fig2 = adap_mun(\"Adaptabilidad.xlsx\")\n",
    "fig2"
   ]
  }
 ],
 "metadata": {
  "kernelspec": {
   "display_name": "Python 3",
   "language": "python",
   "name": "python3"
  },
  "language_info": {
   "codemirror_mode": {
    "name": "ipython",
    "version": 3
   },
   "file_extension": ".py",
   "mimetype": "text/x-python",
   "name": "python",
   "nbconvert_exporter": "python",
   "pygments_lexer": "ipython3",
   "version": "3.7.4"
  }
 },
 "nbformat": 4,
 "nbformat_minor": 2
}
