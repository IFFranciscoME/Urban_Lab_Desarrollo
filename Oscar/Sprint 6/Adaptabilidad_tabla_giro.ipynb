{
 "cells": [
  {
   "cell_type": "markdown",
   "metadata": {},
   "source": [
    "# Tabla - Giros"
   ]
  },
  {
   "cell_type": "code",
   "execution_count": 7,
   "metadata": {
    "ExecuteTime": {
     "end_time": "2020-06-29T14:57:57.649595Z",
     "start_time": "2020-06-29T14:57:57.523922Z"
    },
    "code_folding": []
   },
   "outputs": [],
   "source": [
    "# .. ................................................................................... .. #\n",
    "# .. Proyecto: UrbanLab - Plataforma de ayuda para micro y pequeñas empresas             .. #\n",
    "# .. Archivo: adap_table.py - Tabla Adaptabilidad por giro.   de empresas                .. #\n",
    "# .. Licencia: Todos los derechos reservados                                             .. #\n",
    "# .. Repositorio: https://github.com/IFFranciscoME/Urban_Lab_App.git                     .. #\n",
    "# .. ................................................................................... .. #\n",
    "\n",
    "import pandas as pd\n",
    "import numpy as np\n",
    "import plotly.graph_objects as go\n",
    "\n",
    "def adap_table(ruta_db):\n",
    "    \"\"\"\n",
    "    Esta funcion regresa como unica variable una figura creada a apartir de la metrica Adaptabilidad,\\\n",
    "    y en este caso, regresa una tabla con todos los giros existentes en la ZMG y su adaptabilidad,\\\n",
    "    donde además, se podrá observar cuanto fueron obteniendo en todas las diferentes variables.\n",
    "    \n",
    "    Parametros\n",
    "    ---------\n",
    "        ruta_db: str : Path a la base de datos\n",
    "        \n",
    "    Returns\n",
    "    ---------\n",
    "        fig: Plotly : Tabla de Plotly ( Usar fig.show() )\n",
    "    Debugging\n",
    "    ---------\n",
    "        file_path = 'Base_de_datos.xlsx'\n",
    "    \"\"\"\n",
    "    \n",
    "    df_data = pd.read_excel(ruta_db) # Cambiar ruta para la base de datos\n",
    "    \n",
    "    df_data = df_data.loc[df_data['Municipio'].isin(['Zapopan','Tonalá',\n",
    "                                                     'Tlaquepaque','Tlajomulco de Zúñiga',\n",
    "                                                     'El Salto','Guadalajara'])]\n",
    "    df_data = df_data.reset_index(drop=True)\n",
    "    \n",
    "    \n",
    "    #Acomodo de datos\n",
    "    data = df_data\n",
    "    data = data.replace({\"Más de 52\": 52, \"De 26 a 52\": 26, \"No aplica\": 100, \"No contesto\": 101,\n",
    "                         \"No sé\":102, \"Más de un año\":12})\n",
    "\n",
    "    #capacidad\n",
    "    for i in range(0, len(data)):\n",
    "        if data['capacidad'][i] == 999:\n",
    "            data.loc[i, 'capacidad']  = 1\n",
    "        if data['capacidad'][i]>0 and data['capacidad'][i]<=25:\n",
    "            data.loc[i, 'capacidad']  = 1\n",
    "        if data['capacidad'][i]>25 and data['capacidad'][i]<=50:\n",
    "            data.loc[i, 'capacidad']  = 1\n",
    "        if data['capacidad'][i]>50 and data['capacidad'][i]<=75:\n",
    "            data.loc[i, 'capacidad']  = 2\n",
    "        if data['capacidad'][i]>75 and data['capacidad'][i]<=100:\n",
    "            data.loc[i, 'capacidad']  = 2\n",
    "\n",
    "    #cerrar_razon\n",
    "    for i in range(0, len(data)):\n",
    "        if data['cerrar_razon'][i] == 'Falta de fondos o liquidez' or\\\n",
    "        data['cerrar_razon'][i] == 'Gastos elevados' or\\\n",
    "        data['cerrar_razon'][i] == 'Problemas con importación' or\\\n",
    "        data['cerrar_razon'][i] == 'Problemas de cobranza':\n",
    "            data.loc[i,'cerrar_razon'] = 1\n",
    "        else:\n",
    "            data.loc[i,'cerrar_razon'] = 0\n",
    "\n",
    "    #despidos\n",
    "    for i in range(0, len(data)):\n",
    "        if data['despidos'][i] == 'Sí' or data['despidos'][i] == 'No cuenta con personal' or\\\n",
    "        data['despidos'][i] == 'No, pero lo hará en los próximos días' or\\\n",
    "        data['despidos'][i] == 'No, pero lo va a hacer en los próximos días':\n",
    "            data.loc[i, 'despidos'] = 0\n",
    "        if data['despidos'][i] == 'No':\n",
    "            data.loc[i, 'despidos'] = 2\n",
    "        if data['despidos'][i] == 'No, pero lo está considerando':\n",
    "            data.loc[i, 'despidos']= 1\n",
    "\n",
    "    #pago_salarios\n",
    "    for i in range(0, len(data)):\n",
    "        if data['pago_salarios'][i] == 100 or data['pago_salarios'][i] == 101 or\\\n",
    "        data['pago_salarios'][i] == 102:\n",
    "            data.loc[i, 'pago_salarios'] = 0\n",
    "        if data['pago_salarios'][i]>0 and data['pago_salarios'][i]<=6:\n",
    "            data.loc[i, 'pago_salarios'] = 1\n",
    "        if data['pago_salarios'][i]>6 and data['pago_salarios'][i]<=12:\n",
    "            data.loc[i, 'pago_salarios'] = 1\n",
    "        if data['pago_salarios'][i]>12 and data['pago_salarios'][i]<=18:\n",
    "            data.loc[i, 'pago_salarios'] = 2\n",
    "        if data['pago_salarios'][i]>18 and data['pago_salarios'][i]<=24:\n",
    "            data.loc[i, 'pago_salarios'] = 2\n",
    "        if data['pago_salarios'][i]>24:\n",
    "            data.loc[i, 'pago_salarios'] = 2\n",
    "\n",
    "\n",
    "    #capacidad_pago\n",
    "    for i in range(0, len(data)):\n",
    "        if data['capacidad_pago'][i] == 'Sí':\n",
    "            data.loc[i, 'capacidad_pago'] = 2\n",
    "        if data['capacidad_pago'][i] == 'No':\n",
    "            data.loc[i, 'capacidad_pago'] = 0\n",
    "        if data['capacidad_pago'][i] == 'No sé':\n",
    "            data.loc[i, 'capacidad_pago'] = 1\n",
    "        if data['capacidad_pago'][i] == 102:\n",
    "            data.loc[i, 'capacidad_pago'] = 1\n",
    "\n",
    "    #acuerdo_laboral\n",
    "    for i in range(0, len(data)):\n",
    "        if data['acuerdo_laboral'][i] == 'No, pero lo está considerando' or\\\n",
    "        data['despidos'][i] == 'No, pero lo hará en los próximos días' or\\\n",
    "        data['acuerdo_laboral'][i] == 'No, pero lo va a hacer en los próximos días':\n",
    "            data.loc[i, 'acuerdo_laboral'] = 1\n",
    "        if data['acuerdo_laboral'][i] == 'Sí':\n",
    "            data.loc[i, 'acuerdo_laboral'] = 2\n",
    "        if data['acuerdo_laboral'][i] == 'No':\n",
    "            data.loc[i, 'acuerdo_laboral'] = 0\n",
    "\n",
    "    #trabajo_casa\n",
    "    for i in range(0, len(data)):\n",
    "        if data['trabajo_casa'][i] == 'No, pero lo está considerando' or\\\n",
    "        data['trabajo_casa'][i] == 'No, pero lo hará en los próximos días' or\\\n",
    "        data['trabajo_casa'][i] ==  'No, pero lo va a hacer en los próximos días': \n",
    "            data.loc[i,'trabajo_casa'] = 1\n",
    "        if data['trabajo_casa'][i] == 'Sí':\n",
    "            data.loc[i,'trabajo_casa'] = 2\n",
    "        if data['trabajo_casa'][i] == 'No':\n",
    "            data.loc[i,'trabajo_casa'] = 0\n",
    "\n",
    "\n",
    "    #trabajo_casa_motivo\n",
    "    for i in range(0, len(data)):\n",
    "        if data['trabajo_casa_motivo'][i] == 'La naturaleza de mi negocio no lo permite' or\\\n",
    "        data['trabajo_casa_motivo'][i] == 'Porque se considera una actividad esencial para la emergencia':\n",
    "            data.loc[i, 'trabajo_casa_motivo'] = 1\n",
    "        else:\n",
    "            data.loc[i, 'trabajo_casa_motivo'] = 0\n",
    "\n",
    "    #aumento_precios\n",
    "    for i in range(0, len(data)):\n",
    "        if data['aumento_precios'][i] == 'Sí':\n",
    "            data.loc[i, 'aumento_precios'] = 2\n",
    "        if data['aumento_precios'][i] == 'No':\n",
    "            data.loc[i, 'aumento_precios'] = 2\n",
    "        if data['aumento_precios'][i] == 100:\n",
    "            data.loc[i, 'aumento_precios'] = 0\n",
    "        if data['aumento_precios'][i] == 101:\n",
    "            data.loc[i, 'aumento_precios'] = 0\n",
    "        if data['aumento_precios'][i] == 'No, pero lo estoy considerando':\n",
    "            data.loc[i, 'aumento_precios'] = 0\n",
    "     \n",
    "    \n",
    "    # Tabla de Adaptabilidad\n",
    "    column = data[['Municipio', 'Sector', 'Giro', 'Tamaño','capacidad','cerrar_razon',\n",
    "                   'despidos','pago_salarios','capacidad_pago',\n",
    "      'acuerdo_laboral', 'trabajo_casa', 'trabajo_casa_motivo', 'aumento_precios']]\n",
    "    column = column.astype({'capacidad': int,'cerrar_razon': int, 'despidos': int,'pago_salarios': int\n",
    "                        ,'capacidad_pago': int, 'acuerdo_laboral': int, 'trabajo_casa': int\n",
    "                        , 'trabajo_casa_motivo': int, 'aumento_precios': int})\n",
    "\n",
    "    column['Total'] = column['capacidad']+column['cerrar_razon']+column['despidos']+\\\n",
    "                         column['pago_salarios']+\\\n",
    "                         column['capacidad_pago']+column['acuerdo_laboral']+column['trabajo_casa']+\\\n",
    "                         column['trabajo_casa_motivo']+ column['aumento_precios']\n",
    "    \n",
    "    \n",
    "    # Creación de tabla resumen\n",
    "    pivot_giro = pd.pivot_table(column,index = ['Giro'],\n",
    "                                values = ['capacidad','cerrar_razon',\n",
    "                                          'despidos','pago_salarios','capacidad_pago',\n",
    "                                          'acuerdo_laboral', 'trabajo_casa', 'trabajo_casa_motivo',\n",
    "                                          'aumento_precios'], aggfunc=np.median) # aggfunc=np.median\n",
    "\n",
    "    pivot_giro['Total'] = pivot_giro['capacidad']+pivot_giro['cerrar_razon']+\\\n",
    "                         pivot_giro['despidos']+pivot_giro['pago_salarios']+\\\n",
    "                         pivot_giro['capacidad_pago']+pivot_giro['acuerdo_laboral']+\\\n",
    "                         pivot_giro['trabajo_casa']+pivot_giro['trabajo_casa_motivo']+\\\n",
    "                        pivot_giro['aumento_precios']\n",
    "\n",
    "    pivot_giro.columns = ['Acuerdo Laboral', 'Aumento de precios','Capacidad',\n",
    "                          'Capacidad de Pago','Razón de cierre', 'Despidos',\n",
    "                          'Pago de Salarios','Home Office','Motivo Home Office', 'Adaptabilidad']\n",
    "\n",
    "\n",
    "    # Creacion de figura\n",
    "    fig = go.Figure(data=[go.Table(name= \"Adaptabilidad\",\n",
    "    header=dict(values= [\"Giro\"]+pivot_giro.columns.tolist(),\n",
    "                fill_color='mediumpurple',\n",
    "                align='center', font_color = 'White', font_size = 11),\n",
    "    cells=dict(values=[pivot_giro.index,pivot_giro['Acuerdo Laboral'],pivot_giro['Aumento de precios'],\n",
    "                       pivot_giro['Capacidad'],pivot_giro['Capacidad de Pago'],pivot_giro['Razón de cierre'],\n",
    "                       pivot_giro['Despidos'],pivot_giro['Pago de Salarios'],pivot_giro['Home Office'],\n",
    "                       pivot_giro['Motivo Home Office'],pivot_giro['Adaptabilidad']],\n",
    "               fill_color='thistle',\n",
    "               align='center',height=40, font_size=11))])\n",
    "\n",
    "    \n",
    "    return fig\n",
    "    "
   ]
  },
  {
   "cell_type": "code",
   "execution_count": 8,
   "metadata": {
    "ExecuteTime": {
     "end_time": "2020-06-29T14:58:25.250202Z",
     "start_time": "2020-06-29T14:57:57.695169Z"
    }
   },
   "outputs": [
    {
     "data": {
      "application/vnd.plotly.v1+json": {
       "config": {
        "plotlyServerURL": "https://plot.ly"
       },
       "data": [
        {
         "cells": {
          "align": "center",
          "fill": {
           "color": "thistle"
          },
          "font": {
           "size": 11
          },
          "height": 40,
          "values": [
           [
            "Agencias de viajes",
            "Cafeterías y neverías",
            "Cajas de ahorro popular",
            "Carnicerías",
            "Confección de productos textiles",
            "Construcción de carreteras y puentes",
            "Construcción de obras de urbanización",
            "Consultorios dentales",
            "Consultorios médicos",
            "Consultorías en administración",
            "Despachos contables",
            "Despachos jurídicos",
            "Edificación de inmuebles comerciales",
            "Edificación de naves industriales",
            "Edificación de vivienda unifamiliar",
            "Elaboración de alimentos para animales",
            "Elaboración de botanas",
            "Elaboración de dulces",
            "Elaboración de helados y paletas",
            "Elaboración de piezas para maquinaria",
            "Elaboración de tortillas",
            "Equipo y material eléctrico",
            "Escuelas",
            "Estéticas, salones de belleza y peluquerías",
            "Fabricación de bolsas de plástico",
            "Fabricación de calzado",
            "Fabricación de envases de cartón",
            "Fabricación de envases de plástico para embalaje",
            "Fabricación de jabones, limpiadores y dentífricos",
            "Fabricación de muebles",
            "Fabricación de preparaciones farmacéuticas",
            "Fabricación de productos de madera",
            "Farmacias",
            "Ferreterías y tlapalerías",
            "Fertilizantes, plaguicidas y semillas",
            "Gasolineras",
            "Herrería y estructuras metálicas",
            "Hoteles",
            "Impresión",
            "Inmobiliarias y agentes de bienes raíces",
            "Instalaciones eléctricas",
            "Joyerías y tiendas de relojes",
            "Laboratorios médicos y de diagnóstico",
            "Minisupers",
            "Mueblerías",
            "No especificado",
            "Otro",
            "Panificación",
            "Papelerías",
            "Purificación de agua",
            "Refacciones para automóviles",
            "Reparación de electrónicos",
            "Reparación de maquinaria y equipo",
            "Restaurantes",
            "Servicios de acceso a computadoras (cibers)",
            "Talleres Mecánicos",
            "Taquerías y Tortas",
            "Tiendas de Lentes",
            "Tiendas de abarrotes",
            "Tiendas de celulares",
            "Tiendas de frutas y verduras",
            "Tiendas de perfumería y cosméticos",
            "Tiendas de pintura",
            "Tiendas de ropa",
            "Venta de materiales para la construcción",
            "Veterinarias",
            "Zapaterías"
           ],
           [
            1,
            1,
            0.5,
            0,
            1,
            1,
            0,
            0.5,
            1,
            1,
            1,
            1,
            1,
            1,
            1,
            0,
            1,
            1,
            0,
            1,
            1.5,
            0,
            1,
            1,
            2,
            2,
            1,
            1,
            1,
            1,
            0.5,
            1,
            1,
            1,
            1,
            0,
            1,
            1,
            1,
            1,
            2,
            1,
            1,
            0.5,
            1,
            1,
            1,
            2,
            0,
            1,
            1,
            0,
            1,
            1,
            1,
            1,
            1,
            1,
            1,
            1,
            1,
            1,
            1.5,
            0.5,
            1,
            1,
            1.5
           ],
           [
            0,
            0,
            1,
            0,
            0,
            2,
            0,
            0,
            0,
            0,
            0,
            0,
            1,
            2,
            0,
            0,
            0,
            2,
            2,
            0,
            0,
            0,
            0,
            0,
            0,
            0,
            1,
            0,
            0,
            0,
            1,
            0,
            0,
            2,
            0,
            0,
            0,
            0,
            0,
            0,
            2,
            0,
            0,
            0,
            1,
            0,
            0,
            0,
            0,
            0,
            2,
            0,
            0,
            0,
            0,
            0,
            0,
            0,
            2,
            0,
            0,
            0,
            0,
            0,
            0,
            0,
            0
           ],
           [
            1,
            1,
            1.5,
            2,
            1,
            1,
            2,
            1,
            1,
            1,
            2,
            1,
            1,
            1,
            1,
            2,
            1.5,
            2,
            1,
            1,
            1.5,
            1,
            1,
            0,
            1,
            0,
            1,
            2,
            1,
            1,
            1.5,
            1,
            1,
            1,
            2,
            1,
            1,
            1,
            1,
            1,
            2,
            0,
            1,
            2,
            0.5,
            0.5,
            1,
            1.5,
            1,
            1,
            1,
            1,
            1,
            1,
            0,
            1,
            1,
            1,
            1,
            1,
            1,
            0,
            1.5,
            1,
            1,
            1,
            0.5
           ],
           [
            0,
            0,
            1,
            0,
            0,
            1,
            0,
            0,
            0,
            0,
            2,
            0,
            0,
            0,
            0,
            2,
            0.5,
            0,
            2,
            0,
            0,
            0,
            0,
            0,
            0,
            0,
            0.5,
            0.5,
            1,
            0,
            1,
            0,
            0,
            0,
            0,
            0,
            0,
            0,
            0,
            1,
            0,
            0,
            0,
            1,
            0,
            0,
            0,
            0,
            0,
            0,
            0,
            0,
            0,
            0,
            0,
            0,
            0,
            0,
            0,
            0,
            0,
            0,
            0.5,
            0,
            0,
            0,
            0
           ],
           [
            0,
            0,
            0,
            0,
            0,
            1,
            0,
            0,
            0,
            0,
            0,
            0,
            0,
            0,
            0,
            0,
            0,
            0,
            0,
            0,
            0.5,
            0,
            0,
            0,
            0,
            0,
            0,
            0,
            0.5,
            0,
            0,
            0,
            0,
            0,
            0,
            0,
            0,
            0,
            0,
            0,
            0,
            0,
            0,
            0,
            0,
            0,
            0,
            0,
            0,
            0,
            0,
            0,
            0,
            0,
            0,
            0,
            0,
            0,
            0,
            0,
            0,
            0,
            0,
            0,
            0,
            0,
            0.5
           ],
           [
            1,
            1,
            1,
            2,
            1,
            0,
            2,
            1,
            1,
            1,
            1,
            1,
            0,
            1,
            1,
            2,
            1.5,
            1,
            2,
            1,
            0.5,
            1,
            1,
            1,
            0,
            0.5,
            1.5,
            1.5,
            0.5,
            1,
            1.5,
            1,
            1.5,
            1,
            1,
            2,
            2,
            1,
            1,
            1,
            1,
            1,
            1,
            1.5,
            1,
            1,
            1,
            1.5,
            1,
            1,
            1,
            1,
            1,
            1,
            0,
            1,
            1.5,
            1,
            0,
            0,
            2,
            1,
            0.5,
            0,
            1,
            1,
            0.5
           ],
           [
            1,
            1,
            1,
            1,
            1,
            1,
            1,
            1,
            1,
            1,
            1,
            1,
            1,
            1,
            1,
            0,
            1,
            1,
            1,
            1,
            0,
            1,
            1,
            1,
            1,
            1,
            1,
            1,
            1,
            1,
            1.5,
            1,
            0.5,
            1,
            1,
            1,
            1,
            0,
            1,
            1,
            1,
            1,
            1,
            1,
            1,
            0.5,
            1,
            1,
            1,
            1,
            1,
            1,
            1,
            1,
            1,
            1,
            1,
            1,
            1,
            1,
            1,
            1,
            1,
            1,
            1,
            1,
            1
           ],
           [
            2,
            0,
            1.5,
            0,
            0,
            0,
            0,
            0,
            0,
            2,
            2,
            2,
            1.5,
            2,
            0,
            2,
            1,
            1,
            0,
            1.5,
            0.5,
            0,
            2,
            0,
            2,
            0,
            1,
            1,
            1.5,
            0,
            1,
            1,
            0,
            0,
            2,
            0,
            0,
            0,
            0,
            2,
            2,
            1,
            0.5,
            0,
            1,
            0,
            2,
            1,
            0,
            0,
            1,
            1,
            1,
            0,
            1,
            0,
            0,
            1,
            0,
            1.5,
            0,
            2,
            0.5,
            0.5,
            2,
            0,
            2
           ],
           [
            0,
            1,
            0,
            1,
            0,
            1,
            1,
            1,
            0,
            0,
            0,
            0,
            0,
            0,
            0,
            0,
            0.5,
            0,
            1,
            0,
            0.5,
            0,
            0,
            0,
            0,
            1,
            0.5,
            0.5,
            0,
            1,
            0.5,
            0,
            0,
            1,
            0,
            1,
            1,
            1,
            0,
            0,
            0,
            0,
            0.5,
            1,
            0,
            0,
            0,
            0.5,
            0,
            1,
            0,
            0,
            0,
            1,
            0,
            1,
            1,
            0,
            0,
            0,
            1,
            0,
            0.5,
            0,
            0,
            1,
            0
           ],
           [
            6,
            5,
            7.5,
            6,
            4,
            8,
            6,
            4.5,
            4,
            6,
            9,
            6,
            5.5,
            8,
            4,
            8,
            7,
            8,
            9,
            5.5,
            5,
            3,
            6,
            3,
            6,
            4.5,
            7.5,
            7.5,
            6.5,
            5,
            8.5,
            5,
            4,
            7,
            7,
            5,
            6,
            4,
            4,
            7,
            10,
            4,
            5,
            7,
            5.5,
            3,
            6,
            7.5,
            3,
            5,
            7,
            4,
            5,
            5,
            3,
            5,
            5.5,
            5,
            5,
            4.5,
            6,
            5,
            6,
            3,
            6,
            5,
            6
           ]
          ]
         },
         "header": {
          "align": "center",
          "fill": {
           "color": "mediumpurple"
          },
          "font": {
           "color": "White",
           "size": 11
          },
          "values": [
           "Giro",
           "Acuerdo Laboral",
           "Aumento de precios",
           "Capacidad",
           "Capacidad de Pago",
           "Razón de cierre",
           "Despidos",
           "Pago de Salarios",
           "Home Office",
           "Motivo Home Office",
           "Adaptabilidad"
          ]
         },
         "name": "Adaptabilidad",
         "type": "table"
        }
       ],
       "layout": {
        "template": {
         "data": {
          "bar": [
           {
            "error_x": {
             "color": "#2a3f5f"
            },
            "error_y": {
             "color": "#2a3f5f"
            },
            "marker": {
             "line": {
              "color": "#E5ECF6",
              "width": 0.5
             }
            },
            "type": "bar"
           }
          ],
          "barpolar": [
           {
            "marker": {
             "line": {
              "color": "#E5ECF6",
              "width": 0.5
             }
            },
            "type": "barpolar"
           }
          ],
          "carpet": [
           {
            "aaxis": {
             "endlinecolor": "#2a3f5f",
             "gridcolor": "white",
             "linecolor": "white",
             "minorgridcolor": "white",
             "startlinecolor": "#2a3f5f"
            },
            "baxis": {
             "endlinecolor": "#2a3f5f",
             "gridcolor": "white",
             "linecolor": "white",
             "minorgridcolor": "white",
             "startlinecolor": "#2a3f5f"
            },
            "type": "carpet"
           }
          ],
          "choropleth": [
           {
            "colorbar": {
             "outlinewidth": 0,
             "ticks": ""
            },
            "type": "choropleth"
           }
          ],
          "contour": [
           {
            "colorbar": {
             "outlinewidth": 0,
             "ticks": ""
            },
            "colorscale": [
             [
              0,
              "#0d0887"
             ],
             [
              0.1111111111111111,
              "#46039f"
             ],
             [
              0.2222222222222222,
              "#7201a8"
             ],
             [
              0.3333333333333333,
              "#9c179e"
             ],
             [
              0.4444444444444444,
              "#bd3786"
             ],
             [
              0.5555555555555556,
              "#d8576b"
             ],
             [
              0.6666666666666666,
              "#ed7953"
             ],
             [
              0.7777777777777778,
              "#fb9f3a"
             ],
             [
              0.8888888888888888,
              "#fdca26"
             ],
             [
              1,
              "#f0f921"
             ]
            ],
            "type": "contour"
           }
          ],
          "contourcarpet": [
           {
            "colorbar": {
             "outlinewidth": 0,
             "ticks": ""
            },
            "type": "contourcarpet"
           }
          ],
          "heatmap": [
           {
            "colorbar": {
             "outlinewidth": 0,
             "ticks": ""
            },
            "colorscale": [
             [
              0,
              "#0d0887"
             ],
             [
              0.1111111111111111,
              "#46039f"
             ],
             [
              0.2222222222222222,
              "#7201a8"
             ],
             [
              0.3333333333333333,
              "#9c179e"
             ],
             [
              0.4444444444444444,
              "#bd3786"
             ],
             [
              0.5555555555555556,
              "#d8576b"
             ],
             [
              0.6666666666666666,
              "#ed7953"
             ],
             [
              0.7777777777777778,
              "#fb9f3a"
             ],
             [
              0.8888888888888888,
              "#fdca26"
             ],
             [
              1,
              "#f0f921"
             ]
            ],
            "type": "heatmap"
           }
          ],
          "heatmapgl": [
           {
            "colorbar": {
             "outlinewidth": 0,
             "ticks": ""
            },
            "colorscale": [
             [
              0,
              "#0d0887"
             ],
             [
              0.1111111111111111,
              "#46039f"
             ],
             [
              0.2222222222222222,
              "#7201a8"
             ],
             [
              0.3333333333333333,
              "#9c179e"
             ],
             [
              0.4444444444444444,
              "#bd3786"
             ],
             [
              0.5555555555555556,
              "#d8576b"
             ],
             [
              0.6666666666666666,
              "#ed7953"
             ],
             [
              0.7777777777777778,
              "#fb9f3a"
             ],
             [
              0.8888888888888888,
              "#fdca26"
             ],
             [
              1,
              "#f0f921"
             ]
            ],
            "type": "heatmapgl"
           }
          ],
          "histogram": [
           {
            "marker": {
             "colorbar": {
              "outlinewidth": 0,
              "ticks": ""
             }
            },
            "type": "histogram"
           }
          ],
          "histogram2d": [
           {
            "colorbar": {
             "outlinewidth": 0,
             "ticks": ""
            },
            "colorscale": [
             [
              0,
              "#0d0887"
             ],
             [
              0.1111111111111111,
              "#46039f"
             ],
             [
              0.2222222222222222,
              "#7201a8"
             ],
             [
              0.3333333333333333,
              "#9c179e"
             ],
             [
              0.4444444444444444,
              "#bd3786"
             ],
             [
              0.5555555555555556,
              "#d8576b"
             ],
             [
              0.6666666666666666,
              "#ed7953"
             ],
             [
              0.7777777777777778,
              "#fb9f3a"
             ],
             [
              0.8888888888888888,
              "#fdca26"
             ],
             [
              1,
              "#f0f921"
             ]
            ],
            "type": "histogram2d"
           }
          ],
          "histogram2dcontour": [
           {
            "colorbar": {
             "outlinewidth": 0,
             "ticks": ""
            },
            "colorscale": [
             [
              0,
              "#0d0887"
             ],
             [
              0.1111111111111111,
              "#46039f"
             ],
             [
              0.2222222222222222,
              "#7201a8"
             ],
             [
              0.3333333333333333,
              "#9c179e"
             ],
             [
              0.4444444444444444,
              "#bd3786"
             ],
             [
              0.5555555555555556,
              "#d8576b"
             ],
             [
              0.6666666666666666,
              "#ed7953"
             ],
             [
              0.7777777777777778,
              "#fb9f3a"
             ],
             [
              0.8888888888888888,
              "#fdca26"
             ],
             [
              1,
              "#f0f921"
             ]
            ],
            "type": "histogram2dcontour"
           }
          ],
          "mesh3d": [
           {
            "colorbar": {
             "outlinewidth": 0,
             "ticks": ""
            },
            "type": "mesh3d"
           }
          ],
          "parcoords": [
           {
            "line": {
             "colorbar": {
              "outlinewidth": 0,
              "ticks": ""
             }
            },
            "type": "parcoords"
           }
          ],
          "pie": [
           {
            "automargin": true,
            "type": "pie"
           }
          ],
          "scatter": [
           {
            "marker": {
             "colorbar": {
              "outlinewidth": 0,
              "ticks": ""
             }
            },
            "type": "scatter"
           }
          ],
          "scatter3d": [
           {
            "line": {
             "colorbar": {
              "outlinewidth": 0,
              "ticks": ""
             }
            },
            "marker": {
             "colorbar": {
              "outlinewidth": 0,
              "ticks": ""
             }
            },
            "type": "scatter3d"
           }
          ],
          "scattercarpet": [
           {
            "marker": {
             "colorbar": {
              "outlinewidth": 0,
              "ticks": ""
             }
            },
            "type": "scattercarpet"
           }
          ],
          "scattergeo": [
           {
            "marker": {
             "colorbar": {
              "outlinewidth": 0,
              "ticks": ""
             }
            },
            "type": "scattergeo"
           }
          ],
          "scattergl": [
           {
            "marker": {
             "colorbar": {
              "outlinewidth": 0,
              "ticks": ""
             }
            },
            "type": "scattergl"
           }
          ],
          "scattermapbox": [
           {
            "marker": {
             "colorbar": {
              "outlinewidth": 0,
              "ticks": ""
             }
            },
            "type": "scattermapbox"
           }
          ],
          "scatterpolar": [
           {
            "marker": {
             "colorbar": {
              "outlinewidth": 0,
              "ticks": ""
             }
            },
            "type": "scatterpolar"
           }
          ],
          "scatterpolargl": [
           {
            "marker": {
             "colorbar": {
              "outlinewidth": 0,
              "ticks": ""
             }
            },
            "type": "scatterpolargl"
           }
          ],
          "scatterternary": [
           {
            "marker": {
             "colorbar": {
              "outlinewidth": 0,
              "ticks": ""
             }
            },
            "type": "scatterternary"
           }
          ],
          "surface": [
           {
            "colorbar": {
             "outlinewidth": 0,
             "ticks": ""
            },
            "colorscale": [
             [
              0,
              "#0d0887"
             ],
             [
              0.1111111111111111,
              "#46039f"
             ],
             [
              0.2222222222222222,
              "#7201a8"
             ],
             [
              0.3333333333333333,
              "#9c179e"
             ],
             [
              0.4444444444444444,
              "#bd3786"
             ],
             [
              0.5555555555555556,
              "#d8576b"
             ],
             [
              0.6666666666666666,
              "#ed7953"
             ],
             [
              0.7777777777777778,
              "#fb9f3a"
             ],
             [
              0.8888888888888888,
              "#fdca26"
             ],
             [
              1,
              "#f0f921"
             ]
            ],
            "type": "surface"
           }
          ],
          "table": [
           {
            "cells": {
             "fill": {
              "color": "#EBF0F8"
             },
             "line": {
              "color": "white"
             }
            },
            "header": {
             "fill": {
              "color": "#C8D4E3"
             },
             "line": {
              "color": "white"
             }
            },
            "type": "table"
           }
          ]
         },
         "layout": {
          "annotationdefaults": {
           "arrowcolor": "#2a3f5f",
           "arrowhead": 0,
           "arrowwidth": 1
          },
          "coloraxis": {
           "colorbar": {
            "outlinewidth": 0,
            "ticks": ""
           }
          },
          "colorscale": {
           "diverging": [
            [
             0,
             "#8e0152"
            ],
            [
             0.1,
             "#c51b7d"
            ],
            [
             0.2,
             "#de77ae"
            ],
            [
             0.3,
             "#f1b6da"
            ],
            [
             0.4,
             "#fde0ef"
            ],
            [
             0.5,
             "#f7f7f7"
            ],
            [
             0.6,
             "#e6f5d0"
            ],
            [
             0.7,
             "#b8e186"
            ],
            [
             0.8,
             "#7fbc41"
            ],
            [
             0.9,
             "#4d9221"
            ],
            [
             1,
             "#276419"
            ]
           ],
           "sequential": [
            [
             0,
             "#0d0887"
            ],
            [
             0.1111111111111111,
             "#46039f"
            ],
            [
             0.2222222222222222,
             "#7201a8"
            ],
            [
             0.3333333333333333,
             "#9c179e"
            ],
            [
             0.4444444444444444,
             "#bd3786"
            ],
            [
             0.5555555555555556,
             "#d8576b"
            ],
            [
             0.6666666666666666,
             "#ed7953"
            ],
            [
             0.7777777777777778,
             "#fb9f3a"
            ],
            [
             0.8888888888888888,
             "#fdca26"
            ],
            [
             1,
             "#f0f921"
            ]
           ],
           "sequentialminus": [
            [
             0,
             "#0d0887"
            ],
            [
             0.1111111111111111,
             "#46039f"
            ],
            [
             0.2222222222222222,
             "#7201a8"
            ],
            [
             0.3333333333333333,
             "#9c179e"
            ],
            [
             0.4444444444444444,
             "#bd3786"
            ],
            [
             0.5555555555555556,
             "#d8576b"
            ],
            [
             0.6666666666666666,
             "#ed7953"
            ],
            [
             0.7777777777777778,
             "#fb9f3a"
            ],
            [
             0.8888888888888888,
             "#fdca26"
            ],
            [
             1,
             "#f0f921"
            ]
           ]
          },
          "colorway": [
           "#636efa",
           "#EF553B",
           "#00cc96",
           "#ab63fa",
           "#FFA15A",
           "#19d3f3",
           "#FF6692",
           "#B6E880",
           "#FF97FF",
           "#FECB52"
          ],
          "font": {
           "color": "#2a3f5f"
          },
          "geo": {
           "bgcolor": "white",
           "lakecolor": "white",
           "landcolor": "#E5ECF6",
           "showlakes": true,
           "showland": true,
           "subunitcolor": "white"
          },
          "hoverlabel": {
           "align": "left"
          },
          "hovermode": "closest",
          "mapbox": {
           "style": "light"
          },
          "paper_bgcolor": "white",
          "plot_bgcolor": "#E5ECF6",
          "polar": {
           "angularaxis": {
            "gridcolor": "white",
            "linecolor": "white",
            "ticks": ""
           },
           "bgcolor": "#E5ECF6",
           "radialaxis": {
            "gridcolor": "white",
            "linecolor": "white",
            "ticks": ""
           }
          },
          "scene": {
           "xaxis": {
            "backgroundcolor": "#E5ECF6",
            "gridcolor": "white",
            "gridwidth": 2,
            "linecolor": "white",
            "showbackground": true,
            "ticks": "",
            "zerolinecolor": "white"
           },
           "yaxis": {
            "backgroundcolor": "#E5ECF6",
            "gridcolor": "white",
            "gridwidth": 2,
            "linecolor": "white",
            "showbackground": true,
            "ticks": "",
            "zerolinecolor": "white"
           },
           "zaxis": {
            "backgroundcolor": "#E5ECF6",
            "gridcolor": "white",
            "gridwidth": 2,
            "linecolor": "white",
            "showbackground": true,
            "ticks": "",
            "zerolinecolor": "white"
           }
          },
          "shapedefaults": {
           "line": {
            "color": "#2a3f5f"
           }
          },
          "ternary": {
           "aaxis": {
            "gridcolor": "white",
            "linecolor": "white",
            "ticks": ""
           },
           "baxis": {
            "gridcolor": "white",
            "linecolor": "white",
            "ticks": ""
           },
           "bgcolor": "#E5ECF6",
           "caxis": {
            "gridcolor": "white",
            "linecolor": "white",
            "ticks": ""
           }
          },
          "title": {
           "x": 0.05
          },
          "xaxis": {
           "automargin": true,
           "gridcolor": "white",
           "linecolor": "white",
           "ticks": "",
           "title": {
            "standoff": 15
           },
           "zerolinecolor": "white",
           "zerolinewidth": 2
          },
          "yaxis": {
           "automargin": true,
           "gridcolor": "white",
           "linecolor": "white",
           "ticks": "",
           "title": {
            "standoff": 15
           },
           "zerolinecolor": "white",
           "zerolinewidth": 2
          }
         }
        }
       }
      },
      "text/html": [
       "<div>\n",
       "        \n",
       "        \n",
       "            <div id=\"af20d307-c021-4b14-9ba2-f6b7fc0b9724\" class=\"plotly-graph-div\" style=\"height:525px; width:100%;\"></div>\n",
       "            <script type=\"text/javascript\">\n",
       "                require([\"plotly\"], function(Plotly) {\n",
       "                    window.PLOTLYENV=window.PLOTLYENV || {};\n",
       "                    \n",
       "                if (document.getElementById(\"af20d307-c021-4b14-9ba2-f6b7fc0b9724\")) {\n",
       "                    Plotly.newPlot(\n",
       "                        'af20d307-c021-4b14-9ba2-f6b7fc0b9724',\n",
       "                        [{\"cells\": {\"align\": \"center\", \"fill\": {\"color\": \"thistle\"}, \"font\": {\"size\": 11}, \"height\": 40, \"values\": [[\"Agencias de viajes\", \"Cafeter\\u00edas y never\\u00edas\", \"Cajas de ahorro popular\", \"Carnicer\\u00edas\", \"Confecci\\u00f3n de productos textiles\", \"Construcci\\u00f3n de carreteras y puentes\", \"Construcci\\u00f3n de obras de urbanizaci\\u00f3n\", \"Consultorios dentales\", \"Consultorios m\\u00e9dicos\", \"Consultor\\u00edas en administraci\\u00f3n\", \"Despachos contables\", \"Despachos jur\\u00eddicos\", \"Edificaci\\u00f3n de inmuebles comerciales\", \"Edificaci\\u00f3n de naves industriales\", \"Edificaci\\u00f3n de vivienda unifamiliar\", \"Elaboraci\\u00f3n de alimentos para animales\", \"Elaboraci\\u00f3n de botanas\", \"Elaboraci\\u00f3n de dulces\", \"Elaboraci\\u00f3n de helados y paletas\", \"Elaboraci\\u00f3n de piezas para maquinaria\", \"Elaboraci\\u00f3n de tortillas\", \"Equipo y material el\\u00e9ctrico\", \"Escuelas\", \"Est\\u00e9ticas, salones de belleza y peluquer\\u00edas\", \"Fabricaci\\u00f3n de bolsas de pl\\u00e1stico\", \"Fabricaci\\u00f3n de calzado\", \"Fabricaci\\u00f3n de envases de cart\\u00f3n\", \"Fabricaci\\u00f3n de envases de pl\\u00e1stico para embalaje\", \"Fabricaci\\u00f3n de jabones, limpiadores y dent\\u00edfricos\", \"Fabricaci\\u00f3n de muebles\", \"Fabricaci\\u00f3n de preparaciones farmac\\u00e9uticas\", \"Fabricaci\\u00f3n de productos de madera\", \"Farmacias\", \"Ferreter\\u00edas y tlapaler\\u00edas\", \"Fertilizantes, plaguicidas y semillas\", \"Gasolineras\", \"Herrer\\u00eda y estructuras met\\u00e1licas\", \"Hoteles\", \"Impresi\\u00f3n\", \"Inmobiliarias y agentes de bienes ra\\u00edces\", \"Instalaciones el\\u00e9ctricas\", \"Joyer\\u00edas y tiendas de relojes\", \"Laboratorios m\\u00e9dicos y de diagn\\u00f3stico\", \"Minisupers\", \"Muebler\\u00edas\", \"No especificado\", \"Otro\", \"Panificaci\\u00f3n\", \"Papeler\\u00edas\", \"Purificaci\\u00f3n de agua\", \"Refacciones para autom\\u00f3viles\", \"Reparaci\\u00f3n de electr\\u00f3nicos\", \"Reparaci\\u00f3n de maquinaria y equipo\", \"Restaurantes\", \"Servicios de acceso a computadoras (cibers)\", \"Talleres Mec\\u00e1nicos\", \"Taquer\\u00edas y Tortas\", \"Tiendas de Lentes\", \"Tiendas de abarrotes\", \"Tiendas de celulares\", \"Tiendas de frutas y verduras\", \"Tiendas de perfumer\\u00eda y cosm\\u00e9ticos\", \"Tiendas de pintura\", \"Tiendas de ropa\", \"Venta de materiales para la construcci\\u00f3n\", \"Veterinarias\", \"Zapater\\u00edas\"], [1.0, 1.0, 0.5, 0.0, 1.0, 1.0, 0.0, 0.5, 1.0, 1.0, 1.0, 1.0, 1.0, 1.0, 1.0, 0.0, 1.0, 1.0, 0.0, 1.0, 1.5, 0.0, 1.0, 1.0, 2.0, 2.0, 1.0, 1.0, 1.0, 1.0, 0.5, 1.0, 1.0, 1.0, 1.0, 0.0, 1.0, 1.0, 1.0, 1.0, 2.0, 1.0, 1.0, 0.5, 1.0, 1.0, 1.0, 2.0, 0.0, 1.0, 1.0, 0.0, 1.0, 1.0, 1.0, 1.0, 1.0, 1.0, 1.0, 1.0, 1.0, 1.0, 1.5, 0.5, 1.0, 1.0, 1.5], [0, 0, 1, 0, 0, 2, 0, 0, 0, 0, 0, 0, 1, 2, 0, 0, 0, 2, 2, 0, 0, 0, 0, 0, 0, 0, 1, 0, 0, 0, 1, 0, 0, 2, 0, 0, 0, 0, 0, 0, 2, 0, 0, 0, 1, 0, 0, 0, 0, 0, 2, 0, 0, 0, 0, 0, 0, 0, 2, 0, 0, 0, 0, 0, 0, 0, 0], [1.0, 1.0, 1.5, 2.0, 1.0, 1.0, 2.0, 1.0, 1.0, 1.0, 2.0, 1.0, 1.0, 1.0, 1.0, 2.0, 1.5, 2.0, 1.0, 1.0, 1.5, 1.0, 1.0, 0.0, 1.0, 0.0, 1.0, 2.0, 1.0, 1.0, 1.5, 1.0, 1.0, 1.0, 2.0, 1.0, 1.0, 1.0, 1.0, 1.0, 2.0, 0.0, 1.0, 2.0, 0.5, 0.5, 1.0, 1.5, 1.0, 1.0, 1.0, 1.0, 1.0, 1.0, 0.0, 1.0, 1.0, 1.0, 1.0, 1.0, 1.0, 0.0, 1.5, 1.0, 1.0, 1.0, 0.5], [0.0, 0.0, 1.0, 0.0, 0.0, 1.0, 0.0, 0.0, 0.0, 0.0, 2.0, 0.0, 0.0, 0.0, 0.0, 2.0, 0.5, 0.0, 2.0, 0.0, 0.0, 0.0, 0.0, 0.0, 0.0, 0.0, 0.5, 0.5, 1.0, 0.0, 1.0, 0.0, 0.0, 0.0, 0.0, 0.0, 0.0, 0.0, 0.0, 1.0, 0.0, 0.0, 0.0, 1.0, 0.0, 0.0, 0.0, 0.0, 0.0, 0.0, 0.0, 0.0, 0.0, 0.0, 0.0, 0.0, 0.0, 0.0, 0.0, 0.0, 0.0, 0.0, 0.5, 0.0, 0.0, 0.0, 0.0], [0.0, 0.0, 0.0, 0.0, 0.0, 1.0, 0.0, 0.0, 0.0, 0.0, 0.0, 0.0, 0.0, 0.0, 0.0, 0.0, 0.0, 0.0, 0.0, 0.0, 0.5, 0.0, 0.0, 0.0, 0.0, 0.0, 0.0, 0.0, 0.5, 0.0, 0.0, 0.0, 0.0, 0.0, 0.0, 0.0, 0.0, 0.0, 0.0, 0.0, 0.0, 0.0, 0.0, 0.0, 0.0, 0.0, 0.0, 0.0, 0.0, 0.0, 0.0, 0.0, 0.0, 0.0, 0.0, 0.0, 0.0, 0.0, 0.0, 0.0, 0.0, 0.0, 0.0, 0.0, 0.0, 0.0, 0.5], [1.0, 1.0, 1.0, 2.0, 1.0, 0.0, 2.0, 1.0, 1.0, 1.0, 1.0, 1.0, 0.0, 1.0, 1.0, 2.0, 1.5, 1.0, 2.0, 1.0, 0.5, 1.0, 1.0, 1.0, 0.0, 0.5, 1.5, 1.5, 0.5, 1.0, 1.5, 1.0, 1.5, 1.0, 1.0, 2.0, 2.0, 1.0, 1.0, 1.0, 1.0, 1.0, 1.0, 1.5, 1.0, 1.0, 1.0, 1.5, 1.0, 1.0, 1.0, 1.0, 1.0, 1.0, 0.0, 1.0, 1.5, 1.0, 0.0, 0.0, 2.0, 1.0, 0.5, 0.0, 1.0, 1.0, 0.5], [1.0, 1.0, 1.0, 1.0, 1.0, 1.0, 1.0, 1.0, 1.0, 1.0, 1.0, 1.0, 1.0, 1.0, 1.0, 0.0, 1.0, 1.0, 1.0, 1.0, 0.0, 1.0, 1.0, 1.0, 1.0, 1.0, 1.0, 1.0, 1.0, 1.0, 1.5, 1.0, 0.5, 1.0, 1.0, 1.0, 1.0, 0.0, 1.0, 1.0, 1.0, 1.0, 1.0, 1.0, 1.0, 0.5, 1.0, 1.0, 1.0, 1.0, 1.0, 1.0, 1.0, 1.0, 1.0, 1.0, 1.0, 1.0, 1.0, 1.0, 1.0, 1.0, 1.0, 1.0, 1.0, 1.0, 1.0], [2.0, 0.0, 1.5, 0.0, 0.0, 0.0, 0.0, 0.0, 0.0, 2.0, 2.0, 2.0, 1.5, 2.0, 0.0, 2.0, 1.0, 1.0, 0.0, 1.5, 0.5, 0.0, 2.0, 0.0, 2.0, 0.0, 1.0, 1.0, 1.5, 0.0, 1.0, 1.0, 0.0, 0.0, 2.0, 0.0, 0.0, 0.0, 0.0, 2.0, 2.0, 1.0, 0.5, 0.0, 1.0, 0.0, 2.0, 1.0, 0.0, 0.0, 1.0, 1.0, 1.0, 0.0, 1.0, 0.0, 0.0, 1.0, 0.0, 1.5, 0.0, 2.0, 0.5, 0.5, 2.0, 0.0, 2.0], [0.0, 1.0, 0.0, 1.0, 0.0, 1.0, 1.0, 1.0, 0.0, 0.0, 0.0, 0.0, 0.0, 0.0, 0.0, 0.0, 0.5, 0.0, 1.0, 0.0, 0.5, 0.0, 0.0, 0.0, 0.0, 1.0, 0.5, 0.5, 0.0, 1.0, 0.5, 0.0, 0.0, 1.0, 0.0, 1.0, 1.0, 1.0, 0.0, 0.0, 0.0, 0.0, 0.5, 1.0, 0.0, 0.0, 0.0, 0.5, 0.0, 1.0, 0.0, 0.0, 0.0, 1.0, 0.0, 1.0, 1.0, 0.0, 0.0, 0.0, 1.0, 0.0, 0.5, 0.0, 0.0, 1.0, 0.0], [6.0, 5.0, 7.5, 6.0, 4.0, 8.0, 6.0, 4.5, 4.0, 6.0, 9.0, 6.0, 5.5, 8.0, 4.0, 8.0, 7.0, 8.0, 9.0, 5.5, 5.0, 3.0, 6.0, 3.0, 6.0, 4.5, 7.5, 7.5, 6.5, 5.0, 8.5, 5.0, 4.0, 7.0, 7.0, 5.0, 6.0, 4.0, 4.0, 7.0, 10.0, 4.0, 5.0, 7.0, 5.5, 3.0, 6.0, 7.5, 3.0, 5.0, 7.0, 4.0, 5.0, 5.0, 3.0, 5.0, 5.5, 5.0, 5.0, 4.5, 6.0, 5.0, 6.0, 3.0, 6.0, 5.0, 6.0]]}, \"header\": {\"align\": \"center\", \"fill\": {\"color\": \"mediumpurple\"}, \"font\": {\"color\": \"White\", \"size\": 11}, \"values\": [\"Giro\", \"Acuerdo Laboral\", \"Aumento de precios\", \"Capacidad\", \"Capacidad de Pago\", \"Raz\\u00f3n de cierre\", \"Despidos\", \"Pago de Salarios\", \"Home Office\", \"Motivo Home Office\", \"Adaptabilidad\"]}, \"name\": \"Adaptabilidad\", \"type\": \"table\"}],\n",
       "                        {\"template\": {\"data\": {\"bar\": [{\"error_x\": {\"color\": \"#2a3f5f\"}, \"error_y\": {\"color\": \"#2a3f5f\"}, \"marker\": {\"line\": {\"color\": \"#E5ECF6\", \"width\": 0.5}}, \"type\": \"bar\"}], \"barpolar\": [{\"marker\": {\"line\": {\"color\": \"#E5ECF6\", \"width\": 0.5}}, \"type\": \"barpolar\"}], \"carpet\": [{\"aaxis\": {\"endlinecolor\": \"#2a3f5f\", \"gridcolor\": \"white\", \"linecolor\": \"white\", \"minorgridcolor\": \"white\", \"startlinecolor\": \"#2a3f5f\"}, \"baxis\": {\"endlinecolor\": \"#2a3f5f\", \"gridcolor\": \"white\", \"linecolor\": \"white\", \"minorgridcolor\": \"white\", \"startlinecolor\": \"#2a3f5f\"}, \"type\": \"carpet\"}], \"choropleth\": [{\"colorbar\": {\"outlinewidth\": 0, \"ticks\": \"\"}, \"type\": \"choropleth\"}], \"contour\": [{\"colorbar\": {\"outlinewidth\": 0, \"ticks\": \"\"}, \"colorscale\": [[0.0, \"#0d0887\"], [0.1111111111111111, \"#46039f\"], [0.2222222222222222, \"#7201a8\"], [0.3333333333333333, \"#9c179e\"], [0.4444444444444444, \"#bd3786\"], [0.5555555555555556, \"#d8576b\"], [0.6666666666666666, \"#ed7953\"], [0.7777777777777778, \"#fb9f3a\"], [0.8888888888888888, \"#fdca26\"], [1.0, \"#f0f921\"]], \"type\": \"contour\"}], \"contourcarpet\": [{\"colorbar\": {\"outlinewidth\": 0, \"ticks\": \"\"}, \"type\": \"contourcarpet\"}], \"heatmap\": [{\"colorbar\": {\"outlinewidth\": 0, \"ticks\": \"\"}, \"colorscale\": [[0.0, \"#0d0887\"], [0.1111111111111111, \"#46039f\"], [0.2222222222222222, \"#7201a8\"], [0.3333333333333333, \"#9c179e\"], [0.4444444444444444, \"#bd3786\"], [0.5555555555555556, \"#d8576b\"], [0.6666666666666666, \"#ed7953\"], [0.7777777777777778, \"#fb9f3a\"], [0.8888888888888888, \"#fdca26\"], [1.0, \"#f0f921\"]], \"type\": \"heatmap\"}], \"heatmapgl\": [{\"colorbar\": {\"outlinewidth\": 0, \"ticks\": \"\"}, \"colorscale\": [[0.0, \"#0d0887\"], [0.1111111111111111, \"#46039f\"], [0.2222222222222222, \"#7201a8\"], [0.3333333333333333, \"#9c179e\"], [0.4444444444444444, \"#bd3786\"], [0.5555555555555556, \"#d8576b\"], [0.6666666666666666, \"#ed7953\"], [0.7777777777777778, \"#fb9f3a\"], [0.8888888888888888, \"#fdca26\"], [1.0, \"#f0f921\"]], \"type\": \"heatmapgl\"}], \"histogram\": [{\"marker\": {\"colorbar\": {\"outlinewidth\": 0, \"ticks\": \"\"}}, \"type\": \"histogram\"}], \"histogram2d\": [{\"colorbar\": {\"outlinewidth\": 0, \"ticks\": \"\"}, \"colorscale\": [[0.0, \"#0d0887\"], [0.1111111111111111, \"#46039f\"], [0.2222222222222222, \"#7201a8\"], [0.3333333333333333, \"#9c179e\"], [0.4444444444444444, \"#bd3786\"], [0.5555555555555556, \"#d8576b\"], [0.6666666666666666, \"#ed7953\"], [0.7777777777777778, \"#fb9f3a\"], [0.8888888888888888, \"#fdca26\"], [1.0, \"#f0f921\"]], \"type\": \"histogram2d\"}], \"histogram2dcontour\": [{\"colorbar\": {\"outlinewidth\": 0, \"ticks\": \"\"}, \"colorscale\": [[0.0, \"#0d0887\"], [0.1111111111111111, \"#46039f\"], [0.2222222222222222, \"#7201a8\"], [0.3333333333333333, \"#9c179e\"], [0.4444444444444444, \"#bd3786\"], [0.5555555555555556, \"#d8576b\"], [0.6666666666666666, \"#ed7953\"], [0.7777777777777778, \"#fb9f3a\"], [0.8888888888888888, \"#fdca26\"], [1.0, \"#f0f921\"]], \"type\": \"histogram2dcontour\"}], \"mesh3d\": [{\"colorbar\": {\"outlinewidth\": 0, \"ticks\": \"\"}, \"type\": \"mesh3d\"}], \"parcoords\": [{\"line\": {\"colorbar\": {\"outlinewidth\": 0, \"ticks\": \"\"}}, \"type\": \"parcoords\"}], \"pie\": [{\"automargin\": true, \"type\": \"pie\"}], \"scatter\": [{\"marker\": {\"colorbar\": {\"outlinewidth\": 0, \"ticks\": \"\"}}, \"type\": \"scatter\"}], \"scatter3d\": [{\"line\": {\"colorbar\": {\"outlinewidth\": 0, \"ticks\": \"\"}}, \"marker\": {\"colorbar\": {\"outlinewidth\": 0, \"ticks\": \"\"}}, \"type\": \"scatter3d\"}], \"scattercarpet\": [{\"marker\": {\"colorbar\": {\"outlinewidth\": 0, \"ticks\": \"\"}}, \"type\": \"scattercarpet\"}], \"scattergeo\": [{\"marker\": {\"colorbar\": {\"outlinewidth\": 0, \"ticks\": \"\"}}, \"type\": \"scattergeo\"}], \"scattergl\": [{\"marker\": {\"colorbar\": {\"outlinewidth\": 0, \"ticks\": \"\"}}, \"type\": \"scattergl\"}], \"scattermapbox\": [{\"marker\": {\"colorbar\": {\"outlinewidth\": 0, \"ticks\": \"\"}}, \"type\": \"scattermapbox\"}], \"scatterpolar\": [{\"marker\": {\"colorbar\": {\"outlinewidth\": 0, \"ticks\": \"\"}}, \"type\": \"scatterpolar\"}], \"scatterpolargl\": [{\"marker\": {\"colorbar\": {\"outlinewidth\": 0, \"ticks\": \"\"}}, \"type\": \"scatterpolargl\"}], \"scatterternary\": [{\"marker\": {\"colorbar\": {\"outlinewidth\": 0, \"ticks\": \"\"}}, \"type\": \"scatterternary\"}], \"surface\": [{\"colorbar\": {\"outlinewidth\": 0, \"ticks\": \"\"}, \"colorscale\": [[0.0, \"#0d0887\"], [0.1111111111111111, \"#46039f\"], [0.2222222222222222, \"#7201a8\"], [0.3333333333333333, \"#9c179e\"], [0.4444444444444444, \"#bd3786\"], [0.5555555555555556, \"#d8576b\"], [0.6666666666666666, \"#ed7953\"], [0.7777777777777778, \"#fb9f3a\"], [0.8888888888888888, \"#fdca26\"], [1.0, \"#f0f921\"]], \"type\": \"surface\"}], \"table\": [{\"cells\": {\"fill\": {\"color\": \"#EBF0F8\"}, \"line\": {\"color\": \"white\"}}, \"header\": {\"fill\": {\"color\": \"#C8D4E3\"}, \"line\": {\"color\": \"white\"}}, \"type\": \"table\"}]}, \"layout\": {\"annotationdefaults\": {\"arrowcolor\": \"#2a3f5f\", \"arrowhead\": 0, \"arrowwidth\": 1}, \"coloraxis\": {\"colorbar\": {\"outlinewidth\": 0, \"ticks\": \"\"}}, \"colorscale\": {\"diverging\": [[0, \"#8e0152\"], [0.1, \"#c51b7d\"], [0.2, \"#de77ae\"], [0.3, \"#f1b6da\"], [0.4, \"#fde0ef\"], [0.5, \"#f7f7f7\"], [0.6, \"#e6f5d0\"], [0.7, \"#b8e186\"], [0.8, \"#7fbc41\"], [0.9, \"#4d9221\"], [1, \"#276419\"]], \"sequential\": [[0.0, \"#0d0887\"], [0.1111111111111111, \"#46039f\"], [0.2222222222222222, \"#7201a8\"], [0.3333333333333333, \"#9c179e\"], [0.4444444444444444, \"#bd3786\"], [0.5555555555555556, \"#d8576b\"], [0.6666666666666666, \"#ed7953\"], [0.7777777777777778, \"#fb9f3a\"], [0.8888888888888888, \"#fdca26\"], [1.0, \"#f0f921\"]], \"sequentialminus\": [[0.0, \"#0d0887\"], [0.1111111111111111, \"#46039f\"], [0.2222222222222222, \"#7201a8\"], [0.3333333333333333, \"#9c179e\"], [0.4444444444444444, \"#bd3786\"], [0.5555555555555556, \"#d8576b\"], [0.6666666666666666, \"#ed7953\"], [0.7777777777777778, \"#fb9f3a\"], [0.8888888888888888, \"#fdca26\"], [1.0, \"#f0f921\"]]}, \"colorway\": [\"#636efa\", \"#EF553B\", \"#00cc96\", \"#ab63fa\", \"#FFA15A\", \"#19d3f3\", \"#FF6692\", \"#B6E880\", \"#FF97FF\", \"#FECB52\"], \"font\": {\"color\": \"#2a3f5f\"}, \"geo\": {\"bgcolor\": \"white\", \"lakecolor\": \"white\", \"landcolor\": \"#E5ECF6\", \"showlakes\": true, \"showland\": true, \"subunitcolor\": \"white\"}, \"hoverlabel\": {\"align\": \"left\"}, \"hovermode\": \"closest\", \"mapbox\": {\"style\": \"light\"}, \"paper_bgcolor\": \"white\", \"plot_bgcolor\": \"#E5ECF6\", \"polar\": {\"angularaxis\": {\"gridcolor\": \"white\", \"linecolor\": \"white\", \"ticks\": \"\"}, \"bgcolor\": \"#E5ECF6\", \"radialaxis\": {\"gridcolor\": \"white\", \"linecolor\": \"white\", \"ticks\": \"\"}}, \"scene\": {\"xaxis\": {\"backgroundcolor\": \"#E5ECF6\", \"gridcolor\": \"white\", \"gridwidth\": 2, \"linecolor\": \"white\", \"showbackground\": true, \"ticks\": \"\", \"zerolinecolor\": \"white\"}, \"yaxis\": {\"backgroundcolor\": \"#E5ECF6\", \"gridcolor\": \"white\", \"gridwidth\": 2, \"linecolor\": \"white\", \"showbackground\": true, \"ticks\": \"\", \"zerolinecolor\": \"white\"}, \"zaxis\": {\"backgroundcolor\": \"#E5ECF6\", \"gridcolor\": \"white\", \"gridwidth\": 2, \"linecolor\": \"white\", \"showbackground\": true, \"ticks\": \"\", \"zerolinecolor\": \"white\"}}, \"shapedefaults\": {\"line\": {\"color\": \"#2a3f5f\"}}, \"ternary\": {\"aaxis\": {\"gridcolor\": \"white\", \"linecolor\": \"white\", \"ticks\": \"\"}, \"baxis\": {\"gridcolor\": \"white\", \"linecolor\": \"white\", \"ticks\": \"\"}, \"bgcolor\": \"#E5ECF6\", \"caxis\": {\"gridcolor\": \"white\", \"linecolor\": \"white\", \"ticks\": \"\"}}, \"title\": {\"x\": 0.05}, \"xaxis\": {\"automargin\": true, \"gridcolor\": \"white\", \"linecolor\": \"white\", \"ticks\": \"\", \"title\": {\"standoff\": 15}, \"zerolinecolor\": \"white\", \"zerolinewidth\": 2}, \"yaxis\": {\"automargin\": true, \"gridcolor\": \"white\", \"linecolor\": \"white\", \"ticks\": \"\", \"title\": {\"standoff\": 15}, \"zerolinecolor\": \"white\", \"zerolinewidth\": 2}}}},\n",
       "                        {\"responsive\": true}\n",
       "                    ).then(function(){\n",
       "                            \n",
       "var gd = document.getElementById('af20d307-c021-4b14-9ba2-f6b7fc0b9724');\n",
       "var x = new MutationObserver(function (mutations, observer) {{\n",
       "        var display = window.getComputedStyle(gd).display;\n",
       "        if (!display || display === 'none') {{\n",
       "            console.log([gd, 'removed!']);\n",
       "            Plotly.purge(gd);\n",
       "            observer.disconnect();\n",
       "        }}\n",
       "}});\n",
       "\n",
       "// Listen for the removal of the full notebook cells\n",
       "var notebookContainer = gd.closest('#notebook-container');\n",
       "if (notebookContainer) {{\n",
       "    x.observe(notebookContainer, {childList: true});\n",
       "}}\n",
       "\n",
       "// Listen for the clearing of the current output cell\n",
       "var outputEl = gd.closest('.output');\n",
       "if (outputEl) {{\n",
       "    x.observe(outputEl, {childList: true});\n",
       "}}\n",
       "\n",
       "                        })\n",
       "                };\n",
       "                });\n",
       "            </script>\n",
       "        </div>"
      ]
     },
     "metadata": {},
     "output_type": "display_data"
    }
   ],
   "source": [
    "fig3 = adap_table(\"Adaptabilidad.xlsx\")\n",
    "fig3.show()"
   ]
  }
 ],
 "metadata": {
  "kernelspec": {
   "display_name": "Python 3",
   "language": "python",
   "name": "python3"
  },
  "language_info": {
   "codemirror_mode": {
    "name": "ipython",
    "version": 3
   },
   "file_extension": ".py",
   "mimetype": "text/x-python",
   "name": "python",
   "nbconvert_exporter": "python",
   "pygments_lexer": "ipython3",
   "version": "3.7.4"
  }
 },
 "nbformat": 4,
 "nbformat_minor": 2
}
